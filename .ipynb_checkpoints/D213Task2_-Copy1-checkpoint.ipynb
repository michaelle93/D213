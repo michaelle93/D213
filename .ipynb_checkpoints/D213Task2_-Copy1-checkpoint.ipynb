{
 "cells": [
  {
   "cell_type": "markdown",
   "metadata": {},
   "source": [
    "# A1"
   ]
  },
  {
   "cell_type": "markdown",
   "metadata": {},
   "source": [
    "Can the model accurately predict future negative and positive reviews?"
   ]
  },
  {
   "cell_type": "markdown",
   "metadata": {},
   "source": [
    "# A2"
   ]
  },
  {
   "cell_type": "markdown",
   "metadata": {},
   "source": [
    "The objective is to build a neural network model to train and test a dataset for postive and negative reviews through text classification. The goal is to have a model that can read new data and accurately predict postive and negative reviews"
   ]
  },
  {
   "cell_type": "markdown",
   "metadata": {},
   "source": [
    "# A3"
   ]
  },
  {
   "cell_type": "markdown",
   "metadata": {},
   "source": [
    "TensorFlow and Kera libraries are capable of performing text classification, the type of neural network that performs this task is a recurrent neural network (RNN)."
   ]
  },
  {
   "cell_type": "markdown",
   "metadata": {},
   "source": [
    "# B1"
   ]
  },
  {
   "cell_type": "code",
   "execution_count": 1,
   "metadata": {},
   "outputs": [],
   "source": [
    "#import relevant packages for data cleaning\n",
    "import numpy as np\n",
    "import pandas as pd\n",
    "import matplotlib as mlp\n",
    "import matplotlib.pyplot as plt\n",
    "import seaborn as sns\n",
    "import tensorflow as tf\n",
    "from tensorflow import keras"
   ]
  },
  {
   "cell_type": "code",
   "execution_count": 2,
   "metadata": {},
   "outputs": [],
   "source": [
    "#Create dataframe\n",
    "#input of the dataset into dataframe separating into 3 features, 'text': reviews, 'labels': sentiment score, and 'source': source of dataset \n",
    "\n",
    "amazon = open('amazon_cells_labelled.txt').read()\n",
    "\n",
    "a_labels, a_texts = [],[]\n",
    "for i, line in enumerate(amazon.split('\\n')):\n",
    "    content = line.split('\\t')\n",
    "    if len(content) > 1:\n",
    "        a_texts.append(content[0])\n",
    "        a_labels.append(content[1])   \n",
    "        \n",
    "df_a = pd.DataFrame()\n",
    "df_a['label'] = a_labels\n",
    "df_a['text'] = a_texts\n",
    "df_a['source'] = 'amazon'\n",
    "\n",
    "imdb = open('imdb_labelled.txt').read()\n",
    "\n",
    "i_labels, i_texts = [],[]\n",
    "for i, line in enumerate(imdb.split('\\n')):\n",
    "    content = line.split('\\t')\n",
    "    if len(content) > 1:\n",
    "        i_texts.append(content[0])\n",
    "        i_labels.append(content[1])\n",
    "        \n",
    "df_i = pd.DataFrame()\n",
    "df_i['label'] = i_labels\n",
    "df_i['text'] = i_texts\n",
    "df_i['source'] = 'imdb'\n",
    "\n",
    "yelp = open('yelp_labelled.txt').read()\n",
    "\n",
    "y_labels, y_texts = [],[]\n",
    "for i, line in enumerate(yelp.split('\\n')):\n",
    "    content = line.split('\\t')\n",
    "    if len(content) > 1:\n",
    "        y_texts.append(content[0])\n",
    "        y_labels.append(content[1])\n",
    "        \n",
    "df_y = pd.DataFrame()\n",
    "df_y['label'] = y_labels\n",
    "df_y['text'] = y_texts\n",
    "df_y['source'] = 'yelp'"
   ]
  },
  {
   "cell_type": "code",
   "execution_count": 3,
   "metadata": {},
   "outputs": [
    {
     "data": {
      "text/html": [
       "<div>\n",
       "<style scoped>\n",
       "    .dataframe tbody tr th:only-of-type {\n",
       "        vertical-align: middle;\n",
       "    }\n",
       "\n",
       "    .dataframe tbody tr th {\n",
       "        vertical-align: top;\n",
       "    }\n",
       "\n",
       "    .dataframe thead th {\n",
       "        text-align: right;\n",
       "    }\n",
       "</style>\n",
       "<table border=\"1\" class=\"dataframe\">\n",
       "  <thead>\n",
       "    <tr style=\"text-align: right;\">\n",
       "      <th></th>\n",
       "      <th>label</th>\n",
       "      <th>text</th>\n",
       "      <th>source</th>\n",
       "    </tr>\n",
       "  </thead>\n",
       "  <tbody>\n",
       "    <tr>\n",
       "      <th>0</th>\n",
       "      <td>0</td>\n",
       "      <td>So there is no way for me to plug it in here i...</td>\n",
       "      <td>amazon</td>\n",
       "    </tr>\n",
       "    <tr>\n",
       "      <th>1</th>\n",
       "      <td>1</td>\n",
       "      <td>Good case, Excellent value.</td>\n",
       "      <td>amazon</td>\n",
       "    </tr>\n",
       "    <tr>\n",
       "      <th>2</th>\n",
       "      <td>1</td>\n",
       "      <td>Great for the jawbone.</td>\n",
       "      <td>amazon</td>\n",
       "    </tr>\n",
       "    <tr>\n",
       "      <th>3</th>\n",
       "      <td>0</td>\n",
       "      <td>Tied to charger for conversations lasting more...</td>\n",
       "      <td>amazon</td>\n",
       "    </tr>\n",
       "    <tr>\n",
       "      <th>4</th>\n",
       "      <td>1</td>\n",
       "      <td>The mic is great.</td>\n",
       "      <td>amazon</td>\n",
       "    </tr>\n",
       "  </tbody>\n",
       "</table>\n",
       "</div>"
      ],
      "text/plain": [
       "  label                                               text  source\n",
       "0     0  So there is no way for me to plug it in here i...  amazon\n",
       "1     1                        Good case, Excellent value.  amazon\n",
       "2     1                             Great for the jawbone.  amazon\n",
       "3     0  Tied to charger for conversations lasting more...  amazon\n",
       "4     1                                  The mic is great.  amazon"
      ]
     },
     "metadata": {},
     "output_type": "display_data"
    },
    {
     "data": {
      "text/plain": [
       "(1000, 3)"
      ]
     },
     "metadata": {},
     "output_type": "display_data"
    },
    {
     "data": {
      "text/html": [
       "<div>\n",
       "<style scoped>\n",
       "    .dataframe tbody tr th:only-of-type {\n",
       "        vertical-align: middle;\n",
       "    }\n",
       "\n",
       "    .dataframe tbody tr th {\n",
       "        vertical-align: top;\n",
       "    }\n",
       "\n",
       "    .dataframe thead th {\n",
       "        text-align: right;\n",
       "    }\n",
       "</style>\n",
       "<table border=\"1\" class=\"dataframe\">\n",
       "  <thead>\n",
       "    <tr style=\"text-align: right;\">\n",
       "      <th></th>\n",
       "      <th>label</th>\n",
       "      <th>text</th>\n",
       "      <th>source</th>\n",
       "    </tr>\n",
       "  </thead>\n",
       "  <tbody>\n",
       "    <tr>\n",
       "      <th>0</th>\n",
       "      <td>0</td>\n",
       "      <td>A very, very, very slow-moving, aimless movie ...</td>\n",
       "      <td>imdb</td>\n",
       "    </tr>\n",
       "    <tr>\n",
       "      <th>1</th>\n",
       "      <td>0</td>\n",
       "      <td>Not sure who was more lost - the flat characte...</td>\n",
       "      <td>imdb</td>\n",
       "    </tr>\n",
       "    <tr>\n",
       "      <th>2</th>\n",
       "      <td>0</td>\n",
       "      <td>Attempting artiness with black &amp; white and cle...</td>\n",
       "      <td>imdb</td>\n",
       "    </tr>\n",
       "    <tr>\n",
       "      <th>3</th>\n",
       "      <td>0</td>\n",
       "      <td>Very little music or anything to speak of.</td>\n",
       "      <td>imdb</td>\n",
       "    </tr>\n",
       "    <tr>\n",
       "      <th>4</th>\n",
       "      <td>1</td>\n",
       "      <td>The best scene in the movie was when Gerardo i...</td>\n",
       "      <td>imdb</td>\n",
       "    </tr>\n",
       "  </tbody>\n",
       "</table>\n",
       "</div>"
      ],
      "text/plain": [
       "  label                                               text source\n",
       "0     0  A very, very, very slow-moving, aimless movie ...   imdb\n",
       "1     0  Not sure who was more lost - the flat characte...   imdb\n",
       "2     0  Attempting artiness with black & white and cle...   imdb\n",
       "3     0       Very little music or anything to speak of.     imdb\n",
       "4     1  The best scene in the movie was when Gerardo i...   imdb"
      ]
     },
     "metadata": {},
     "output_type": "display_data"
    },
    {
     "data": {
      "text/plain": [
       "(1000, 3)"
      ]
     },
     "metadata": {},
     "output_type": "display_data"
    },
    {
     "data": {
      "text/html": [
       "<div>\n",
       "<style scoped>\n",
       "    .dataframe tbody tr th:only-of-type {\n",
       "        vertical-align: middle;\n",
       "    }\n",
       "\n",
       "    .dataframe tbody tr th {\n",
       "        vertical-align: top;\n",
       "    }\n",
       "\n",
       "    .dataframe thead th {\n",
       "        text-align: right;\n",
       "    }\n",
       "</style>\n",
       "<table border=\"1\" class=\"dataframe\">\n",
       "  <thead>\n",
       "    <tr style=\"text-align: right;\">\n",
       "      <th></th>\n",
       "      <th>label</th>\n",
       "      <th>text</th>\n",
       "      <th>source</th>\n",
       "    </tr>\n",
       "  </thead>\n",
       "  <tbody>\n",
       "    <tr>\n",
       "      <th>0</th>\n",
       "      <td>1</td>\n",
       "      <td>Wow... Loved this place.</td>\n",
       "      <td>yelp</td>\n",
       "    </tr>\n",
       "    <tr>\n",
       "      <th>1</th>\n",
       "      <td>0</td>\n",
       "      <td>Crust is not good.</td>\n",
       "      <td>yelp</td>\n",
       "    </tr>\n",
       "    <tr>\n",
       "      <th>2</th>\n",
       "      <td>0</td>\n",
       "      <td>Not tasty and the texture was just nasty.</td>\n",
       "      <td>yelp</td>\n",
       "    </tr>\n",
       "    <tr>\n",
       "      <th>3</th>\n",
       "      <td>1</td>\n",
       "      <td>Stopped by during the late May bank holiday of...</td>\n",
       "      <td>yelp</td>\n",
       "    </tr>\n",
       "    <tr>\n",
       "      <th>4</th>\n",
       "      <td>1</td>\n",
       "      <td>The selection on the menu was great and so wer...</td>\n",
       "      <td>yelp</td>\n",
       "    </tr>\n",
       "  </tbody>\n",
       "</table>\n",
       "</div>"
      ],
      "text/plain": [
       "  label                                               text source\n",
       "0     1                           Wow... Loved this place.   yelp\n",
       "1     0                                 Crust is not good.   yelp\n",
       "2     0          Not tasty and the texture was just nasty.   yelp\n",
       "3     1  Stopped by during the late May bank holiday of...   yelp\n",
       "4     1  The selection on the menu was great and so wer...   yelp"
      ]
     },
     "metadata": {},
     "output_type": "display_data"
    },
    {
     "data": {
      "text/plain": [
       "(1000, 3)"
      ]
     },
     "metadata": {},
     "output_type": "display_data"
    }
   ],
   "source": [
    "#displaying the 3 datasets\n",
    "display(df_a.head())\n",
    "display(df_a.shape)\n",
    "display(df_i.head())\n",
    "display(df_i.shape)\n",
    "display(df_y.head())\n",
    "display(df_y.shape)"
   ]
  },
  {
   "cell_type": "code",
   "execution_count": 4,
   "metadata": {},
   "outputs": [
    {
     "name": "stdout",
     "output_type": "stream",
     "text": [
      "<class 'pandas.core.frame.DataFrame'>\n",
      "RangeIndex: 3000 entries, 0 to 2999\n",
      "Data columns (total 3 columns):\n",
      " #   Column  Non-Null Count  Dtype \n",
      "---  ------  --------------  ----- \n",
      " 0   label   3000 non-null   int32 \n",
      " 1   text    3000 non-null   object\n",
      " 2   source  3000 non-null   object\n",
      "dtypes: int32(1), object(2)\n",
      "memory usage: 58.7+ KB\n"
     ]
    }
   ],
   "source": [
    "#concatinating the 3 datasets into 1\n",
    "df = pd.concat([df_a, df_i, df_y], ignore_index=True)\n",
    "df.label = df.label.astype(int)\n",
    "df.info()"
   ]
  },
  {
   "cell_type": "code",
   "execution_count": 5,
   "metadata": {},
   "outputs": [
    {
     "data": {
      "text/html": [
       "<div>\n",
       "<style scoped>\n",
       "    .dataframe tbody tr th:only-of-type {\n",
       "        vertical-align: middle;\n",
       "    }\n",
       "\n",
       "    .dataframe tbody tr th {\n",
       "        vertical-align: top;\n",
       "    }\n",
       "\n",
       "    .dataframe thead th {\n",
       "        text-align: right;\n",
       "    }\n",
       "</style>\n",
       "<table border=\"1\" class=\"dataframe\">\n",
       "  <thead>\n",
       "    <tr style=\"text-align: right;\">\n",
       "      <th></th>\n",
       "      <th>label</th>\n",
       "      <th>text</th>\n",
       "      <th>source</th>\n",
       "    </tr>\n",
       "  </thead>\n",
       "  <tbody>\n",
       "    <tr>\n",
       "      <th>0</th>\n",
       "      <td>0</td>\n",
       "      <td>So there is no way for me to plug it in here i...</td>\n",
       "      <td>amazon</td>\n",
       "    </tr>\n",
       "    <tr>\n",
       "      <th>1</th>\n",
       "      <td>1</td>\n",
       "      <td>Good case, Excellent value.</td>\n",
       "      <td>amazon</td>\n",
       "    </tr>\n",
       "    <tr>\n",
       "      <th>2</th>\n",
       "      <td>1</td>\n",
       "      <td>Great for the jawbone.</td>\n",
       "      <td>amazon</td>\n",
       "    </tr>\n",
       "    <tr>\n",
       "      <th>3</th>\n",
       "      <td>0</td>\n",
       "      <td>Tied to charger for conversations lasting more...</td>\n",
       "      <td>amazon</td>\n",
       "    </tr>\n",
       "    <tr>\n",
       "      <th>4</th>\n",
       "      <td>1</td>\n",
       "      <td>The mic is great.</td>\n",
       "      <td>amazon</td>\n",
       "    </tr>\n",
       "    <tr>\n",
       "      <th>...</th>\n",
       "      <td>...</td>\n",
       "      <td>...</td>\n",
       "      <td>...</td>\n",
       "    </tr>\n",
       "    <tr>\n",
       "      <th>2995</th>\n",
       "      <td>0</td>\n",
       "      <td>I think food should have flavor and texture an...</td>\n",
       "      <td>yelp</td>\n",
       "    </tr>\n",
       "    <tr>\n",
       "      <th>2996</th>\n",
       "      <td>0</td>\n",
       "      <td>Appetite instantly gone.</td>\n",
       "      <td>yelp</td>\n",
       "    </tr>\n",
       "    <tr>\n",
       "      <th>2997</th>\n",
       "      <td>0</td>\n",
       "      <td>Overall I was not impressed and would not go b...</td>\n",
       "      <td>yelp</td>\n",
       "    </tr>\n",
       "    <tr>\n",
       "      <th>2998</th>\n",
       "      <td>0</td>\n",
       "      <td>The whole experience was underwhelming, and I ...</td>\n",
       "      <td>yelp</td>\n",
       "    </tr>\n",
       "    <tr>\n",
       "      <th>2999</th>\n",
       "      <td>0</td>\n",
       "      <td>Then, as if I hadn't wasted enough of my life ...</td>\n",
       "      <td>yelp</td>\n",
       "    </tr>\n",
       "  </tbody>\n",
       "</table>\n",
       "<p>3000 rows × 3 columns</p>\n",
       "</div>"
      ],
      "text/plain": [
       "      label                                               text  source\n",
       "0         0  So there is no way for me to plug it in here i...  amazon\n",
       "1         1                        Good case, Excellent value.  amazon\n",
       "2         1                             Great for the jawbone.  amazon\n",
       "3         0  Tied to charger for conversations lasting more...  amazon\n",
       "4         1                                  The mic is great.  amazon\n",
       "...     ...                                                ...     ...\n",
       "2995      0  I think food should have flavor and texture an...    yelp\n",
       "2996      0                           Appetite instantly gone.    yelp\n",
       "2997      0  Overall I was not impressed and would not go b...    yelp\n",
       "2998      0  The whole experience was underwhelming, and I ...    yelp\n",
       "2999      0  Then, as if I hadn't wasted enough of my life ...    yelp\n",
       "\n",
       "[3000 rows x 3 columns]"
      ]
     },
     "execution_count": 5,
     "metadata": {},
     "output_type": "execute_result"
    }
   ],
   "source": [
    "df"
   ]
  },
  {
   "cell_type": "code",
   "execution_count": 6,
   "metadata": {},
   "outputs": [
    {
     "data": {
      "text/html": [
       "<div>\n",
       "<style scoped>\n",
       "    .dataframe tbody tr th:only-of-type {\n",
       "        vertical-align: middle;\n",
       "    }\n",
       "\n",
       "    .dataframe tbody tr th {\n",
       "        vertical-align: top;\n",
       "    }\n",
       "\n",
       "    .dataframe thead th {\n",
       "        text-align: right;\n",
       "    }\n",
       "</style>\n",
       "<table border=\"1\" class=\"dataframe\">\n",
       "  <thead>\n",
       "    <tr style=\"text-align: right;\">\n",
       "      <th></th>\n",
       "      <th>label</th>\n",
       "      <th>text</th>\n",
       "      <th>source</th>\n",
       "      <th>chars</th>\n",
       "      <th>words</th>\n",
       "      <th>avg_wlen</th>\n",
       "      <th>puncs</th>\n",
       "      <th>uppers</th>\n",
       "      <th>titles</th>\n",
       "    </tr>\n",
       "  </thead>\n",
       "  <tbody>\n",
       "    <tr>\n",
       "      <th>0</th>\n",
       "      <td>0</td>\n",
       "      <td>So there is no way for me to plug it in here i...</td>\n",
       "      <td>amazon</td>\n",
       "      <td>82</td>\n",
       "      <td>21</td>\n",
       "      <td>3.904762</td>\n",
       "      <td>1</td>\n",
       "      <td>21</td>\n",
       "      <td>21</td>\n",
       "    </tr>\n",
       "    <tr>\n",
       "      <th>1</th>\n",
       "      <td>1</td>\n",
       "      <td>Good case, Excellent value.</td>\n",
       "      <td>amazon</td>\n",
       "      <td>27</td>\n",
       "      <td>4</td>\n",
       "      <td>6.750000</td>\n",
       "      <td>2</td>\n",
       "      <td>4</td>\n",
       "      <td>4</td>\n",
       "    </tr>\n",
       "    <tr>\n",
       "      <th>2</th>\n",
       "      <td>1</td>\n",
       "      <td>Great for the jawbone.</td>\n",
       "      <td>amazon</td>\n",
       "      <td>22</td>\n",
       "      <td>4</td>\n",
       "      <td>5.500000</td>\n",
       "      <td>1</td>\n",
       "      <td>4</td>\n",
       "      <td>4</td>\n",
       "    </tr>\n",
       "    <tr>\n",
       "      <th>3</th>\n",
       "      <td>0</td>\n",
       "      <td>Tied to charger for conversations lasting more...</td>\n",
       "      <td>amazon</td>\n",
       "      <td>79</td>\n",
       "      <td>11</td>\n",
       "      <td>7.181818</td>\n",
       "      <td>3</td>\n",
       "      <td>11</td>\n",
       "      <td>11</td>\n",
       "    </tr>\n",
       "    <tr>\n",
       "      <th>4</th>\n",
       "      <td>1</td>\n",
       "      <td>The mic is great.</td>\n",
       "      <td>amazon</td>\n",
       "      <td>17</td>\n",
       "      <td>4</td>\n",
       "      <td>4.250000</td>\n",
       "      <td>1</td>\n",
       "      <td>4</td>\n",
       "      <td>4</td>\n",
       "    </tr>\n",
       "  </tbody>\n",
       "</table>\n",
       "</div>"
      ],
      "text/plain": [
       "   label                                               text  source  chars  \\\n",
       "0      0  So there is no way for me to plug it in here i...  amazon     82   \n",
       "1      1                        Good case, Excellent value.  amazon     27   \n",
       "2      1                             Great for the jawbone.  amazon     22   \n",
       "3      0  Tied to charger for conversations lasting more...  amazon     79   \n",
       "4      1                                  The mic is great.  amazon     17   \n",
       "\n",
       "   words  avg_wlen  puncs  uppers  titles  \n",
       "0     21  3.904762      1      21      21  \n",
       "1      4  6.750000      2       4       4  \n",
       "2      4  5.500000      1       4       4  \n",
       "3     11  7.181818      3      11      11  \n",
       "4      4  4.250000      1       4       4  "
      ]
     },
     "execution_count": 6,
     "metadata": {},
     "output_type": "execute_result"
    }
   ],
   "source": [
    "# explore the descriptive features\n",
    "import string\n",
    "df['chars'] = df.text.apply(len)\n",
    "df['words'] = df.text.apply(lambda x: len(x.split()))\n",
    "df['avg_wlen'] = df['chars']/ df['words']\n",
    "df['puncs'] = df.text.apply(lambda x: len(\"\".join(_ for _ in x if _ in string.punctuation)))\n",
    "df['uppers'] = df.text.apply(lambda x: len([word for word in x.split() if word.isupper]))\n",
    "df['titles'] = df.text.apply(lambda x: len([word for word in x.split() if word.istitle]))\n",
    "df.head()"
   ]
  },
  {
   "cell_type": "code",
   "execution_count": 7,
   "metadata": {},
   "outputs": [
    {
     "data": {
      "text/plain": [
       "0        82\n",
       "1        27\n",
       "2        22\n",
       "3        79\n",
       "4        17\n",
       "       ... \n",
       "2995     66\n",
       "2996     24\n",
       "2997     50\n",
       "2998     91\n",
       "2999    134\n",
       "Name: text, Length: 3000, dtype: int64"
      ]
     },
     "execution_count": 7,
     "metadata": {},
     "output_type": "execute_result"
    }
   ],
   "source": [
    "df['text'].str.len()"
   ]
  },
  {
   "cell_type": "code",
   "execution_count": 8,
   "metadata": {},
   "outputs": [
    {
     "data": {
      "text/plain": [
       "Definitely worth checking out.                                                                                                                        2\n",
       "Don't buy this product.                                                                                                                               2\n",
       "Works great!.                                                                                                                                         2\n",
       "If you like a loud buzzing to override all your conversations, then this phone is for you!                                                            2\n",
       "The food was terrible.                                                                                                                                2\n",
       "                                                                                                                                                     ..\n",
       "So good I am going to have to review this place twice - once hereas a tribute to the place and once as a tribute to an event held here last night.    1\n",
       "The acting was bad, the dialogs were extremely shallow and insincere.                                                                                 1\n",
       "I'm so happy to be here!!!\"                                                                                                                           1\n",
       "It is worth the drive.                                                                                                                                1\n",
       "What SHOULD have been a hilarious, yummy Christmas Eve dinner to remember was the biggest fail of the entire trip for us.                             1\n",
       "Name: text, Length: 2983, dtype: int64"
      ]
     },
     "execution_count": 8,
     "metadata": {},
     "output_type": "execute_result"
    }
   ],
   "source": [
    "df['text'].value_counts()"
   ]
  },
  {
   "cell_type": "code",
   "execution_count": 9,
   "metadata": {},
   "outputs": [
    {
     "data": {
      "text/plain": [
       "array(['So there is no way for me to plug it in here in the US unless I go by a converter.',\n",
       "       'Good case, Excellent value.', 'Great for the jawbone.', ...,\n",
       "       'Overall I was not impressed and would not go back.',\n",
       "       \"The whole experience was underwhelming, and I think we'll just go to Ninja Sushi next time.\",\n",
       "       \"Then, as if I hadn't wasted enough of my life there, they poured salt in the wound by drawing out the time it took to bring the check.\"],\n",
       "      dtype=object)"
      ]
     },
     "execution_count": 9,
     "metadata": {},
     "output_type": "execute_result"
    }
   ],
   "source": [
    "df['text'].unique()"
   ]
  },
  {
   "cell_type": "code",
   "execution_count": 10,
   "metadata": {},
   "outputs": [
    {
     "name": "stdout",
     "output_type": "stream",
     "text": [
      "7\n",
      "479\n"
     ]
    }
   ],
   "source": [
    "print(min(df['text'].str.len()))\n",
    "print(max(df['text'].str.len()))"
   ]
  },
  {
   "cell_type": "code",
   "execution_count": 11,
   "metadata": {},
   "outputs": [],
   "source": [
    "from sklearn.feature_extraction.text import CountVectorizer"
   ]
  },
  {
   "cell_type": "code",
   "execution_count": 12,
   "metadata": {},
   "outputs": [],
   "source": [
    "count_vectorize = CountVectorizer()"
   ]
  },
  {
   "cell_type": "code",
   "execution_count": 13,
   "metadata": {},
   "outputs": [],
   "source": [
    "feature_vector_df = count_vectorize.fit(df.text)"
   ]
  },
  {
   "cell_type": "code",
   "execution_count": 14,
   "metadata": {},
   "outputs": [],
   "source": [
    "features_df = feature_vector_df.get_feature_names()"
   ]
  },
  {
   "cell_type": "code",
   "execution_count": 15,
   "metadata": {},
   "outputs": [
    {
     "name": "stdout",
     "output_type": "stream",
     "text": [
      "df total number of unique words: 5159\n"
     ]
    }
   ],
   "source": [
    "print('df total number of unique words:', len(features_df))"
   ]
  },
  {
   "cell_type": "code",
   "execution_count": 16,
   "metadata": {},
   "outputs": [],
   "source": [
    "import random"
   ]
  },
  {
   "cell_type": "code",
   "execution_count": 17,
   "metadata": {},
   "outputs": [
    {
     "data": {
      "text/plain": [
       "['hockey',\n",
       " 'mobile',\n",
       " 'helping',\n",
       " 'her',\n",
       " 'the',\n",
       " 'important',\n",
       " 'exteriors',\n",
       " 'realized',\n",
       " 'common',\n",
       " 'women']"
      ]
     },
     "execution_count": 17,
     "metadata": {},
     "output_type": "execute_result"
    }
   ],
   "source": [
    "random.sample(features_df, 10)"
   ]
  },
  {
   "cell_type": "code",
   "execution_count": 18,
   "metadata": {},
   "outputs": [],
   "source": [
    "feature_vector_df_transform = count_vectorize.transform(df.text)"
   ]
  },
  {
   "cell_type": "code",
   "execution_count": 19,
   "metadata": {},
   "outputs": [
    {
     "data": {
      "text/plain": [
       "scipy.sparse.csr.csr_matrix"
      ]
     },
     "execution_count": 19,
     "metadata": {},
     "output_type": "execute_result"
    }
   ],
   "source": [
    "type(feature_vector_df_transform)"
   ]
  },
  {
   "cell_type": "code",
   "execution_count": 20,
   "metadata": {},
   "outputs": [
    {
     "data": {
      "text/plain": [
       "31580"
      ]
     },
     "execution_count": 20,
     "metadata": {},
     "output_type": "execute_result"
    }
   ],
   "source": [
    "feature_vector_df_transform.getnnz()"
   ]
  },
  {
   "cell_type": "code",
   "execution_count": 21,
   "metadata": {},
   "outputs": [
    {
     "name": "stdout",
     "output_type": "stream",
     "text": [
      "Density of the matrix:  0.20404471150739809\n"
     ]
    }
   ],
   "source": [
    "print(\"Density of the matrix: \", feature_vector_df_transform.getnnz()*100/(feature_vector_df_transform.shape[0]*feature_vector_df_transform.shape[1]))"
   ]
  },
  {
   "cell_type": "code",
   "execution_count": 22,
   "metadata": {},
   "outputs": [],
   "source": [
    "train_df = pd.DataFrame(feature_vector_df_transform.todense())"
   ]
  },
  {
   "cell_type": "code",
   "execution_count": 23,
   "metadata": {},
   "outputs": [],
   "source": [
    "train_df.columns = features_df"
   ]
  },
  {
   "cell_type": "code",
   "execution_count": 24,
   "metadata": {},
   "outputs": [
    {
     "data": {
      "text/html": [
       "<div>\n",
       "<style scoped>\n",
       "    .dataframe tbody tr th:only-of-type {\n",
       "        vertical-align: middle;\n",
       "    }\n",
       "\n",
       "    .dataframe tbody tr th {\n",
       "        vertical-align: top;\n",
       "    }\n",
       "\n",
       "    .dataframe thead th {\n",
       "        text-align: right;\n",
       "    }\n",
       "</style>\n",
       "<table border=\"1\" class=\"dataframe\">\n",
       "  <thead>\n",
       "    <tr style=\"text-align: right;\">\n",
       "      <th></th>\n",
       "      <th>00</th>\n",
       "      <th>10</th>\n",
       "      <th>100</th>\n",
       "      <th>11</th>\n",
       "      <th>12</th>\n",
       "      <th>13</th>\n",
       "      <th>15</th>\n",
       "      <th>15g</th>\n",
       "      <th>15pm</th>\n",
       "      <th>17</th>\n",
       "      <th>...</th>\n",
       "      <th>yucky</th>\n",
       "      <th>yukon</th>\n",
       "      <th>yum</th>\n",
       "      <th>yummy</th>\n",
       "      <th>yun</th>\n",
       "      <th>z500a</th>\n",
       "      <th>zero</th>\n",
       "      <th>zillion</th>\n",
       "      <th>zombie</th>\n",
       "      <th>zombiez</th>\n",
       "    </tr>\n",
       "  </thead>\n",
       "  <tbody>\n",
       "    <tr>\n",
       "      <th>0</th>\n",
       "      <td>0</td>\n",
       "      <td>0</td>\n",
       "      <td>0</td>\n",
       "      <td>0</td>\n",
       "      <td>0</td>\n",
       "      <td>0</td>\n",
       "      <td>0</td>\n",
       "      <td>0</td>\n",
       "      <td>0</td>\n",
       "      <td>0</td>\n",
       "      <td>...</td>\n",
       "      <td>0</td>\n",
       "      <td>0</td>\n",
       "      <td>0</td>\n",
       "      <td>0</td>\n",
       "      <td>0</td>\n",
       "      <td>0</td>\n",
       "      <td>0</td>\n",
       "      <td>0</td>\n",
       "      <td>0</td>\n",
       "      <td>0</td>\n",
       "    </tr>\n",
       "  </tbody>\n",
       "</table>\n",
       "<p>1 rows × 5159 columns</p>\n",
       "</div>"
      ],
      "text/plain": [
       "   00  10  100  11  12  13  15  15g  15pm  17  ...  yucky  yukon  yum  yummy  \\\n",
       "0   0   0    0   0   0   0   0    0     0   0  ...      0      0    0      0   \n",
       "\n",
       "   yun  z500a  zero  zillion  zombie  zombiez  \n",
       "0    0      0     0        0       0        0  \n",
       "\n",
       "[1 rows x 5159 columns]"
      ]
     },
     "execution_count": 24,
     "metadata": {},
     "output_type": "execute_result"
    }
   ],
   "source": [
    "train_df[0:1]"
   ]
  },
  {
   "cell_type": "code",
   "execution_count": 25,
   "metadata": {},
   "outputs": [
    {
     "data": {
      "text/plain": [
       "0    So there is no way for me to plug it in here i...\n",
       "Name: text, dtype: object"
      ]
     },
     "execution_count": 25,
     "metadata": {},
     "output_type": "execute_result"
    }
   ],
   "source": [
    "df.text[0:1]"
   ]
  },
  {
   "cell_type": "code",
   "execution_count": 26,
   "metadata": {},
   "outputs": [],
   "source": [
    "features_count = np.sum(feature_vector_df_transform.toarray(), axis=0)"
   ]
  },
  {
   "cell_type": "code",
   "execution_count": 27,
   "metadata": {},
   "outputs": [],
   "source": [
    "features_count_df = pd.DataFrame(dict(features_df=features_df, counts= features_count))"
   ]
  },
  {
   "cell_type": "code",
   "execution_count": 28,
   "metadata": {},
   "outputs": [
    {
     "data": {
      "text/plain": [
       "(array([5.112e+03, 2.700e+01, 8.000e+00, 3.000e+00, 1.000e+00, 1.000e+00,\n",
       "        3.000e+00, 2.000e+00, 0.000e+00, 0.000e+00]),\n",
       " array([   0.,  100.,  200.,  300.,  400.,  500.,  600.,  700.,  800.,\n",
       "         900., 1000.]),\n",
       " <BarContainer object of 10 artists>)"
      ]
     },
     "execution_count": 28,
     "metadata": {},
     "output_type": "execute_result"
    },
    {
     "data": {
      "image/png": "[encoded data removed]",
      "text/plain": [
       "<Figure size 576x432 with 1 Axes>"
      ]
     },
     "metadata": {
      "needs_background": "light"
     },
     "output_type": "display_data"
    }
   ],
   "source": [
    "plt.figure(figsize=(8,6))\n",
    "plt.xlabel('Frequency of words')\n",
    "plt.ylabel('Density')\n",
    "plt.hist(features_count_df.counts, bins=10, range=(0,1000))"
   ]
  },
  {
   "cell_type": "code",
   "execution_count": 29,
   "metadata": {},
   "outputs": [
    {
     "data": {
      "text/plain": [
       "2922"
      ]
     },
     "execution_count": 29,
     "metadata": {},
     "output_type": "execute_result"
    }
   ],
   "source": [
    "len(features_count_df[features_count_df.counts==1])"
   ]
  },
  {
   "cell_type": "code",
   "execution_count": 30,
   "metadata": {},
   "outputs": [
    {
     "data": {
      "text/html": [
       "<div>\n",
       "<style scoped>\n",
       "    .dataframe tbody tr th:only-of-type {\n",
       "        vertical-align: middle;\n",
       "    }\n",
       "\n",
       "    .dataframe tbody tr th {\n",
       "        vertical-align: top;\n",
       "    }\n",
       "\n",
       "    .dataframe thead th {\n",
       "        text-align: right;\n",
       "    }\n",
       "</style>\n",
       "<table border=\"1\" class=\"dataframe\">\n",
       "  <thead>\n",
       "    <tr style=\"text-align: right;\">\n",
       "      <th></th>\n",
       "      <th>features</th>\n",
       "      <th>counts</th>\n",
       "    </tr>\n",
       "  </thead>\n",
       "  <tbody>\n",
       "    <tr>\n",
       "      <th>2377</th>\n",
       "      <td>the</td>\n",
       "      <td>1953</td>\n",
       "    </tr>\n",
       "    <tr>\n",
       "      <th>85</th>\n",
       "      <td>and</td>\n",
       "      <td>1138</td>\n",
       "    </tr>\n",
       "    <tr>\n",
       "      <th>1036</th>\n",
       "      <td>it</td>\n",
       "      <td>789</td>\n",
       "    </tr>\n",
       "    <tr>\n",
       "      <th>1033</th>\n",
       "      <td>is</td>\n",
       "      <td>753</td>\n",
       "    </tr>\n",
       "    <tr>\n",
       "      <th>2455</th>\n",
       "      <td>to</td>\n",
       "      <td>670</td>\n",
       "    </tr>\n",
       "    <tr>\n",
       "      <th>2404</th>\n",
       "      <td>this</td>\n",
       "      <td>643</td>\n",
       "    </tr>\n",
       "    <tr>\n",
       "      <th>1334</th>\n",
       "      <td>of</td>\n",
       "      <td>624</td>\n",
       "    </tr>\n",
       "    <tr>\n",
       "      <th>2814</th>\n",
       "      <td>was</td>\n",
       "      <td>571</td>\n",
       "    </tr>\n",
       "    <tr>\n",
       "      <th>1005</th>\n",
       "      <td>in</td>\n",
       "      <td>400</td>\n",
       "    </tr>\n",
       "    <tr>\n",
       "      <th>801</th>\n",
       "      <td>for</td>\n",
       "      <td>336</td>\n",
       "    </tr>\n",
       "    <tr>\n",
       "      <th>2375</th>\n",
       "      <td>that</td>\n",
       "      <td>316</td>\n",
       "    </tr>\n",
       "    <tr>\n",
       "      <th>1315</th>\n",
       "      <td>not</td>\n",
       "      <td>306</td>\n",
       "    </tr>\n",
       "    <tr>\n",
       "      <th>2915</th>\n",
       "      <td>with</td>\n",
       "      <td>274</td>\n",
       "    </tr>\n",
       "    <tr>\n",
       "      <th>1281</th>\n",
       "      <td>my</td>\n",
       "      <td>254</td>\n",
       "    </tr>\n",
       "    <tr>\n",
       "      <th>2736</th>\n",
       "      <td>very</td>\n",
       "      <td>245</td>\n",
       "    </tr>\n",
       "  </tbody>\n",
       "</table>\n",
       "</div>"
      ],
      "text/plain": [
       "     features  counts\n",
       "2377      the    1953\n",
       "85        and    1138\n",
       "1036       it     789\n",
       "1033       is     753\n",
       "2455       to     670\n",
       "2404     this     643\n",
       "1334       of     624\n",
       "2814      was     571\n",
       "1005       in     400\n",
       "801       for     336\n",
       "2375     that     316\n",
       "1315      not     306\n",
       "2915     with     274\n",
       "1281       my     254\n",
       "2736     very     245"
      ]
     },
     "execution_count": 30,
     "metadata": {},
     "output_type": "execute_result"
    }
   ],
   "source": [
    "count_vectorizer = CountVectorizer(max_features=3000)\n",
    "feature_vector = count_vectorizer.fit(df.text)\n",
    "features = feature_vector.get_feature_names()\n",
    "train_ds_features = count_vectorizer.transform(df.text)\n",
    "features_counts = np.sum(train_ds_features.toarray(),axis=0)\n",
    "features_counts = pd.DataFrame(dict(features= features, counts = features_counts))\n",
    "features_counts.sort_values('counts', ascending=False)[0:15]"
   ]
  },
  {
   "cell_type": "code",
   "execution_count": 31,
   "metadata": {},
   "outputs": [
    {
     "data": {
      "text/plain": [
       "<AxesSubplot:xlabel='label', ylabel='awesome'>"
      ]
     },
     "execution_count": 31,
     "metadata": {},
     "output_type": "execute_result"
    },
    {
     "data": {
      "image/png": "[encoded data removed]",
      "text/plain": [
       "<Figure size 432x288 with 1 Axes>"
      ]
     },
     "metadata": {
      "needs_background": "light"
     },
     "output_type": "display_data"
    }
   ],
   "source": [
    "train_df = pd.DataFrame(train_ds_features.todense())\n",
    "train_df.columns=features\n",
    "train_df['label']=df.label\n",
    "sns.barplot(x='label',y='awesome',data=train_df, estimator=sum)"
   ]
  },
  {
   "cell_type": "code",
   "execution_count": 32,
   "metadata": {},
   "outputs": [
    {
     "data": {
      "text/plain": [
       "<AxesSubplot:xlabel='label', ylabel='hate'>"
      ]
     },
     "execution_count": 32,
     "metadata": {},
     "output_type": "execute_result"
    },
    {
     "data": {
      "image/png": "[encoded data removed]",
      "text/plain": [
       "<Figure size 432x288 with 1 Axes>"
      ]
     },
     "metadata": {
      "needs_background": "light"
     },
     "output_type": "display_data"
    }
   ],
   "source": [
    "train_df = pd.DataFrame(train_ds_features.todense())\n",
    "train_df.columns=features\n",
    "train_df['label']=df.label\n",
    "sns.barplot(x='label',y='hate',data=train_df, estimator=sum)"
   ]
  },
  {
   "cell_type": "code",
   "execution_count": 33,
   "metadata": {},
   "outputs": [
    {
     "data": {
      "text/html": [
       "<div>\n",
       "<style scoped>\n",
       "    .dataframe tbody tr th:only-of-type {\n",
       "        vertical-align: middle;\n",
       "    }\n",
       "\n",
       "    .dataframe tbody tr th {\n",
       "        vertical-align: top;\n",
       "    }\n",
       "\n",
       "    .dataframe thead th {\n",
       "        text-align: right;\n",
       "    }\n",
       "</style>\n",
       "<table border=\"1\" class=\"dataframe\">\n",
       "  <thead>\n",
       "    <tr style=\"text-align: right;\">\n",
       "      <th></th>\n",
       "      <th>label</th>\n",
       "      <th>text</th>\n",
       "      <th>source</th>\n",
       "      <th>chars</th>\n",
       "      <th>words</th>\n",
       "      <th>avg_wlen</th>\n",
       "      <th>puncs</th>\n",
       "      <th>uppers</th>\n",
       "      <th>titles</th>\n",
       "    </tr>\n",
       "  </thead>\n",
       "  <tbody>\n",
       "    <tr>\n",
       "      <th>0</th>\n",
       "      <td>0</td>\n",
       "      <td>So there is no way for me to plug it in here i...</td>\n",
       "      <td>amazon</td>\n",
       "      <td>82</td>\n",
       "      <td>21</td>\n",
       "      <td>3.904762</td>\n",
       "      <td>1</td>\n",
       "      <td>21</td>\n",
       "      <td>21</td>\n",
       "    </tr>\n",
       "    <tr>\n",
       "      <th>1</th>\n",
       "      <td>1</td>\n",
       "      <td>Good case, Excellent value.</td>\n",
       "      <td>amazon</td>\n",
       "      <td>27</td>\n",
       "      <td>4</td>\n",
       "      <td>6.750000</td>\n",
       "      <td>2</td>\n",
       "      <td>4</td>\n",
       "      <td>4</td>\n",
       "    </tr>\n",
       "    <tr>\n",
       "      <th>2</th>\n",
       "      <td>1</td>\n",
       "      <td>Great for the jawbone.</td>\n",
       "      <td>amazon</td>\n",
       "      <td>22</td>\n",
       "      <td>4</td>\n",
       "      <td>5.500000</td>\n",
       "      <td>1</td>\n",
       "      <td>4</td>\n",
       "      <td>4</td>\n",
       "    </tr>\n",
       "    <tr>\n",
       "      <th>3</th>\n",
       "      <td>0</td>\n",
       "      <td>Tied to charger for conversations lasting more...</td>\n",
       "      <td>amazon</td>\n",
       "      <td>79</td>\n",
       "      <td>11</td>\n",
       "      <td>7.181818</td>\n",
       "      <td>3</td>\n",
       "      <td>11</td>\n",
       "      <td>11</td>\n",
       "    </tr>\n",
       "    <tr>\n",
       "      <th>4</th>\n",
       "      <td>1</td>\n",
       "      <td>The mic is great.</td>\n",
       "      <td>amazon</td>\n",
       "      <td>17</td>\n",
       "      <td>4</td>\n",
       "      <td>4.250000</td>\n",
       "      <td>1</td>\n",
       "      <td>4</td>\n",
       "      <td>4</td>\n",
       "    </tr>\n",
       "    <tr>\n",
       "      <th>...</th>\n",
       "      <td>...</td>\n",
       "      <td>...</td>\n",
       "      <td>...</td>\n",
       "      <td>...</td>\n",
       "      <td>...</td>\n",
       "      <td>...</td>\n",
       "      <td>...</td>\n",
       "      <td>...</td>\n",
       "      <td>...</td>\n",
       "    </tr>\n",
       "    <tr>\n",
       "      <th>2995</th>\n",
       "      <td>0</td>\n",
       "      <td>I think food should have flavor and texture an...</td>\n",
       "      <td>yelp</td>\n",
       "      <td>66</td>\n",
       "      <td>12</td>\n",
       "      <td>5.500000</td>\n",
       "      <td>1</td>\n",
       "      <td>12</td>\n",
       "      <td>12</td>\n",
       "    </tr>\n",
       "    <tr>\n",
       "      <th>2996</th>\n",
       "      <td>0</td>\n",
       "      <td>Appetite instantly gone.</td>\n",
       "      <td>yelp</td>\n",
       "      <td>24</td>\n",
       "      <td>3</td>\n",
       "      <td>8.000000</td>\n",
       "      <td>1</td>\n",
       "      <td>3</td>\n",
       "      <td>3</td>\n",
       "    </tr>\n",
       "    <tr>\n",
       "      <th>2997</th>\n",
       "      <td>0</td>\n",
       "      <td>Overall I was not impressed and would not go b...</td>\n",
       "      <td>yelp</td>\n",
       "      <td>50</td>\n",
       "      <td>10</td>\n",
       "      <td>5.000000</td>\n",
       "      <td>1</td>\n",
       "      <td>10</td>\n",
       "      <td>10</td>\n",
       "    </tr>\n",
       "    <tr>\n",
       "      <th>2998</th>\n",
       "      <td>0</td>\n",
       "      <td>The whole experience was underwhelming, and I ...</td>\n",
       "      <td>yelp</td>\n",
       "      <td>91</td>\n",
       "      <td>16</td>\n",
       "      <td>5.687500</td>\n",
       "      <td>3</td>\n",
       "      <td>16</td>\n",
       "      <td>16</td>\n",
       "    </tr>\n",
       "    <tr>\n",
       "      <th>2999</th>\n",
       "      <td>0</td>\n",
       "      <td>Then, as if I hadn't wasted enough of my life ...</td>\n",
       "      <td>yelp</td>\n",
       "      <td>134</td>\n",
       "      <td>28</td>\n",
       "      <td>4.785714</td>\n",
       "      <td>4</td>\n",
       "      <td>28</td>\n",
       "      <td>28</td>\n",
       "    </tr>\n",
       "  </tbody>\n",
       "</table>\n",
       "<p>3000 rows × 9 columns</p>\n",
       "</div>"
      ],
      "text/plain": [
       "      label                                               text  source  chars  \\\n",
       "0         0  So there is no way for me to plug it in here i...  amazon     82   \n",
       "1         1                        Good case, Excellent value.  amazon     27   \n",
       "2         1                             Great for the jawbone.  amazon     22   \n",
       "3         0  Tied to charger for conversations lasting more...  amazon     79   \n",
       "4         1                                  The mic is great.  amazon     17   \n",
       "...     ...                                                ...     ...    ...   \n",
       "2995      0  I think food should have flavor and texture an...    yelp     66   \n",
       "2996      0                           Appetite instantly gone.    yelp     24   \n",
       "2997      0  Overall I was not impressed and would not go b...    yelp     50   \n",
       "2998      0  The whole experience was underwhelming, and I ...    yelp     91   \n",
       "2999      0  Then, as if I hadn't wasted enough of my life ...    yelp    134   \n",
       "\n",
       "      words  avg_wlen  puncs  uppers  titles  \n",
       "0        21  3.904762      1      21      21  \n",
       "1         4  6.750000      2       4       4  \n",
       "2         4  5.500000      1       4       4  \n",
       "3        11  7.181818      3      11      11  \n",
       "4         4  4.250000      1       4       4  \n",
       "...     ...       ...    ...     ...     ...  \n",
       "2995     12  5.500000      1      12      12  \n",
       "2996      3  8.000000      1       3       3  \n",
       "2997     10  5.000000      1      10      10  \n",
       "2998     16  5.687500      3      16      16  \n",
       "2999     28  4.785714      4      28      28  \n",
       "\n",
       "[3000 rows x 9 columns]"
      ]
     },
     "execution_count": 33,
     "metadata": {},
     "output_type": "execute_result"
    }
   ],
   "source": [
    "df"
   ]
  },
  {
   "cell_type": "code",
   "execution_count": 34,
   "metadata": {},
   "outputs": [
    {
     "data": {
      "text/html": [
       "<div>\n",
       "<style scoped>\n",
       "    .dataframe tbody tr th:only-of-type {\n",
       "        vertical-align: middle;\n",
       "    }\n",
       "\n",
       "    .dataframe tbody tr th {\n",
       "        vertical-align: top;\n",
       "    }\n",
       "\n",
       "    .dataframe thead tr th {\n",
       "        text-align: left;\n",
       "    }\n",
       "</style>\n",
       "<table border=\"1\" class=\"dataframe\">\n",
       "  <thead>\n",
       "    <tr>\n",
       "      <th></th>\n",
       "      <th>source</th>\n",
       "      <th>label</th>\n",
       "      <th colspan=\"2\" halign=\"left\">chars</th>\n",
       "      <th colspan=\"2\" halign=\"left\">words</th>\n",
       "      <th colspan=\"2\" halign=\"left\">avg_wlen</th>\n",
       "      <th colspan=\"2\" halign=\"left\">puncs</th>\n",
       "      <th colspan=\"2\" halign=\"left\">uppers</th>\n",
       "      <th colspan=\"2\" halign=\"left\">titles</th>\n",
       "    </tr>\n",
       "    <tr>\n",
       "      <th></th>\n",
       "      <th></th>\n",
       "      <th></th>\n",
       "      <th>mean</th>\n",
       "      <th>std</th>\n",
       "      <th>mean</th>\n",
       "      <th>std</th>\n",
       "      <th>mean</th>\n",
       "      <th>std</th>\n",
       "      <th>mean</th>\n",
       "      <th>std</th>\n",
       "      <th>mean</th>\n",
       "      <th>std</th>\n",
       "      <th>mean</th>\n",
       "      <th>std</th>\n",
       "    </tr>\n",
       "  </thead>\n",
       "  <tbody>\n",
       "    <tr>\n",
       "      <th>0</th>\n",
       "      <td>amazon</td>\n",
       "      <td>0</td>\n",
       "      <td>56.824</td>\n",
       "      <td>34.022464</td>\n",
       "      <td>10.578</td>\n",
       "      <td>6.578028</td>\n",
       "      <td>5.653474</td>\n",
       "      <td>1.262250</td>\n",
       "      <td>2.002</td>\n",
       "      <td>1.509488</td>\n",
       "      <td>10.578</td>\n",
       "      <td>6.578028</td>\n",
       "      <td>10.578</td>\n",
       "      <td>6.578028</td>\n",
       "    </tr>\n",
       "    <tr>\n",
       "      <th>1</th>\n",
       "      <td>amazon</td>\n",
       "      <td>1</td>\n",
       "      <td>53.628</td>\n",
       "      <td>35.234764</td>\n",
       "      <td>9.914</td>\n",
       "      <td>6.785772</td>\n",
       "      <td>5.670933</td>\n",
       "      <td>1.113802</td>\n",
       "      <td>1.842</td>\n",
       "      <td>1.296301</td>\n",
       "      <td>9.914</td>\n",
       "      <td>6.785772</td>\n",
       "      <td>9.914</td>\n",
       "      <td>6.785772</td>\n",
       "    </tr>\n",
       "    <tr>\n",
       "      <th>2</th>\n",
       "      <td>imdb</td>\n",
       "      <td>0</td>\n",
       "      <td>77.104</td>\n",
       "      <td>50.901504</td>\n",
       "      <td>13.580</td>\n",
       "      <td>9.037863</td>\n",
       "      <td>5.814498</td>\n",
       "      <td>0.941015</td>\n",
       "      <td>2.494</td>\n",
       "      <td>1.954893</td>\n",
       "      <td>13.580</td>\n",
       "      <td>9.037863</td>\n",
       "      <td>13.580</td>\n",
       "      <td>9.037863</td>\n",
       "    </tr>\n",
       "    <tr>\n",
       "      <th>3</th>\n",
       "      <td>imdb</td>\n",
       "      <td>1</td>\n",
       "      <td>87.466</td>\n",
       "      <td>60.831157</td>\n",
       "      <td>15.128</td>\n",
       "      <td>10.102859</td>\n",
       "      <td>5.826946</td>\n",
       "      <td>0.992992</td>\n",
       "      <td>2.650</td>\n",
       "      <td>2.282525</td>\n",
       "      <td>15.128</td>\n",
       "      <td>10.102859</td>\n",
       "      <td>15.128</td>\n",
       "      <td>10.102859</td>\n",
       "    </tr>\n",
       "    <tr>\n",
       "      <th>4</th>\n",
       "      <td>yelp</td>\n",
       "      <td>0</td>\n",
       "      <td>60.752</td>\n",
       "      <td>34.226443</td>\n",
       "      <td>11.498</td>\n",
       "      <td>6.611916</td>\n",
       "      <td>5.401394</td>\n",
       "      <td>0.896878</td>\n",
       "      <td>2.000</td>\n",
       "      <td>1.424098</td>\n",
       "      <td>11.498</td>\n",
       "      <td>6.611916</td>\n",
       "      <td>11.498</td>\n",
       "      <td>6.611916</td>\n",
       "    </tr>\n",
       "    <tr>\n",
       "      <th>5</th>\n",
       "      <td>yelp</td>\n",
       "      <td>1</td>\n",
       "      <td>55.888</td>\n",
       "      <td>30.232490</td>\n",
       "      <td>10.290</td>\n",
       "      <td>5.831459</td>\n",
       "      <td>5.606887</td>\n",
       "      <td>0.951414</td>\n",
       "      <td>1.930</td>\n",
       "      <td>1.658494</td>\n",
       "      <td>10.290</td>\n",
       "      <td>5.831459</td>\n",
       "      <td>10.290</td>\n",
       "      <td>5.831459</td>\n",
       "    </tr>\n",
       "  </tbody>\n",
       "</table>\n",
       "</div>"
      ],
      "text/plain": [
       "   source label   chars              words             avg_wlen            \\\n",
       "                   mean        std    mean        std      mean       std   \n",
       "0  amazon     0  56.824  34.022464  10.578   6.578028  5.653474  1.262250   \n",
       "1  amazon     1  53.628  35.234764   9.914   6.785772  5.670933  1.113802   \n",
       "2    imdb     0  77.104  50.901504  13.580   9.037863  5.814498  0.941015   \n",
       "3    imdb     1  87.466  60.831157  15.128  10.102859  5.826946  0.992992   \n",
       "4    yelp     0  60.752  34.226443  11.498   6.611916  5.401394  0.896878   \n",
       "5    yelp     1  55.888  30.232490  10.290   5.831459  5.606887  0.951414   \n",
       "\n",
       "   puncs            uppers             titles             \n",
       "    mean       std    mean        std    mean        std  \n",
       "0  2.002  1.509488  10.578   6.578028  10.578   6.578028  \n",
       "1  1.842  1.296301   9.914   6.785772   9.914   6.785772  \n",
       "2  2.494  1.954893  13.580   9.037863  13.580   9.037863  \n",
       "3  2.650  2.282525  15.128  10.102859  15.128  10.102859  \n",
       "4  2.000  1.424098  11.498   6.611916  11.498   6.611916  \n",
       "5  1.930  1.658494  10.290   5.831459  10.290   5.831459  "
      ]
     },
     "metadata": {},
     "output_type": "display_data"
    },
    {
     "data": {
      "text/html": [
       "<div>\n",
       "<style scoped>\n",
       "    .dataframe tbody tr th:only-of-type {\n",
       "        vertical-align: middle;\n",
       "    }\n",
       "\n",
       "    .dataframe tbody tr th {\n",
       "        vertical-align: top;\n",
       "    }\n",
       "\n",
       "    .dataframe thead tr th {\n",
       "        text-align: left;\n",
       "    }\n",
       "</style>\n",
       "<table border=\"1\" class=\"dataframe\">\n",
       "  <thead>\n",
       "    <tr>\n",
       "      <th></th>\n",
       "      <th>source</th>\n",
       "      <th>label</th>\n",
       "      <th colspan=\"2\" halign=\"left\">chars</th>\n",
       "      <th colspan=\"2\" halign=\"left\">words</th>\n",
       "      <th colspan=\"2\" halign=\"left\">avg_wlen</th>\n",
       "      <th colspan=\"2\" halign=\"left\">puncs</th>\n",
       "      <th colspan=\"2\" halign=\"left\">uppers</th>\n",
       "      <th colspan=\"2\" halign=\"left\">titles</th>\n",
       "    </tr>\n",
       "    <tr>\n",
       "      <th></th>\n",
       "      <th></th>\n",
       "      <th></th>\n",
       "      <th>min</th>\n",
       "      <th>max</th>\n",
       "      <th>min</th>\n",
       "      <th>max</th>\n",
       "      <th>min</th>\n",
       "      <th>max</th>\n",
       "      <th>min</th>\n",
       "      <th>max</th>\n",
       "      <th>min</th>\n",
       "      <th>max</th>\n",
       "      <th>min</th>\n",
       "      <th>max</th>\n",
       "    </tr>\n",
       "  </thead>\n",
       "  <tbody>\n",
       "    <tr>\n",
       "      <th>0</th>\n",
       "      <td>amazon</td>\n",
       "      <td>0</td>\n",
       "      <td>11.0</td>\n",
       "      <td>149.0</td>\n",
       "      <td>1.0</td>\n",
       "      <td>30.0</td>\n",
       "      <td>3.857143</td>\n",
       "      <td>14.0</td>\n",
       "      <td>0.0</td>\n",
       "      <td>11.0</td>\n",
       "      <td>1.0</td>\n",
       "      <td>30.0</td>\n",
       "      <td>1.0</td>\n",
       "      <td>30.0</td>\n",
       "    </tr>\n",
       "    <tr>\n",
       "      <th>1</th>\n",
       "      <td>amazon</td>\n",
       "      <td>1</td>\n",
       "      <td>11.0</td>\n",
       "      <td>148.0</td>\n",
       "      <td>1.0</td>\n",
       "      <td>30.0</td>\n",
       "      <td>3.166667</td>\n",
       "      <td>13.0</td>\n",
       "      <td>0.0</td>\n",
       "      <td>9.0</td>\n",
       "      <td>1.0</td>\n",
       "      <td>30.0</td>\n",
       "      <td>1.0</td>\n",
       "      <td>30.0</td>\n",
       "    </tr>\n",
       "    <tr>\n",
       "      <th>2</th>\n",
       "      <td>imdb</td>\n",
       "      <td>0</td>\n",
       "      <td>8.0</td>\n",
       "      <td>321.0</td>\n",
       "      <td>1.0</td>\n",
       "      <td>56.0</td>\n",
       "      <td>4.181818</td>\n",
       "      <td>11.5</td>\n",
       "      <td>1.0</td>\n",
       "      <td>14.0</td>\n",
       "      <td>1.0</td>\n",
       "      <td>56.0</td>\n",
       "      <td>1.0</td>\n",
       "      <td>56.0</td>\n",
       "    </tr>\n",
       "    <tr>\n",
       "      <th>3</th>\n",
       "      <td>imdb</td>\n",
       "      <td>1</td>\n",
       "      <td>7.0</td>\n",
       "      <td>479.0</td>\n",
       "      <td>1.0</td>\n",
       "      <td>71.0</td>\n",
       "      <td>3.200000</td>\n",
       "      <td>12.0</td>\n",
       "      <td>0.0</td>\n",
       "      <td>18.0</td>\n",
       "      <td>1.0</td>\n",
       "      <td>71.0</td>\n",
       "      <td>1.0</td>\n",
       "      <td>71.0</td>\n",
       "    </tr>\n",
       "    <tr>\n",
       "      <th>4</th>\n",
       "      <td>yelp</td>\n",
       "      <td>0</td>\n",
       "      <td>11.0</td>\n",
       "      <td>149.0</td>\n",
       "      <td>2.0</td>\n",
       "      <td>32.0</td>\n",
       "      <td>3.666667</td>\n",
       "      <td>12.5</td>\n",
       "      <td>0.0</td>\n",
       "      <td>11.0</td>\n",
       "      <td>2.0</td>\n",
       "      <td>32.0</td>\n",
       "      <td>2.0</td>\n",
       "      <td>32.0</td>\n",
       "    </tr>\n",
       "    <tr>\n",
       "      <th>5</th>\n",
       "      <td>yelp</td>\n",
       "      <td>1</td>\n",
       "      <td>11.0</td>\n",
       "      <td>148.0</td>\n",
       "      <td>1.0</td>\n",
       "      <td>32.0</td>\n",
       "      <td>3.666667</td>\n",
       "      <td>11.0</td>\n",
       "      <td>0.0</td>\n",
       "      <td>19.0</td>\n",
       "      <td>1.0</td>\n",
       "      <td>32.0</td>\n",
       "      <td>1.0</td>\n",
       "      <td>32.0</td>\n",
       "    </tr>\n",
       "  </tbody>\n",
       "</table>\n",
       "</div>"
      ],
      "text/plain": [
       "   source label chars        words        avg_wlen       puncs       uppers  \\\n",
       "                  min    max   min   max       min   max   min   max    min   \n",
       "0  amazon     0  11.0  149.0   1.0  30.0  3.857143  14.0   0.0  11.0    1.0   \n",
       "1  amazon     1  11.0  148.0   1.0  30.0  3.166667  13.0   0.0   9.0    1.0   \n",
       "2    imdb     0   8.0  321.0   1.0  56.0  4.181818  11.5   1.0  14.0    1.0   \n",
       "3    imdb     1   7.0  479.0   1.0  71.0  3.200000  12.0   0.0  18.0    1.0   \n",
       "4    yelp     0  11.0  149.0   2.0  32.0  3.666667  12.5   0.0  11.0    2.0   \n",
       "5    yelp     1  11.0  148.0   1.0  32.0  3.666667  11.0   0.0  19.0    1.0   \n",
       "\n",
       "        titles        \n",
       "    max    min   max  \n",
       "0  30.0    1.0  30.0  \n",
       "1  30.0    1.0  30.0  \n",
       "2  56.0    1.0  56.0  \n",
       "3  71.0    1.0  71.0  \n",
       "4  32.0    2.0  32.0  \n",
       "5  32.0    1.0  32.0  "
      ]
     },
     "metadata": {},
     "output_type": "display_data"
    }
   ],
   "source": [
    "#Review descriptive statistics of the texts\n",
    "display(df.groupby(['source', 'label']).describe().loc[:,(slice(None),['mean', 'std'])].reset_index())\n",
    "display(df.groupby(['source', 'label']).describe().loc[:,(slice(None),['min', 'max'])].reset_index())"
   ]
  },
  {
   "cell_type": "code",
   "execution_count": 35,
   "metadata": {},
   "outputs": [
    {
     "data": {
      "text/html": [
       "<div>\n",
       "<style scoped>\n",
       "    .dataframe tbody tr th:only-of-type {\n",
       "        vertical-align: middle;\n",
       "    }\n",
       "\n",
       "    .dataframe tbody tr th {\n",
       "        vertical-align: top;\n",
       "    }\n",
       "\n",
       "    .dataframe thead th {\n",
       "        text-align: right;\n",
       "    }\n",
       "</style>\n",
       "<table border=\"1\" class=\"dataframe\">\n",
       "  <thead>\n",
       "    <tr style=\"text-align: right;\">\n",
       "      <th></th>\n",
       "      <th>label</th>\n",
       "      <th>text</th>\n",
       "      <th>source</th>\n",
       "      <th>chars</th>\n",
       "      <th>words</th>\n",
       "      <th>avg_wlen</th>\n",
       "      <th>puncs</th>\n",
       "      <th>uppers</th>\n",
       "      <th>titles</th>\n",
       "    </tr>\n",
       "  </thead>\n",
       "  <tbody>\n",
       "    <tr>\n",
       "      <th>0</th>\n",
       "      <td>0</td>\n",
       "      <td>So there is no way for me to plug it in here i...</td>\n",
       "      <td>amazon</td>\n",
       "      <td>82</td>\n",
       "      <td>21</td>\n",
       "      <td>3.904762</td>\n",
       "      <td>1</td>\n",
       "      <td>21</td>\n",
       "      <td>21</td>\n",
       "    </tr>\n",
       "    <tr>\n",
       "      <th>1</th>\n",
       "      <td>1</td>\n",
       "      <td>Good case, Excellent value.</td>\n",
       "      <td>amazon</td>\n",
       "      <td>27</td>\n",
       "      <td>4</td>\n",
       "      <td>6.750000</td>\n",
       "      <td>2</td>\n",
       "      <td>4</td>\n",
       "      <td>4</td>\n",
       "    </tr>\n",
       "    <tr>\n",
       "      <th>2</th>\n",
       "      <td>1</td>\n",
       "      <td>Great for the jawbone.</td>\n",
       "      <td>amazon</td>\n",
       "      <td>22</td>\n",
       "      <td>4</td>\n",
       "      <td>5.500000</td>\n",
       "      <td>1</td>\n",
       "      <td>4</td>\n",
       "      <td>4</td>\n",
       "    </tr>\n",
       "    <tr>\n",
       "      <th>3</th>\n",
       "      <td>0</td>\n",
       "      <td>Tied to charger for conversations lasting more...</td>\n",
       "      <td>amazon</td>\n",
       "      <td>79</td>\n",
       "      <td>11</td>\n",
       "      <td>7.181818</td>\n",
       "      <td>3</td>\n",
       "      <td>11</td>\n",
       "      <td>11</td>\n",
       "    </tr>\n",
       "    <tr>\n",
       "      <th>4</th>\n",
       "      <td>1</td>\n",
       "      <td>The mic is great.</td>\n",
       "      <td>amazon</td>\n",
       "      <td>17</td>\n",
       "      <td>4</td>\n",
       "      <td>4.250000</td>\n",
       "      <td>1</td>\n",
       "      <td>4</td>\n",
       "      <td>4</td>\n",
       "    </tr>\n",
       "    <tr>\n",
       "      <th>...</th>\n",
       "      <td>...</td>\n",
       "      <td>...</td>\n",
       "      <td>...</td>\n",
       "      <td>...</td>\n",
       "      <td>...</td>\n",
       "      <td>...</td>\n",
       "      <td>...</td>\n",
       "      <td>...</td>\n",
       "      <td>...</td>\n",
       "    </tr>\n",
       "    <tr>\n",
       "      <th>2995</th>\n",
       "      <td>0</td>\n",
       "      <td>I think food should have flavor and texture an...</td>\n",
       "      <td>yelp</td>\n",
       "      <td>66</td>\n",
       "      <td>12</td>\n",
       "      <td>5.500000</td>\n",
       "      <td>1</td>\n",
       "      <td>12</td>\n",
       "      <td>12</td>\n",
       "    </tr>\n",
       "    <tr>\n",
       "      <th>2996</th>\n",
       "      <td>0</td>\n",
       "      <td>Appetite instantly gone.</td>\n",
       "      <td>yelp</td>\n",
       "      <td>24</td>\n",
       "      <td>3</td>\n",
       "      <td>8.000000</td>\n",
       "      <td>1</td>\n",
       "      <td>3</td>\n",
       "      <td>3</td>\n",
       "    </tr>\n",
       "    <tr>\n",
       "      <th>2997</th>\n",
       "      <td>0</td>\n",
       "      <td>Overall I was not impressed and would not go b...</td>\n",
       "      <td>yelp</td>\n",
       "      <td>50</td>\n",
       "      <td>10</td>\n",
       "      <td>5.000000</td>\n",
       "      <td>1</td>\n",
       "      <td>10</td>\n",
       "      <td>10</td>\n",
       "    </tr>\n",
       "    <tr>\n",
       "      <th>2998</th>\n",
       "      <td>0</td>\n",
       "      <td>The whole experience was underwhelming, and I ...</td>\n",
       "      <td>yelp</td>\n",
       "      <td>91</td>\n",
       "      <td>16</td>\n",
       "      <td>5.687500</td>\n",
       "      <td>3</td>\n",
       "      <td>16</td>\n",
       "      <td>16</td>\n",
       "    </tr>\n",
       "    <tr>\n",
       "      <th>2999</th>\n",
       "      <td>0</td>\n",
       "      <td>Then, as if I hadn't wasted enough of my life ...</td>\n",
       "      <td>yelp</td>\n",
       "      <td>134</td>\n",
       "      <td>28</td>\n",
       "      <td>4.785714</td>\n",
       "      <td>4</td>\n",
       "      <td>28</td>\n",
       "      <td>28</td>\n",
       "    </tr>\n",
       "  </tbody>\n",
       "</table>\n",
       "<p>3000 rows × 9 columns</p>\n",
       "</div>"
      ],
      "text/plain": [
       "      label                                               text  source  chars  \\\n",
       "0         0  So there is no way for me to plug it in here i...  amazon     82   \n",
       "1         1                        Good case, Excellent value.  amazon     27   \n",
       "2         1                             Great for the jawbone.  amazon     22   \n",
       "3         0  Tied to charger for conversations lasting more...  amazon     79   \n",
       "4         1                                  The mic is great.  amazon     17   \n",
       "...     ...                                                ...     ...    ...   \n",
       "2995      0  I think food should have flavor and texture an...    yelp     66   \n",
       "2996      0                           Appetite instantly gone.    yelp     24   \n",
       "2997      0  Overall I was not impressed and would not go b...    yelp     50   \n",
       "2998      0  The whole experience was underwhelming, and I ...    yelp     91   \n",
       "2999      0  Then, as if I hadn't wasted enough of my life ...    yelp    134   \n",
       "\n",
       "      words  avg_wlen  puncs  uppers  titles  \n",
       "0        21  3.904762      1      21      21  \n",
       "1         4  6.750000      2       4       4  \n",
       "2         4  5.500000      1       4       4  \n",
       "3        11  7.181818      3      11      11  \n",
       "4         4  4.250000      1       4       4  \n",
       "...     ...       ...    ...     ...     ...  \n",
       "2995     12  5.500000      1      12      12  \n",
       "2996      3  8.000000      1       3       3  \n",
       "2997     10  5.000000      1      10      10  \n",
       "2998     16  5.687500      3      16      16  \n",
       "2999     28  4.785714      4      28      28  \n",
       "\n",
       "[3000 rows x 9 columns]"
      ]
     },
     "execution_count": 35,
     "metadata": {},
     "output_type": "execute_result"
    }
   ],
   "source": [
    "df"
   ]
  },
  {
   "cell_type": "markdown",
   "metadata": {},
   "source": [
    "After performing the exploratory analysis, unusual characters that were non-English were present.\n",
    "After performing a statistical analysis on the text, a max and min length of words was able to be determined.\n",
    "A proposed word embedding length could be the word max at 71 words based on the statistical justification."
   ]
  },
  {
   "cell_type": "markdown",
   "metadata": {},
   "source": [
    "# B2\n",
    "\n",
    "The goal for tokenization is to prepare the text data for machine learning. It can clean the text by removing stopwords, puncutations. it characterizes words to a unique token to be classified by splitting the sentence into indiviual words (aravindpai, 2020)."
   ]
  },
  {
   "cell_type": "code",
   "execution_count": 36,
   "metadata": {},
   "outputs": [
    {
     "name": "stderr",
     "output_type": "stream",
     "text": [
      "<ipython-input-36-265c12e4f2e9>:23: SettingWithCopyWarning: \n",
      "A value is trying to be set on a copy of a slice from a DataFrame\n",
      "\n",
      "See the caveats in the documentation: https://pandas.pydata.org/pandas-docs/stable/user_guide/indexing.html#returning-a-view-versus-a-copy\n",
      "  df['clean_text'][i] = ' '.join(words)\n"
     ]
    },
    {
     "data": {
      "text/html": [
       "<div>\n",
       "<style scoped>\n",
       "    .dataframe tbody tr th:only-of-type {\n",
       "        vertical-align: middle;\n",
       "    }\n",
       "\n",
       "    .dataframe tbody tr th {\n",
       "        vertical-align: top;\n",
       "    }\n",
       "\n",
       "    .dataframe thead th {\n",
       "        text-align: right;\n",
       "    }\n",
       "</style>\n",
       "<table border=\"1\" class=\"dataframe\">\n",
       "  <thead>\n",
       "    <tr style=\"text-align: right;\">\n",
       "      <th></th>\n",
       "      <th>label</th>\n",
       "      <th>text</th>\n",
       "      <th>source</th>\n",
       "      <th>chars</th>\n",
       "      <th>words</th>\n",
       "      <th>avg_wlen</th>\n",
       "      <th>puncs</th>\n",
       "      <th>uppers</th>\n",
       "      <th>titles</th>\n",
       "      <th>clean_text</th>\n",
       "    </tr>\n",
       "  </thead>\n",
       "  <tbody>\n",
       "    <tr>\n",
       "      <th>0</th>\n",
       "      <td>0</td>\n",
       "      <td>So there is no way for me to plug it in here i...</td>\n",
       "      <td>amazon</td>\n",
       "      <td>82</td>\n",
       "      <td>21</td>\n",
       "      <td>3.904762</td>\n",
       "      <td>1</td>\n",
       "      <td>21</td>\n",
       "      <td>21</td>\n",
       "      <td>amazon way plug us unless go converter</td>\n",
       "    </tr>\n",
       "    <tr>\n",
       "      <th>1</th>\n",
       "      <td>1</td>\n",
       "      <td>Good case, Excellent value.</td>\n",
       "      <td>amazon</td>\n",
       "      <td>27</td>\n",
       "      <td>4</td>\n",
       "      <td>6.750000</td>\n",
       "      <td>2</td>\n",
       "      <td>4</td>\n",
       "      <td>4</td>\n",
       "      <td>amazon good case excellent value</td>\n",
       "    </tr>\n",
       "    <tr>\n",
       "      <th>2</th>\n",
       "      <td>1</td>\n",
       "      <td>Great for the jawbone.</td>\n",
       "      <td>amazon</td>\n",
       "      <td>22</td>\n",
       "      <td>4</td>\n",
       "      <td>5.500000</td>\n",
       "      <td>1</td>\n",
       "      <td>4</td>\n",
       "      <td>4</td>\n",
       "      <td>amazon great jawbone</td>\n",
       "    </tr>\n",
       "    <tr>\n",
       "      <th>3</th>\n",
       "      <td>0</td>\n",
       "      <td>Tied to charger for conversations lasting more...</td>\n",
       "      <td>amazon</td>\n",
       "      <td>79</td>\n",
       "      <td>11</td>\n",
       "      <td>7.181818</td>\n",
       "      <td>3</td>\n",
       "      <td>11</td>\n",
       "      <td>11</td>\n",
       "      <td>amazon tied charger conversations lasting 45 m...</td>\n",
       "    </tr>\n",
       "    <tr>\n",
       "      <th>4</th>\n",
       "      <td>1</td>\n",
       "      <td>The mic is great.</td>\n",
       "      <td>amazon</td>\n",
       "      <td>17</td>\n",
       "      <td>4</td>\n",
       "      <td>4.250000</td>\n",
       "      <td>1</td>\n",
       "      <td>4</td>\n",
       "      <td>4</td>\n",
       "      <td>amazon mic great</td>\n",
       "    </tr>\n",
       "  </tbody>\n",
       "</table>\n",
       "</div>"
      ],
      "text/plain": [
       "   label                                               text  source  chars  \\\n",
       "0      0  So there is no way for me to plug it in here i...  amazon     82   \n",
       "1      1                        Good case, Excellent value.  amazon     27   \n",
       "2      1                             Great for the jawbone.  amazon     22   \n",
       "3      0  Tied to charger for conversations lasting more...  amazon     79   \n",
       "4      1                                  The mic is great.  amazon     17   \n",
       "\n",
       "   words  avg_wlen  puncs  uppers  titles  \\\n",
       "0     21  3.904762      1      21      21   \n",
       "1      4  6.750000      2       4       4   \n",
       "2      4  5.500000      1       4       4   \n",
       "3     11  7.181818      3      11      11   \n",
       "4      4  4.250000      1       4       4   \n",
       "\n",
       "                                          clean_text  \n",
       "0             amazon way plug us unless go converter  \n",
       "1                   amazon good case excellent value  \n",
       "2                               amazon great jawbone  \n",
       "3  amazon tied charger conversations lasting 45 m...  \n",
       "4                                   amazon mic great  "
      ]
     },
     "execution_count": 36,
     "metadata": {},
     "output_type": "execute_result"
    }
   ],
   "source": [
    "# Splitting the words into tokens which turns the string into lists\n",
    "from nltk.tokenize import word_tokenize\n",
    "from nltk.corpus import stopwords\n",
    "import string\n",
    "\n",
    "i=0\n",
    "df['clean_text'] = ''\n",
    "for row in df.text:\n",
    "    # add spaces to prevent word merging\n",
    "    row = row.replace('.','. ', row.count('.')).replace(',', ', ', row.count(','))\n",
    "    # tokenize words from the sentence inorder to have each word represent individually\n",
    "    tokens = word_tokenize(row)\n",
    "    # lowercase all words\n",
    "    tokens = [token.lower() for token in tokens]\n",
    "    # remove puncuations\n",
    "    table = str.maketrans('', '', string.punctuation)\n",
    "    # remove numeric tokens\n",
    "    words = [token.translate(table) for token in tokens]\n",
    "    # filter stopwords\n",
    "    words = [word for word in words if word.isalnum()]\n",
    "    stop_words = set(stopwords.words('english'))\n",
    "    words = [word for word in words if not word in stop_words]\n",
    "    df['clean_text'][i] = ' '.join(words)\n",
    "    i += 1\n",
    "df.clean_text = df.source + ' ' + df.clean_text\n",
    "df.head()"
   ]
  },
  {
   "cell_type": "code",
   "execution_count": 37,
   "metadata": {},
   "outputs": [
    {
     "name": "stdout",
     "output_type": "stream",
     "text": [
      "few stop words: [\"that'll\", 'them', 'didn', 'd', 'my', 'above', 'after', 'when', \"she's\", 'ourselves', 'from', 'not', 'been', 'that', 'under', \"couldn't\", 'mustn', 'while', \"weren't\", 't', 'yourself', \"mightn't\", 'an', 'our', 'ain', 'most', 'hasn', \"shouldn't\", 'their', 'during', 'by', 'me', 'it', 'over', 'couldn', 'up', 'but', 'to', 'won', \"hadn't\", 'more', 'needn', 'him', 'herself', 'all', 're', \"needn't\", 'she', \"isn't\", 'ours', 'yours', 'yourselves', 've', 'her', 'below', 'll', 'very', 'you', 'why', 'he', 'itself', 'are', 'aren', 'where', 'each', 'again', 'was', 'ma', 'do', 'his', 'about', 'same', 'such', 'these', \"you're\", \"should've\", 'does', 'in', \"you'll\", 'only', 'or', 'a', 'then', \"won't\", 'shan', 'of', 'hadn', 'having', 'down', 'shouldn', 'myself', 'which', 'no', 'haven', 'mightn', 'theirs', 'any', 'with', 'before', 'were', 'wouldn', 'into', 'isn', 'doing', \"aren't\", 'if', 'few', 'did', 'nor', 'i', 'we', 'how', 'just', 'out', 'through', 'the', \"wasn't\", 'y', 'than', 'for', 'm', 'once', 'too', 'this', 'hers', 'himself', 'on', 'its', \"haven't\", 'don', 'until', 'own', 'what', 'being', 'doesn', 'because', 'have', \"doesn't\", 'weren', 'themselves', 'both', 'wasn', 'am', 'and', 'now', 'at', 'against', 'can', 'between', 'your', 's', 'who', \"shan't\", 'has', \"don't\", 'is', 'further', \"mustn't\", 'whom', 'some', 'here', 'had', \"you've\", 'so', \"didn't\", 'o', 'be', 'other', \"you'd\", \"hasn't\", 'they', 'will', 'those', 'as', 'off', 'there', 'should', \"wouldn't\", \"it's\"]\n"
     ]
    }
   ],
   "source": [
    "# sample list of stop words removed from the text\n",
    "print('few stop words:', list(stop_words)[0:400])"
   ]
  },
  {
   "cell_type": "code",
   "execution_count": 38,
   "metadata": {},
   "outputs": [],
   "source": [
    "df['clean_words'] = df.clean_text.apply(lambda x: len(x.split()))"
   ]
  },
  {
   "cell_type": "code",
   "execution_count": 39,
   "metadata": {},
   "outputs": [
    {
     "data": {
      "text/html": [
       "<div>\n",
       "<style scoped>\n",
       "    .dataframe tbody tr th:only-of-type {\n",
       "        vertical-align: middle;\n",
       "    }\n",
       "\n",
       "    .dataframe tbody tr th {\n",
       "        vertical-align: top;\n",
       "    }\n",
       "\n",
       "    .dataframe thead th {\n",
       "        text-align: right;\n",
       "    }\n",
       "</style>\n",
       "<table border=\"1\" class=\"dataframe\">\n",
       "  <thead>\n",
       "    <tr style=\"text-align: right;\">\n",
       "      <th></th>\n",
       "      <th>label</th>\n",
       "      <th>text</th>\n",
       "      <th>source</th>\n",
       "      <th>chars</th>\n",
       "      <th>words</th>\n",
       "      <th>avg_wlen</th>\n",
       "      <th>puncs</th>\n",
       "      <th>uppers</th>\n",
       "      <th>titles</th>\n",
       "      <th>clean_text</th>\n",
       "      <th>clean_words</th>\n",
       "    </tr>\n",
       "  </thead>\n",
       "  <tbody>\n",
       "    <tr>\n",
       "      <th>0</th>\n",
       "      <td>0</td>\n",
       "      <td>So there is no way for me to plug it in here i...</td>\n",
       "      <td>amazon</td>\n",
       "      <td>82</td>\n",
       "      <td>21</td>\n",
       "      <td>3.904762</td>\n",
       "      <td>1</td>\n",
       "      <td>21</td>\n",
       "      <td>21</td>\n",
       "      <td>amazon way plug us unless go converter</td>\n",
       "      <td>7</td>\n",
       "    </tr>\n",
       "    <tr>\n",
       "      <th>1</th>\n",
       "      <td>1</td>\n",
       "      <td>Good case, Excellent value.</td>\n",
       "      <td>amazon</td>\n",
       "      <td>27</td>\n",
       "      <td>4</td>\n",
       "      <td>6.750000</td>\n",
       "      <td>2</td>\n",
       "      <td>4</td>\n",
       "      <td>4</td>\n",
       "      <td>amazon good case excellent value</td>\n",
       "      <td>5</td>\n",
       "    </tr>\n",
       "    <tr>\n",
       "      <th>2</th>\n",
       "      <td>1</td>\n",
       "      <td>Great for the jawbone.</td>\n",
       "      <td>amazon</td>\n",
       "      <td>22</td>\n",
       "      <td>4</td>\n",
       "      <td>5.500000</td>\n",
       "      <td>1</td>\n",
       "      <td>4</td>\n",
       "      <td>4</td>\n",
       "      <td>amazon great jawbone</td>\n",
       "      <td>3</td>\n",
       "    </tr>\n",
       "    <tr>\n",
       "      <th>3</th>\n",
       "      <td>0</td>\n",
       "      <td>Tied to charger for conversations lasting more...</td>\n",
       "      <td>amazon</td>\n",
       "      <td>79</td>\n",
       "      <td>11</td>\n",
       "      <td>7.181818</td>\n",
       "      <td>3</td>\n",
       "      <td>11</td>\n",
       "      <td>11</td>\n",
       "      <td>amazon tied charger conversations lasting 45 m...</td>\n",
       "      <td>9</td>\n",
       "    </tr>\n",
       "    <tr>\n",
       "      <th>4</th>\n",
       "      <td>1</td>\n",
       "      <td>The mic is great.</td>\n",
       "      <td>amazon</td>\n",
       "      <td>17</td>\n",
       "      <td>4</td>\n",
       "      <td>4.250000</td>\n",
       "      <td>1</td>\n",
       "      <td>4</td>\n",
       "      <td>4</td>\n",
       "      <td>amazon mic great</td>\n",
       "      <td>3</td>\n",
       "    </tr>\n",
       "  </tbody>\n",
       "</table>\n",
       "</div>"
      ],
      "text/plain": [
       "   label                                               text  source  chars  \\\n",
       "0      0  So there is no way for me to plug it in here i...  amazon     82   \n",
       "1      1                        Good case, Excellent value.  amazon     27   \n",
       "2      1                             Great for the jawbone.  amazon     22   \n",
       "3      0  Tied to charger for conversations lasting more...  amazon     79   \n",
       "4      1                                  The mic is great.  amazon     17   \n",
       "\n",
       "   words  avg_wlen  puncs  uppers  titles  \\\n",
       "0     21  3.904762      1      21      21   \n",
       "1      4  6.750000      2       4       4   \n",
       "2      4  5.500000      1       4       4   \n",
       "3     11  7.181818      3      11      11   \n",
       "4      4  4.250000      1       4       4   \n",
       "\n",
       "                                          clean_text  clean_words  \n",
       "0             amazon way plug us unless go converter            7  \n",
       "1                   amazon good case excellent value            5  \n",
       "2                               amazon great jawbone            3  \n",
       "3  amazon tied charger conversations lasting 45 m...            9  \n",
       "4                                   amazon mic great            3  "
      ]
     },
     "execution_count": 39,
     "metadata": {},
     "output_type": "execute_result"
    }
   ],
   "source": [
    "df.head()"
   ]
  },
  {
   "cell_type": "code",
   "execution_count": 40,
   "metadata": {},
   "outputs": [
    {
     "name": "stdout",
     "output_type": "stream",
     "text": [
      "2\n",
      "42\n"
     ]
    }
   ],
   "source": [
    "print(min(df['clean_words']))\n",
    "print(max(df['clean_words']))"
   ]
  },
  {
   "cell_type": "code",
   "execution_count": 41,
   "metadata": {},
   "outputs": [
    {
     "name": "stdout",
     "output_type": "stream",
     "text": [
      "df total number of unique words from clean text:  5102\n"
     ]
    }
   ],
   "source": [
    "feature_vector_df2 = count_vectorize.fit(df.clean_text)\n",
    "features_df2 = feature_vector_df2.get_feature_names()\n",
    "print('df total number of unique words from clean text: ', len(features_df2))"
   ]
  },
  {
   "cell_type": "code",
   "execution_count": 42,
   "metadata": {},
   "outputs": [
    {
     "data": {
      "text/html": [
       "<div>\n",
       "<style scoped>\n",
       "    .dataframe tbody tr th:only-of-type {\n",
       "        vertical-align: middle;\n",
       "    }\n",
       "\n",
       "    .dataframe tbody tr th {\n",
       "        vertical-align: top;\n",
       "    }\n",
       "\n",
       "    .dataframe thead th {\n",
       "        text-align: right;\n",
       "    }\n",
       "</style>\n",
       "<table border=\"1\" class=\"dataframe\">\n",
       "  <thead>\n",
       "    <tr style=\"text-align: right;\">\n",
       "      <th></th>\n",
       "      <th>label</th>\n",
       "      <th>text</th>\n",
       "      <th>source</th>\n",
       "      <th>chars</th>\n",
       "      <th>words</th>\n",
       "      <th>avg_wlen</th>\n",
       "      <th>puncs</th>\n",
       "      <th>uppers</th>\n",
       "      <th>titles</th>\n",
       "      <th>clean_text</th>\n",
       "      <th>clean_words</th>\n",
       "      <th>chars_c</th>\n",
       "      <th>words_c</th>\n",
       "      <th>avg_wlen_c</th>\n",
       "      <th>puncs_c</th>\n",
       "      <th>uppers_c</th>\n",
       "      <th>titles_c</th>\n",
       "    </tr>\n",
       "  </thead>\n",
       "  <tbody>\n",
       "    <tr>\n",
       "      <th>0</th>\n",
       "      <td>0</td>\n",
       "      <td>So there is no way for me to plug it in here i...</td>\n",
       "      <td>amazon</td>\n",
       "      <td>82</td>\n",
       "      <td>21</td>\n",
       "      <td>3.904762</td>\n",
       "      <td>1</td>\n",
       "      <td>21</td>\n",
       "      <td>21</td>\n",
       "      <td>amazon way plug us unless go converter</td>\n",
       "      <td>7</td>\n",
       "      <td>38</td>\n",
       "      <td>7</td>\n",
       "      <td>3.904762</td>\n",
       "      <td>0</td>\n",
       "      <td>7</td>\n",
       "      <td>7</td>\n",
       "    </tr>\n",
       "    <tr>\n",
       "      <th>1</th>\n",
       "      <td>1</td>\n",
       "      <td>Good case, Excellent value.</td>\n",
       "      <td>amazon</td>\n",
       "      <td>27</td>\n",
       "      <td>4</td>\n",
       "      <td>6.750000</td>\n",
       "      <td>2</td>\n",
       "      <td>4</td>\n",
       "      <td>4</td>\n",
       "      <td>amazon good case excellent value</td>\n",
       "      <td>5</td>\n",
       "      <td>32</td>\n",
       "      <td>5</td>\n",
       "      <td>6.750000</td>\n",
       "      <td>0</td>\n",
       "      <td>5</td>\n",
       "      <td>5</td>\n",
       "    </tr>\n",
       "    <tr>\n",
       "      <th>2</th>\n",
       "      <td>1</td>\n",
       "      <td>Great for the jawbone.</td>\n",
       "      <td>amazon</td>\n",
       "      <td>22</td>\n",
       "      <td>4</td>\n",
       "      <td>5.500000</td>\n",
       "      <td>1</td>\n",
       "      <td>4</td>\n",
       "      <td>4</td>\n",
       "      <td>amazon great jawbone</td>\n",
       "      <td>3</td>\n",
       "      <td>20</td>\n",
       "      <td>3</td>\n",
       "      <td>5.500000</td>\n",
       "      <td>0</td>\n",
       "      <td>3</td>\n",
       "      <td>3</td>\n",
       "    </tr>\n",
       "    <tr>\n",
       "      <th>3</th>\n",
       "      <td>0</td>\n",
       "      <td>Tied to charger for conversations lasting more...</td>\n",
       "      <td>amazon</td>\n",
       "      <td>79</td>\n",
       "      <td>11</td>\n",
       "      <td>7.181818</td>\n",
       "      <td>3</td>\n",
       "      <td>11</td>\n",
       "      <td>11</td>\n",
       "      <td>amazon tied charger conversations lasting 45 m...</td>\n",
       "      <td>9</td>\n",
       "      <td>67</td>\n",
       "      <td>9</td>\n",
       "      <td>7.181818</td>\n",
       "      <td>0</td>\n",
       "      <td>9</td>\n",
       "      <td>9</td>\n",
       "    </tr>\n",
       "    <tr>\n",
       "      <th>4</th>\n",
       "      <td>1</td>\n",
       "      <td>The mic is great.</td>\n",
       "      <td>amazon</td>\n",
       "      <td>17</td>\n",
       "      <td>4</td>\n",
       "      <td>4.250000</td>\n",
       "      <td>1</td>\n",
       "      <td>4</td>\n",
       "      <td>4</td>\n",
       "      <td>amazon mic great</td>\n",
       "      <td>3</td>\n",
       "      <td>16</td>\n",
       "      <td>3</td>\n",
       "      <td>4.250000</td>\n",
       "      <td>0</td>\n",
       "      <td>3</td>\n",
       "      <td>3</td>\n",
       "    </tr>\n",
       "  </tbody>\n",
       "</table>\n",
       "</div>"
      ],
      "text/plain": [
       "   label                                               text  source  chars  \\\n",
       "0      0  So there is no way for me to plug it in here i...  amazon     82   \n",
       "1      1                        Good case, Excellent value.  amazon     27   \n",
       "2      1                             Great for the jawbone.  amazon     22   \n",
       "3      0  Tied to charger for conversations lasting more...  amazon     79   \n",
       "4      1                                  The mic is great.  amazon     17   \n",
       "\n",
       "   words  avg_wlen  puncs  uppers  titles  \\\n",
       "0     21  3.904762      1      21      21   \n",
       "1      4  6.750000      2       4       4   \n",
       "2      4  5.500000      1       4       4   \n",
       "3     11  7.181818      3      11      11   \n",
       "4      4  4.250000      1       4       4   \n",
       "\n",
       "                                          clean_text  clean_words  chars_c  \\\n",
       "0             amazon way plug us unless go converter            7       38   \n",
       "1                   amazon good case excellent value            5       32   \n",
       "2                               amazon great jawbone            3       20   \n",
       "3  amazon tied charger conversations lasting 45 m...            9       67   \n",
       "4                                   amazon mic great            3       16   \n",
       "\n",
       "   words_c  avg_wlen_c  puncs_c  uppers_c  titles_c  \n",
       "0        7    3.904762        0         7         7  \n",
       "1        5    6.750000        0         5         5  \n",
       "2        3    5.500000        0         3         3  \n",
       "3        9    7.181818        0         9         9  \n",
       "4        3    4.250000        0         3         3  "
      ]
     },
     "execution_count": 42,
     "metadata": {},
     "output_type": "execute_result"
    }
   ],
   "source": [
    "import string\n",
    "df['chars_c'] = df.clean_text.apply(len)\n",
    "df['words_c'] = df.clean_text.apply(lambda x: len(x.split()))\n",
    "df['avg_wlen_c'] = df['chars']/ df['words']\n",
    "df['puncs_c'] = df.clean_text.apply(lambda x: len(\"\".join(_ for _ in x if _ in string.punctuation)))\n",
    "df['uppers_c'] = df.clean_text.apply(lambda x: len([word for word in x.split() if word.isupper]))\n",
    "df['titles_c'] = df.clean_text.apply(lambda x: len([word for word in x.split() if word.istitle]))\n",
    "df.head()"
   ]
  },
  {
   "cell_type": "code",
   "execution_count": 43,
   "metadata": {},
   "outputs": [
    {
     "data": {
      "text/html": [
       "<div>\n",
       "<style scoped>\n",
       "    .dataframe tbody tr th:only-of-type {\n",
       "        vertical-align: middle;\n",
       "    }\n",
       "\n",
       "    .dataframe tbody tr th {\n",
       "        vertical-align: top;\n",
       "    }\n",
       "\n",
       "    .dataframe thead tr th {\n",
       "        text-align: left;\n",
       "    }\n",
       "</style>\n",
       "<table border=\"1\" class=\"dataframe\">\n",
       "  <thead>\n",
       "    <tr>\n",
       "      <th></th>\n",
       "      <th>source</th>\n",
       "      <th>label</th>\n",
       "      <th colspan=\"2\" halign=\"left\">chars</th>\n",
       "      <th colspan=\"2\" halign=\"left\">words</th>\n",
       "      <th colspan=\"2\" halign=\"left\">avg_wlen</th>\n",
       "      <th colspan=\"2\" halign=\"left\">puncs</th>\n",
       "      <th>...</th>\n",
       "      <th colspan=\"2\" halign=\"left\">words_c</th>\n",
       "      <th colspan=\"2\" halign=\"left\">avg_wlen_c</th>\n",
       "      <th colspan=\"2\" halign=\"left\">puncs_c</th>\n",
       "      <th colspan=\"2\" halign=\"left\">uppers_c</th>\n",
       "      <th colspan=\"2\" halign=\"left\">titles_c</th>\n",
       "    </tr>\n",
       "    <tr>\n",
       "      <th></th>\n",
       "      <th></th>\n",
       "      <th></th>\n",
       "      <th>mean</th>\n",
       "      <th>std</th>\n",
       "      <th>mean</th>\n",
       "      <th>std</th>\n",
       "      <th>mean</th>\n",
       "      <th>std</th>\n",
       "      <th>mean</th>\n",
       "      <th>std</th>\n",
       "      <th>...</th>\n",
       "      <th>mean</th>\n",
       "      <th>std</th>\n",
       "      <th>mean</th>\n",
       "      <th>std</th>\n",
       "      <th>mean</th>\n",
       "      <th>std</th>\n",
       "      <th>mean</th>\n",
       "      <th>std</th>\n",
       "      <th>mean</th>\n",
       "      <th>std</th>\n",
       "    </tr>\n",
       "  </thead>\n",
       "  <tbody>\n",
       "    <tr>\n",
       "      <th>0</th>\n",
       "      <td>amazon</td>\n",
       "      <td>0</td>\n",
       "      <td>56.824</td>\n",
       "      <td>34.022464</td>\n",
       "      <td>10.578</td>\n",
       "      <td>6.578028</td>\n",
       "      <td>5.653474</td>\n",
       "      <td>1.262250</td>\n",
       "      <td>2.002</td>\n",
       "      <td>1.509488</td>\n",
       "      <td>...</td>\n",
       "      <td>6.382</td>\n",
       "      <td>3.214458</td>\n",
       "      <td>5.653474</td>\n",
       "      <td>1.262250</td>\n",
       "      <td>0.0</td>\n",
       "      <td>0.0</td>\n",
       "      <td>6.382</td>\n",
       "      <td>3.214458</td>\n",
       "      <td>6.382</td>\n",
       "      <td>3.214458</td>\n",
       "    </tr>\n",
       "    <tr>\n",
       "      <th>1</th>\n",
       "      <td>amazon</td>\n",
       "      <td>1</td>\n",
       "      <td>53.628</td>\n",
       "      <td>35.234764</td>\n",
       "      <td>9.914</td>\n",
       "      <td>6.785772</td>\n",
       "      <td>5.670933</td>\n",
       "      <td>1.113802</td>\n",
       "      <td>1.842</td>\n",
       "      <td>1.296301</td>\n",
       "      <td>...</td>\n",
       "      <td>6.288</td>\n",
       "      <td>3.382890</td>\n",
       "      <td>5.670933</td>\n",
       "      <td>1.113802</td>\n",
       "      <td>0.0</td>\n",
       "      <td>0.0</td>\n",
       "      <td>6.288</td>\n",
       "      <td>3.382890</td>\n",
       "      <td>6.288</td>\n",
       "      <td>3.382890</td>\n",
       "    </tr>\n",
       "    <tr>\n",
       "      <th>2</th>\n",
       "      <td>imdb</td>\n",
       "      <td>0</td>\n",
       "      <td>77.104</td>\n",
       "      <td>50.901504</td>\n",
       "      <td>13.580</td>\n",
       "      <td>9.037863</td>\n",
       "      <td>5.814498</td>\n",
       "      <td>0.941015</td>\n",
       "      <td>2.494</td>\n",
       "      <td>1.954893</td>\n",
       "      <td>...</td>\n",
       "      <td>7.966</td>\n",
       "      <td>4.824873</td>\n",
       "      <td>5.814498</td>\n",
       "      <td>0.941015</td>\n",
       "      <td>0.0</td>\n",
       "      <td>0.0</td>\n",
       "      <td>7.966</td>\n",
       "      <td>4.824873</td>\n",
       "      <td>7.966</td>\n",
       "      <td>4.824873</td>\n",
       "    </tr>\n",
       "    <tr>\n",
       "      <th>3</th>\n",
       "      <td>imdb</td>\n",
       "      <td>1</td>\n",
       "      <td>87.466</td>\n",
       "      <td>60.831157</td>\n",
       "      <td>15.128</td>\n",
       "      <td>10.102859</td>\n",
       "      <td>5.826946</td>\n",
       "      <td>0.992992</td>\n",
       "      <td>2.650</td>\n",
       "      <td>2.282525</td>\n",
       "      <td>...</td>\n",
       "      <td>9.050</td>\n",
       "      <td>5.697756</td>\n",
       "      <td>5.826946</td>\n",
       "      <td>0.992992</td>\n",
       "      <td>0.0</td>\n",
       "      <td>0.0</td>\n",
       "      <td>9.050</td>\n",
       "      <td>5.697756</td>\n",
       "      <td>9.050</td>\n",
       "      <td>5.697756</td>\n",
       "    </tr>\n",
       "    <tr>\n",
       "      <th>4</th>\n",
       "      <td>yelp</td>\n",
       "      <td>0</td>\n",
       "      <td>60.752</td>\n",
       "      <td>34.226443</td>\n",
       "      <td>11.498</td>\n",
       "      <td>6.611916</td>\n",
       "      <td>5.401394</td>\n",
       "      <td>0.896878</td>\n",
       "      <td>2.000</td>\n",
       "      <td>1.424098</td>\n",
       "      <td>...</td>\n",
       "      <td>6.886</td>\n",
       "      <td>3.414722</td>\n",
       "      <td>5.401394</td>\n",
       "      <td>0.896878</td>\n",
       "      <td>0.0</td>\n",
       "      <td>0.0</td>\n",
       "      <td>6.886</td>\n",
       "      <td>3.414722</td>\n",
       "      <td>6.886</td>\n",
       "      <td>3.414722</td>\n",
       "    </tr>\n",
       "    <tr>\n",
       "      <th>5</th>\n",
       "      <td>yelp</td>\n",
       "      <td>1</td>\n",
       "      <td>55.888</td>\n",
       "      <td>30.232490</td>\n",
       "      <td>10.290</td>\n",
       "      <td>5.831459</td>\n",
       "      <td>5.606887</td>\n",
       "      <td>0.951414</td>\n",
       "      <td>1.930</td>\n",
       "      <td>1.658494</td>\n",
       "      <td>...</td>\n",
       "      <td>6.440</td>\n",
       "      <td>3.005406</td>\n",
       "      <td>5.606887</td>\n",
       "      <td>0.951414</td>\n",
       "      <td>0.0</td>\n",
       "      <td>0.0</td>\n",
       "      <td>6.440</td>\n",
       "      <td>3.005406</td>\n",
       "      <td>6.440</td>\n",
       "      <td>3.005406</td>\n",
       "    </tr>\n",
       "  </tbody>\n",
       "</table>\n",
       "<p>6 rows × 28 columns</p>\n",
       "</div>"
      ],
      "text/plain": [
       "   source label   chars              words             avg_wlen            \\\n",
       "                   mean        std    mean        std      mean       std   \n",
       "0  amazon     0  56.824  34.022464  10.578   6.578028  5.653474  1.262250   \n",
       "1  amazon     1  53.628  35.234764   9.914   6.785772  5.670933  1.113802   \n",
       "2    imdb     0  77.104  50.901504  13.580   9.037863  5.814498  0.941015   \n",
       "3    imdb     1  87.466  60.831157  15.128  10.102859  5.826946  0.992992   \n",
       "4    yelp     0  60.752  34.226443  11.498   6.611916  5.401394  0.896878   \n",
       "5    yelp     1  55.888  30.232490  10.290   5.831459  5.606887  0.951414   \n",
       "\n",
       "   puncs            ... words_c           avg_wlen_c           puncs_c       \\\n",
       "    mean       std  ...    mean       std       mean       std    mean  std   \n",
       "0  2.002  1.509488  ...   6.382  3.214458   5.653474  1.262250     0.0  0.0   \n",
       "1  1.842  1.296301  ...   6.288  3.382890   5.670933  1.113802     0.0  0.0   \n",
       "2  2.494  1.954893  ...   7.966  4.824873   5.814498  0.941015     0.0  0.0   \n",
       "3  2.650  2.282525  ...   9.050  5.697756   5.826946  0.992992     0.0  0.0   \n",
       "4  2.000  1.424098  ...   6.886  3.414722   5.401394  0.896878     0.0  0.0   \n",
       "5  1.930  1.658494  ...   6.440  3.005406   5.606887  0.951414     0.0  0.0   \n",
       "\n",
       "  uppers_c           titles_c            \n",
       "      mean       std     mean       std  \n",
       "0    6.382  3.214458    6.382  3.214458  \n",
       "1    6.288  3.382890    6.288  3.382890  \n",
       "2    7.966  4.824873    7.966  4.824873  \n",
       "3    9.050  5.697756    9.050  5.697756  \n",
       "4    6.886  3.414722    6.886  3.414722  \n",
       "5    6.440  3.005406    6.440  3.005406  \n",
       "\n",
       "[6 rows x 28 columns]"
      ]
     },
     "metadata": {},
     "output_type": "display_data"
    },
    {
     "data": {
      "text/html": [
       "<div>\n",
       "<style scoped>\n",
       "    .dataframe tbody tr th:only-of-type {\n",
       "        vertical-align: middle;\n",
       "    }\n",
       "\n",
       "    .dataframe tbody tr th {\n",
       "        vertical-align: top;\n",
       "    }\n",
       "\n",
       "    .dataframe thead tr th {\n",
       "        text-align: left;\n",
       "    }\n",
       "</style>\n",
       "<table border=\"1\" class=\"dataframe\">\n",
       "  <thead>\n",
       "    <tr>\n",
       "      <th></th>\n",
       "      <th>source</th>\n",
       "      <th>label</th>\n",
       "      <th colspan=\"2\" halign=\"left\">chars</th>\n",
       "      <th colspan=\"2\" halign=\"left\">words</th>\n",
       "      <th colspan=\"2\" halign=\"left\">avg_wlen</th>\n",
       "      <th colspan=\"2\" halign=\"left\">puncs</th>\n",
       "      <th>...</th>\n",
       "      <th colspan=\"2\" halign=\"left\">words_c</th>\n",
       "      <th colspan=\"2\" halign=\"left\">avg_wlen_c</th>\n",
       "      <th colspan=\"2\" halign=\"left\">puncs_c</th>\n",
       "      <th colspan=\"2\" halign=\"left\">uppers_c</th>\n",
       "      <th colspan=\"2\" halign=\"left\">titles_c</th>\n",
       "    </tr>\n",
       "    <tr>\n",
       "      <th></th>\n",
       "      <th></th>\n",
       "      <th></th>\n",
       "      <th>min</th>\n",
       "      <th>max</th>\n",
       "      <th>min</th>\n",
       "      <th>max</th>\n",
       "      <th>min</th>\n",
       "      <th>max</th>\n",
       "      <th>min</th>\n",
       "      <th>max</th>\n",
       "      <th>...</th>\n",
       "      <th>min</th>\n",
       "      <th>max</th>\n",
       "      <th>min</th>\n",
       "      <th>max</th>\n",
       "      <th>min</th>\n",
       "      <th>max</th>\n",
       "      <th>min</th>\n",
       "      <th>max</th>\n",
       "      <th>min</th>\n",
       "      <th>max</th>\n",
       "    </tr>\n",
       "  </thead>\n",
       "  <tbody>\n",
       "    <tr>\n",
       "      <th>0</th>\n",
       "      <td>amazon</td>\n",
       "      <td>0</td>\n",
       "      <td>11.0</td>\n",
       "      <td>149.0</td>\n",
       "      <td>1.0</td>\n",
       "      <td>30.0</td>\n",
       "      <td>3.857143</td>\n",
       "      <td>14.0</td>\n",
       "      <td>0.0</td>\n",
       "      <td>11.0</td>\n",
       "      <td>...</td>\n",
       "      <td>2.0</td>\n",
       "      <td>17.0</td>\n",
       "      <td>3.857143</td>\n",
       "      <td>14.0</td>\n",
       "      <td>0.0</td>\n",
       "      <td>0.0</td>\n",
       "      <td>2.0</td>\n",
       "      <td>17.0</td>\n",
       "      <td>2.0</td>\n",
       "      <td>17.0</td>\n",
       "    </tr>\n",
       "    <tr>\n",
       "      <th>1</th>\n",
       "      <td>amazon</td>\n",
       "      <td>1</td>\n",
       "      <td>11.0</td>\n",
       "      <td>148.0</td>\n",
       "      <td>1.0</td>\n",
       "      <td>30.0</td>\n",
       "      <td>3.166667</td>\n",
       "      <td>13.0</td>\n",
       "      <td>0.0</td>\n",
       "      <td>9.0</td>\n",
       "      <td>...</td>\n",
       "      <td>2.0</td>\n",
       "      <td>18.0</td>\n",
       "      <td>3.166667</td>\n",
       "      <td>13.0</td>\n",
       "      <td>0.0</td>\n",
       "      <td>0.0</td>\n",
       "      <td>2.0</td>\n",
       "      <td>18.0</td>\n",
       "      <td>2.0</td>\n",
       "      <td>18.0</td>\n",
       "    </tr>\n",
       "    <tr>\n",
       "      <th>2</th>\n",
       "      <td>imdb</td>\n",
       "      <td>0</td>\n",
       "      <td>8.0</td>\n",
       "      <td>321.0</td>\n",
       "      <td>1.0</td>\n",
       "      <td>56.0</td>\n",
       "      <td>4.181818</td>\n",
       "      <td>11.5</td>\n",
       "      <td>1.0</td>\n",
       "      <td>14.0</td>\n",
       "      <td>...</td>\n",
       "      <td>2.0</td>\n",
       "      <td>31.0</td>\n",
       "      <td>4.181818</td>\n",
       "      <td>11.5</td>\n",
       "      <td>0.0</td>\n",
       "      <td>0.0</td>\n",
       "      <td>2.0</td>\n",
       "      <td>31.0</td>\n",
       "      <td>2.0</td>\n",
       "      <td>31.0</td>\n",
       "    </tr>\n",
       "    <tr>\n",
       "      <th>3</th>\n",
       "      <td>imdb</td>\n",
       "      <td>1</td>\n",
       "      <td>7.0</td>\n",
       "      <td>479.0</td>\n",
       "      <td>1.0</td>\n",
       "      <td>71.0</td>\n",
       "      <td>3.200000</td>\n",
       "      <td>12.0</td>\n",
       "      <td>0.0</td>\n",
       "      <td>18.0</td>\n",
       "      <td>...</td>\n",
       "      <td>2.0</td>\n",
       "      <td>42.0</td>\n",
       "      <td>3.200000</td>\n",
       "      <td>12.0</td>\n",
       "      <td>0.0</td>\n",
       "      <td>0.0</td>\n",
       "      <td>2.0</td>\n",
       "      <td>42.0</td>\n",
       "      <td>2.0</td>\n",
       "      <td>42.0</td>\n",
       "    </tr>\n",
       "    <tr>\n",
       "      <th>4</th>\n",
       "      <td>yelp</td>\n",
       "      <td>0</td>\n",
       "      <td>11.0</td>\n",
       "      <td>149.0</td>\n",
       "      <td>2.0</td>\n",
       "      <td>32.0</td>\n",
       "      <td>3.666667</td>\n",
       "      <td>12.5</td>\n",
       "      <td>0.0</td>\n",
       "      <td>11.0</td>\n",
       "      <td>...</td>\n",
       "      <td>2.0</td>\n",
       "      <td>20.0</td>\n",
       "      <td>3.666667</td>\n",
       "      <td>12.5</td>\n",
       "      <td>0.0</td>\n",
       "      <td>0.0</td>\n",
       "      <td>2.0</td>\n",
       "      <td>20.0</td>\n",
       "      <td>2.0</td>\n",
       "      <td>20.0</td>\n",
       "    </tr>\n",
       "    <tr>\n",
       "      <th>5</th>\n",
       "      <td>yelp</td>\n",
       "      <td>1</td>\n",
       "      <td>11.0</td>\n",
       "      <td>148.0</td>\n",
       "      <td>1.0</td>\n",
       "      <td>32.0</td>\n",
       "      <td>3.666667</td>\n",
       "      <td>11.0</td>\n",
       "      <td>0.0</td>\n",
       "      <td>19.0</td>\n",
       "      <td>...</td>\n",
       "      <td>2.0</td>\n",
       "      <td>18.0</td>\n",
       "      <td>3.666667</td>\n",
       "      <td>11.0</td>\n",
       "      <td>0.0</td>\n",
       "      <td>0.0</td>\n",
       "      <td>2.0</td>\n",
       "      <td>18.0</td>\n",
       "      <td>2.0</td>\n",
       "      <td>18.0</td>\n",
       "    </tr>\n",
       "  </tbody>\n",
       "</table>\n",
       "<p>6 rows × 28 columns</p>\n",
       "</div>"
      ],
      "text/plain": [
       "   source label chars        words        avg_wlen       puncs        ...  \\\n",
       "                  min    max   min   max       min   max   min   max  ...   \n",
       "0  amazon     0  11.0  149.0   1.0  30.0  3.857143  14.0   0.0  11.0  ...   \n",
       "1  amazon     1  11.0  148.0   1.0  30.0  3.166667  13.0   0.0   9.0  ...   \n",
       "2    imdb     0   8.0  321.0   1.0  56.0  4.181818  11.5   1.0  14.0  ...   \n",
       "3    imdb     1   7.0  479.0   1.0  71.0  3.200000  12.0   0.0  18.0  ...   \n",
       "4    yelp     0  11.0  149.0   2.0  32.0  3.666667  12.5   0.0  11.0  ...   \n",
       "5    yelp     1  11.0  148.0   1.0  32.0  3.666667  11.0   0.0  19.0  ...   \n",
       "\n",
       "  words_c       avg_wlen_c       puncs_c      uppers_c       titles_c        \n",
       "      min   max        min   max     min  max      min   max      min   max  \n",
       "0     2.0  17.0   3.857143  14.0     0.0  0.0      2.0  17.0      2.0  17.0  \n",
       "1     2.0  18.0   3.166667  13.0     0.0  0.0      2.0  18.0      2.0  18.0  \n",
       "2     2.0  31.0   4.181818  11.5     0.0  0.0      2.0  31.0      2.0  31.0  \n",
       "3     2.0  42.0   3.200000  12.0     0.0  0.0      2.0  42.0      2.0  42.0  \n",
       "4     2.0  20.0   3.666667  12.5     0.0  0.0      2.0  20.0      2.0  20.0  \n",
       "5     2.0  18.0   3.666667  11.0     0.0  0.0      2.0  18.0      2.0  18.0  \n",
       "\n",
       "[6 rows x 28 columns]"
      ]
     },
     "metadata": {},
     "output_type": "display_data"
    }
   ],
   "source": [
    "display(df.groupby(['source', 'label']).describe().loc[:,(slice(None),['mean', 'std'])].reset_index())\n",
    "display(df.groupby(['source', 'label']).describe().loc[:,(slice(None),['min', 'max'])].reset_index())"
   ]
  },
  {
   "cell_type": "markdown",
   "metadata": {},
   "source": [
    "# B3"
   ]
  },
  {
   "cell_type": "markdown",
   "metadata": {},
   "source": [
    "The padding process works by setting a max length of words and any words short of  the max word length will get additional zeroes in place to meet the max length. Any sentence over the max will get words droppped to meet the max as well. This is neccessary for NLP to work by having the same inputs (Caner, 2020)."
   ]
  },
  {
   "cell_type": "code",
   "execution_count": 44,
   "metadata": {},
   "outputs": [],
   "source": [
    "#import pad_sequences\n",
    "from tensorflow.keras.preprocessing.sequence import pad_sequences\n",
    "from tensorflow.keras.preprocessing.text import Tokenizer\n",
    "tokenizer = Tokenizer(num_words=50)\n",
    "sequences=tokenizer.texts_to_sequences(df.text)\n",
    "padded=pad_sequences(sequences, padding=\"pre\",truncating='pre',maxlen=42)"
   ]
  },
  {
   "cell_type": "markdown",
   "metadata": {},
   "source": [
    "# B4\n",
    "\n",
    "it was determined that there were a total of 5102 unique words that will be used for categories of sentiment.\n",
    "For the final dense layer, the sigmoid activation function will be used due the predicting label will only exist between 0 to 1."
   ]
  },
  {
   "cell_type": "code",
   "execution_count": 45,
   "metadata": {},
   "outputs": [],
   "source": [
    "tokenizer.fit_on_texts(df.clean_text)\n",
    "word_index= tokenizer.word_index\n",
    "#print(word_index)"
   ]
  },
  {
   "cell_type": "code",
   "execution_count": 46,
   "metadata": {},
   "outputs": [
    {
     "name": "stdout",
     "output_type": "stream",
     "text": [
      "[[16, 28, 30], [32]]\n"
     ]
    }
   ],
   "source": [
    "#sample how tokenizer.text_to_sequences works\n",
    "test_data = [\n",
    "    'i really love this product',\n",
    "    'waste of money it does not work'\n",
    "]\n",
    "test_seq = tokenizer.texts_to_sequences(test_data)\n",
    "print(test_seq)"
   ]
  },
  {
   "cell_type": "code",
   "execution_count": 47,
   "metadata": {},
   "outputs": [],
   "source": [
    "sequences = tokenizer.texts_to_sequences(df.clean_text)"
   ]
  },
  {
   "cell_type": "code",
   "execution_count": 48,
   "metadata": {},
   "outputs": [],
   "source": [
    "#padding the clean text so that all the inputs have the same shape and size\n",
    "padded = pad_sequences(sequences, padding = 'post', truncating= 'post', maxlen=45)\n",
    "#print(word_index)\n",
    "#print(sequences)\n",
    "#print(padded)"
   ]
  },
  {
   "cell_type": "code",
   "execution_count": 49,
   "metadata": {},
   "outputs": [
    {
     "data": {
      "text/plain": [
       "array([[ 1, 46, 27, ...,  0,  0,  0],\n",
       "       [ 1,  5, 33, ...,  0,  0,  0],\n",
       "       [ 1,  6,  0, ...,  0,  0,  0],\n",
       "       ...,\n",
       "       [ 3, 18, 27, ...,  0,  0,  0],\n",
       "       [ 3, 43, 27, ...,  0,  0,  0],\n",
       "       [ 3,  4, 14, ...,  0,  0,  0]])"
      ]
     },
     "execution_count": 49,
     "metadata": {},
     "output_type": "execute_result"
    }
   ],
   "source": [
    "padded"
   ]
  },
  {
   "cell_type": "code",
   "execution_count": 50,
   "metadata": {},
   "outputs": [
    {
     "name": "stdout",
     "output_type": "stream",
     "text": [
      "[ 1 46 27  0  0  0  0  0  0  0  0  0  0  0  0  0  0  0  0  0  0  0  0  0\n",
      "  0  0  0  0  0  0  0  0  0  0  0  0  0  0  0  0  0  0  0  0  0]\n"
     ]
    }
   ],
   "source": [
    "print(padded[0,:])"
   ]
  },
  {
   "cell_type": "code",
   "execution_count": 51,
   "metadata": {},
   "outputs": [
    {
     "name": "stdout",
     "output_type": "stream",
     "text": [
      "[1 6 0 0 0 0 0 0 0 0 0 0 0 0 0 0 0 0 0 0 0 0 0 0 0 0 0 0 0 0 0 0 0 0 0 0 0\n",
      " 0 0 0 0 0 0 0 0]\n"
     ]
    }
   ],
   "source": [
    "print(padded[2,:])"
   ]
  },
  {
   "cell_type": "code",
   "execution_count": 52,
   "metadata": {},
   "outputs": [],
   "source": [
    "# split dataset\n",
    "from sklearn import model_selection\n",
    "from sklearn import preprocessing\n",
    "\n",
    "# train-test split\n",
    "x_train, x_test, y_train, y_test = model_selection.train_test_split(padded, df.label) \n"
   ]
  },
  {
   "cell_type": "markdown",
   "metadata": {},
   "source": [
    "# B5\n",
    "\n",
    "Import library and dataset\n",
    "Explore descriptive features and perform statisical analysis\n",
    "remove punctuations, numbers, emojis, stopwords\n",
    "Tokenization\n",
    "Normalize words"
   ]
  },
  {
   "cell_type": "markdown",
   "metadata": {},
   "source": [
    "# B6\n",
    "\n"
   ]
  },
  {
   "cell_type": "code",
   "execution_count": 53,
   "metadata": {},
   "outputs": [],
   "source": [
    "df.to_csv('df_prepared_PA2.csv')"
   ]
  },
  {
   "cell_type": "code",
   "execution_count": 54,
   "metadata": {},
   "outputs": [],
   "source": [
    "from keras.callbacks import EarlyStopping\n",
    "early_stopping_monitor = EarlyStopping(monitor='val_loss', min_delta=0, patience=2, verbose=0, mode='auto', baseline=None, restore_best_weights=False)"
   ]
  },
  {
   "cell_type": "code",
   "execution_count": 55,
   "metadata": {},
   "outputs": [],
   "source": [
    "#setting up the model with its hyperparameters\n",
    "model = tf.keras.Sequential([\n",
    "    tf.keras.layers.Embedding(5102, 16, input_length=45),\n",
    "    tf.keras.layers.Flatten(),\n",
    "    tf.keras.layers.Dense(6, activation='relu'),\n",
    "    tf.keras.layers.Dense(1, activation='sigmoid')\n",
    "])"
   ]
  },
  {
   "cell_type": "markdown",
   "metadata": {},
   "source": [
    "# C1"
   ]
  },
  {
   "cell_type": "code",
   "execution_count": 56,
   "metadata": {},
   "outputs": [
    {
     "name": "stdout",
     "output_type": "stream",
     "text": [
      "Model: \"sequential\"\n",
      "_________________________________________________________________\n",
      " Layer (type)                Output Shape              Param #   \n",
      "=================================================================\n",
      " embedding (Embedding)       (None, 45, 16)            81632     \n",
      "                                                                 \n",
      " flatten (Flatten)           (None, 720)               0         \n",
      "                                                                 \n",
      " dense (Dense)               (None, 6)                 4326      \n",
      "                                                                 \n",
      " dense_1 (Dense)             (None, 1)                 7         \n",
      "                                                                 \n",
      "=================================================================\n",
      "Total params: 85,965\n",
      "Trainable params: 85,965\n",
      "Non-trainable params: 0\n",
      "_________________________________________________________________\n"
     ]
    }
   ],
   "source": [
    "model.summary()"
   ]
  },
  {
   "cell_type": "markdown",
   "metadata": {},
   "source": [
    "# C2\n",
    "\n",
    "The model uses a 4 layer neural network. an embedding layer as the input layer, and two hidden layer using flatten type, and a dense layer. The final output layer is a dense layer. The total number of parameters used is 85,965"
   ]
  },
  {
   "cell_type": "code",
   "execution_count": 57,
   "metadata": {},
   "outputs": [],
   "source": [
    "model.compile(optimizer='adam', loss='binary_crossentropy', metrics=['accuracy'], run_eagerly=True)"
   ]
  },
  {
   "cell_type": "code",
   "execution_count": 58,
   "metadata": {},
   "outputs": [],
   "source": [
    "x_val= x_train[:5102]\n",
    "partial_x_train=x_train[5102:]\n",
    "y_val=y_train[:5102]\n",
    "partial_y_train=y_train[5102:]"
   ]
  },
  {
   "cell_type": "code",
   "execution_count": 59,
   "metadata": {},
   "outputs": [
    {
     "name": "stdout",
     "output_type": "stream",
     "text": [
      "Epoch 1/100\n",
      "18/18 [==============================] - 0s 20ms/step - loss: 0.6927 - accuracy: 0.5293 - val_loss: 0.6918 - val_accuracy: 0.5813\n",
      "Epoch 2/100\n",
      "18/18 [==============================] - 0s 19ms/step - loss: 0.6911 - accuracy: 0.6053 - val_loss: 0.6897 - val_accuracy: 0.6347\n",
      "Epoch 3/100\n",
      "18/18 [==============================] - 0s 19ms/step - loss: 0.6884 - accuracy: 0.6382 - val_loss: 0.6861 - val_accuracy: 0.6542\n",
      "Epoch 4/100\n",
      "18/18 [==============================] - 0s 19ms/step - loss: 0.6838 - accuracy: 0.6649 - val_loss: 0.6801 - val_accuracy: 0.6720\n",
      "Epoch 5/100\n",
      "18/18 [==============================] - 0s 20ms/step - loss: 0.6766 - accuracy: 0.6640 - val_loss: 0.6715 - val_accuracy: 0.6804\n",
      "Epoch 6/100\n",
      "18/18 [==============================] - 0s 19ms/step - loss: 0.6663 - accuracy: 0.6751 - val_loss: 0.6588 - val_accuracy: 0.6769\n",
      "Epoch 7/100\n",
      "18/18 [==============================] - 0s 19ms/step - loss: 0.6531 - accuracy: 0.6769 - val_loss: 0.6437 - val_accuracy: 0.6796\n",
      "Epoch 8/100\n",
      "18/18 [==============================] - 0s 19ms/step - loss: 0.6371 - accuracy: 0.6662 - val_loss: 0.6283 - val_accuracy: 0.6791\n",
      "Epoch 9/100\n",
      "18/18 [==============================] - 0s 18ms/step - loss: 0.6229 - accuracy: 0.6729 - val_loss: 0.6125 - val_accuracy: 0.6796\n",
      "Epoch 10/100\n",
      "18/18 [==============================] - 0s 19ms/step - loss: 0.6076 - accuracy: 0.6747 - val_loss: 0.5998 - val_accuracy: 0.6724\n",
      "Epoch 11/100\n",
      "18/18 [==============================] - 0s 19ms/step - loss: 0.5957 - accuracy: 0.6778 - val_loss: 0.5891 - val_accuracy: 0.6778\n",
      "Epoch 12/100\n",
      "18/18 [==============================] - 0s 18ms/step - loss: 0.5864 - accuracy: 0.6800 - val_loss: 0.5815 - val_accuracy: 0.6787\n",
      "Epoch 13/100\n",
      "18/18 [==============================] - 0s 19ms/step - loss: 0.5791 - accuracy: 0.6791 - val_loss: 0.5755 - val_accuracy: 0.6796\n",
      "Epoch 14/100\n",
      "18/18 [==============================] - 0s 19ms/step - loss: 0.5740 - accuracy: 0.6742 - val_loss: 0.5755 - val_accuracy: 0.6778\n",
      "Epoch 15/100\n",
      "18/18 [==============================] - 0s 19ms/step - loss: 0.5750 - accuracy: 0.6649 - val_loss: 0.5720 - val_accuracy: 0.6764\n",
      "Epoch 16/100\n",
      "18/18 [==============================] - 0s 19ms/step - loss: 0.5700 - accuracy: 0.6733 - val_loss: 0.5655 - val_accuracy: 0.6831\n",
      "Epoch 17/100\n",
      "18/18 [==============================] - 0s 19ms/step - loss: 0.5656 - accuracy: 0.6813 - val_loss: 0.5633 - val_accuracy: 0.6827\n",
      "Epoch 18/100\n",
      "18/18 [==============================] - 0s 18ms/step - loss: 0.5642 - accuracy: 0.6813 - val_loss: 0.5630 - val_accuracy: 0.6804\n",
      "Epoch 19/100\n",
      "18/18 [==============================] - 0s 19ms/step - loss: 0.5619 - accuracy: 0.6813 - val_loss: 0.5604 - val_accuracy: 0.6831\n",
      "Epoch 20/100\n",
      "18/18 [==============================] - 0s 18ms/step - loss: 0.5634 - accuracy: 0.6769 - val_loss: 0.5595 - val_accuracy: 0.6836\n",
      "Epoch 21/100\n",
      "18/18 [==============================] - 0s 18ms/step - loss: 0.5598 - accuracy: 0.6773 - val_loss: 0.5587 - val_accuracy: 0.6822\n",
      "Epoch 22/100\n",
      "18/18 [==============================] - 0s 19ms/step - loss: 0.5584 - accuracy: 0.6911 - val_loss: 0.5609 - val_accuracy: 0.6769\n",
      "Epoch 23/100\n",
      "18/18 [==============================] - 0s 19ms/step - loss: 0.5595 - accuracy: 0.6796 - val_loss: 0.5573 - val_accuracy: 0.6836\n",
      "Epoch 24/100\n",
      "18/18 [==============================] - 0s 18ms/step - loss: 0.5573 - accuracy: 0.6840 - val_loss: 0.5590 - val_accuracy: 0.6787\n",
      "Epoch 25/100\n",
      "18/18 [==============================] - 0s 19ms/step - loss: 0.5580 - accuracy: 0.6773 - val_loss: 0.5554 - val_accuracy: 0.6844\n",
      "Epoch 26/100\n",
      "18/18 [==============================] - 0s 19ms/step - loss: 0.5566 - accuracy: 0.6804 - val_loss: 0.5548 - val_accuracy: 0.6871\n",
      "Epoch 27/100\n",
      "18/18 [==============================] - 0s 20ms/step - loss: 0.5553 - accuracy: 0.6844 - val_loss: 0.5545 - val_accuracy: 0.6840\n",
      "Epoch 28/100\n",
      "18/18 [==============================] - 0s 18ms/step - loss: 0.5552 - accuracy: 0.6844 - val_loss: 0.5541 - val_accuracy: 0.6822\n",
      "Epoch 29/100\n",
      "18/18 [==============================] - 0s 19ms/step - loss: 0.5557 - accuracy: 0.6782 - val_loss: 0.5538 - val_accuracy: 0.6831\n",
      "Epoch 30/100\n",
      "18/18 [==============================] - 0s 18ms/step - loss: 0.5540 - accuracy: 0.6831 - val_loss: 0.5526 - val_accuracy: 0.6853\n",
      "Epoch 31/100\n",
      "18/18 [==============================] - 0s 19ms/step - loss: 0.5545 - accuracy: 0.6862 - val_loss: 0.5526 - val_accuracy: 0.6898\n",
      "Epoch 32/100\n",
      "18/18 [==============================] - 0s 19ms/step - loss: 0.5550 - accuracy: 0.6818 - val_loss: 0.5525 - val_accuracy: 0.6840\n",
      "Epoch 33/100\n",
      "18/18 [==============================] - 0s 19ms/step - loss: 0.5533 - accuracy: 0.6867 - val_loss: 0.5514 - val_accuracy: 0.6862\n",
      "Epoch 34/100\n",
      "18/18 [==============================] - 0s 19ms/step - loss: 0.5542 - accuracy: 0.6853 - val_loss: 0.5510 - val_accuracy: 0.6898\n",
      "Epoch 35/100\n",
      "18/18 [==============================] - 0s 18ms/step - loss: 0.5518 - accuracy: 0.6867 - val_loss: 0.5508 - val_accuracy: 0.6836\n",
      "Epoch 36/100\n",
      "18/18 [==============================] - 0s 18ms/step - loss: 0.5514 - accuracy: 0.6902 - val_loss: 0.5502 - val_accuracy: 0.6853\n",
      "Epoch 37/100\n",
      "18/18 [==============================] - 0s 19ms/step - loss: 0.5526 - accuracy: 0.6849 - val_loss: 0.5513 - val_accuracy: 0.6880\n",
      "Epoch 38/100\n",
      "18/18 [==============================] - 0s 19ms/step - loss: 0.5504 - accuracy: 0.6876 - val_loss: 0.5498 - val_accuracy: 0.6858\n",
      "Epoch 39/100\n",
      "18/18 [==============================] - 0s 18ms/step - loss: 0.5501 - accuracy: 0.6862 - val_loss: 0.5513 - val_accuracy: 0.6858\n",
      "Epoch 40/100\n",
      "18/18 [==============================] - 0s 18ms/step - loss: 0.5514 - accuracy: 0.6942 - val_loss: 0.5512 - val_accuracy: 0.6893\n"
     ]
    }
   ],
   "source": [
    "fitmodel= model.fit(x_train, y_train, epochs=100, batch_size=128, validation_data=(x_val, y_val), verbose=1, callbacks=[early_stopping_monitor])"
   ]
  },
  {
   "cell_type": "code",
   "execution_count": 60,
   "metadata": {},
   "outputs": [
    {
     "name": "stdout",
     "output_type": "stream",
     "text": [
      "50/50 [==============================] - 1s 14ms/step - loss: 0.5546 - accuracy: 0.6775 - val_loss: 0.5577 - val_accuracy: 0.6830\n"
     ]
    },
    {
     "data": {
      "text/plain": [
       "<keras.callbacks.History at 0x17619b6a2e0>"
      ]
     },
     "execution_count": 60,
     "metadata": {},
     "output_type": "execute_result"
    }
   ],
   "source": [
    "model.fit(x_train, y_train, validation_split =0.3, callbacks=[early_stopping_monitor])"
   ]
  },
  {
   "cell_type": "markdown",
   "metadata": {},
   "source": [
    "# C3. \n",
    "\n",
    "activation function used: ReLu is used for its fast computation and efficiency,and Sigmoid is used because the result of the output lies within the range of 0 to 1.\n",
    "loss function: Binary_crossentropy is used for binary classification models\n",
    "optimizer: Adam optimizer used for its simplicity and fast results\n",
    "stopping criteria: EarlyStopping used to monitor the loss of the model\n",
    "evaluation metric: classification accuracy used to meausure the number or correct predictions to the total number of input samples\n"
   ]
  },
  {
   "cell_type": "markdown",
   "metadata": {},
   "source": [
    "# D1. \n",
    "When using high numbers of epochs to train a dataset this can lead to overfitting, while using too few epochs this can lead to underfitting. The use of early stopping allows the model to use a large epoch to train the dataset and stop training once the model performance stops improving. As seen in the fitmodel, the training stops at 46/100 indicating that the model stopped improving at that epoch. "
   ]
  },
  {
   "cell_type": "code",
   "execution_count": 61,
   "metadata": {},
   "outputs": [
    {
     "name": "stdout",
     "output_type": "stream",
     "text": [
      "50/50 [==============================] - 1s 14ms/step - loss: 0.5486 - accuracy: 0.6781 - val_loss: 0.5625 - val_accuracy: 0.6815\n"
     ]
    },
    {
     "data": {
      "text/plain": [
       "<keras.callbacks.History at 0x17619b9af40>"
      ]
     },
     "execution_count": 61,
     "metadata": {},
     "output_type": "execute_result"
    }
   ],
   "source": [
    "from keras.callbacks import EarlyStopping\n",
    "early_stopping_monitor = EarlyStopping(monitor='val_loss', min_delta=0, patience=2, verbose=0, mode='auto', baseline=None, restore_best_weights=False)\n",
    "model.fit(x_train, y_train, validation_split=0.3, \n",
    "         callbacks= [early_stopping_monitor])"
   ]
  },
  {
   "cell_type": "code",
   "execution_count": 62,
   "metadata": {},
   "outputs": [
    {
     "name": "stdout",
     "output_type": "stream",
     "text": [
      "24/24 [==============================] - 0s 5ms/step - loss: 0.5888 - accuracy: 0.6400\n",
      "[0.5887981057167053, 0.6399999856948853]\n"
     ]
    }
   ],
   "source": [
    "results = model.evaluate(x_test, y_test)\n",
    "print(results)"
   ]
  },
  {
   "cell_type": "code",
   "execution_count": 63,
   "metadata": {},
   "outputs": [],
   "source": [
    "reverse_word_index = dict([(value, key) for (key, value) in word_index.items()])"
   ]
  },
  {
   "cell_type": "code",
   "execution_count": 64,
   "metadata": {},
   "outputs": [],
   "source": [
    "def decod_review(text):\n",
    "    return \" \".join([reverse_word_index.get(i, '?') for i in text])"
   ]
  },
  {
   "cell_type": "code",
   "execution_count": 65,
   "metadata": {},
   "outputs": [
    {
     "data": {
      "text/plain": [
       "array([3, 4, 0, 0, 0, 0, 0, 0, 0, 0, 0, 0, 0, 0, 0, 0, 0, 0, 0, 0, 0, 0,\n",
       "       0, 0, 0, 0, 0, 0, 0, 0, 0, 0, 0, 0, 0, 0, 0, 0, 0, 0, 0, 0, 0, 0,\n",
       "       0])"
      ]
     },
     "execution_count": 65,
     "metadata": {},
     "output_type": "execute_result"
    }
   ],
   "source": [
    "x_test[1]"
   ]
  },
  {
   "cell_type": "markdown",
   "metadata": {},
   "source": [
    "# D2."
   ]
  },
  {
   "cell_type": "code",
   "execution_count": 66,
   "metadata": {},
   "outputs": [
    {
     "data": {
      "text/plain": [
       "[]"
      ]
     },
     "execution_count": 66,
     "metadata": {},
     "output_type": "execute_result"
    },
    {
     "data": {
      "image/png": "[encoded data removed]",
      "text/plain": [
       "<Figure size 432x288 with 1 Axes>"
      ]
     },
     "metadata": {},
     "output_type": "display_data"
    }
   ],
   "source": [
    "sns.set()\n",
    "acc = fitmodel.history['accuracy']\n",
    "val = fitmodel.history['val_accuracy']\n",
    "epochs = range(1, len(acc)+1)\n",
    "\n",
    "plt.plot(epochs, acc, '-', label='Training accuracy')\n",
    "plt.plot(epochs, val, ':', label='Validation accuracy')\n",
    "plt.title('Training and Validation Accuracy')\n",
    "plt.xlabel('Epoch')\n",
    "plt.ylabel('Accuracy')\n",
    "plt.legend(loc='lower right')\n",
    "plt.plot()"
   ]
  },
  {
   "cell_type": "markdown",
   "metadata": {},
   "source": [
    "# D3.\n",
    "The fitness of the model, the loss was around 0.54 while the accuracy was 0.71. This tells us our model has a 54% error and was accurate 71% of the time. To prevent overfitting, the stopping criteria was implented. "
   ]
  },
  {
   "cell_type": "markdown",
   "metadata": {},
   "source": [
    "# D4.\n",
    "As seen on the graph of D2, the trained accuracy and the validation accuracy is fairly in sync this could mean that the model is fit. If the model was used to predict new data, it would be a be about 70% accurate "
   ]
  },
  {
   "cell_type": "code",
   "execution_count": 67,
   "metadata": {},
   "outputs": [],
   "source": [
    "#spare copy cause you don't know how to use GITHUB"
   ]
  },
  {
   "cell_type": "markdown",
   "metadata": {},
   "source": [
    "# E."
   ]
  },
  {
   "cell_type": "code",
   "execution_count": 68,
   "metadata": {},
   "outputs": [],
   "source": [
    "model.save('model.h5')"
   ]
  },
  {
   "cell_type": "code",
   "execution_count": 69,
   "metadata": {},
   "outputs": [],
   "source": [
    "model = keras.models.load_model('model.h5')"
   ]
  },
  {
   "cell_type": "code",
   "execution_count": 70,
   "metadata": {},
   "outputs": [
    {
     "data": {
      "text/plain": [
       "<keras.engine.sequential.Sequential at 0x17619bc0fa0>"
      ]
     },
     "execution_count": 70,
     "metadata": {},
     "output_type": "execute_result"
    }
   ],
   "source": [
    "model"
   ]
  },
  {
   "cell_type": "markdown",
   "metadata": {},
   "source": [
    "# F.\n",
    "\n",
    "The functionality of the neural network is to predict new data. Once new data is preprocessed for the model. The model can run through the model and predict the sentiment label either 0 negative or 1 positive. Although the accuracy is not as high it can predict with a 70% accuracy."
   ]
  },
  {
   "cell_type": "markdown",
   "metadata": {},
   "source": [
    "# G.\n",
    "The neural network is ready for usage. To improve the accuracy, we can adjusting the hyperperameters of the model. Otherwise it is only 70% accurate. This can still help the organization move forward with decision-making processes. "
   ]
  },
  {
   "cell_type": "markdown",
   "metadata": {},
   "source": [
    "# H.\n",
    "\n",
    "file:///C:/Users/micha/Downloads/D213Task2_-Copy1.html"
   ]
  },
  {
   "cell_type": "markdown",
   "metadata": {},
   "source": [
    "# I.\n",
    "\n",
    "#https://towardsdatascience.com/natural-language-processing-with-tensorflow-e0a701ef5cef\n",
    "\n",
    "#https://www.tensorflow.org/hub/tutorials/tf2_text_classification\n",
    "\n",
    "#https://www.youtube.com/watch?v=6g4O5UOH304&list=WL&index=5&t=3541s\n",
    "\n",
    "#https://keras.io/api/callbacks/early_stopping/\n",
    "\n",
    "#https://monstott.github.io/sentiment_analysis_and_classification_of_amazon_imdb_and_yelp_reviews\n",
    "\n",
    "#https://www.analyticsvidhya.com/blog/2021/08/text-preprocessing-techniques-for-performing-sentiment-analysis/\n"
   ]
  },
  {
   "cell_type": "markdown",
   "metadata": {},
   "source": [
    "# J.\n",
    "\n",
    "#Aravindpai. (2020, May 26). What is tokenization: Tokenization in NLP. Analytics Vidhya. Retrieved April 24, 2022, from https://www.analyticsvidhya.com/blog/2020/05/what-is-tokenization-nlp/ \n",
    "\n",
    "#Caner. (2020, April 2). Padding for NLP. Medium. Retrieved April 24, 2022, from https://medium.com/@canerkilinc/padding-for-nlp-7dd8598c916a \n"
   ]
  },
  {
   "cell_type": "markdown",
   "metadata": {},
   "source": [
    "# K."
   ]
  }
 ],
 "metadata": {
  "kernelspec": {
   "display_name": "Python 3",
   "language": "python",
   "name": "python3"
  },
  "language_info": {
   "codemirror_mode": {
    "name": "ipython",
    "version": 3
   },
   "file_extension": ".py",
   "mimetype": "text/x-python",
   "name": "python",
   "nbconvert_exporter": "python",
   "pygments_lexer": "ipython3",
   "version": "3.8.5"
  }
 },
 "nbformat": 4,
 "nbformat_minor": 4
}
