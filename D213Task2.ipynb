{
 "cells": [
  {
   "cell_type": "markdown",
   "metadata": {},
   "source": [
    "A1"
   ]
  },
  {
   "cell_type": "markdown",
   "metadata": {},
   "source": [
    "Can the model accurately predict future negative or positive reviews?"
   ]
  },
  {
   "cell_type": "markdown",
   "metadata": {},
   "source": [
    "A2"
   ]
  },
  {
   "cell_type": "markdown",
   "metadata": {},
   "source": [
    "The objective is to build a neural network model to train and test a datset to predict new data. \n",
    "\n",
    "The goal is to able predict new data and scale it to larger datsets and this will allow to filter out the negative and positive reviews. Given the dataset is in text sentences.\n"
   ]
  },
  {
   "cell_type": "markdown",
   "metadata": {},
   "source": [
    "A3"
   ]
  },
  {
   "cell_type": "markdown",
   "metadata": {},
   "source": [
    "TensorFlow and Kera libraries are capable of performing text classification the type of neural network that performs this task is a recurrent neural network."
   ]
  },
  {
   "cell_type": "markdown",
   "metadata": {},
   "source": [
    "B1"
   ]
  },
  {
   "cell_type": "code",
   "execution_count": 1,
   "metadata": {},
   "outputs": [],
   "source": [
    "import numpy as np\n",
    "import pandas as pd\n",
    "import matplotlib as mpl\n",
    "import matplotlib.pyplot as plt\n",
    "import seaborn as sns\n",
    "import tensorflow as tf\n",
    "from tensorflow import keras"
   ]
  },
  {
   "cell_type": "code",
   "execution_count": 2,
   "metadata": {},
   "outputs": [],
   "source": [
    "amazon_df = pd.read_csv('amazon_cells_labelled.txt', names = ['review', 'sentiments'], sep = '\\t')\n",
    "imdb_df = pd.read_csv('imdb_labelled.txt', names = ['review', 'sentiments'], sep = '\\t')\n",
    "yelp_df = pd.read_csv('yelp_labelled.txt', names = ['review', 'sentiments'], sep = '\\t')"
   ]
  },
  {
   "cell_type": "code",
   "execution_count": 3,
   "metadata": {},
   "outputs": [
    {
     "data": {
      "text/html": [
       "<div>\n",
       "<style scoped>\n",
       "    .dataframe tbody tr th:only-of-type {\n",
       "        vertical-align: middle;\n",
       "    }\n",
       "\n",
       "    .dataframe tbody tr th {\n",
       "        vertical-align: top;\n",
       "    }\n",
       "\n",
       "    .dataframe thead th {\n",
       "        text-align: right;\n",
       "    }\n",
       "</style>\n",
       "<table border=\"1\" class=\"dataframe\">\n",
       "  <thead>\n",
       "    <tr style=\"text-align: right;\">\n",
       "      <th></th>\n",
       "      <th>review</th>\n",
       "      <th>sentiments</th>\n",
       "    </tr>\n",
       "  </thead>\n",
       "  <tbody>\n",
       "    <tr>\n",
       "      <th>0</th>\n",
       "      <td>So there is no way for me to plug it in here i...</td>\n",
       "      <td>0</td>\n",
       "    </tr>\n",
       "    <tr>\n",
       "      <th>1</th>\n",
       "      <td>Good case, Excellent value.</td>\n",
       "      <td>1</td>\n",
       "    </tr>\n",
       "    <tr>\n",
       "      <th>2</th>\n",
       "      <td>Great for the jawbone.</td>\n",
       "      <td>1</td>\n",
       "    </tr>\n",
       "    <tr>\n",
       "      <th>3</th>\n",
       "      <td>Tied to charger for conversations lasting more...</td>\n",
       "      <td>0</td>\n",
       "    </tr>\n",
       "    <tr>\n",
       "      <th>4</th>\n",
       "      <td>The mic is great.</td>\n",
       "      <td>1</td>\n",
       "    </tr>\n",
       "    <tr>\n",
       "      <th>...</th>\n",
       "      <td>...</td>\n",
       "      <td>...</td>\n",
       "    </tr>\n",
       "    <tr>\n",
       "      <th>995</th>\n",
       "      <td>The screen does get smudged easily because it ...</td>\n",
       "      <td>0</td>\n",
       "    </tr>\n",
       "    <tr>\n",
       "      <th>996</th>\n",
       "      <td>What a piece of junk.. I lose more calls on th...</td>\n",
       "      <td>0</td>\n",
       "    </tr>\n",
       "    <tr>\n",
       "      <th>997</th>\n",
       "      <td>Item Does Not Match Picture.</td>\n",
       "      <td>0</td>\n",
       "    </tr>\n",
       "    <tr>\n",
       "      <th>998</th>\n",
       "      <td>The only thing that disappoint me is the infra...</td>\n",
       "      <td>0</td>\n",
       "    </tr>\n",
       "    <tr>\n",
       "      <th>999</th>\n",
       "      <td>You can not answer calls with the unit, never ...</td>\n",
       "      <td>0</td>\n",
       "    </tr>\n",
       "  </tbody>\n",
       "</table>\n",
       "<p>1000 rows × 2 columns</p>\n",
       "</div>"
      ],
      "text/plain": [
       "                                                review  sentiments\n",
       "0    So there is no way for me to plug it in here i...           0\n",
       "1                          Good case, Excellent value.           1\n",
       "2                               Great for the jawbone.           1\n",
       "3    Tied to charger for conversations lasting more...           0\n",
       "4                                    The mic is great.           1\n",
       "..                                                 ...         ...\n",
       "995  The screen does get smudged easily because it ...           0\n",
       "996  What a piece of junk.. I lose more calls on th...           0\n",
       "997                       Item Does Not Match Picture.           0\n",
       "998  The only thing that disappoint me is the infra...           0\n",
       "999  You can not answer calls with the unit, never ...           0\n",
       "\n",
       "[1000 rows x 2 columns]"
      ]
     },
     "execution_count": 3,
     "metadata": {},
     "output_type": "execute_result"
    }
   ],
   "source": [
    "amazon_df"
   ]
  },
  {
   "cell_type": "code",
   "execution_count": 4,
   "metadata": {},
   "outputs": [
    {
     "data": {
      "text/html": [
       "<div>\n",
       "<style scoped>\n",
       "    .dataframe tbody tr th:only-of-type {\n",
       "        vertical-align: middle;\n",
       "    }\n",
       "\n",
       "    .dataframe tbody tr th {\n",
       "        vertical-align: top;\n",
       "    }\n",
       "\n",
       "    .dataframe thead th {\n",
       "        text-align: right;\n",
       "    }\n",
       "</style>\n",
       "<table border=\"1\" class=\"dataframe\">\n",
       "  <thead>\n",
       "    <tr style=\"text-align: right;\">\n",
       "      <th></th>\n",
       "      <th>review</th>\n",
       "      <th>sentiments</th>\n",
       "    </tr>\n",
       "  </thead>\n",
       "  <tbody>\n",
       "    <tr>\n",
       "      <th>0</th>\n",
       "      <td>A very, very, very slow-moving, aimless movie ...</td>\n",
       "      <td>0</td>\n",
       "    </tr>\n",
       "    <tr>\n",
       "      <th>1</th>\n",
       "      <td>Not sure who was more lost - the flat characte...</td>\n",
       "      <td>0</td>\n",
       "    </tr>\n",
       "    <tr>\n",
       "      <th>2</th>\n",
       "      <td>Attempting artiness with black &amp; white and cle...</td>\n",
       "      <td>0</td>\n",
       "    </tr>\n",
       "    <tr>\n",
       "      <th>3</th>\n",
       "      <td>Very little music or anything to speak of.</td>\n",
       "      <td>0</td>\n",
       "    </tr>\n",
       "    <tr>\n",
       "      <th>4</th>\n",
       "      <td>The best scene in the movie was when Gerardo i...</td>\n",
       "      <td>1</td>\n",
       "    </tr>\n",
       "    <tr>\n",
       "      <th>...</th>\n",
       "      <td>...</td>\n",
       "      <td>...</td>\n",
       "    </tr>\n",
       "    <tr>\n",
       "      <th>743</th>\n",
       "      <td>I just got bored watching Jessice Lange take h...</td>\n",
       "      <td>0</td>\n",
       "    </tr>\n",
       "    <tr>\n",
       "      <th>744</th>\n",
       "      <td>Unfortunately, any virtue in this film's produ...</td>\n",
       "      <td>0</td>\n",
       "    </tr>\n",
       "    <tr>\n",
       "      <th>745</th>\n",
       "      <td>In a word, it is embarrassing.</td>\n",
       "      <td>0</td>\n",
       "    </tr>\n",
       "    <tr>\n",
       "      <th>746</th>\n",
       "      <td>Exceptionally bad!</td>\n",
       "      <td>0</td>\n",
       "    </tr>\n",
       "    <tr>\n",
       "      <th>747</th>\n",
       "      <td>All in all its an insult to one's intelligence...</td>\n",
       "      <td>0</td>\n",
       "    </tr>\n",
       "  </tbody>\n",
       "</table>\n",
       "<p>748 rows × 2 columns</p>\n",
       "</div>"
      ],
      "text/plain": [
       "                                                review  sentiments\n",
       "0    A very, very, very slow-moving, aimless movie ...           0\n",
       "1    Not sure who was more lost - the flat characte...           0\n",
       "2    Attempting artiness with black & white and cle...           0\n",
       "3         Very little music or anything to speak of.             0\n",
       "4    The best scene in the movie was when Gerardo i...           1\n",
       "..                                                 ...         ...\n",
       "743  I just got bored watching Jessice Lange take h...           0\n",
       "744  Unfortunately, any virtue in this film's produ...           0\n",
       "745                   In a word, it is embarrassing.             0\n",
       "746                               Exceptionally bad!             0\n",
       "747  All in all its an insult to one's intelligence...           0\n",
       "\n",
       "[748 rows x 2 columns]"
      ]
     },
     "execution_count": 4,
     "metadata": {},
     "output_type": "execute_result"
    }
   ],
   "source": [
    "imdb_df"
   ]
  },
  {
   "cell_type": "code",
   "execution_count": 5,
   "metadata": {},
   "outputs": [
    {
     "data": {
      "text/html": [
       "<div>\n",
       "<style scoped>\n",
       "    .dataframe tbody tr th:only-of-type {\n",
       "        vertical-align: middle;\n",
       "    }\n",
       "\n",
       "    .dataframe tbody tr th {\n",
       "        vertical-align: top;\n",
       "    }\n",
       "\n",
       "    .dataframe thead th {\n",
       "        text-align: right;\n",
       "    }\n",
       "</style>\n",
       "<table border=\"1\" class=\"dataframe\">\n",
       "  <thead>\n",
       "    <tr style=\"text-align: right;\">\n",
       "      <th></th>\n",
       "      <th>review</th>\n",
       "      <th>sentiments</th>\n",
       "    </tr>\n",
       "  </thead>\n",
       "  <tbody>\n",
       "    <tr>\n",
       "      <th>0</th>\n",
       "      <td>Wow... Loved this place.</td>\n",
       "      <td>1</td>\n",
       "    </tr>\n",
       "    <tr>\n",
       "      <th>1</th>\n",
       "      <td>Crust is not good.</td>\n",
       "      <td>0</td>\n",
       "    </tr>\n",
       "    <tr>\n",
       "      <th>2</th>\n",
       "      <td>Not tasty and the texture was just nasty.</td>\n",
       "      <td>0</td>\n",
       "    </tr>\n",
       "    <tr>\n",
       "      <th>3</th>\n",
       "      <td>Stopped by during the late May bank holiday of...</td>\n",
       "      <td>1</td>\n",
       "    </tr>\n",
       "    <tr>\n",
       "      <th>4</th>\n",
       "      <td>The selection on the menu was great and so wer...</td>\n",
       "      <td>1</td>\n",
       "    </tr>\n",
       "    <tr>\n",
       "      <th>...</th>\n",
       "      <td>...</td>\n",
       "      <td>...</td>\n",
       "    </tr>\n",
       "    <tr>\n",
       "      <th>995</th>\n",
       "      <td>I think food should have flavor and texture an...</td>\n",
       "      <td>0</td>\n",
       "    </tr>\n",
       "    <tr>\n",
       "      <th>996</th>\n",
       "      <td>Appetite instantly gone.</td>\n",
       "      <td>0</td>\n",
       "    </tr>\n",
       "    <tr>\n",
       "      <th>997</th>\n",
       "      <td>Overall I was not impressed and would not go b...</td>\n",
       "      <td>0</td>\n",
       "    </tr>\n",
       "    <tr>\n",
       "      <th>998</th>\n",
       "      <td>The whole experience was underwhelming, and I ...</td>\n",
       "      <td>0</td>\n",
       "    </tr>\n",
       "    <tr>\n",
       "      <th>999</th>\n",
       "      <td>Then, as if I hadn't wasted enough of my life ...</td>\n",
       "      <td>0</td>\n",
       "    </tr>\n",
       "  </tbody>\n",
       "</table>\n",
       "<p>1000 rows × 2 columns</p>\n",
       "</div>"
      ],
      "text/plain": [
       "                                                review  sentiments\n",
       "0                             Wow... Loved this place.           1\n",
       "1                                   Crust is not good.           0\n",
       "2            Not tasty and the texture was just nasty.           0\n",
       "3    Stopped by during the late May bank holiday of...           1\n",
       "4    The selection on the menu was great and so wer...           1\n",
       "..                                                 ...         ...\n",
       "995  I think food should have flavor and texture an...           0\n",
       "996                           Appetite instantly gone.           0\n",
       "997  Overall I was not impressed and would not go b...           0\n",
       "998  The whole experience was underwhelming, and I ...           0\n",
       "999  Then, as if I hadn't wasted enough of my life ...           0\n",
       "\n",
       "[1000 rows x 2 columns]"
      ]
     },
     "execution_count": 5,
     "metadata": {},
     "output_type": "execute_result"
    }
   ],
   "source": [
    "yelp_df"
   ]
  },
  {
   "cell_type": "code",
   "execution_count": 6,
   "metadata": {},
   "outputs": [
    {
     "data": {
      "text/plain": [
       "review        0\n",
       "sentiments    0\n",
       "dtype: int64"
      ]
     },
     "execution_count": 6,
     "metadata": {},
     "output_type": "execute_result"
    }
   ],
   "source": [
    "imdb_df.isnull().sum()"
   ]
  },
  {
   "cell_type": "code",
   "execution_count": 7,
   "metadata": {},
   "outputs": [
    {
     "data": {
      "text/plain": [
       "review        0\n",
       "sentiments    0\n",
       "dtype: int64"
      ]
     },
     "execution_count": 7,
     "metadata": {},
     "output_type": "execute_result"
    }
   ],
   "source": [
    "amazon_df.isnull().sum()"
   ]
  },
  {
   "cell_type": "code",
   "execution_count": 8,
   "metadata": {},
   "outputs": [
    {
     "data": {
      "text/plain": [
       "review        0\n",
       "sentiments    0\n",
       "dtype: int64"
      ]
     },
     "execution_count": 8,
     "metadata": {},
     "output_type": "execute_result"
    }
   ],
   "source": [
    "yelp_df.isnull().sum()"
   ]
  },
  {
   "cell_type": "code",
   "execution_count": 9,
   "metadata": {},
   "outputs": [
    {
     "data": {
      "text/plain": [
       "array([0, 1], dtype=int64)"
      ]
     },
     "execution_count": 9,
     "metadata": {},
     "output_type": "execute_result"
    }
   ],
   "source": [
    "amazon_df['sentiments'].unique()"
   ]
  },
  {
   "cell_type": "code",
   "execution_count": 10,
   "metadata": {},
   "outputs": [
    {
     "data": {
      "text/plain": [
       "array([1, 0], dtype=int64)"
      ]
     },
     "execution_count": 10,
     "metadata": {},
     "output_type": "execute_result"
    }
   ],
   "source": [
    "yelp_df['sentiments'].unique()"
   ]
  },
  {
   "cell_type": "code",
   "execution_count": 11,
   "metadata": {},
   "outputs": [
    {
     "data": {
      "text/plain": [
       "array([0, 1], dtype=int64)"
      ]
     },
     "execution_count": 11,
     "metadata": {},
     "output_type": "execute_result"
    }
   ],
   "source": [
    "imdb_df['sentiments'].unique()"
   ]
  },
  {
   "cell_type": "code",
   "execution_count": 12,
   "metadata": {},
   "outputs": [
    {
     "data": {
      "text/plain": [
       "1    500\n",
       "0    500\n",
       "Name: sentiments, dtype: int64"
      ]
     },
     "execution_count": 12,
     "metadata": {},
     "output_type": "execute_result"
    }
   ],
   "source": [
    "amazon_df['sentiments'].value_counts()"
   ]
  },
  {
   "cell_type": "code",
   "execution_count": 13,
   "metadata": {},
   "outputs": [
    {
     "data": {
      "text/plain": [
       "1    386\n",
       "0    362\n",
       "Name: sentiments, dtype: int64"
      ]
     },
     "execution_count": 13,
     "metadata": {},
     "output_type": "execute_result"
    }
   ],
   "source": [
    "imdb_df['sentiments'].value_counts()"
   ]
  },
  {
   "cell_type": "code",
   "execution_count": 14,
   "metadata": {},
   "outputs": [
    {
     "data": {
      "text/plain": [
       "1    500\n",
       "0    500\n",
       "Name: sentiments, dtype: int64"
      ]
     },
     "execution_count": 14,
     "metadata": {},
     "output_type": "execute_result"
    }
   ],
   "source": [
    "yelp_df['sentiments'].value_counts()"
   ]
  },
  {
   "cell_type": "code",
   "execution_count": 15,
   "metadata": {},
   "outputs": [
    {
     "data": {
      "text/plain": [
       "0      82\n",
       "1      27\n",
       "2      22\n",
       "3      79\n",
       "4      17\n",
       "       ..\n",
       "995    72\n",
       "996    55\n",
       "997    28\n",
       "998    63\n",
       "999    58\n",
       "Name: review, Length: 1000, dtype: int64"
      ]
     },
     "execution_count": 15,
     "metadata": {},
     "output_type": "execute_result"
    }
   ],
   "source": [
    "amazon_df['review'].str.len()"
   ]
  },
  {
   "cell_type": "code",
   "execution_count": 16,
   "metadata": {},
   "outputs": [
    {
     "data": {
      "text/plain": [
       "0       87\n",
       "1       99\n",
       "2      188\n",
       "3       44\n",
       "4      108\n",
       "      ... \n",
       "743     63\n",
       "744     92\n",
       "745     32\n",
       "746     20\n",
       "747     75\n",
       "Name: review, Length: 748, dtype: int64"
      ]
     },
     "execution_count": 16,
     "metadata": {},
     "output_type": "execute_result"
    }
   ],
   "source": [
    "imdb_df['review'].str.len()"
   ]
  },
  {
   "cell_type": "code",
   "execution_count": 17,
   "metadata": {},
   "outputs": [
    {
     "data": {
      "text/plain": [
       "0       24\n",
       "1       18\n",
       "2       41\n",
       "3       87\n",
       "4       59\n",
       "      ... \n",
       "995     66\n",
       "996     24\n",
       "997     50\n",
       "998     91\n",
       "999    134\n",
       "Name: review, Length: 1000, dtype: int64"
      ]
     },
     "execution_count": 17,
     "metadata": {},
     "output_type": "execute_result"
    }
   ],
   "source": [
    "yelp_df['review'].str.len()"
   ]
  },
  {
   "cell_type": "code",
   "execution_count": 18,
   "metadata": {},
   "outputs": [
    {
     "name": "stdout",
     "output_type": "stream",
     "text": [
      "11\n",
      "149\n"
     ]
    }
   ],
   "source": [
    "print(min(amazon_df['review'].str.len()))\n",
    "print(max(amazon_df['review'].str.len()))"
   ]
  },
  {
   "cell_type": "code",
   "execution_count": 19,
   "metadata": {},
   "outputs": [
    {
     "name": "stdout",
     "output_type": "stream",
     "text": [
      "7\n",
      "7944\n"
     ]
    }
   ],
   "source": [
    "print(min(imdb_df['review'].str.len()))\n",
    "print(max(imdb_df['review'].str.len()))"
   ]
  },
  {
   "cell_type": "code",
   "execution_count": 20,
   "metadata": {},
   "outputs": [
    {
     "name": "stdout",
     "output_type": "stream",
     "text": [
      "11\n",
      "149\n"
     ]
    }
   ],
   "source": [
    "print(min(yelp_df['review'].str.len()))\n",
    "print(max(yelp_df['review'].str.len()))"
   ]
  },
  {
   "cell_type": "code",
   "execution_count": 21,
   "metadata": {},
   "outputs": [
    {
     "data": {
      "text/plain": [
       "1    500\n",
       "0    500\n",
       "Name: sentiments, dtype: int64"
      ]
     },
     "execution_count": 21,
     "metadata": {},
     "output_type": "execute_result"
    }
   ],
   "source": [
    "amazon_df.sentiments.value_counts()"
   ]
  },
  {
   "cell_type": "code",
   "execution_count": 22,
   "metadata": {},
   "outputs": [
    {
     "data": {
      "text/plain": [
       "1    386\n",
       "0    362\n",
       "Name: sentiments, dtype: int64"
      ]
     },
     "execution_count": 22,
     "metadata": {},
     "output_type": "execute_result"
    }
   ],
   "source": [
    "imdb_df.sentiments.value_counts()"
   ]
  },
  {
   "cell_type": "code",
   "execution_count": 23,
   "metadata": {},
   "outputs": [
    {
     "data": {
      "text/plain": [
       "1    500\n",
       "0    500\n",
       "Name: sentiments, dtype: int64"
      ]
     },
     "execution_count": 23,
     "metadata": {},
     "output_type": "execute_result"
    }
   ],
   "source": [
    "yelp_df.sentiments.value_counts()"
   ]
  },
  {
   "cell_type": "code",
   "execution_count": 24,
   "metadata": {},
   "outputs": [],
   "source": [
    "from sklearn.feature_extraction.text import CountVectorizer"
   ]
  },
  {
   "cell_type": "code",
   "execution_count": 25,
   "metadata": {},
   "outputs": [],
   "source": [
    "count_vectorize = CountVectorizer()"
   ]
  },
  {
   "cell_type": "code",
   "execution_count": 26,
   "metadata": {},
   "outputs": [],
   "source": [
    "feature_vector_amazon = count_vectorize.fit(amazon_df.review)"
   ]
  },
  {
   "cell_type": "code",
   "execution_count": 27,
   "metadata": {},
   "outputs": [],
   "source": [
    "features_amazon = feature_vector_amazon.get_feature_names()"
   ]
  },
  {
   "cell_type": "code",
   "execution_count": 28,
   "metadata": {},
   "outputs": [
    {
     "name": "stdout",
     "output_type": "stream",
     "text": [
      "amazon total number of unique words: 1847\n"
     ]
    }
   ],
   "source": [
    "print('amazon total number of unique words:', len(features_amazon))"
   ]
  },
  {
   "cell_type": "code",
   "execution_count": 29,
   "metadata": {},
   "outputs": [],
   "source": [
    "feature_vector_yelp = count_vectorize.fit(yelp_df.review)"
   ]
  },
  {
   "cell_type": "code",
   "execution_count": 30,
   "metadata": {},
   "outputs": [],
   "source": [
    "features_yelp = feature_vector_yelp.get_feature_names()"
   ]
  },
  {
   "cell_type": "code",
   "execution_count": 31,
   "metadata": {},
   "outputs": [
    {
     "name": "stdout",
     "output_type": "stream",
     "text": [
      "yelp total number of unique words: 2035\n"
     ]
    }
   ],
   "source": [
    "print('yelp total number of unique words:', len(features_yelp))"
   ]
  },
  {
   "cell_type": "code",
   "execution_count": 32,
   "metadata": {},
   "outputs": [],
   "source": [
    "feature_vector_imdb = count_vectorize.fit(imdb_df.review)"
   ]
  },
  {
   "cell_type": "code",
   "execution_count": 33,
   "metadata": {},
   "outputs": [],
   "source": [
    "features_imdb = feature_vector_imdb.get_feature_names()"
   ]
  },
  {
   "cell_type": "code",
   "execution_count": 34,
   "metadata": {},
   "outputs": [
    {
     "name": "stdout",
     "output_type": "stream",
     "text": [
      "imdb total number of unique words: 3047\n"
     ]
    }
   ],
   "source": [
    "print('imdb total number of unique words:', len(features_imdb))"
   ]
  },
  {
   "cell_type": "code",
   "execution_count": 35,
   "metadata": {},
   "outputs": [],
   "source": [
    "import random"
   ]
  },
  {
   "cell_type": "code",
   "execution_count": 36,
   "metadata": {},
   "outputs": [
    {
     "data": {
      "text/plain": [
       "['aerial',\n",
       " 'sequence',\n",
       " 'fact',\n",
       " 'darren',\n",
       " 'barney',\n",
       " 'olde',\n",
       " 'designed',\n",
       " 'youtube',\n",
       " 'surroundings',\n",
       " 'seems']"
      ]
     },
     "execution_count": 36,
     "metadata": {},
     "output_type": "execute_result"
    }
   ],
   "source": [
    "random.sample(features_imdb, 10)"
   ]
  },
  {
   "cell_type": "code",
   "execution_count": 37,
   "metadata": {},
   "outputs": [],
   "source": [
    "# create dataframes\n",
    "import pandas as pd\n",
    "\n",
    "# amazon\n",
    "amazon = open('amazon_cells_labelled.txt').read()\n",
    "\n",
    "a_labels, a_texts = [], []\n",
    "for i, line in enumerate(amazon.split('\\n')):\n",
    "    content = line.split('\\t')\n",
    "    if len(content) > 1:\n",
    "        a_texts.append(content[0])\n",
    "        a_labels.append(content[1])\n",
    "\n",
    "df_a = pd.DataFrame()\n",
    "df_a['label'] = a_labels\n",
    "df_a['text'] = a_texts\n",
    "df_a['source'] = 'amazon'\n",
    "\n",
    "# imdb\n",
    "imdb = open('imdb_labelled.txt').read()\n",
    "\n",
    "i_labels, i_texts = [], []\n",
    "for i, line in enumerate(imdb.split('\\n')):\n",
    "    content = line.split('\\t')\n",
    "    if len(content) > 1:\n",
    "        i_texts.append(content[0])\n",
    "        i_labels.append(content[1])\n",
    "\n",
    "df_i = pd.DataFrame()\n",
    "df_i['label'] = i_labels\n",
    "df_i['text'] = i_texts\n",
    "df_i['source'] = 'imdb'\n",
    "\n",
    "# yelp\n",
    "yelp = open('yelp_labelled.txt').read()\n",
    "\n",
    "y_labels, y_texts = [], []\n",
    "for i, line in enumerate(yelp.split('\\n')):\n",
    "    content = line.split('\\t')\n",
    "    if len(content) > 1:\n",
    "        y_texts.append(content[0])\n",
    "        y_labels.append(content[1])\n",
    "\n",
    "df_y = pd.DataFrame()\n",
    "df_y['label'] = y_labels\n",
    "df_y['text'] = y_texts\n",
    "df_y['source'] = 'yelp'"
   ]
  },
  {
   "cell_type": "code",
   "execution_count": 38,
   "metadata": {},
   "outputs": [
    {
     "data": {
      "text/html": [
       "<div>\n",
       "<style scoped>\n",
       "    .dataframe tbody tr th:only-of-type {\n",
       "        vertical-align: middle;\n",
       "    }\n",
       "\n",
       "    .dataframe tbody tr th {\n",
       "        vertical-align: top;\n",
       "    }\n",
       "\n",
       "    .dataframe thead th {\n",
       "        text-align: right;\n",
       "    }\n",
       "</style>\n",
       "<table border=\"1\" class=\"dataframe\">\n",
       "  <thead>\n",
       "    <tr style=\"text-align: right;\">\n",
       "      <th></th>\n",
       "      <th>label</th>\n",
       "      <th>text</th>\n",
       "      <th>source</th>\n",
       "    </tr>\n",
       "  </thead>\n",
       "  <tbody>\n",
       "    <tr>\n",
       "      <th>0</th>\n",
       "      <td>0</td>\n",
       "      <td>So there is no way for me to plug it in here i...</td>\n",
       "      <td>amazon</td>\n",
       "    </tr>\n",
       "    <tr>\n",
       "      <th>1</th>\n",
       "      <td>1</td>\n",
       "      <td>Good case, Excellent value.</td>\n",
       "      <td>amazon</td>\n",
       "    </tr>\n",
       "    <tr>\n",
       "      <th>2</th>\n",
       "      <td>1</td>\n",
       "      <td>Great for the jawbone.</td>\n",
       "      <td>amazon</td>\n",
       "    </tr>\n",
       "    <tr>\n",
       "      <th>3</th>\n",
       "      <td>0</td>\n",
       "      <td>Tied to charger for conversations lasting more...</td>\n",
       "      <td>amazon</td>\n",
       "    </tr>\n",
       "    <tr>\n",
       "      <th>4</th>\n",
       "      <td>1</td>\n",
       "      <td>The mic is great.</td>\n",
       "      <td>amazon</td>\n",
       "    </tr>\n",
       "  </tbody>\n",
       "</table>\n",
       "</div>"
      ],
      "text/plain": [
       "  label                                               text  source\n",
       "0     0  So there is no way for me to plug it in here i...  amazon\n",
       "1     1                        Good case, Excellent value.  amazon\n",
       "2     1                             Great for the jawbone.  amazon\n",
       "3     0  Tied to charger for conversations lasting more...  amazon\n",
       "4     1                                  The mic is great.  amazon"
      ]
     },
     "metadata": {},
     "output_type": "display_data"
    },
    {
     "data": {
      "text/plain": [
       "(1000, 3)"
      ]
     },
     "metadata": {},
     "output_type": "display_data"
    },
    {
     "data": {
      "text/html": [
       "<div>\n",
       "<style scoped>\n",
       "    .dataframe tbody tr th:only-of-type {\n",
       "        vertical-align: middle;\n",
       "    }\n",
       "\n",
       "    .dataframe tbody tr th {\n",
       "        vertical-align: top;\n",
       "    }\n",
       "\n",
       "    .dataframe thead th {\n",
       "        text-align: right;\n",
       "    }\n",
       "</style>\n",
       "<table border=\"1\" class=\"dataframe\">\n",
       "  <thead>\n",
       "    <tr style=\"text-align: right;\">\n",
       "      <th></th>\n",
       "      <th>label</th>\n",
       "      <th>text</th>\n",
       "      <th>source</th>\n",
       "    </tr>\n",
       "  </thead>\n",
       "  <tbody>\n",
       "    <tr>\n",
       "      <th>0</th>\n",
       "      <td>0</td>\n",
       "      <td>A very, very, very slow-moving, aimless movie ...</td>\n",
       "      <td>imdb</td>\n",
       "    </tr>\n",
       "    <tr>\n",
       "      <th>1</th>\n",
       "      <td>0</td>\n",
       "      <td>Not sure who was more lost - the flat characte...</td>\n",
       "      <td>imdb</td>\n",
       "    </tr>\n",
       "    <tr>\n",
       "      <th>2</th>\n",
       "      <td>0</td>\n",
       "      <td>Attempting artiness with black &amp; white and cle...</td>\n",
       "      <td>imdb</td>\n",
       "    </tr>\n",
       "    <tr>\n",
       "      <th>3</th>\n",
       "      <td>0</td>\n",
       "      <td>Very little music or anything to speak of.</td>\n",
       "      <td>imdb</td>\n",
       "    </tr>\n",
       "    <tr>\n",
       "      <th>4</th>\n",
       "      <td>1</td>\n",
       "      <td>The best scene in the movie was when Gerardo i...</td>\n",
       "      <td>imdb</td>\n",
       "    </tr>\n",
       "  </tbody>\n",
       "</table>\n",
       "</div>"
      ],
      "text/plain": [
       "  label                                               text source\n",
       "0     0  A very, very, very slow-moving, aimless movie ...   imdb\n",
       "1     0  Not sure who was more lost - the flat characte...   imdb\n",
       "2     0  Attempting artiness with black & white and cle...   imdb\n",
       "3     0       Very little music or anything to speak of.     imdb\n",
       "4     1  The best scene in the movie was when Gerardo i...   imdb"
      ]
     },
     "metadata": {},
     "output_type": "display_data"
    },
    {
     "data": {
      "text/plain": [
       "(1000, 3)"
      ]
     },
     "metadata": {},
     "output_type": "display_data"
    },
    {
     "data": {
      "text/html": [
       "<div>\n",
       "<style scoped>\n",
       "    .dataframe tbody tr th:only-of-type {\n",
       "        vertical-align: middle;\n",
       "    }\n",
       "\n",
       "    .dataframe tbody tr th {\n",
       "        vertical-align: top;\n",
       "    }\n",
       "\n",
       "    .dataframe thead th {\n",
       "        text-align: right;\n",
       "    }\n",
       "</style>\n",
       "<table border=\"1\" class=\"dataframe\">\n",
       "  <thead>\n",
       "    <tr style=\"text-align: right;\">\n",
       "      <th></th>\n",
       "      <th>label</th>\n",
       "      <th>text</th>\n",
       "      <th>source</th>\n",
       "    </tr>\n",
       "  </thead>\n",
       "  <tbody>\n",
       "    <tr>\n",
       "      <th>0</th>\n",
       "      <td>1</td>\n",
       "      <td>Wow... Loved this place.</td>\n",
       "      <td>yelp</td>\n",
       "    </tr>\n",
       "    <tr>\n",
       "      <th>1</th>\n",
       "      <td>0</td>\n",
       "      <td>Crust is not good.</td>\n",
       "      <td>yelp</td>\n",
       "    </tr>\n",
       "    <tr>\n",
       "      <th>2</th>\n",
       "      <td>0</td>\n",
       "      <td>Not tasty and the texture was just nasty.</td>\n",
       "      <td>yelp</td>\n",
       "    </tr>\n",
       "    <tr>\n",
       "      <th>3</th>\n",
       "      <td>1</td>\n",
       "      <td>Stopped by during the late May bank holiday of...</td>\n",
       "      <td>yelp</td>\n",
       "    </tr>\n",
       "    <tr>\n",
       "      <th>4</th>\n",
       "      <td>1</td>\n",
       "      <td>The selection on the menu was great and so wer...</td>\n",
       "      <td>yelp</td>\n",
       "    </tr>\n",
       "  </tbody>\n",
       "</table>\n",
       "</div>"
      ],
      "text/plain": [
       "  label                                               text source\n",
       "0     1                           Wow... Loved this place.   yelp\n",
       "1     0                                 Crust is not good.   yelp\n",
       "2     0          Not tasty and the texture was just nasty.   yelp\n",
       "3     1  Stopped by during the late May bank holiday of...   yelp\n",
       "4     1  The selection on the menu was great and so wer...   yelp"
      ]
     },
     "metadata": {},
     "output_type": "display_data"
    },
    {
     "data": {
      "text/plain": [
       "(1000, 3)"
      ]
     },
     "metadata": {},
     "output_type": "display_data"
    }
   ],
   "source": [
    "# preview \n",
    "display(df_a.head())\n",
    "display(df_a.shape)\n",
    "display(df_i.head())\n",
    "display(df_i.shape)\n",
    "display(df_y.head())\n",
    "display(df_y.shape)"
   ]
  },
  {
   "cell_type": "code",
   "execution_count": 39,
   "metadata": {},
   "outputs": [
    {
     "name": "stdout",
     "output_type": "stream",
     "text": [
      "<class 'pandas.core.frame.DataFrame'>\n",
      "RangeIndex: 3000 entries, 0 to 2999\n",
      "Data columns (total 3 columns):\n",
      " #   Column  Non-Null Count  Dtype \n",
      "---  ------  --------------  ----- \n",
      " 0   label   3000 non-null   int32 \n",
      " 1   text    3000 non-null   object\n",
      " 2   source  3000 non-null   object\n",
      "dtypes: int32(1), object(2)\n",
      "memory usage: 58.7+ KB\n"
     ]
    }
   ],
   "source": [
    "# combine site dataframes\n",
    "df = pd.concat([df_a, df_i, df_y], ignore_index=True)\n",
    "df.label = df.label.astype(int)\n",
    "df.info()"
   ]
  },
  {
   "cell_type": "code",
   "execution_count": 40,
   "metadata": {},
   "outputs": [
    {
     "data": {
      "text/html": [
       "<div>\n",
       "<style scoped>\n",
       "    .dataframe tbody tr th:only-of-type {\n",
       "        vertical-align: middle;\n",
       "    }\n",
       "\n",
       "    .dataframe tbody tr th {\n",
       "        vertical-align: top;\n",
       "    }\n",
       "\n",
       "    .dataframe thead th {\n",
       "        text-align: right;\n",
       "    }\n",
       "</style>\n",
       "<table border=\"1\" class=\"dataframe\">\n",
       "  <thead>\n",
       "    <tr style=\"text-align: right;\">\n",
       "      <th></th>\n",
       "      <th>label</th>\n",
       "      <th>text</th>\n",
       "      <th>source</th>\n",
       "    </tr>\n",
       "  </thead>\n",
       "  <tbody>\n",
       "    <tr>\n",
       "      <th>0</th>\n",
       "      <td>0</td>\n",
       "      <td>So there is no way for me to plug it in here i...</td>\n",
       "      <td>amazon</td>\n",
       "    </tr>\n",
       "    <tr>\n",
       "      <th>1</th>\n",
       "      <td>1</td>\n",
       "      <td>Good case, Excellent value.</td>\n",
       "      <td>amazon</td>\n",
       "    </tr>\n",
       "    <tr>\n",
       "      <th>2</th>\n",
       "      <td>1</td>\n",
       "      <td>Great for the jawbone.</td>\n",
       "      <td>amazon</td>\n",
       "    </tr>\n",
       "    <tr>\n",
       "      <th>3</th>\n",
       "      <td>0</td>\n",
       "      <td>Tied to charger for conversations lasting more...</td>\n",
       "      <td>amazon</td>\n",
       "    </tr>\n",
       "    <tr>\n",
       "      <th>4</th>\n",
       "      <td>1</td>\n",
       "      <td>The mic is great.</td>\n",
       "      <td>amazon</td>\n",
       "    </tr>\n",
       "    <tr>\n",
       "      <th>...</th>\n",
       "      <td>...</td>\n",
       "      <td>...</td>\n",
       "      <td>...</td>\n",
       "    </tr>\n",
       "    <tr>\n",
       "      <th>2995</th>\n",
       "      <td>0</td>\n",
       "      <td>I think food should have flavor and texture an...</td>\n",
       "      <td>yelp</td>\n",
       "    </tr>\n",
       "    <tr>\n",
       "      <th>2996</th>\n",
       "      <td>0</td>\n",
       "      <td>Appetite instantly gone.</td>\n",
       "      <td>yelp</td>\n",
       "    </tr>\n",
       "    <tr>\n",
       "      <th>2997</th>\n",
       "      <td>0</td>\n",
       "      <td>Overall I was not impressed and would not go b...</td>\n",
       "      <td>yelp</td>\n",
       "    </tr>\n",
       "    <tr>\n",
       "      <th>2998</th>\n",
       "      <td>0</td>\n",
       "      <td>The whole experience was underwhelming, and I ...</td>\n",
       "      <td>yelp</td>\n",
       "    </tr>\n",
       "    <tr>\n",
       "      <th>2999</th>\n",
       "      <td>0</td>\n",
       "      <td>Then, as if I hadn't wasted enough of my life ...</td>\n",
       "      <td>yelp</td>\n",
       "    </tr>\n",
       "  </tbody>\n",
       "</table>\n",
       "<p>3000 rows × 3 columns</p>\n",
       "</div>"
      ],
      "text/plain": [
       "      label                                               text  source\n",
       "0         0  So there is no way for me to plug it in here i...  amazon\n",
       "1         1                        Good case, Excellent value.  amazon\n",
       "2         1                             Great for the jawbone.  amazon\n",
       "3         0  Tied to charger for conversations lasting more...  amazon\n",
       "4         1                                  The mic is great.  amazon\n",
       "...     ...                                                ...     ...\n",
       "2995      0  I think food should have flavor and texture an...    yelp\n",
       "2996      0                           Appetite instantly gone.    yelp\n",
       "2997      0  Overall I was not impressed and would not go b...    yelp\n",
       "2998      0  The whole experience was underwhelming, and I ...    yelp\n",
       "2999      0  Then, as if I hadn't wasted enough of my life ...    yelp\n",
       "\n",
       "[3000 rows x 3 columns]"
      ]
     },
     "execution_count": 40,
     "metadata": {},
     "output_type": "execute_result"
    }
   ],
   "source": [
    "df"
   ]
  },
  {
   "cell_type": "code",
   "execution_count": 41,
   "metadata": {},
   "outputs": [
    {
     "data": {
      "text/html": [
       "<div>\n",
       "<style scoped>\n",
       "    .dataframe tbody tr th:only-of-type {\n",
       "        vertical-align: middle;\n",
       "    }\n",
       "\n",
       "    .dataframe tbody tr th {\n",
       "        vertical-align: top;\n",
       "    }\n",
       "\n",
       "    .dataframe thead th {\n",
       "        text-align: right;\n",
       "    }\n",
       "</style>\n",
       "<table border=\"1\" class=\"dataframe\">\n",
       "  <thead>\n",
       "    <tr style=\"text-align: right;\">\n",
       "      <th></th>\n",
       "      <th>label</th>\n",
       "      <th>text</th>\n",
       "      <th>source</th>\n",
       "      <th>chars</th>\n",
       "      <th>words</th>\n",
       "      <th>avg_wlen</th>\n",
       "      <th>puncs</th>\n",
       "      <th>uppers</th>\n",
       "      <th>titles</th>\n",
       "    </tr>\n",
       "  </thead>\n",
       "  <tbody>\n",
       "    <tr>\n",
       "      <th>0</th>\n",
       "      <td>0</td>\n",
       "      <td>So there is no way for me to plug it in here i...</td>\n",
       "      <td>amazon</td>\n",
       "      <td>82</td>\n",
       "      <td>21</td>\n",
       "      <td>3.904762</td>\n",
       "      <td>1</td>\n",
       "      <td>2</td>\n",
       "      <td>2</td>\n",
       "    </tr>\n",
       "    <tr>\n",
       "      <th>1</th>\n",
       "      <td>1</td>\n",
       "      <td>Good case, Excellent value.</td>\n",
       "      <td>amazon</td>\n",
       "      <td>27</td>\n",
       "      <td>4</td>\n",
       "      <td>6.750000</td>\n",
       "      <td>2</td>\n",
       "      <td>0</td>\n",
       "      <td>2</td>\n",
       "    </tr>\n",
       "    <tr>\n",
       "      <th>2</th>\n",
       "      <td>1</td>\n",
       "      <td>Great for the jawbone.</td>\n",
       "      <td>amazon</td>\n",
       "      <td>22</td>\n",
       "      <td>4</td>\n",
       "      <td>5.500000</td>\n",
       "      <td>1</td>\n",
       "      <td>0</td>\n",
       "      <td>1</td>\n",
       "    </tr>\n",
       "    <tr>\n",
       "      <th>3</th>\n",
       "      <td>0</td>\n",
       "      <td>Tied to charger for conversations lasting more...</td>\n",
       "      <td>amazon</td>\n",
       "      <td>79</td>\n",
       "      <td>11</td>\n",
       "      <td>7.181818</td>\n",
       "      <td>3</td>\n",
       "      <td>1</td>\n",
       "      <td>1</td>\n",
       "    </tr>\n",
       "    <tr>\n",
       "      <th>4</th>\n",
       "      <td>1</td>\n",
       "      <td>The mic is great.</td>\n",
       "      <td>amazon</td>\n",
       "      <td>17</td>\n",
       "      <td>4</td>\n",
       "      <td>4.250000</td>\n",
       "      <td>1</td>\n",
       "      <td>0</td>\n",
       "      <td>1</td>\n",
       "    </tr>\n",
       "  </tbody>\n",
       "</table>\n",
       "</div>"
      ],
      "text/plain": [
       "   label                                               text  source  chars  \\\n",
       "0      0  So there is no way for me to plug it in here i...  amazon     82   \n",
       "1      1                        Good case, Excellent value.  amazon     27   \n",
       "2      1                             Great for the jawbone.  amazon     22   \n",
       "3      0  Tied to charger for conversations lasting more...  amazon     79   \n",
       "4      1                                  The mic is great.  amazon     17   \n",
       "\n",
       "   words  avg_wlen  puncs  uppers  titles  \n",
       "0     21  3.904762      1       2       2  \n",
       "1      4  6.750000      2       0       2  \n",
       "2      4  5.500000      1       0       1  \n",
       "3     11  7.181818      3       1       1  \n",
       "4      4  4.250000      1       0       1  "
      ]
     },
     "execution_count": 41,
     "metadata": {},
     "output_type": "execute_result"
    }
   ],
   "source": [
    "import string\n",
    "df['chars'] = df.text.apply(len)\n",
    "df['words'] = df.text.apply(lambda x: len(x.split()))\n",
    "df['avg_wlen'] = df['chars'] / df['words']\n",
    "df['puncs'] = df.text.apply(lambda x: len(\"\".join(_ for _ in x if _ in string.punctuation))) \n",
    "df['uppers'] = df.text.apply(lambda x: len([word for word in x.split() if word.isupper()]))\n",
    "df['titles'] = df.text.apply(lambda x: len([word for word in x.split() if word.istitle()]))\n",
    "df.head()"
   ]
  },
  {
   "cell_type": "code",
   "execution_count": 42,
   "metadata": {},
   "outputs": [
    {
     "data": {
      "text/html": [
       "<div>\n",
       "<style scoped>\n",
       "    .dataframe tbody tr th:only-of-type {\n",
       "        vertical-align: middle;\n",
       "    }\n",
       "\n",
       "    .dataframe tbody tr th {\n",
       "        vertical-align: top;\n",
       "    }\n",
       "\n",
       "    .dataframe thead th {\n",
       "        text-align: right;\n",
       "    }\n",
       "</style>\n",
       "<table border=\"1\" class=\"dataframe\">\n",
       "  <thead>\n",
       "    <tr style=\"text-align: right;\">\n",
       "      <th></th>\n",
       "      <th>label</th>\n",
       "      <th>text</th>\n",
       "      <th>source</th>\n",
       "      <th>chars</th>\n",
       "      <th>words</th>\n",
       "      <th>avg_wlen</th>\n",
       "      <th>puncs</th>\n",
       "      <th>uppers</th>\n",
       "      <th>titles</th>\n",
       "    </tr>\n",
       "  </thead>\n",
       "  <tbody>\n",
       "    <tr>\n",
       "      <th>0</th>\n",
       "      <td>0</td>\n",
       "      <td>So there is no way for me to plug it in here i...</td>\n",
       "      <td>amazon</td>\n",
       "      <td>82</td>\n",
       "      <td>21</td>\n",
       "      <td>3.904762</td>\n",
       "      <td>1</td>\n",
       "      <td>2</td>\n",
       "      <td>2</td>\n",
       "    </tr>\n",
       "    <tr>\n",
       "      <th>1</th>\n",
       "      <td>1</td>\n",
       "      <td>Good case, Excellent value.</td>\n",
       "      <td>amazon</td>\n",
       "      <td>27</td>\n",
       "      <td>4</td>\n",
       "      <td>6.750000</td>\n",
       "      <td>2</td>\n",
       "      <td>0</td>\n",
       "      <td>2</td>\n",
       "    </tr>\n",
       "    <tr>\n",
       "      <th>2</th>\n",
       "      <td>1</td>\n",
       "      <td>Great for the jawbone.</td>\n",
       "      <td>amazon</td>\n",
       "      <td>22</td>\n",
       "      <td>4</td>\n",
       "      <td>5.500000</td>\n",
       "      <td>1</td>\n",
       "      <td>0</td>\n",
       "      <td>1</td>\n",
       "    </tr>\n",
       "    <tr>\n",
       "      <th>3</th>\n",
       "      <td>0</td>\n",
       "      <td>Tied to charger for conversations lasting more...</td>\n",
       "      <td>amazon</td>\n",
       "      <td>79</td>\n",
       "      <td>11</td>\n",
       "      <td>7.181818</td>\n",
       "      <td>3</td>\n",
       "      <td>1</td>\n",
       "      <td>1</td>\n",
       "    </tr>\n",
       "    <tr>\n",
       "      <th>4</th>\n",
       "      <td>1</td>\n",
       "      <td>The mic is great.</td>\n",
       "      <td>amazon</td>\n",
       "      <td>17</td>\n",
       "      <td>4</td>\n",
       "      <td>4.250000</td>\n",
       "      <td>1</td>\n",
       "      <td>0</td>\n",
       "      <td>1</td>\n",
       "    </tr>\n",
       "    <tr>\n",
       "      <th>...</th>\n",
       "      <td>...</td>\n",
       "      <td>...</td>\n",
       "      <td>...</td>\n",
       "      <td>...</td>\n",
       "      <td>...</td>\n",
       "      <td>...</td>\n",
       "      <td>...</td>\n",
       "      <td>...</td>\n",
       "      <td>...</td>\n",
       "    </tr>\n",
       "    <tr>\n",
       "      <th>2995</th>\n",
       "      <td>0</td>\n",
       "      <td>I think food should have flavor and texture an...</td>\n",
       "      <td>yelp</td>\n",
       "      <td>66</td>\n",
       "      <td>12</td>\n",
       "      <td>5.500000</td>\n",
       "      <td>1</td>\n",
       "      <td>1</td>\n",
       "      <td>1</td>\n",
       "    </tr>\n",
       "    <tr>\n",
       "      <th>2996</th>\n",
       "      <td>0</td>\n",
       "      <td>Appetite instantly gone.</td>\n",
       "      <td>yelp</td>\n",
       "      <td>24</td>\n",
       "      <td>3</td>\n",
       "      <td>8.000000</td>\n",
       "      <td>1</td>\n",
       "      <td>0</td>\n",
       "      <td>1</td>\n",
       "    </tr>\n",
       "    <tr>\n",
       "      <th>2997</th>\n",
       "      <td>0</td>\n",
       "      <td>Overall I was not impressed and would not go b...</td>\n",
       "      <td>yelp</td>\n",
       "      <td>50</td>\n",
       "      <td>10</td>\n",
       "      <td>5.000000</td>\n",
       "      <td>1</td>\n",
       "      <td>1</td>\n",
       "      <td>2</td>\n",
       "    </tr>\n",
       "    <tr>\n",
       "      <th>2998</th>\n",
       "      <td>0</td>\n",
       "      <td>The whole experience was underwhelming, and I ...</td>\n",
       "      <td>yelp</td>\n",
       "      <td>91</td>\n",
       "      <td>16</td>\n",
       "      <td>5.687500</td>\n",
       "      <td>3</td>\n",
       "      <td>1</td>\n",
       "      <td>4</td>\n",
       "    </tr>\n",
       "    <tr>\n",
       "      <th>2999</th>\n",
       "      <td>0</td>\n",
       "      <td>Then, as if I hadn't wasted enough of my life ...</td>\n",
       "      <td>yelp</td>\n",
       "      <td>134</td>\n",
       "      <td>28</td>\n",
       "      <td>4.785714</td>\n",
       "      <td>4</td>\n",
       "      <td>1</td>\n",
       "      <td>2</td>\n",
       "    </tr>\n",
       "  </tbody>\n",
       "</table>\n",
       "<p>3000 rows × 9 columns</p>\n",
       "</div>"
      ],
      "text/plain": [
       "      label                                               text  source  chars  \\\n",
       "0         0  So there is no way for me to plug it in here i...  amazon     82   \n",
       "1         1                        Good case, Excellent value.  amazon     27   \n",
       "2         1                             Great for the jawbone.  amazon     22   \n",
       "3         0  Tied to charger for conversations lasting more...  amazon     79   \n",
       "4         1                                  The mic is great.  amazon     17   \n",
       "...     ...                                                ...     ...    ...   \n",
       "2995      0  I think food should have flavor and texture an...    yelp     66   \n",
       "2996      0                           Appetite instantly gone.    yelp     24   \n",
       "2997      0  Overall I was not impressed and would not go b...    yelp     50   \n",
       "2998      0  The whole experience was underwhelming, and I ...    yelp     91   \n",
       "2999      0  Then, as if I hadn't wasted enough of my life ...    yelp    134   \n",
       "\n",
       "      words  avg_wlen  puncs  uppers  titles  \n",
       "0        21  3.904762      1       2       2  \n",
       "1         4  6.750000      2       0       2  \n",
       "2         4  5.500000      1       0       1  \n",
       "3        11  7.181818      3       1       1  \n",
       "4         4  4.250000      1       0       1  \n",
       "...     ...       ...    ...     ...     ...  \n",
       "2995     12  5.500000      1       1       1  \n",
       "2996      3  8.000000      1       0       1  \n",
       "2997     10  5.000000      1       1       2  \n",
       "2998     16  5.687500      3       1       4  \n",
       "2999     28  4.785714      4       1       2  \n",
       "\n",
       "[3000 rows x 9 columns]"
      ]
     },
     "execution_count": 42,
     "metadata": {},
     "output_type": "execute_result"
    }
   ],
   "source": [
    "df"
   ]
  },
  {
   "cell_type": "code",
   "execution_count": 43,
   "metadata": {},
   "outputs": [
    {
     "data": {
      "text/html": [
       "<div>\n",
       "<style scoped>\n",
       "    .dataframe tbody tr th:only-of-type {\n",
       "        vertical-align: middle;\n",
       "    }\n",
       "\n",
       "    .dataframe tbody tr th {\n",
       "        vertical-align: top;\n",
       "    }\n",
       "\n",
       "    .dataframe thead tr th {\n",
       "        text-align: left;\n",
       "    }\n",
       "</style>\n",
       "<table border=\"1\" class=\"dataframe\">\n",
       "  <thead>\n",
       "    <tr>\n",
       "      <th></th>\n",
       "      <th>source</th>\n",
       "      <th>label</th>\n",
       "      <th colspan=\"2\" halign=\"left\">chars</th>\n",
       "      <th colspan=\"2\" halign=\"left\">words</th>\n",
       "      <th colspan=\"2\" halign=\"left\">avg_wlen</th>\n",
       "      <th colspan=\"2\" halign=\"left\">puncs</th>\n",
       "      <th colspan=\"2\" halign=\"left\">uppers</th>\n",
       "      <th colspan=\"2\" halign=\"left\">titles</th>\n",
       "    </tr>\n",
       "    <tr>\n",
       "      <th></th>\n",
       "      <th></th>\n",
       "      <th></th>\n",
       "      <th>mean</th>\n",
       "      <th>std</th>\n",
       "      <th>mean</th>\n",
       "      <th>std</th>\n",
       "      <th>mean</th>\n",
       "      <th>std</th>\n",
       "      <th>mean</th>\n",
       "      <th>std</th>\n",
       "      <th>mean</th>\n",
       "      <th>std</th>\n",
       "      <th>mean</th>\n",
       "      <th>std</th>\n",
       "    </tr>\n",
       "  </thead>\n",
       "  <tbody>\n",
       "    <tr>\n",
       "      <th>0</th>\n",
       "      <td>amazon</td>\n",
       "      <td>0</td>\n",
       "      <td>56.824</td>\n",
       "      <td>34.022464</td>\n",
       "      <td>10.578</td>\n",
       "      <td>6.578028</td>\n",
       "      <td>5.653474</td>\n",
       "      <td>1.262250</td>\n",
       "      <td>2.002</td>\n",
       "      <td>1.509488</td>\n",
       "      <td>0.558</td>\n",
       "      <td>1.223777</td>\n",
       "      <td>1.242</td>\n",
       "      <td>0.888265</td>\n",
       "    </tr>\n",
       "    <tr>\n",
       "      <th>1</th>\n",
       "      <td>amazon</td>\n",
       "      <td>1</td>\n",
       "      <td>53.628</td>\n",
       "      <td>35.234764</td>\n",
       "      <td>9.914</td>\n",
       "      <td>6.785772</td>\n",
       "      <td>5.670933</td>\n",
       "      <td>1.113802</td>\n",
       "      <td>1.842</td>\n",
       "      <td>1.296301</td>\n",
       "      <td>0.410</td>\n",
       "      <td>0.637741</td>\n",
       "      <td>1.304</td>\n",
       "      <td>0.892848</td>\n",
       "    </tr>\n",
       "    <tr>\n",
       "      <th>2</th>\n",
       "      <td>imdb</td>\n",
       "      <td>0</td>\n",
       "      <td>77.104</td>\n",
       "      <td>50.901504</td>\n",
       "      <td>13.580</td>\n",
       "      <td>9.037863</td>\n",
       "      <td>5.814498</td>\n",
       "      <td>0.941015</td>\n",
       "      <td>2.494</td>\n",
       "      <td>1.954893</td>\n",
       "      <td>0.362</td>\n",
       "      <td>0.745700</td>\n",
       "      <td>1.434</td>\n",
       "      <td>1.420450</td>\n",
       "    </tr>\n",
       "    <tr>\n",
       "      <th>3</th>\n",
       "      <td>imdb</td>\n",
       "      <td>1</td>\n",
       "      <td>87.466</td>\n",
       "      <td>60.831157</td>\n",
       "      <td>15.128</td>\n",
       "      <td>10.102859</td>\n",
       "      <td>5.826946</td>\n",
       "      <td>0.992992</td>\n",
       "      <td>2.650</td>\n",
       "      <td>2.282525</td>\n",
       "      <td>0.400</td>\n",
       "      <td>0.710641</td>\n",
       "      <td>1.800</td>\n",
       "      <td>1.730314</td>\n",
       "    </tr>\n",
       "    <tr>\n",
       "      <th>4</th>\n",
       "      <td>yelp</td>\n",
       "      <td>0</td>\n",
       "      <td>60.752</td>\n",
       "      <td>34.226443</td>\n",
       "      <td>11.498</td>\n",
       "      <td>6.611916</td>\n",
       "      <td>5.401394</td>\n",
       "      <td>0.896878</td>\n",
       "      <td>2.000</td>\n",
       "      <td>1.424098</td>\n",
       "      <td>0.500</td>\n",
       "      <td>0.965331</td>\n",
       "      <td>1.326</td>\n",
       "      <td>0.932450</td>\n",
       "    </tr>\n",
       "    <tr>\n",
       "      <th>5</th>\n",
       "      <td>yelp</td>\n",
       "      <td>1</td>\n",
       "      <td>55.888</td>\n",
       "      <td>30.232490</td>\n",
       "      <td>10.290</td>\n",
       "      <td>5.831459</td>\n",
       "      <td>5.606887</td>\n",
       "      <td>0.951414</td>\n",
       "      <td>1.930</td>\n",
       "      <td>1.658494</td>\n",
       "      <td>0.300</td>\n",
       "      <td>0.553727</td>\n",
       "      <td>1.340</td>\n",
       "      <td>0.884287</td>\n",
       "    </tr>\n",
       "  </tbody>\n",
       "</table>\n",
       "</div>"
      ],
      "text/plain": [
       "   source label   chars              words             avg_wlen            \\\n",
       "                   mean        std    mean        std      mean       std   \n",
       "0  amazon     0  56.824  34.022464  10.578   6.578028  5.653474  1.262250   \n",
       "1  amazon     1  53.628  35.234764   9.914   6.785772  5.670933  1.113802   \n",
       "2    imdb     0  77.104  50.901504  13.580   9.037863  5.814498  0.941015   \n",
       "3    imdb     1  87.466  60.831157  15.128  10.102859  5.826946  0.992992   \n",
       "4    yelp     0  60.752  34.226443  11.498   6.611916  5.401394  0.896878   \n",
       "5    yelp     1  55.888  30.232490  10.290   5.831459  5.606887  0.951414   \n",
       "\n",
       "   puncs           uppers           titles            \n",
       "    mean       std   mean       std   mean       std  \n",
       "0  2.002  1.509488  0.558  1.223777  1.242  0.888265  \n",
       "1  1.842  1.296301  0.410  0.637741  1.304  0.892848  \n",
       "2  2.494  1.954893  0.362  0.745700  1.434  1.420450  \n",
       "3  2.650  2.282525  0.400  0.710641  1.800  1.730314  \n",
       "4  2.000  1.424098  0.500  0.965331  1.326  0.932450  \n",
       "5  1.930  1.658494  0.300  0.553727  1.340  0.884287  "
      ]
     },
     "metadata": {},
     "output_type": "display_data"
    },
    {
     "data": {
      "text/html": [
       "<div>\n",
       "<style scoped>\n",
       "    .dataframe tbody tr th:only-of-type {\n",
       "        vertical-align: middle;\n",
       "    }\n",
       "\n",
       "    .dataframe tbody tr th {\n",
       "        vertical-align: top;\n",
       "    }\n",
       "\n",
       "    .dataframe thead tr th {\n",
       "        text-align: left;\n",
       "    }\n",
       "</style>\n",
       "<table border=\"1\" class=\"dataframe\">\n",
       "  <thead>\n",
       "    <tr>\n",
       "      <th></th>\n",
       "      <th>source</th>\n",
       "      <th>label</th>\n",
       "      <th colspan=\"2\" halign=\"left\">chars</th>\n",
       "      <th colspan=\"2\" halign=\"left\">words</th>\n",
       "      <th colspan=\"2\" halign=\"left\">avg_wlen</th>\n",
       "      <th colspan=\"2\" halign=\"left\">puncs</th>\n",
       "      <th colspan=\"2\" halign=\"left\">uppers</th>\n",
       "      <th colspan=\"2\" halign=\"left\">titles</th>\n",
       "    </tr>\n",
       "    <tr>\n",
       "      <th></th>\n",
       "      <th></th>\n",
       "      <th></th>\n",
       "      <th>min</th>\n",
       "      <th>max</th>\n",
       "      <th>min</th>\n",
       "      <th>max</th>\n",
       "      <th>min</th>\n",
       "      <th>max</th>\n",
       "      <th>min</th>\n",
       "      <th>max</th>\n",
       "      <th>min</th>\n",
       "      <th>max</th>\n",
       "      <th>min</th>\n",
       "      <th>max</th>\n",
       "    </tr>\n",
       "  </thead>\n",
       "  <tbody>\n",
       "    <tr>\n",
       "      <th>0</th>\n",
       "      <td>amazon</td>\n",
       "      <td>0</td>\n",
       "      <td>11.0</td>\n",
       "      <td>149.0</td>\n",
       "      <td>1.0</td>\n",
       "      <td>30.0</td>\n",
       "      <td>3.857143</td>\n",
       "      <td>14.0</td>\n",
       "      <td>0.0</td>\n",
       "      <td>11.0</td>\n",
       "      <td>0.0</td>\n",
       "      <td>15.0</td>\n",
       "      <td>0.0</td>\n",
       "      <td>6.0</td>\n",
       "    </tr>\n",
       "    <tr>\n",
       "      <th>1</th>\n",
       "      <td>amazon</td>\n",
       "      <td>1</td>\n",
       "      <td>11.0</td>\n",
       "      <td>148.0</td>\n",
       "      <td>1.0</td>\n",
       "      <td>30.0</td>\n",
       "      <td>3.166667</td>\n",
       "      <td>13.0</td>\n",
       "      <td>0.0</td>\n",
       "      <td>9.0</td>\n",
       "      <td>0.0</td>\n",
       "      <td>3.0</td>\n",
       "      <td>0.0</td>\n",
       "      <td>8.0</td>\n",
       "    </tr>\n",
       "    <tr>\n",
       "      <th>2</th>\n",
       "      <td>imdb</td>\n",
       "      <td>0</td>\n",
       "      <td>8.0</td>\n",
       "      <td>321.0</td>\n",
       "      <td>1.0</td>\n",
       "      <td>56.0</td>\n",
       "      <td>4.181818</td>\n",
       "      <td>11.5</td>\n",
       "      <td>1.0</td>\n",
       "      <td>14.0</td>\n",
       "      <td>0.0</td>\n",
       "      <td>6.0</td>\n",
       "      <td>0.0</td>\n",
       "      <td>22.0</td>\n",
       "    </tr>\n",
       "    <tr>\n",
       "      <th>3</th>\n",
       "      <td>imdb</td>\n",
       "      <td>1</td>\n",
       "      <td>7.0</td>\n",
       "      <td>479.0</td>\n",
       "      <td>1.0</td>\n",
       "      <td>71.0</td>\n",
       "      <td>3.200000</td>\n",
       "      <td>12.0</td>\n",
       "      <td>0.0</td>\n",
       "      <td>18.0</td>\n",
       "      <td>0.0</td>\n",
       "      <td>4.0</td>\n",
       "      <td>0.0</td>\n",
       "      <td>13.0</td>\n",
       "    </tr>\n",
       "    <tr>\n",
       "      <th>4</th>\n",
       "      <td>yelp</td>\n",
       "      <td>0</td>\n",
       "      <td>11.0</td>\n",
       "      <td>149.0</td>\n",
       "      <td>2.0</td>\n",
       "      <td>32.0</td>\n",
       "      <td>3.666667</td>\n",
       "      <td>12.5</td>\n",
       "      <td>0.0</td>\n",
       "      <td>11.0</td>\n",
       "      <td>0.0</td>\n",
       "      <td>13.0</td>\n",
       "      <td>0.0</td>\n",
       "      <td>7.0</td>\n",
       "    </tr>\n",
       "    <tr>\n",
       "      <th>5</th>\n",
       "      <td>yelp</td>\n",
       "      <td>1</td>\n",
       "      <td>11.0</td>\n",
       "      <td>148.0</td>\n",
       "      <td>1.0</td>\n",
       "      <td>32.0</td>\n",
       "      <td>3.666667</td>\n",
       "      <td>11.0</td>\n",
       "      <td>0.0</td>\n",
       "      <td>19.0</td>\n",
       "      <td>0.0</td>\n",
       "      <td>3.0</td>\n",
       "      <td>0.0</td>\n",
       "      <td>7.0</td>\n",
       "    </tr>\n",
       "  </tbody>\n",
       "</table>\n",
       "</div>"
      ],
      "text/plain": [
       "   source label chars        words        avg_wlen       puncs       uppers  \\\n",
       "                  min    max   min   max       min   max   min   max    min   \n",
       "0  amazon     0  11.0  149.0   1.0  30.0  3.857143  14.0   0.0  11.0    0.0   \n",
       "1  amazon     1  11.0  148.0   1.0  30.0  3.166667  13.0   0.0   9.0    0.0   \n",
       "2    imdb     0   8.0  321.0   1.0  56.0  4.181818  11.5   1.0  14.0    0.0   \n",
       "3    imdb     1   7.0  479.0   1.0  71.0  3.200000  12.0   0.0  18.0    0.0   \n",
       "4    yelp     0  11.0  149.0   2.0  32.0  3.666667  12.5   0.0  11.0    0.0   \n",
       "5    yelp     1  11.0  148.0   1.0  32.0  3.666667  11.0   0.0  19.0    0.0   \n",
       "\n",
       "        titles        \n",
       "    max    min   max  \n",
       "0  15.0    0.0   6.0  \n",
       "1   3.0    0.0   8.0  \n",
       "2   6.0    0.0  22.0  \n",
       "3   4.0    0.0  13.0  \n",
       "4  13.0    0.0   7.0  \n",
       "5   3.0    0.0   7.0  "
      ]
     },
     "metadata": {},
     "output_type": "display_data"
    }
   ],
   "source": [
    "display(df.groupby(['source', 'label']).describe().loc[:,(slice(None),['mean', 'std'])].reset_index())\n",
    "display(df.groupby(['source', 'label']).describe().loc[:,(slice(None),['min', 'max'])].reset_index())"
   ]
  },
  {
   "cell_type": "code",
   "execution_count": 44,
   "metadata": {},
   "outputs": [
    {
     "name": "stderr",
     "output_type": "stream",
     "text": [
      "[nltk_data] Downloading package punkt to C:\\Users\\Michael\n",
      "[nltk_data]     Le\\AppData\\Roaming\\nltk_data...\n",
      "[nltk_data]   Package punkt is already up-to-date!\n",
      "[nltk_data] Downloading package stopwords to C:\\Users\\Michael\n",
      "[nltk_data]     Le\\AppData\\Roaming\\nltk_data...\n",
      "[nltk_data]   Package stopwords is already up-to-date!\n",
      "<ipython-input-44-4ba24db5ee3a>:28: SettingWithCopyWarning: \n",
      "A value is trying to be set on a copy of a slice from a DataFrame\n",
      "\n",
      "See the caveats in the documentation: https://pandas.pydata.org/pandas-docs/stable/user_guide/indexing.html#returning-a-view-versus-a-copy\n",
      "  df['clean_text'][i] = ' '.join(words)\n"
     ]
    },
    {
     "data": {
      "text/html": [
       "<div>\n",
       "<style scoped>\n",
       "    .dataframe tbody tr th:only-of-type {\n",
       "        vertical-align: middle;\n",
       "    }\n",
       "\n",
       "    .dataframe tbody tr th {\n",
       "        vertical-align: top;\n",
       "    }\n",
       "\n",
       "    .dataframe thead th {\n",
       "        text-align: right;\n",
       "    }\n",
       "</style>\n",
       "<table border=\"1\" class=\"dataframe\">\n",
       "  <thead>\n",
       "    <tr style=\"text-align: right;\">\n",
       "      <th></th>\n",
       "      <th>label</th>\n",
       "      <th>text</th>\n",
       "      <th>source</th>\n",
       "      <th>chars</th>\n",
       "      <th>words</th>\n",
       "      <th>avg_wlen</th>\n",
       "      <th>puncs</th>\n",
       "      <th>uppers</th>\n",
       "      <th>titles</th>\n",
       "      <th>clean_text</th>\n",
       "    </tr>\n",
       "  </thead>\n",
       "  <tbody>\n",
       "    <tr>\n",
       "      <th>0</th>\n",
       "      <td>0</td>\n",
       "      <td>So there is no way for me to plug it in here i...</td>\n",
       "      <td>amazon</td>\n",
       "      <td>82</td>\n",
       "      <td>21</td>\n",
       "      <td>3.904762</td>\n",
       "      <td>1</td>\n",
       "      <td>2</td>\n",
       "      <td>2</td>\n",
       "      <td>amazon way plug us unless go converter</td>\n",
       "    </tr>\n",
       "    <tr>\n",
       "      <th>1</th>\n",
       "      <td>1</td>\n",
       "      <td>Good case, Excellent value.</td>\n",
       "      <td>amazon</td>\n",
       "      <td>27</td>\n",
       "      <td>4</td>\n",
       "      <td>6.750000</td>\n",
       "      <td>2</td>\n",
       "      <td>0</td>\n",
       "      <td>2</td>\n",
       "      <td>amazon good case excellent value</td>\n",
       "    </tr>\n",
       "    <tr>\n",
       "      <th>2</th>\n",
       "      <td>1</td>\n",
       "      <td>Great for the jawbone.</td>\n",
       "      <td>amazon</td>\n",
       "      <td>22</td>\n",
       "      <td>4</td>\n",
       "      <td>5.500000</td>\n",
       "      <td>1</td>\n",
       "      <td>0</td>\n",
       "      <td>1</td>\n",
       "      <td>amazon great jawbone</td>\n",
       "    </tr>\n",
       "    <tr>\n",
       "      <th>3</th>\n",
       "      <td>0</td>\n",
       "      <td>Tied to charger for conversations lasting more...</td>\n",
       "      <td>amazon</td>\n",
       "      <td>79</td>\n",
       "      <td>11</td>\n",
       "      <td>7.181818</td>\n",
       "      <td>3</td>\n",
       "      <td>1</td>\n",
       "      <td>1</td>\n",
       "      <td>amazon tied charger conversations lasting 45 m...</td>\n",
       "    </tr>\n",
       "    <tr>\n",
       "      <th>4</th>\n",
       "      <td>1</td>\n",
       "      <td>The mic is great.</td>\n",
       "      <td>amazon</td>\n",
       "      <td>17</td>\n",
       "      <td>4</td>\n",
       "      <td>4.250000</td>\n",
       "      <td>1</td>\n",
       "      <td>0</td>\n",
       "      <td>1</td>\n",
       "      <td>amazon mic great</td>\n",
       "    </tr>\n",
       "  </tbody>\n",
       "</table>\n",
       "</div>"
      ],
      "text/plain": [
       "   label                                               text  source  chars  \\\n",
       "0      0  So there is no way for me to plug it in here i...  amazon     82   \n",
       "1      1                        Good case, Excellent value.  amazon     27   \n",
       "2      1                             Great for the jawbone.  amazon     22   \n",
       "3      0  Tied to charger for conversations lasting more...  amazon     79   \n",
       "4      1                                  The mic is great.  amazon     17   \n",
       "\n",
       "   words  avg_wlen  puncs  uppers  titles  \\\n",
       "0     21  3.904762      1       2       2   \n",
       "1      4  6.750000      2       0       2   \n",
       "2      4  5.500000      1       0       1   \n",
       "3     11  7.181818      3       1       1   \n",
       "4      4  4.250000      1       0       1   \n",
       "\n",
       "                                          clean_text  \n",
       "0             amazon way plug us unless go converter  \n",
       "1                   amazon good case excellent value  \n",
       "2                               amazon great jawbone  \n",
       "3  amazon tied charger conversations lasting 45 m...  \n",
       "4                                   amazon mic great  "
      ]
     },
     "execution_count": 44,
     "metadata": {},
     "output_type": "execute_result"
    }
   ],
   "source": [
    "# text cleaning\n",
    "import nltk\n",
    "nltk.download('punkt')\n",
    "nltk.download('stopwords')\n",
    "from nltk.tokenize import word_tokenize\n",
    "from nltk.corpus import stopwords\n",
    "import numpy as np\n",
    "import string\n",
    "\n",
    "i = 0\n",
    "df['clean_text'] = ''\n",
    "for row in df.text:\n",
    "    # add spaces to prevent word merging\n",
    "    row = row.replace('.', '. ', row.count('.')).replace(',', ', ', row.count(','))\n",
    "    # split into words\n",
    "    tokens = word_tokenize(row)\n",
    "    # convert to lower case\n",
    "    tokens = [token.lower() for token in tokens]\n",
    "    # remove punctuation\n",
    "    table = str.maketrans('', '', string.punctuation)\n",
    "    words = [token.translate(table) for token in tokens]\n",
    "    # remove non-alphabetic or numeric tokens\n",
    "    words = [word for word in words if word.isalnum()]\n",
    "    # filter stop words\n",
    "    stop_words = set(stopwords.words('english'))\n",
    "    words = [word for word in words if not word in stop_words]\n",
    "    #print(words)\n",
    "    df['clean_text'][i] = ' '.join(words)\n",
    "    i += 1\n",
    "df.clean_text = df.source + ' ' + df.clean_text\n",
    "df.head()"
   ]
  },
  {
   "cell_type": "code",
   "execution_count": 45,
   "metadata": {},
   "outputs": [
    {
     "data": {
      "text/html": [
       "<div>\n",
       "<style scoped>\n",
       "    .dataframe tbody tr th:only-of-type {\n",
       "        vertical-align: middle;\n",
       "    }\n",
       "\n",
       "    .dataframe tbody tr th {\n",
       "        vertical-align: top;\n",
       "    }\n",
       "\n",
       "    .dataframe thead th {\n",
       "        text-align: right;\n",
       "    }\n",
       "</style>\n",
       "<table border=\"1\" class=\"dataframe\">\n",
       "  <thead>\n",
       "    <tr style=\"text-align: right;\">\n",
       "      <th></th>\n",
       "      <th>label</th>\n",
       "      <th>text</th>\n",
       "      <th>source</th>\n",
       "      <th>chars</th>\n",
       "      <th>words</th>\n",
       "      <th>avg_wlen</th>\n",
       "      <th>puncs</th>\n",
       "      <th>uppers</th>\n",
       "      <th>titles</th>\n",
       "      <th>clean_text</th>\n",
       "    </tr>\n",
       "  </thead>\n",
       "  <tbody>\n",
       "    <tr>\n",
       "      <th>0</th>\n",
       "      <td>0</td>\n",
       "      <td>So there is no way for me to plug it in here i...</td>\n",
       "      <td>amazon</td>\n",
       "      <td>82</td>\n",
       "      <td>21</td>\n",
       "      <td>3.904762</td>\n",
       "      <td>1</td>\n",
       "      <td>2</td>\n",
       "      <td>2</td>\n",
       "      <td>amazon way plug us unless go converter</td>\n",
       "    </tr>\n",
       "    <tr>\n",
       "      <th>1</th>\n",
       "      <td>1</td>\n",
       "      <td>Good case, Excellent value.</td>\n",
       "      <td>amazon</td>\n",
       "      <td>27</td>\n",
       "      <td>4</td>\n",
       "      <td>6.750000</td>\n",
       "      <td>2</td>\n",
       "      <td>0</td>\n",
       "      <td>2</td>\n",
       "      <td>amazon good case excellent value</td>\n",
       "    </tr>\n",
       "    <tr>\n",
       "      <th>2</th>\n",
       "      <td>1</td>\n",
       "      <td>Great for the jawbone.</td>\n",
       "      <td>amazon</td>\n",
       "      <td>22</td>\n",
       "      <td>4</td>\n",
       "      <td>5.500000</td>\n",
       "      <td>1</td>\n",
       "      <td>0</td>\n",
       "      <td>1</td>\n",
       "      <td>amazon great jawbone</td>\n",
       "    </tr>\n",
       "    <tr>\n",
       "      <th>3</th>\n",
       "      <td>0</td>\n",
       "      <td>Tied to charger for conversations lasting more...</td>\n",
       "      <td>amazon</td>\n",
       "      <td>79</td>\n",
       "      <td>11</td>\n",
       "      <td>7.181818</td>\n",
       "      <td>3</td>\n",
       "      <td>1</td>\n",
       "      <td>1</td>\n",
       "      <td>amazon tied charger conversations lasting 45 m...</td>\n",
       "    </tr>\n",
       "    <tr>\n",
       "      <th>4</th>\n",
       "      <td>1</td>\n",
       "      <td>The mic is great.</td>\n",
       "      <td>amazon</td>\n",
       "      <td>17</td>\n",
       "      <td>4</td>\n",
       "      <td>4.250000</td>\n",
       "      <td>1</td>\n",
       "      <td>0</td>\n",
       "      <td>1</td>\n",
       "      <td>amazon mic great</td>\n",
       "    </tr>\n",
       "    <tr>\n",
       "      <th>...</th>\n",
       "      <td>...</td>\n",
       "      <td>...</td>\n",
       "      <td>...</td>\n",
       "      <td>...</td>\n",
       "      <td>...</td>\n",
       "      <td>...</td>\n",
       "      <td>...</td>\n",
       "      <td>...</td>\n",
       "      <td>...</td>\n",
       "      <td>...</td>\n",
       "    </tr>\n",
       "    <tr>\n",
       "      <th>2995</th>\n",
       "      <td>0</td>\n",
       "      <td>I think food should have flavor and texture an...</td>\n",
       "      <td>yelp</td>\n",
       "      <td>66</td>\n",
       "      <td>12</td>\n",
       "      <td>5.500000</td>\n",
       "      <td>1</td>\n",
       "      <td>1</td>\n",
       "      <td>1</td>\n",
       "      <td>yelp think food flavor texture lacking</td>\n",
       "    </tr>\n",
       "    <tr>\n",
       "      <th>2996</th>\n",
       "      <td>0</td>\n",
       "      <td>Appetite instantly gone.</td>\n",
       "      <td>yelp</td>\n",
       "      <td>24</td>\n",
       "      <td>3</td>\n",
       "      <td>8.000000</td>\n",
       "      <td>1</td>\n",
       "      <td>0</td>\n",
       "      <td>1</td>\n",
       "      <td>yelp appetite instantly gone</td>\n",
       "    </tr>\n",
       "    <tr>\n",
       "      <th>2997</th>\n",
       "      <td>0</td>\n",
       "      <td>Overall I was not impressed and would not go b...</td>\n",
       "      <td>yelp</td>\n",
       "      <td>50</td>\n",
       "      <td>10</td>\n",
       "      <td>5.000000</td>\n",
       "      <td>1</td>\n",
       "      <td>1</td>\n",
       "      <td>2</td>\n",
       "      <td>yelp overall impressed would go back</td>\n",
       "    </tr>\n",
       "    <tr>\n",
       "      <th>2998</th>\n",
       "      <td>0</td>\n",
       "      <td>The whole experience was underwhelming, and I ...</td>\n",
       "      <td>yelp</td>\n",
       "      <td>91</td>\n",
       "      <td>16</td>\n",
       "      <td>5.687500</td>\n",
       "      <td>3</td>\n",
       "      <td>1</td>\n",
       "      <td>4</td>\n",
       "      <td>yelp whole experience underwhelming think go n...</td>\n",
       "    </tr>\n",
       "    <tr>\n",
       "      <th>2999</th>\n",
       "      <td>0</td>\n",
       "      <td>Then, as if I hadn't wasted enough of my life ...</td>\n",
       "      <td>yelp</td>\n",
       "      <td>134</td>\n",
       "      <td>28</td>\n",
       "      <td>4.785714</td>\n",
       "      <td>4</td>\n",
       "      <td>1</td>\n",
       "      <td>2</td>\n",
       "      <td>yelp nt wasted enough life poured salt wound d...</td>\n",
       "    </tr>\n",
       "  </tbody>\n",
       "</table>\n",
       "<p>3000 rows × 10 columns</p>\n",
       "</div>"
      ],
      "text/plain": [
       "      label                                               text  source  chars  \\\n",
       "0         0  So there is no way for me to plug it in here i...  amazon     82   \n",
       "1         1                        Good case, Excellent value.  amazon     27   \n",
       "2         1                             Great for the jawbone.  amazon     22   \n",
       "3         0  Tied to charger for conversations lasting more...  amazon     79   \n",
       "4         1                                  The mic is great.  amazon     17   \n",
       "...     ...                                                ...     ...    ...   \n",
       "2995      0  I think food should have flavor and texture an...    yelp     66   \n",
       "2996      0                           Appetite instantly gone.    yelp     24   \n",
       "2997      0  Overall I was not impressed and would not go b...    yelp     50   \n",
       "2998      0  The whole experience was underwhelming, and I ...    yelp     91   \n",
       "2999      0  Then, as if I hadn't wasted enough of my life ...    yelp    134   \n",
       "\n",
       "      words  avg_wlen  puncs  uppers  titles  \\\n",
       "0        21  3.904762      1       2       2   \n",
       "1         4  6.750000      2       0       2   \n",
       "2         4  5.500000      1       0       1   \n",
       "3        11  7.181818      3       1       1   \n",
       "4         4  4.250000      1       0       1   \n",
       "...     ...       ...    ...     ...     ...   \n",
       "2995     12  5.500000      1       1       1   \n",
       "2996      3  8.000000      1       0       1   \n",
       "2997     10  5.000000      1       1       2   \n",
       "2998     16  5.687500      3       1       4   \n",
       "2999     28  4.785714      4       1       2   \n",
       "\n",
       "                                             clean_text  \n",
       "0                amazon way plug us unless go converter  \n",
       "1                      amazon good case excellent value  \n",
       "2                                  amazon great jawbone  \n",
       "3     amazon tied charger conversations lasting 45 m...  \n",
       "4                                      amazon mic great  \n",
       "...                                                 ...  \n",
       "2995             yelp think food flavor texture lacking  \n",
       "2996                       yelp appetite instantly gone  \n",
       "2997               yelp overall impressed would go back  \n",
       "2998  yelp whole experience underwhelming think go n...  \n",
       "2999  yelp nt wasted enough life poured salt wound d...  \n",
       "\n",
       "[3000 rows x 10 columns]"
      ]
     },
     "execution_count": 45,
     "metadata": {},
     "output_type": "execute_result"
    }
   ],
   "source": [
    "df"
   ]
  },
  {
   "cell_type": "markdown",
   "metadata": {},
   "source": [
    "B2"
   ]
  },
  {
   "cell_type": "markdown",
   "metadata": {},
   "source": [
    "The goals for tokenization is to prepare the text data for machine learning. It can clean the text removing stop words, puncuations. It characterizes words to a unique token to be classified by splitting the sentence into individual words."
   ]
  },
  {
   "cell_type": "markdown",
   "metadata": {},
   "source": [
    "B3"
   ]
  },
  {
   "cell_type": "markdown",
   "metadata": {},
   "source": [
<<<<<<< HEAD
    "The padding process works by setting a max length of words and any words short of the max word length will get additional zeroes in place to meet the max length. Any sentence over  the max will get words dropped to meet the max as well. This is neccessary for NLP to work by having the inputs the same size."
=======
<<<<<<< HEAD
    "The padding process works by setting a max length of words and any words short of the max word length will get additional zeroes in place to meet the max length. Any sentence over  the max will get words dropped to meet the max as well. This is neccessary for NLP to work by having the inputs the same length. This process should be performed after the text sequence because the text sequence process tokenizes the words into unique values."
=======
<<<<<<< HEAD
    "The padding process works by setting a max length of words and any words short of the max word length will get additional zeroes in place to meet the max length. Any sentence over  the max will get words dropped to meet the max as well. This is neccessary for NLP to work by having the inputs the same size."
=======
    "The padding process works by setting a max length of words and any words short of the max word length will get additional zeroes in place to meet the max length. Any sentence over  the max will get words dropped to meet the max as well. This is neccessary for NLP to work by having the inputs the same length."
>>>>>>> 447ea46a952509ef76576fc862bc31ea50a49708
>>>>>>> 50b0b04008d9ec0953a3f71f11d380e71e949e2b
   ]
  },
  {
   "cell_type": "code",
   "execution_count": 46,
   "metadata": {},
   "outputs": [],
   "source": [
    "from tensorflow.keras.preprocessing.text import Tokenizer\n",
    "from tensorflow.keras.preprocessing.sequence import pad_sequences"
   ]
  },
  {
   "cell_type": "code",
   "execution_count": 47,
   "metadata": {},
   "outputs": [
    {
     "name": "stdout",
     "output_type": "stream",
     "text": [
      "{'amazon': 1, 'imdb': 2, 'yelp': 3, 'nt': 4, 'good': 5, 'great': 6, 'movie': 7, 'phone': 8, 'film': 9, 'one': 10, 'food': 11, 'like': 12, 'place': 13, 'time': 14, 'service': 15, 'really': 16, 'bad': 17, 'would': 18, 'well': 19, 'best': 20, 'even': 21, 'ever': 22, 'also': 23, 'back': 24, 'could': 25, 'quality': 26, 'go': 27, 'love': 28, 'made': 29, 'product': 30, 'get': 31, 'work': 32, 'excellent': 33, 'works': 34, 'nice': 35, 'better': 36, 'never': 37, 'recommend': 38, 'much': 39, 'use': 40, 'sound': 41, 'headset': 42, 'think': 43, 'battery': 44, 'first': 45, 'way': 46, 'pretty': 47, 'see': 48, 'make': 49, 'acting': 50, 'got': 51, 'still': 52, 'worst': 53, 'everything': 54, 'say': 55, 'enough': 56, '2': 57, 'two': 58, 'ear': 59, 'little': 60, 'disappointed': 61, 'every': 62, 'characters': 63, 'right': 64, 'thing': 65, 'price': 66, 'amazing': 67, 'minutes': 68, 'waste': 69, 'going': 70, 'people': 71, 'definitely': 72, 'case': 73, 'real': 74, 'terrible': 75, 'money': 76, 'look': 77, 'new': 78, 'know': 79, 'experience': 80, 'came': 81, 'movies': 82, 'friendly': 83, 'many': 84, 'story': 85, 'far': 86, 'poor': 87, 'piece': 88, 'used': 89, 'worth': 90, 'plot': 91, 'years': 92, 'life': 93, 'nothing': 94, 'wo': 95, 'seen': 96, 'us': 97, 'long': 98, 'want': 99, 'lot': 100, '10': 101, 'quite': 102, 'ca': 103, 'wonderful': 104, 'restaurant': 105, 'happy': 106, 'always': 107, 'films': 108, 'script': 109, 'highly': 110, 'found': 111, 'give': 112, 'anyone': 113, 'character': 114, 'delicious': 115, 'easy': 116, 'screen': 117, 'times': 118, 'another': 119, 'watching': 120, 'vegas': 121, 'went': 122, 'bought': 123, 'absolutely': 124, 'loved': 125, 'car': 126, 'fine': 127, 'buy': 128, 'worked': 129, 'around': 130, 'funny': 131, 'probably': 132, 'take': 133, 'awful': 134, 'comfortable': 135, 'camera': 136, 'since': 137, 'item': 138, 'awesome': 139, 'horrible': 140, 'however': 141, 'charger': 142, 'impressed': 143, 'makes': 144, 'cool': 145, 'find': 146, 'big': 147, 'music': 148, 'thought': 149, 'stars': 150, 'things': 151, 'show': 152, 'totally': 153, 'scenes': 154, 'actors': 155, 'watch': 156, 'staff': 157, 'eat': 158, 'though': 159, 'last': 160, 'talk': 161, 'bluetooth': 162, 'end': 163, 'black': 164, '1': 165, 'job': 166, 'small': 167, 'fantastic': 168, 'slow': 169, 'night': 170, 'overall': 171, 'part': 172, 'family': 173, 'come': 174, 'cast': 175, 'must': 176, '5': 177, 'beautiful': 178, 'kind': 179, 'cheap': 180, 'ordered': 181, 'old': 182, 'stupid': 183, 'said': 184, 'day': 185, 'perfect': 186, 'chicken': 187, 'line': 188, 'problem': 189, 'sure': 190, 'performance': 191, 'actually': 192, 'reception': 193, 'avoid': 194, 'try': 195, 'especially': 196, 'feel': 197, 'next': 198, 'fresh': 199, 'special': 200, 'problems': 201, 'everyone': 202, 'least': 203, 'order': 204, 'tried': 205, 'done': 206, 'simply': 207, 'felt': 208, 'bit': 209, 'anything': 210, 'sucks': 211, 'hard': 212, 'scene': 213, 'interesting': 214, 'menu': 215, 'salad': 216, 'pizza': 217, 'without': 218, 'hear': 219, 'charge': 220, 'calls': 221, 'looks': 222, 'purchase': 223, 'gets': 224, 'expect': 225, 'fit': 226, 'fast': 227, 'cell': 228, 'completely': 229, 'almost': 230, 'customer': 231, 'either': 232, 'low': 233, 'away': 234, 'liked': 235, 'coming': 236, 'man': 237, 'enjoyed': 238, 'writing': 239, 'worse': 240, 'taste': 241, 'wait': 242, 'steak': 243, 'motorola': 244, 'left': 245, '3': 246, 'short': 247, 'clear': 248, 'seriously': 249, 'different': 250, 'device': 251, 'working': 252, 'using': 253, 'white': 254, 'call': 255, 'year': 256, 'whole': 257, 'rather': 258, 'bland': 259, 'hour': 260, 'dialogue': 261, 'server': 262, 'sushi': 263, 'flavor': 264, 'plug': 265, 'volume': 266, 'several': 267, 'started': 268, 'design': 269, 'super': 270, 'play': 271, 'full': 272, 'may': 273, 'getting': 274, 'perfectly': 275, 'side': 276, 'put': 277, 'incredible': 278, 'extremely': 279, 'tell': 280, 'return': 281, 'disappointing': 282, 'looking': 283, 'crap': 284, 'deal': 285, 'understand': 286, 'unfortunately': 287, 'took': 288, 'enjoy': 289, 'believe': 290, 'fact': 291, 'art': 292, 'saw': 293, 'buffet': 294, 'feeling': 295, 'director': 296, 'watched': 297, 'atmosphere': 298, 'burger': 299, 'yet': 300, 'three': 301, 'need': 302, 'received': 303, 'huge': 304, 'light': 305, 'fits': 306, 'hours': 307, 'less': 308, 'stay': 309, 'certainly': 310, 'mess': 311, 'disappointment': 312, 'care': 313, 'hot': 314, 'wrong': 315, 'sucked': 316, 'barely': 317, 'truly': 318, 'mediocre': 319, 'soon': 320, 'ending': 321, 'boring': 322, 'tasty': 323, 'meal': 324, 'fun': 325, 'wasted': 326, 'original': 327, 'days': 328, 'months': 329, 'recommended': 330, 'kept': 331, 'picture': 332, 'let': 333, 'home': 334, 'high': 335, 'strong': 336, 'pleased': 337, 'area': 338, 'glad': 339, 'company': 340, 'gave': 341, 'oh': 342, 'none': 343, 'something': 344, 'tv': 345, 'together': 346, 'effects': 347, 'easily': 348, 'inside': 349, 'top': 350, 'kids': 351, 'predictable': 352, 'actor': 353, 'played': 354, 'cold': 355, 'selection': 356, 'prices': 357, 'sauce': 358, 'waited': 359, 'decent': 360, 'helpful': 361, 'turn': 362, 'verizon': 363, 'dropped': 364, 'phones': 365, 'seems': 366, 'wear': 367, 'series': 368, 'broke': 369, 'voice': 370, 'lost': 371, 'hands': 372, 'junk': 373, 'ago': 374, 'couple': 375, 'face': 376, 'trying': 377, 'wanted': 378, 'today': 379, 'keep': 380, '20': 381, 'star': 382, 'guess': 383, 'bar': 384, 'else': 385, 'places': 386, 'half': 387, 'directing': 388, 'game': 389, 'drama': 390, 'waitress': 391, 'second': 392, 'style': 393, 'spot': 394, 'fries': 395, 'table': 396, 'sandwich': 397, 'lunch': 398, 'meat': 399, 'breakfast': 400, 'dishes': 401, 'clean': 402, 'value': 403, 'simple': 404, 'hate': 405, 'garbage': 406, 'audio': 407, 'buttons': 408, 'perhaps': 409, 'arrived': 410, 'quickly': 411, 'pictures': 412, 'although': 413, 'wife': 414, 'ask': 415, 'jabra': 416, 'set': 417, 'house': 418, 'obviously': 419, 'check': 420, 'mostly': 421, 'expected': 422, 'important': 423, 'someone': 424, 'weak': 425, 'average': 426, 'finally': 427, 'waiting': 428, 'comes': 429, 'unit': 430, 'given': 431, 'quick': 432, 'plus': 433, 'point': 434, 'pay': 435, 'told': 436, 'entire': 437, '4': 438, 'fails': 439, 'cinematography': 440, 'cinema': 441, 'amount': 442, 'twice': 443, 'playing': 444, 'world': 445, 'human': 446, 'eating': 447, 'overpriced': 448, 'beer': 449, 'dish': 450, 'dining': 451, 'spicy': 452, 'rude': 453, 'tasted': 454, 'unless': 455, 'book': 456, 'priced': 457, 'mind': 458, 'loud': 459, 'reasonable': 460, 'front': 461, 'cover': 462, 'week': 463, 'later': 464, 'feels': 465, 'headsets': 466, 'within': 467, 'free': 468, 'software': 469, 'brilliant': 470, 'literally': 471, 'superb': 472, 'internet': 473, 'charm': 474, 'useless': 475, 'color': 476, 'room': 477, 'authentic': 478, 'cable': 479, 'nokia': 480, 'outside': 481, 'others': 482, 'mention': 483, 'might': 484, 'solid': 485, 'review': 486, 'store': 487, 'friends': 488, 'course': 489, 'needed': 490, 'wall': 491, 'whatever': 492, 'management': 493, 'word': 494, 'joy': 495, 'girl': 496, 'lines': 497, 'hilarious': 498, 'single': 499, 'editing': 500, 'written': 501, 'suspense': 502, 'classic': 503, 'bring': 504, 'maybe': 505, 'horror': 506, 'possible': 507, 'beyond': 508, 'john': 509, 'action': 510, 'hope': 511, 'location': 512, 'sick': 513, 'subtle': 514, 'drive': 515, '90': 516, '30': 517, 'comedy': 518, 'heart': 519, 'tender': 520, 'served': 521, 'waiter': 522, 'attentive': 523, 'cooked': 524, 'town': 525, 'ambiance': 526, 'chips': 527, 'bars': 528, 'hold': 529, 'ears': 530, 'features': 531, 'instead': 532, 'large': 533, 'headphones': 534, 'particular': 535, 'player': 536, 'songs': 537, 'sometimes': 538, 'longer': 539, 'costs': 540, 'dont': 541, 'signal': 542, 'basically': 543, 'seemed': 544, 'goes': 545, 'whether': 546, 'hit': 547, 'thin': 548, 'bother': 549, 'range': 550, 'mistake': 551, 'whatsoever': 552, '8': 553, 'feature': 554, 'adorable': 555, 'poorly': 556, 'clever': 557, 'lacking': 558, 'reason': 559, 'exactly': 560, 'dead': 561, 'plastic': 562, 'note': 563, '12': 564, 'difficult': 565, 'seem': 566, 'zero': 567, 'joke': 568, 'walked': 569, 'idea': 570, 'samsung': 571, 'cases': 572, 'extra': 573, 'reviews': 574, 'happened': 575, 'despite': 576, 'etc': 577, 'elsewhere': 578, 'rare': 579, 'lots': 580, 'making': 581, 'setting': 582, 'rating': 583, 'rest': 584, 'wow': 585, 'ridiculous': 586, 'running': 587, 'lacks': 588, 'casting': 589, 'history': 590, 'flick': 591, 'lovely': 592, 'performances': 593, 'believable': 594, 'portrayal': 595, 'sat': 596, 'annoying': 597, 'gives': 598, 'business': 599, 'terrific': 600, 'rent': 601, 'fish': 602, 'hitchcock': 603, 'holes': 604, 'considering': 605, 'sweet': 606, 'seeing': 607, 'become': 608, 'leave': 609, 'throughout': 610, 'looked': 611, 'damn': 612, 'pho': 613, 'warm': 614, 'shrimp': 615, 'potato': 616, 'dinner': 617, 'razr': 618, 'blue': 619, 'charging': 620, 'owned': 621, '7': 622, 'provided': 623, 'sturdy': 624, 'party': 625, 'choice': 626, 'holds': 627, 'bargain': 628, 'shipping': 629, 'impressive': 630, 'fall': 631, 'leather': 632, 'weeks': 633, 'stuff': 634, 'minute': 635, 'forever': 636, 'graphics': 637, 'offers': 638, 'options': 639, 'needs': 640, 'recently': 641, 'incredibly': 642, 'reasonably': 643, 'form': 644, 'living': 645, 'embarrassing': 646, 'favorite': 647, 'cute': 648, 'buying': 649, 'cant': 650, 'games': 651, 'belt': 652, 'data': 653, 'along': 654, 'sides': 655, 'satisfied': 656, 'clarity': 657, 'wish': 658, 'turned': 659, 'reading': 660, 'computer': 661, 'ability': 662, 'roles': 663, 'ended': 664, 'replace': 665, 'total': 666, 'please': 667, 'due': 668, 'trash': 669, 'connection': 670, 'rate': 671, 'beat': 672, 'shots': 673, 'hand': 674, 'generally': 675, 'break': 676, 'thumbs': 677, 'dirty': 678, 'utterly': 679, 'ok': 680, 'audience': 681, 'empty': 682, 'budget': 683, 'consider': 684, 'level': 685, 'deserves': 686, 'lame': 687, 'tom': 688, 'often': 689, 'trip': 690, 'direction': 691, 'imagination': 692, 'cult': 693, 'mean': 694, 'lead': 695, 'silent': 696, 'close': 697, 'usual': 698, 'pathetic': 699, 'lacked': 700, 'plain': 701, 'soundtrack': 702, 'fans': 703, 'eyes': 704, 'child': 705, 'water': 706, 'shot': 707, 'memorable': 708, 'dry': 709, 'fan': 710, 'involved': 711, 'period': 712, 'particularly': 713, 'recent': 714, 'unbelievable': 715, 'rice': 716, '40': 717, 'sad': 718, 'asked': 719, 'tables': 720, 'portions': 721, 'dessert': 722, 'beef': 723, 'servers': 724, 'seafood': 725, 'pasta': 726, 'tasteless': 727, 'thai': 728, 'eaten': 729, 'seated': 730, 'bacon': 731, 'ice': 732, 'bread': 733, 'friend': 734, 'fried': 735, 'anytime': 736, 'mic': 737, 'sending': 738, 'owner': 739, 'clip': 740, 'advise': 741, 'website': 742, 'pair': 743, 'run': 744, 'instructions': 745, 'pull': 746, 'moving': 747, 'included': 748, 'worthless': 749, 'thats': 750, 'keyboard': 751, 'turns': 752, 'forget': 753, 'support': 754, 'clearly': 755, 'fairly': 756, 'trouble': 757, 'person': 758, 'station': 759, 'purchased': 760, 'loves': 761, 'decision': 762, 'rated': 763, 'rocks': 764, 'number': 765, 'comfortably': 766, 'failed': 767, 'takes': 768, 'previous': 769, 'tool': 770, 'share': 771, 'wasting': 772, 'handsfree': 773, 'network': 774, 'likes': 775, 'lasts': 776, 'nearly': 777, 'anyway': 778, 'able': 779, 'issues': 780, 'lightweight': 781, 'hair': 782, 'market': 783, 'type': 784, 'earpiece': 785, 'unreliable': 786, 'seller': 787, 'plantronics': 788, 'charged': 789, 'strip': 790, 'lg': 791, 'gotten': 792, 'immediately': 793, 'easier': 794, 'appealing': 795, 'called': 796, 'happier': 797, 'starts': 798, 'effective': 799, 'weird': 800, 'appearance': 801, 'q': 802, 'expensive': 803, 'tmobile': 804, 'results': 805, 'im': 806, 'earlier': 807, 'palm': 808, 'touch': 809, 'missed': 810, 'hated': 811, 'ringtones': 812, 'plays': 813, 'killer': 814, '50': 815, 'treo': 816, 'genuine': 817, 'red': 818, 'third': 819, 'ready': 820, 'chinese': 821, 'crisp': 822, 'power': 823, 'passed': 824, 'shows': 825, 'cut': 826, 'somewhat': 827, 'cost': 828, 'son': 829, 'addition': 830, 'disgusting': 831, 'five': 832, 'wind': 833, 'yes': 834, 'checked': 835, 'says': 836, 'exceptional': 837, 'wonderfully': 838, 'christmas': 839, 'young': 840, 'flat': 841, 'song': 842, 'showed': 843, 'main': 844, 'tale': 845, 'greatest': 846, 'gem': 847, 'true': 848, 'words': 849, 'massive': 850, 'complete': 851, 'convincing': 852, 'honestly': 853, 'follow': 854, 'energy': 855, 'pretentious': 856, 'occasionally': 857, 'including': 858, 'chemistry': 859, 'fear': 860, 'depth': 861, 'bunch': 862, 'paid': 863, 'crazy': 864, 'storyline': 865, 'gone': 866, 'already': 867, 'attempt': 868, 'camerawork': 869, 'torture': 870, 'pleasant': 871, 'premise': 872, 'ray': 873, 'charles': 874, 'remember': 875, 'thriller': 876, 'attention': 877, 'master': 878, 'visual': 879, 'fx': 880, 'mexican': 881, 'indeed': 882, 'thoroughly': 883, 'theater': 884, 'intelligence': 885, 'sense': 886, 'entertaining': 887, 'bored': 888, 'list': 889, 'guy': 890, 'towards': 891, 'drago': 892, 'enjoyable': 893, 'god': 894, 'parts': 895, 'sets': 896, 'stories': 897, 'production': 898, 'created': 899, 'role': 900, 'scamp': 901, 'charming': 902, 'insult': 903, 'death': 904, 'rolls': 905, 'space': 906, 'conclusion': 907, 'ten': 908, 'final': 909, 'serious': 910, 'mickey': 911, 'james': 912, 'vibe': 913, 'dark': 914, 'honest': 915, 'nasty': 916, 'delight': 917, 'thinking': 918, 'heard': 919, 'mouth': 920, 'dance': 921, 'italian': 922, 'beginning': 923, 'appreciate': 924, 'tacos': 925, 'salmon': 926, 'visit': 927, 'establishment': 928, 'husband': 929, 'drinks': 930, 'yummy': 931, 'wine': 932, 'steaks': 933, 'pork': 934, 'burgers': 935, 'cream': 936, 'drink': 937, 'bay': 938, 'phoenix': 939, 'wings': 940, 'live': 941, 'folks': 942, 'tea': 943, 'vegetables': 944, 'soup': 945, 'owners': 946, 'manager': 947, 'jawbone': 948, 'conversations': 949, 'lasting': 950, 'contacts': 951, 'imagine': 952, 'needless': 953, 'static': 954, 'odd': 955, 'wonder': 956, 'fire': 957, 'mother': 958, 'pocket': 959, 'pc': 960, 'combination': 961, 'speed': 962, 'gon': 963, 'na': 964, 'returned': 965, 'protection': 966, 'machine': 967, '15': 968, 'seconds': 969, '510': 970, 'complaints': 971, 'glasses': 972, 'quiet': 973, 'saying': 974, 'packaged': 975, '6': 976, 'construction': 977, 'boy': 978, 'loads': 979, 'ease': 980, 'plan': 981, 'beware': 982, 'supposedly': 983, 'match': 984, 'pros': 985, 'flaw': 986, 'expectations': 987, 'display': 988, 'setup': 989, 'earpieces': 990, 'bt': 991, 'earbud': 992, 'coverage': 993, 'tremendous': 994, 'experienced': 995, 'drops': 996, 'description': 997, 'hoping': 998, 'sounds': 999, 'sharp': 1000, 'chargers': 1001, 'bucks': 1002, 'replacement': 1003, 'strange': 1004, 'means': 1005, 'sony': 1006, 'comfort': 1007, 'aspect': 1008, 'appears': 1009, 'scary': 1010, 'drain': 1011, 'fry': 1012, 'giving': 1013, 'scratched': 1014, 'microphone': 1015, 'uncomfortable': 1016, 'plugged': 1017, 'driving': 1018, 'neither': 1019, 'flip': 1020, 'inexpensive': 1021, 'sitting': 1022, 'los': 1023, 'angeles': 1024, 'wireless': 1025, 'save': 1026, 'self': 1027, 'help': 1028, 'era': 1029, 'breaks': 1030, 'effect': 1031, 'warning': 1032, 'alone': 1033, 'size': 1034, 'sunglasses': 1035, 'returning': 1036, 'changing': 1037, 'worthwhile': 1038, 'pricing': 1039, 'regret': 1040, 'user': 1041, 'pitiful': 1042, 'noise': 1043, 'holster': 1044, 'amazed': 1045, 'orders': 1046, 'thanks': 1047, 'edge': 1048, 'refund': 1049, 'drop': 1050, 'ones': 1051, 'properly': 1052, 'flawed': 1053, 'forced': 1054, 'stop': 1055, 'speaker': 1056, 'constructed': 1057, 'holding': 1058, 'sprint': 1059, 'effort': 1060, 'stopped': 1061, 'usb': 1062, 'apart': 1063, 'surprised': 1064, 'fabulous': 1065, 'tinny': 1066, 'overly': 1067, 'placed': 1068, 'keeps': 1069, 'falling': 1070, 'tiny': 1071, 'four': 1072, 'spring': 1073, 'tries': 1074, 'interested': 1075, 'continue': 1076, 'pairing': 1077, 'balance': 1078, 'explain': 1079, 'biggest': 1080, 'stand': 1081, 'video': 1082, 'occupied': 1083, 'ripped': 1084, 'iphone': 1085, 'multiple': 1086, 'outlet': 1087, 'freedom': 1088, 'mark': 1089, '100': 1090, 'plenty': 1091, 'convenient': 1092, 'date': 1093, 'bottom': 1094, 'cingular': 1095, 'wooden': 1096, 'boot': 1097, 'sorry': 1098, 'double': 1099, 'sounded': 1100, 'feet': 1101, 'father': 1102, 'send': 1103, 'describe': 1104, 'letting': 1105, 'material': 1106, 'flaws': 1107, 'beep': 1108, 'managed': 1109, 'seat': 1110, 'otherwise': 1111, 'control': 1112, 'complain': 1113, 'lousy': 1114, 'directed': 1115, 'painful': 1116, 'disappoint': 1117, 'speak': 1118, 'head': 1119, 'meaning': 1120, 'baby': 1121, 'delivers': 1122, 'sea': 1123, 'faux': 1124, 'significant': 1125, 'pure': 1126, 'brilliance': 1127, 'moment': 1128, 'talented': 1129, 'fare': 1130, 'hill': 1131, 'ed': 1132, 'ladies': 1133, 'grace': 1134, 'negative': 1135, 'cause': 1136, 'pointless': 1137, 'anne': 1138, 'children': 1139, 'parents': 1140, 'dialog': 1141, 'selections': 1142, 'gross': 1143, 'lion': 1144, 'acted': 1145, 'checking': 1146, 'touching': 1147, 'scenery': 1148, 'paper': 1149, 'episode': 1150, '1010': 1151, 'remake': 1152, 'nobody': 1153, 'putting': 1154, 'conflict': 1155, 'handled': 1156, 'hell': 1157, 'disaster': 1158, 'treat': 1159, 'yeah': 1160, 'cartoon': 1161, 'paul': 1162, 'women': 1163, 'brain': 1164, 'redeeming': 1165, 'appalling': 1166, 'presents': 1167, 'screenwriter': 1168, 'step': 1169, 'ups': 1170, 'age': 1171, 'industry': 1172, 'spent': 1173, 'daughter': 1174, 'singing': 1175, 'bore': 1176, 'dancing': 1177, 'dvd': 1178, 'struck': 1179, 'contained': 1180, 'theme': 1181, 'aerial': 1182, 'thrilled': 1183, 'deeply': 1184, 'interest': 1185, 'narrative': 1186, 'actress': 1187, 'spoilers': 1188, 'stunning': 1189, 'surprisingly': 1190, 'released': 1191, 'ranks': 1192, 'journey': 1193, 'memories': 1194, 'summary': 1195, 'billy': 1196, 'possibly': 1197, 'trilogy': 1198, 'favourite': 1199, 'judge': 1200, 'wrap': 1201, 'leaves': 1202, 'reviewer': 1203, 'intelligent': 1204, 'smart': 1205, 'bakery': 1206, 'stage': 1207, 'actresses': 1208, 'ways': 1209, 'modern': 1210, 'scared': 1211, 'supposed': 1212, 'learn': 1213, 'values': 1214, 'huston': 1215, 'steve': 1216, 'ruthless': 1217, 'war': 1218, 'example': 1219, 'angel': 1220, 'thrown': 1221, 'scale': 1222, 'glance': 1223, 'score': 1224, 'frightening': 1225, 'oscar': 1226, 'knew': 1227, 'stanwyck': 1228, 'fat': 1229, 'footage': 1230, 'opened': 1231, 'sort': 1232, 'behind': 1233, 'race': 1234, 'happen': 1235, 'unconvincing': 1236, 'produced': 1237, 'early': 1238, 'documentary': 1239, 'martin': 1240, 'racial': 1241, 'crowd': 1242, 'imaginative': 1243, 'credit': 1244, 'watchable': 1245, 'pace': 1246, 'lighting': 1247, 'past': 1248, 'excuse': 1249, 'nonsense': 1250, 'exquisite': 1251, 'known': 1252, 'south': 1253, 'lady': 1254, 'delightful': 1255, 'beautifully': 1256, 'wilkinson': 1257, 'laughable': 1258, 'begin': 1259, 'late': 1260, 'giallo': 1261, 'emotions': 1262, 'belly': 1263, 'spend': 1264, 'write': 1265, 'stinks': 1266, 'writer': 1267, 'suck': 1268, 'stayed': 1269, 'puppets': 1270, 'doubt': 1271, 'guys': 1272, 'miyazaki': 1273, 'realized': 1274, 'subpar': 1275, 'animation': 1276, 'added': 1277, 'texture': 1278, 'recommendation': 1279, 'potatoes': 1280, 'brought': 1281, 'sashimi': 1282, 'moist': 1283, 'frozen': 1284, 'greek': 1285, 'dressing': 1286, 'pita': 1287, 'hummus': 1288, 'duck': 1289, 'salt': 1290, 'chewy': 1291, 'tip': 1292, 'cafe': 1293, 'ambience': 1294, 'busy': 1295, 'delish': 1296, 'melt': 1297, 'cheese': 1298, 'subway': 1299, 'restaurants': 1300, 'ate': 1301, 'stale': 1302, 'treated': 1303, 'vegetarian': 1304, 'healthy': 1305, 'decor': 1306, 'butter': 1307, 'egg': 1308, 'dog': 1309, 'insulted': 1310, 'brunch': 1311, 'soggy': 1312, 'lobster': 1313, 'chef': 1314, 'flavorful': 1315, 'generous': 1316, 'patio': 1317, 'outstanding': 1318, 'pizzas': 1319, 'pulled': 1320, 'mom': 1321, 'equally': 1322, 'bathroom': 1323, 'door': 1324, 'stomach': 1325, 'green': 1326, 'beans': 1327, 'regular': 1328, '35': 1329, 'bill': 1330, 'meals': 1331, 'homemade': 1332, 'desserts': 1333, 'boyfriend': 1334, 'edible': 1335, 'seating': 1336, 'salsa': 1337, '45': 1338, 'major': 1339, 'dozen': 1340, 'extended': 1341, 'notice': 1342, 'tooth': 1343, 'mobile': 1344, 'unusable': 1345, 'contract': 1346, 'juice': 1347, 'regarding': 1348, 'pda': 1349, 'neat': 1350, 'gadget': 1351, 'e': 1352, 'essentially': 1353, 'microsoft': 1354, 'tech': 1355, 'elegant': 1356, 'angle': 1357, 'skip': 1358, 'lock': 1359, 'died': 1360, 'docking': 1361, 'd807': 1362, 'advertised': 1363, 'handy': 1364, 'cheaper': 1365, 'seamlessly': 1366, 'buyer': 1367, 'apparently': 1368, 'relatively': 1369, 'resolution': 1370, 'slim': 1371, 'sex': 1372, 'toast': 1373, 'sleek': 1374, 'compromise': 1375, 'basic': 1376, 'keypad': 1377, 'unhappy': 1378, 'winner': 1379, 'realize': 1380, 'careful': 1381, 'logitech': 1382, 'recognition': 1383, 'stated': 1384, 'blackberry': 1385, 'technology': 1386, 'wired': 1387, 'messages': 1388, 'faster': 1389, 'w810i': 1390, 'whine': 1391, 'maintain': 1392, 'humans': 1393, 'button': 1394, 'thank': 1395, 'igo': 1396, 'tips': 1397, 'connected': 1398, 'latest': 1399, 'storage': 1400, 'buzzing': 1401, 'override': 1402, 'functionality': 1403, 'ring': 1404, 'tone': 1405, 'dropping': 1406, 'weight': 1407, 'hardly': 1408, 'ends': 1409, 'consumer': 1410, 'background': 1411, 'usually': 1412, 'excited': 1413, 'additional': 1414, 'gels': 1415, 'secure': 1416, 'gosh': 1417, 'attractive': 1418, 'smell': 1419, 'unbearable': 1420, 'caused': 1421, 'flimsy': 1422, 'month': 1423, 'flawlessly': 1424, 'rotating': 1425, 'thru': 1426, 'cat': 1427, '5year': 1428, 'removing': 1429, 'compliments': 1430, 'allow': 1431, 'dialing': 1432, '23': 1433, 'ipod': 1434, 'recharge': 1435, 'practically': 1436, 'add': 1437, 'boost': 1438, 'finished': 1439, 'ringing': 1440, 'hurt': 1441, 'push': 1442, 'skype': 1443, 'shipped': 1444, 'promptly': 1445, 'prompt': 1446, 'noticed': 1447, 'colored': 1448, 'cheaply': 1449, 'att': 1450, 'distorted': 1451, 'forgot': 1452, 'model': 1453, 'finds': 1454, 'enter': 1455, 'modest': 1456, 'dying': 1457, 'built': 1458, 'install': 1459, 'purchasing': 1460, 'moto': 1461, 'figure': 1462, 'fully': 1463, 'memory': 1464, 'card': 1465, 'wearing': 1466, 'timely': 1467, 'update': 1468, 'cumbersome': 1469, 'delivery': 1470, 'switch': 1471, 'batteries': 1472, 'receiving': 1473, 'exchanged': 1474, 'described': 1475, '11': 1476, 'nyc': 1477, 'defective': 1478, 'unacceptable': 1479, 'eye': 1480, 'catching': 1481, 'function': 1482, 'timeframe': 1483, 'complaint': 1484, 'standard': 1485, 'ugly': 1486, 'improvement': 1487, 'accidentally': 1488, 'listening': 1489, 'kitchen': 1490, 'conversation': 1491, 'practical': 1492, 'ample': 1493, 'eargels': 1494, 'channel': 1495, 'numerous': 1496, 'frustration': 1497, 'understanding': 1498, 'wire': 1499, 'menus': 1500, 'broken': 1501, 'development': 1502, 'knows': 1503, 'breaking': 1504, 'operate': 1505, 'paired': 1506, 'normally': 1507, 'brand': 1508, 'players': 1509, 'comments': 1510, 'performed': 1511, 'echo': 1512, 'warranty': 1513, 'produce': 1514, 'luck': 1515, 'exchange': 1516, 'utter': 1517, 'download': 1518, 'smoothly': 1519, 'study': 1520, 'access': 1521, 'somehow': 1522, 'flash': 1523, 'choices': 1524, 'tones': 1525, 'prime': 1526, 'jack': 1527, 'accept': 1528, 'except': 1529, 'allows': 1530, 'open': 1531, 'allowing': 1532, 'numbers': 1533, 'r': 1534, 'crashed': 1535, 'quit': 1536, 'via': 1537, 'span': 1538, 'signs': 1539, 'sizes': 1540, 'provides': 1541, 'mainly': 1542, 'metro': 1543, 'smoke': 1544, 'carries': 1545, 'highest': 1546, 'protector': 1547, 'wont': 1548, 'impossible': 1549, 'refused': 1550, 'discount': 1551, 'talking': 1552, 'telephone': 1553, 'everywhere': 1554, 'ordering': 1555, 'awkward': 1556, 'row': 1557, 'current': 1558, 'read': 1559, 'laptop': 1560, 'sister': 1561, 'discomfort': 1562, 'normal': 1563, 'confusing': 1564, 'lose': 1565, 'cutouts': 1566, 'cuts': 1567, 'wild': 1568, 'carry': 1569, 'loose': 1570, 'receive': 1571, 'lightly': 1572, '2005': 1573, 'certain': 1574, 'unsatisfactory': 1575, 'hype': 1576, 'covered': 1577, 'falls': 1578, 'blew': 1579, 'touches': 1580, 'angles': 1581, 'became': 1582, 'jimmy': 1583, 'sisters': 1584, 'terms': 1585, 'filmmaking': 1586, 'masterpiece': 1587, 'masterpieces': 1588, 'fill': 1589, 'imaginable': 1590, 'pieces': 1591, 'create': 1592, 'levels': 1593, 'canada': 1594, 'pg13': 1595, 'unfunny': 1596, 'generic': 1597, 'morgan': 1598, 'jonah': 1599, 'lazy': 1600, 'presence': 1601, 'obvious': 1602, 'french': 1603, 'whiny': 1604, 'future': 1605, 'warmth': 1606, 'delivering': 1607, 'unpredictable': 1608, 'badly': 1609, 'alexander': 1610, 'artist': 1611, 'lived': 1612, 'superbly': 1613, 'heaven': 1614, 'lives': 1615, 'church': 1616, 'tonight': 1617, 'uplifting': 1618, 'frankly': 1619, 'club': 1620, 'lane': 1621, 'chick': 1622, 'correct': 1623, 'bold': 1624, 'helps': 1625, 'accused': 1626, 'afraid': 1627, 'tremendously': 1628, 'sandra': 1629, 'bullock': 1630, 'moments': 1631, 'losing': 1632, 'ratings': 1633, 'dramatic': 1634, 'tension': 1635, 'central': 1636, 'themes': 1637, 'core': 1638, 'following': 1639, 'viewing': 1640, 'quinn': 1641, 'disliked': 1642, 'dollars': 1643, 'mad': 1644, 'cardboard': 1645, 'stereotypes': 1646, 'predictably': 1647, 'crafted': 1648, 'depressing': 1649, 'racism': 1650, 'explanation': 1651, 'drag': 1652, 'wayne': 1653, 'older': 1654, 'selfindulgent': 1655, 'noteworthy': 1656, 'blood': 1657, 'forth': 1658, 'jamie': 1659, 'genius': 1660, 'hence': 1661, 'mishima': 1662, 'uninteresting': 1663, 'chilly': 1664, 'culture': 1665, 'schrader': 1666, 'realistic': 1667, 'talent': 1668, 'chance': 1669, 'senses': 1670, 'june': 1671, 'angry': 1672, 'sour': 1673, 'matter': 1674, 'complex': 1675, 'psychological': 1676, 'soul': 1677, 'gripping': 1678, 'disturbing': 1679, 'jerky': 1680, 'witty': 1681, 'ceases': 1682, 'directors': 1683, 'visually': 1684, 'spoiler': 1685, 'remaining': 1686, 'suffering': 1687, 'smile': 1688, 'vomited': 1689, 'coppola': 1690, '25': 1691, 'unfolds': 1692, 'contrast': 1693, 'sublime': 1694, 'offensive': 1695, 'poetry': 1696, 'masterful': 1697, 'nature': 1698, 'disbelief': 1699, 'female': 1700, 'array': 1701, 'nuts': 1702, 'dangerous': 1703, 'reactions': 1704, 'twist': 1705, 'shed': 1706, 'underneath': 1707, 'wide': 1708, 'relationship': 1709, 'assistant': 1710, 'laugh': 1711, 'de': 1712, 'taped': 1713, 'wholesome': 1714, 'portraying': 1715, 'taking': 1716, 'forgetting': 1717, 'attempts': 1718, 'situation': 1719, 'bear': 1720, 'kinda': 1721, 'question': 1722, 'lucy': 1723, 'japanese': 1724, 'america': 1725, 'photography': 1726, 'composition': 1727, 'brian': 1728, 'largely': 1729, 'member': 1730, 'identify': 1731, 'connery': 1732, 'robert': 1733, 'murdered': 1734, 'humour': 1735, 'brother': 1736, 'ryan': 1737, 'hollywood': 1738, 'thus': 1739, 'undoubtedly': 1740, 'popular': 1741, 'positive': 1742, 'unique': 1743, 'european': 1744, 'circumstances': 1745, 'caught': 1746, 'junkyard': 1747, 'dogs': 1748, 'american': 1749, 'americans': 1750, 'pile': 1751, 'round': 1752, 'continuity': 1753, 'corn': 1754, 'box': 1755, 'directorial': 1756, 'proud': 1757, 'filmmaker': 1758, 'sand': 1759, '110': 1760, '010': 1761, 'sake': 1762, 'jobs': 1763, 'girlfriend': 1764, 'public': 1765, 'fox': 1766, 'unrecognizable': 1767, 'relations': 1768, 'taylor': 1769, 'surprising': 1770, 'entirely': 1771, 'chow': 1772, 'cheesy': 1773, 'proceedings': 1774, 'remotely': 1775, 'mercy': 1776, 'killing': 1777, 'overacting': 1778, 'awkwardly': 1779, 'english': 1780, 'hackneyed': 1781, 'blah': 1782, 'length': 1783, 'air': 1784, 'afternoon': 1785, 'creates': 1786, 'fascinating': 1787, 'humorous': 1788, 'filmed': 1789, 'thoughts': 1790, 'dislike': 1791, 'began': 1792, 'change': 1793, 'season': 1794, 'contains': 1795, 'reality': 1796, '20th': 1797, 'century': 1798, 'implausible': 1799, 'jean': 1800, 'studio': 1801, 'indoor': 1802, 'start': 1803, 'class': 1804, 'betty': 1805, 'aside': 1806, 'mouse': 1807, 'famous': 1808, 'turkey': 1809, 'among': 1810, '80': 1811, 'terribly': 1812, 'deserving': 1813, 'shame': 1814, 'version': 1815, 'dumb': 1816, 'monster': 1817, 'lack': 1818, 'notable': 1819, 'opening': 1820, 'sequence': 1821, 'gas': 1822, 'fair': 1823, 'teeth': 1824, 'sum': 1825, 'avoided': 1826, 'limited': 1827, 'sign': 1828, 'asleep': 1829, 'cartoons': 1830, 'deserved': 1831, 'element': 1832, 'fifteen': 1833, 'volcano': 1834, 'abysmal': 1835, 'vomit': 1836, 'miss': 1837, 'dedication': 1838, 'versus': 1839, 'mature': 1840, 'brings': 1841, 'focus': 1842, 'underlying': 1843, 'relationships': 1844, 'engaging': 1845, 'errol': 1846, 'flynn': 1847, 'dull': 1848, 'guests': 1849, 'surrounding': 1850, 'excellently': 1851, 'tops': 1852, 'typical': 1853, 'revealing': 1854, 'africa': 1855, 'process': 1856, 'shakespear': 1857, 'macbeth': 1858, 'brief': 1859, 'moral': 1860, 'decay': 1861, 'forces': 1862, 'evil': 1863, 'adaptation': 1864, 'costumes': 1865, 'ball': 1866, 'judging': 1867, 'difference': 1868, 'documentaries': 1869, 'joe': 1870, 'watkins': 1871, 'peter': 1872, 'hollow': 1873, 'cole': 1874, 'disgrace': 1875, 'sleep': 1876, 'achievement': 1877, 'kid': 1878, 'tough': 1879, 'whenever': 1880, 'earth': 1881, 'emily': 1882, 'watson': 1883, 'prepared': 1884, 'compelling': 1885, 'sentiment': 1886, 'trap': 1887, 'fulci': 1888, '70': 1889, 'personally': 1890, 'thick': 1891, 'blown': 1892, 'events': 1893, 'result': 1894, 'slightest': 1895, 'duet': 1896, 'astronaut': 1897, 'doctor': 1898, 'extraordinary': 1899, 'courtroom': 1900, 'highlights': 1901, 'discovering': 1902, 'court': 1903, 'paced': 1904, 'understated': 1905, 'smells': 1906, 'pack': 1907, 'phenomenal': 1908, 'opinion': 1909, 'neil': 1910, 'delights': 1911, 'sample': 1912, 'deliver': 1913, 'sharply': 1914, 'tongue': 1915, 'cheek': 1916, 'struggle': 1917, 'heads': 1918, 'reminded': 1919, 'childhood': 1920, 'nut': 1921, 'lord': 1922, 'atrocious': 1923, 'spoil': 1924, 'references': 1925, 'act': 1926, 'pacing': 1927, 'consistent': 1928, 'dreams': 1929, 'uses': 1930, 'hopefully': 1931, 'hip': 1932, 'loneliness': 1933, 'emilio': 1934, 'estevez': 1935, 'interplay': 1936, 'suggest': 1937, 'natural': 1938, 'street': 1939, 'readers': 1940, 'hearts': 1941, 'closed': 1942, 'depicts': 1943, 'provoking': 1944, 'reasons': 1945, 'ponyo': 1946, 'refreshing': 1947, 'traditional': 1948, 'wants': 1949, 'wave': 1950, 'deep': 1951, 'lange': 1952, 'crust': 1953, 'cashier': 1954, 'mmmm': 1955, 'overwhelmed': 1956, 'bite': 1957, 'familiar': 1958, 'favor': 1959, 'grossed': 1960, 'char': 1961, 'attitudes': 1962, 'customers': 1963, 'portion': 1964, 'attack': 1965, 'grill': 1966, 'downtown': 1967, 'scallop': 1968, 'refill': 1969, 'appetizers': 1970, 'batter': 1971, 'finish': 1972, 'meh': 1973, 'min': 1974, 'seasoned': 1975, 'opportunity': 1976, 'underwhelming': 1977, 'grease': 1978, 'roast': 1979, 'sugary': 1980, 'six': 1981, 'die': 1982, 'bye': 1983, 'serves': 1984, 'roasted': 1985, 'garlic': 1986, 'marrow': 1987, 'mary': 1988, 'bartender': 1989, 'lovers': 1990, 'preparing': 1991, 'indian': 1992, 'tuna': 1993, 'bagels': 1994, 'dine': 1995, 'rarely': 1996, 'curry': 1997, 'bathrooms': 1998, 'decorated': 1999, 'greeted': 2000, 'joint': 2001, 'overcooked': 2002, 'charcoal': 2003, 'decided': 2004, 'dirt': 2005, 'gyros': 2006, 'valley': 2007, 'bowl': 2008, 'disrespected': 2009, 'gold': 2010, 'puree': 2011, 'bug': 2012, 'shower': 2013, 'bisque': 2014, 'filet': 2015, 'pepper': 2016, 'cook': 2017, 'dealing': 2018, 'cheeseburger': 2019, 'yum': 2020, 'mayo': 2021, 'building': 2022, 'creamy': 2023, 'similar': 2024, 'sticks': 2025, 'tap': 2026, 'par': 2027, 'coffee': 2028, 'boba': 2029, 'taco': 2030, 'bachi': 2031, 'salads': 2032, 'neighborhood': 2033, 'soooo': 2034, 'stir': 2035, 'summer': 2036, 'toasted': 2037, 'serve': 2038, 'bites': 2039, 'omg': 2040, 'brick': 2041, 'oven': 2042, 'pancakes': 2043, 'eggs': 2044, 'evening': 2045, 'lukewarm': 2046, 'eggplant': 2047, 'stuffed': 2048, 'mall': 2049, 'perfection': 2050, 'impeccable': 2051, 'pop': 2052, 'assure': 2053, 'professional': 2054, 'nicest': 2055, 'biscuits': 2056, 'cow': 2057, 'driest': 2058, 'tots': 2059, 'acknowledged': 2060, 'margaritas': 2061, 'flower': 2062, 'group': 2063, 'crab': 2064, 'legs': 2065, 'sliced': 2066, 'filling': 2067, 'choose': 2068, 'entrees': 2069, 'tapas': 2070, 'vinegrette': 2071, 'helped': 2072, 'presentation': 2073, 'satisfying': 2074, 'grilled': 2075, 'focused': 2076, 'promise': 2077, 'legit': 2078, 'staying': 2079, 'fail': 2080, 'plate': 2081, 'serving': 2082, 'fly': 2083, 'mid': 2084, 'definately': 2085, 'flavorless': 2086, 'nachos': 2087, 'tribute': 2088, 'fell': 2089, 'heat': 2090, 'undercooked': 2091, 'converter': 2092, 'tied': 2093, 'jiggle': 2094, 'hundred': 2095, 'seperated': 2096, 'mere': 2097, 'ft': 2098, 'excessive': 2099, 'garbled': 2100, 'fooled': 2101, 'clicks': 2102, 'mechanism': 2103, 'followed': 2104, 'directions': 2105, 'kindle': 2106, 'commercials': 2107, 'misleading': 2108, 'couldnt': 2109, 'earphone': 2110, 'breakage': 2111, 'unacceptible': 2112, 'ideal': 2113, 'whose': 2114, 'sensitive': 2115, 'freeway': 2116, 'ac': 2117, 'highy': 2118, 'mins': 2119, '680': 2120, '2mp': 2121, 'pics': 2122, 'arguing': 2123, 'bulky': 2124, 'usable': 2125, 'realworld': 2126, 'useful': 2127, 'stream': 2128, 'submerged': 2129, 'faceplates': 2130, 'drawback': 2131, 'mp3': 2132, 'pause': 2133, 'activated': 2134, 'suddenly': 2135, 'ipods': 2136, 'situations1': 2137, 'bmw': 2138, 'hearing': 2139, 'wrongly': 2140, 'everyday': 2141, 'intended': 2142, 'runs': 2143, 'greater': 2144, 'buds': 2145, 'waaay': 2146, 'bluetooths': 2147, 'listener': 2148, 'integrated': 2149, 'flush': 2150, 'toilet': 2151, '375': 2152, 'styles': 2153, 'correctly': 2154, '350': 2155, 'jabra350': 2156, 'megapixels': 2157, 'renders': 2158, 'images': 2159, 'purcashed': 2160, 'geeky': 2161, 'oozes': 2162, 'embedded': 2163, 'stylish': 2164, 'qwerty': 2165, 'simpler': 2166, 'iam': 2167, 'disapoinment': 2168, 'accompanied': 2169, 'nicely': 2170, 'damage': 2171, 'definitly': 2172, 'majority': 2173, 'peachykeen': 2174, 'upstairs': 2175, 'basement': 2176, 'reccomendation': 2177, 'relative': 2178, 'items': 2179, 'sudden': 2180, 'linking': 2181, '8530': 2182, 'curve': 2183, 'sketchy': 2184, 'web': 2185, 'browsing': 2186, 'significantly': 2187, 'build': 2188, 'unlike': 2189, 'colors': 2190, 'communications': 2191, 'communicate': 2192, 'monkeys': 2193, 'dna': 2194, 'copy': 2195, 'bougth': 2196, 'l7c': 2197, 'mode': 2198, 'file': 2199, 'browser': 2200, 'hs850': 2201, 'os': 2202, 'v1': 2203, '15g': 2204, 'crawl': 2205, 'recognizes': 2206, 'bluetoooth': 2207, 'thorn': 2208, 'abhor': 2209, 'disconnected': 2210, '13': 2211, 'mail': 2212, 'backlight': 2213, 'message': 2214, 'lately': 2215, 'wit': 2216, 'pleather': 2217, 'deaf': 2218, 'prettier': 2219, 'investment': 2220, 'ticking': 2221, 'noises': 2222, 'electronics': 2223, 'available': 2224, 'fm': 2225, 'transmitters': 2226, 'h500': 2227, 'mega': 2228, 'pixel': 2229, 'good7': 2230, 'transmit': 2231, 'contacting': 2232, 'dollar': 2233, 'learned': 2234, 'lesson': 2235, 'online': 2236, 'earbugs': 2237, 'roam': 2238, 'receptionsound': 2239, 'crack': 2240, 'infatuated': 2241, 'freezes': 2242, 'frequently4': 2243, 'childlike': 2244, 'tick': 2245, 'headbands': 2246, 'ericsson': 2247, 'purchases': 2248, 'shine': 2249, 'calendar': 2250, 'sync': 2251, 'defeats': 2252, 'purpose': 2253, 'penny': 2254, 'wallet': 2255, 'excrutiatingly': 2256, 'glove': 2257, 'durable': 2258, 'factor': 2259, 'rubberpetroleum': 2260, 'stereo': 2261, 'absolutel': 2262, 'potentially': 2263, 'reversible': 2264, 'contstruct': 2265, 'hinge': 2266, 'installed': 2267, 'overnite': 2268, 'handset': 2269, 'attacked': 2270, 'protective': 2271, 'destroying': 2272, 'razor': 2273, 'v3i': 2274, 'wise': 2275, 'shouldve': 2276, 'invented': 2277, 'sooner': 2278, 'engineered': 2279, 'complained': 2280, '2160': 2281, 'tracfone': 2282, 'instruction': 2283, 'manual': 2284, 'alarm': 2285, 'clock': 2286, 'antena': 2287, 'compared': 2288, 'state': 2289, 'usage': 2290, 'ngage': 2291, 'earbuds': 2292, 'howeverthe': 2293, 'riingtones': 2294, 'rip': 2295, 'frequentyly': 2296, 'adhesive': 2297, 'concrete': 2298, 'knock': 2299, 'wood': 2300, 'transformed': 2301, 'organizational': 2302, 'capability': 2303, 'vehicle': 2304, 'cradle': 2305, 'jerks': 2306, 'starter': 2307, 'loudspeaker': 2308, 'option': 2309, 'bumpers': 2310, 'lights': 2311, 'improve': 2312, 'leaks': 2313, 'according': 2314, 'applifies': 2315, 'specially': 2316, 'transmission': 2317, 's11': 2318, 'drivng': 2319, 'auto': 2320, 'reverse': 2321, 'tape': 2322, 'embarassing': 2323, 'protects': 2324, 'operates': 2325, 'soyo': 2326, 'portraits': 2327, 'exterior': 2328, 'mentioned': 2329, 'gadgets': 2330, 'magical': 2331, 'comparablypriced': 2332, 'offering': 2333, 'encourage': 2334, 'recieve': 2335, 'cradles': 2336, 'kits': 2337, 'excelent': 2338, 'cingulair': 2339, 'nicer': 2340, 'hoursthe': 2341, 'thereplacement': 2342, '2000': 2343, 'yell': 2344, 'iriver': 2345, 'spinn': 2346, 'fond': 2347, 'magnetic': 2348, 'strap': 2349, 'psyched': 2350, 'appointments': 2351, 'sanyo': 2352, 'survived': 2353, 'dozens': 2354, 'blacktop': 2355, 'ill': 2356, 'earphones': 2357, 'cellular': 2358, 'awsome': 2359, 'drained': 2360, 'earpad': 2361, 'displeased': 2362, 'defect': 2363, 'risk': 2364, 'restored': 2365, 'jx10': 2366, 'searched': 2367, 'key': 2368, 'pad': 2369, 'lit': 2370, 'portable': 2371, 'colleague': 2372, 'bed': 2373, 'wifi': 2374, 'morning': 2375, 'hat': 2376, 'shipment': 2377, 'surefire': 2378, 'gx2': 2379, 'bt50': 2380, 'buyers': 2381, 'remorse': 2382, 'accessoryone': 2383, 'inexcusable': 2384, 'carriers': 2385, 'procedure': 2386, 'motorolas': 2387, 'vx9900': 2388, 'env': 2389, 'rocketed': 2390, 'destination': 2391, 'unknown': 2392, 'longwearing': 2393, 'conditions': 2394, 'usefulness': 2395, 'bills': 2396, 'plans': 2397, 'overnight': 2398, 'respect': 2399, 'stuck': 2400, 'max': 2401, 'mute': 2402, 'hybrid': 2403, 'palmtopcameracellphone': 2404, 'excels': 2405, 'bt250v': 2406, 'bose': 2407, 'cancelling': 2408, 'commuter': 2409, 'photo': 2410, 'ad': 2411, 'noted': 2412, 'happens': 2413, 'frog': 2414, 'pushed': 2415, 'aluminum': 2416, 'vx': 2417, 'protected': 2418, 'handheld': 2419, 'tools': 2420, 'sturdiness': 2421, 'source': 2422, 'waterproof': 2423, 'sliding': 2424, 'pants': 2425, 'pockets': 2426, 'shield': 2427, 'incrediable': 2428, 'refuse': 2429, 'activate': 2430, 'gentletouch': 2431, 'threw': 2432, 'window': 2433, 'inches': 2434, 'counter': 2435, 'cracked': 2436, 'laughing': 2437, 'trunk': 2438, 'carried': 2439, 'hitch': 2440, 'directly': 2441, 'increase': 2442, 'shifting': 2443, 'bubbling': 2444, 'peeling': 2445, 'scratch': 2446, 'droid': 2447, 'exercise': 2448, 'earset': 2449, 'outgoing': 2450, 'package': 2451, 'patient': 2452, 'wirefly': 2453, 'contact': 2454, 'cingularat': 2455, 'inform': 2456, 'practice': 2457, 'aggravating': 2458, 'virgin': 2459, 'muddy': 2460, 'casing': 2461, 'insert': 2462, 'glued': 2463, 'slid': 2464, 'plantronincs': 2465, 'continues': 2466, 'disapointing': 2467, 'fourth': 2468, 'fixes': 2469, 'accessing': 2470, 'downloading': 2471, 'performing': 2472, 'functions': 2473, 'constantly': 2474, 'happening': 2475, 'adapters': 2476, 'procedures': 2477, 'reset': 2478, 'wiping': 2479, 'strength': 2480, 'louder': 2481, 'navigate': 2482, 'recessed': 2483, 'avoiding': 2484, 'smoking': 2485, 'linked': 2486, 'possesed': 2487, 'research': 2488, 'division': 2489, 'infuriating': 2490, 'walkman': 2491, 'charges': 2492, 'europe': 2493, 'asia': 2494, 'clipping': 2495, 'deffinitely': 2496, 'cent': 2497, 'upandcoming': 2498, 'behing': 2499, '5020': 2500, 'comfortible': 2501, '24': 2502, 'pain': 2503, 'arrival': 2504, 'fraction': 2505, 'crappy': 2506, 'e715': 2507, 'seeen': 2508, 'interface': 2509, 'decade': 2510, 'compete': 2511, 'designs': 2512, '700w': 2513, 'transceiver': 2514, 'steer': 2515, 'replacementr': 2516, 'pens': 2517, 'threepack': 2518, 'buyit': 2519, 'beats': 2520, 'fingers': 2521, 'steep': 2522, 'haul': 2523, 'dissapointing': 2524, 'originally': 2525, 'discarded': 2526, 'phonesmp3': 2527, 'posted': 2528, 'detailed': 2529, 'grey': 2530, 'existing': 2531, 'cds': 2532, 'currently': 2533, 'firstperson': 2534, 'shooters': 2535, 'delay': 2536, 'messes': 2537, 'bitpim': 2538, 'program': 2539, 'transfer': 2540, 'accessory': 2541, 'manufacturer': 2542, 'muffled': 2543, 'incoming': 2544, 'severe': 2545, 'windresistant': 2546, 'contacted': 2547, 'receipt': 2548, 'linksys': 2549, 'refurb': 2550, 'snug': 2551, 'heavy': 2552, 'promised': 2553, 'loop': 2554, 'latch': 2555, 'visor': 2556, 'address': 2557, 'reboots': 2558, 'tungsten': 2559, 'e2': 2560, 'flipphones': 2561, 'welldesigned': 2562, 'sins': 2563, 'industrial': 2564, 'tracking': 2565, 'detachable': 2566, 'periodically': 2567, 'upload': 2568, 'locks': 2569, 'screens': 2570, 'randomly': 2571, 'locked': 2572, '325': 2573, 'cellphone': 2574, 'wornout': 2575, 'ringer': 2576, 'acceptable': 2577, 'upbeat': 2578, 'forgeries': 2579, 'abound': 2580, 'ca42': 2581, 'smallest': 2582, 'stays': 2583, 'drains': 2584, 'superfast': 2585, 'ergonomic': 2586, 'theory': 2587, 'clips': 2588, 'distracting': 2589, 'cbr': 2590, 'mp3s': 2591, 'preferably': 2592, 'windows': 2593, 'media': 2594, 'sos': 2595, 'signals': 2596, 'connect': 2597, 'miniusb': 2598, 'near': 2599, 'startac': 2600, 'regretted': 2601, 'outperform': 2602, 'china': 2603, 'v325i': 2604, 'sim': 2605, '3o': 2606, 'replaced': 2607, '18': 2608, '4s': 2609, 'connecting': 2610, 'sources': 2611, 'imac': 2612, 'external': 2613, 'bells': 2614, 'whistles': 2615, 'slide': 2616, 'grip': 2617, 'prevents': 2618, 'slipping': 2619, 'exclaim': 2620, 'whoa': 2621, 'corded': 2622, 'functional': 2623, 'soft': 2624, 'tight': 2625, 'shape': 2626, 'copier': 2627, 'sent': 2628, 'anywhere': 2629, 'sold': 2630, 'units': 2631, 'classy': 2632, 'krussel': 2633, 'tracfonewebsite': 2634, 'toactivate': 2635, 'texas': 2636, 'dit': 2637, '5320': 2638, 'blueant': 2639, 'supertooth': 2640, 'pcs': 2641, 'schr450': 2642, 'slider': 2643, 'premium': 2644, 'plugs': 2645, 'capacity': 2646, 'confortable': 2647, 'periods': 2648, 'ant': 2649, 'hey': 2650, 'pleasantly': 2651, 'suprised': 2652, 'dustpan': 2653, 'indoors': 2654, 'disposable': 2655, 'puff': 2656, 'ride': 2657, 'smoother': 2658, 'nano': 2659, 'dissapointed': 2660, 'reccommend': 2661, 'antiglare': 2662, 'smartphone': 2663, 'atleast': 2664, 'amp': 2665, 'reoccure': 2666, 'somewhere': 2667, 'creaks': 2668, 'floor': 2669, 'apartment': 2670, 'inconspicuous': 2671, 'slowly': 2672, 'upgrade': 2673, 'securly': 2674, 'possibility': 2675, 'booking': 2676, 'entertainment': 2677, 'communication': 2678, 'activesync': 2679, 'optimal': 2680, 'synchronization': 2681, 'coupon': 2682, 'instance': 2683, 'ps3': 2684, 'cheapy': 2685, 'shouting': 2686, 'shiny': 2687, 'grtting': 2688, '44': 2689, 'v3c': 2690, 'exceeds': 2691, 'sight': 2692, 'improper': 2693, 'chargelife': 2694, 'palms': 2695, 'hoped': 2696, 'v265': 2697, 'pads': 2698, 'stops': 2699, 'intermittently': 2700, 'reaching': 2701, 'keys': 2702, 'nightmare': 2703, 'speakerphone': 2704, 'cassette': 2705, 'cellphones': 2706, 'planning': 2707, 'autoanswer': 2708, 'products': 2709, 'sensor': 2710, 'reliability': 2711, 'beeping': 2712, 'dieing': 2713, 'ir': 2714, 'cancellation': 2715, 'counterfeit': 2716, 'travled': 2717, 'swivel': 2718, 'dualpurpose': 2719, '8125': 2720, 'keeping': 2721, 'bottowm': 2722, 'gimmick': 2723, 'opens': 2724, 'causing': 2725, 'trust': 2726, 'maintains': 2727, 'flawless': 2728, 'devices': 2729, 'holder': 2730, 'landline': 2731, 'loops': 2732, 'owning': 2733, 'official': 2734, 'oem': 2735, 'loudest': 2736, 'competitors': 2737, 'saved': 2738, 'alot': 2739, 'unintelligible': 2740, 'restart': 2741, 'bend': 2742, 'leaf': 2743, 'metal': 2744, 'stress': 2745, 'leopard': 2746, 'print': 2747, 'saggy': 2748, 'floppy': 2749, 'looses': 2750, 'soundwise': 2751, 'snap': 2752, '8525': 2753, 'fliptop': 2754, 'wobbly': 2755, 'eventually': 2756, 'fulfills': 2757, 'requirements': 2758, 'rests': 2759, 'websites': 2760, 'cables': 2761, 'lap': 2762, 'controls': 2763, 'accessable': 2764, 'mine': 2765, 'satisifed': 2766, 's710a': 2767, 'specs': 2768, 'armband': 2769, 'allot': 2770, 'clearer': 2771, 'keypads': 2772, 'reach': 2773, 'ericson': 2774, 'z500a': 2775, 'motor': 2776, 'center': 2777, 'voltage': 2778, 'humming': 2779, 'equipment': 2780, 'wake': 2781, 'styling': 2782, 'restocking': 2783, 'fee': 2784, 'darn': 2785, 'sweetest': 2786, 'securely': 2787, 'hook': 2788, 'canal': 2789, 'videos': 2790, 'negatively': 2791, 'adapter': 2792, 'provide': 2793, 'assumed': 2794, 'lense': 2795, 'text': 2796, 'messaging': 2797, 'tricky': 2798, 'lasted': 2799, 'flops': 2800, 'smudged': 2801, 'infra': 2802, 'port': 2803, 'irda': 2804, 'answer': 2805, 'slowmoving': 2806, 'aimless': 2807, 'distressed': 2808, 'drifting': 2809, 'attempting': 2810, 'artiness': 2811, 'nonexistent': 2812, 'gerardo': 2813, 'emptiness': 2814, 'science': 2815, 'teacher': 2816, 'owls': 2817, 'florida': 2818, 'muppets': 2819, 'overdue': 2820, 'screenplay': 2821, 'postproduction': 2822, 'structure': 2823, 'tightly': 2824, 'vitally': 2825, 'occurs': 2826, 'content': 2827, 'superlative': 2828, 'require': 2829, 'puzzlesolving': 2830, 'pulls': 2831, 'punches': 2832, 'th': 2833, 'insane': 2834, 'unlockable': 2835, 'aye': 2836, 'doomed': 2837, 'conception': 2838, 'minor': 2839, 'nonsequel': 2840, 'pgrated': 2841, 'confirm': 2842, 'exaggerating': 2843, 'trailer': 2844, 'carrell': 2845, 'costars': 2846, 'freeman': 2847, 'helms': 2848, 'animals': 2849, 'integration': 2850, 'bluegreenscreen': 2851, 'translate': 2852, 'succeeds': 2853, 'meagre': 2854, 'lesser': 2855, 'cancan': 2856, 'boasts': 2857, 'cutest': 2858, 'leading': 2859, 'headoverheels': 2860, 'insipid': 2861, 'efforts': 2862, 'heche': 2863, 'sam': 2864, 'shepard': 2865, 'gung': 2866, 'ho': 2867, 'marine': 2868, 'sobering': 2869, 'riveted': 2870, 'resounding': 2871, '9': 2872, 'hanks': 2873, 'fingernails': 2874, 'chalkboard': 2875, 'unnecessary': 2876, 'trainroller': 2877, 'coaster': 2878, 'grates': 2879, 'nerves': 2880, 'improved': 2881, 'improvisation': 2882, 'worry': 2883, 'surroundings': 2884, 'crackles': 2885, 'youthful': 2886, 'concentrate': 2887, 'meanders': 2888, 'builders': 2889, 'cross': 2890, 'g': 2891, 'pg': 2892, 'noncliche': 2893, 'predict': 2894, 'verbatim': 2895, 'chills': 2896, 'nevsky': 2897, 'whoever': 2898, 'planned': 2899, 'dodge': 2900, 'stratus': 2901, 'makers': 2902, 'restrained': 2903, 'wordofmouth': 2904, 'promote': 2905, 'thoughtprovoking': 2906, 'wellpaced': 2907, 'suited': 2908, 'blist': 2909, 'horrorsuspense': 2910, 'horrendous': 2911, 'retarded': 2912, 'girls': 2913, 'manna': 2914, 'evaluate': 2915, 'veteran': 2916, 'nostalgia': 2917, 'ursula': 2918, 'burton': 2919, 'nun': 2920, 'nuns': 2921, 'shirley': 2922, 'jones': 2923, 'rendition': 2924, 'cotton': 2925, 'unfaithful': 2926, 'gere': 2927, 'dialogs': 2928, 'shallow': 2929, 'insincere': 2930, 'politically': 2931, 'idiotsavant': 2932, 'peaking': 2933, 'columbo': 2934, 'ohsomature': 2935, 'neighbourgirl': 2936, 'misplace': 2937, 'weaker': 2938, 'debated': 2939, 'sack': 2940, 'trumpeter': 2941, 'falsely': 2942, 'murder': 2943, 'applause': 2944, 'prelude': 2945, 'villain': 2946, 'michael': 2947, 'ironside': 2948, 'rocked': 2949, 'social': 2950, 'physical': 2951, 'outlets': 2952, 'ben': 2953, 'affleck': 2954, 'leaving': 2955, 'wifetobe': 2956, 'knocked': 2957, 'excruciatingly': 2958, 'wedding': 2959, 'agreed': 2960, 'aired': 2961, 'dribble': 2962, 'mirrormask': 2963, 'inexperience': 2964, 'meant': 2965, 'ineptly': 2966, 'stereotypically': 2967, 'schoolers': 2968, 'cry': 2969, 'relate': 2970, 'sharing': 2971, 'confuses': 2972, 'underwater': 2973, 'repeated': 2974, 'thousand': 2975, 'redeemed': 2976, 'mst3k': 2977, 'fodder': 2978, 'anthony': 2979, 'horse': 2980, 'walk': 2981, 'theatre': 2982, 'relief': 2983, 'pillow': 2984, 'girlfriendboyfriend': 2985, 'tickets': 2986, 'identifies': 2987, 'reversestereotypes': 2988, 'haggis': 2989, 'handle': 2990, 'strokes': 2991, 'storytelling': 2992, 'painted': 2993, 'crayons': 2994, 'crash': 2995, 'provokes': 2996, 'emotion': 2997, 'teaches': 2998, 'prejudice': 2999, 'empowerment': 3000, 'shutdown': 3001, 'primal': 3002, 'impulse': 3003, 'selfpreservation': 3004, 'shattered': 3005, 'recover': 3006, 'joins': 3007, 'revenge': 3008, 'boogeyman': 3009, 'zombiez': 3010, 'hellish': 3011, 'trinity': 3012, 'distinction': 3013, 'artless': 3014, 'endlessly': 3015, 'ugliest': 3016, 'charismafree': 3017, 'merit': 3018, 'akin': 3019, 'atrocity': 3020, 'voyage': 3021, 'selfdiscovery': 3022, 'unrecommended': 3023, 'ms': 3024, 'garbo': 3025, 'bat': 3026, 'talents': 3027, 'netflix': 3028, 'stocking': 3029, 'renowned': 3030, 'frances': 3031, 'marion': 3032, 'suffered': 3033, 'heroes': 3034, 'shined': 3035, 'senior': 3036, 'showcasing': 3037, 'punched': 3038, 'gallon': 3039, 'spew': 3040, 'foxx': 3041, 'owns': 3042, 'spacek': 3043, 'coal': 3044, 'miner': 3045, 'quaid': 3046, 'balls': 3047, 'legendary': 3048, 'biographical': 3049, 'musician': 3050, 'ironically': 3051, 'secondly': 3052, 'perfected': 3053, 'chase': 3054, 'pandering': 3055, 'sabotages': 3056, 'rumbles': 3057, 'desperately': 3058, 'depending': 3059, 'logic': 3060, 'unremarkable': 3061, 'author': 3062, 'livingworking': 3063, 'abstruse': 3064, 'reenactments': 3065, 'emotionally': 3066, 'adrift': 3067, 'stagy': 3068, 'sits': 3069, 'soldiers': 3070, 'masculinity': 3071, 'pledge': 3072, 'hairsplitting': 3073, 'purity': 3074, 'admiration': 3075, 'swords': 3076, 'kill': 3077, 'momentum': 3078, 'quicker': 3079, 'resume': 3080, 'amateurish': 3081, '80s': 3082, 'fascinated': 3083, 'inconsistencies': 3084, 'horrid': 3085, 'ballet': 3086, 'repertory': 3087, 'developments': 3088, 'woa': 3089, 'sappiest': 3090, 'unwatchable': 3091, 'filmography': 3092, 'site': 3093, 'intentions': 3094, 'wouldbe': 3095, 'undertone': 3096, 'fifties': 3097, 'existential': 3098, 'worldweariness': 3099, 'ought': 3100, 'regrettably': 3101, 'expression': 3102, 'celebration': 3103, 'patriotism': 3104, 'underlines': 3105, 'allison': 3106, 'cinematographyif': 3107, 'thatsucked': 3108, 'concert': 3109, 'sequences': 3110, 'ridiculousness': 3111, 'surface': 3112, 'stateoftheart': 3113, 'conceptually': 3114, 'everybody': 3115, 'fantasy': 3116, 'andor': 3117, 'actingwise': 3118, 'considered': 3119, 'understood': 3120, 'identified': 3121, 'noircrimedrama': 3122, 'belmondo': 3123, 'lino': 3124, 'ventura': 3125, 'portrayals': 3126, 'detailing': 3127, 'loyalty': 3128, 'treachery': 3129, 'melville': 3130, 'manages': 3131, 'transcend': 3132, 'limitations': 3133, 'indie': 3134, 'continually': 3135, 'subverting': 3136, 'emerge': 3137, 'intense': 3138, 'crocdodile': 3139, 'believed': 3140, 'crocs': 3141, 'swamp': 3142, 'christopher': 3143, 'eccleston': 3144, 'tardis': 3145, 'continuation': 3146, 'succeeded': 3147, 'pi': 3148, 'witticisms': 3149, 'bob': 3150, 'rise': 3151, 'finale': 3152, 'kieslowski': 3153, 'amaze': 3154, 'colours': 3155, 'flag': 3156, 'connections': 3157, 'survivors': 3158, 'ferry': 3159, 'valentine': 3160, 'solidifying': 3161, 'happiness': 3162, 'dealt': 3163, 'roth': 3164, 'pearls': 3165, 'awarded': 3166, 'eloquently': 3167, 'francis': 3168, 'ford': 3169, 'gradually': 3170, 'develop': 3171, 'lies': 3172, 'nicola': 3173, 'roeg': 3174, 'wih': 3175, 'translating': 3176, 'strives': 3177, 'greatness': 3178, 'muddled': 3179, 'disparate': 3180, 'accurately': 3181, 'defined': 3182, 'tolerate': 3183, 'political': 3184, 'incorrectness': 3185, 'artistic': 3186, 'suspension': 3187, 'slavic': 3188, 'outlandish': 3189, 'psychotic': 3190, 'lovable': 3191, 'enjoyment': 3192, 'repair': 3193, 'bitchy': 3194, 'boss': 3195, 'tear': 3196, 'malta': 3197, 'settings': 3198, 'barren': 3199, 'hockey': 3200, 'defensemen': 3201, 'goalies': 3202, 'diving': 3203, 'net': 3204, 'superficial': 3205, 'stagey': 3206, 'farce': 3207, 'pyromaniac': 3208, 'waylaid': 3209, 'switched': 3210, 'yawn': 3211, 'educational': 3212, 'barney': 3213, 'duper': 3214, 'babie': 3215, 'bop': 3216, 'storm': 3217, 'trooper': 3218, 'potted': 3219, 'plants': 3220, 'shameful': 3221, 'television': 3222, 'writers': 3223, 'smack': 3224, 'bonus': 3225, 'episodes': 3226, 'latched': 3227, 'endearing': 3228, 'sibling': 3229, 'bond': 3230, 'unneeded': 3231, 'controversy': 3232, 'damian': 3233, 'versatile': 3234, 'cutting': 3235, 'passion': 3236, 'ireland': 3237, 'horrified': 3238, 'sympathetic': 3239, 'movements': 3240, 'shelf': 3241, 'elias': 3242, 'koteas': 3243, 'palance': 3244, 'angelina': 3245, 'naked': 3246, 'cameo': 3247, 'sven': 3248, 'ole': 3249, 'thorsen': 3250, 'ebay': 3251, 'poler': 3252, 'fort': 3253, 'steele': 3254, 'unrealistic': 3255, '70000': 3256, 'bell': 3257, 'higher': 3258, 'sink': 3259, 'slackers': 3260, 'excuses': 3261, 'actions': 3262, 'excerpts': 3263, 'designed': 3264, 'stylized': 3265, 'exemplars': 3266, 'designer': 3267, 'powerful': 3268, 'explorations': 3269, 'politics': 3270, 'rendering': 3271, 'imperial': 3272, 'faultless': 3273, 'underappreciated': 3274, 'keith': 3275, 'bully': 3276, 'teddy': 3277, 'vivid': 3278, 'sean': 3279, 'noble': 3280, 'brigand': 3281, 'candace': 3282, 'bergen': 3283, 'feisty': 3284, 'heroine': 3285, 'wily': 3286, 'hay': 3287, 'kanaly': 3288, 'spiffy': 3289, 'radiant': 3290, 'cando': 3291, 'lieutenant': 3292, 'roosevelt': 3293, 'stick': 3294, 'adventure': 3295, 'ryans': 3296, 'portrayed': 3297, 'schizophrenic': 3298, 'affected': 3299, 'apt': 3300, 'imitation': 3301, 'individual': 3302, 'oldfashioned': 3303, 'tuneful': 3304, 'rita': 3305, 'hayworth': 3306, 'pedestal': 3307, 'exploit': 3308, 'financial': 3309, 'gain': 3310, 'nonlinear': 3311, 'narration': 3312, 'flashbacks': 3313, 'articulated': 3314, 'monica': 3315, 'bellucci': 3316, 'commentary': 3317, 'timers': 3318, 'laughs': 3319, 'feelgood': 3320, 'northern': 3321, 'community': 3322, 'represents': 3323, 'vivian': 3324, 'schilling': 3325, '95': 3326, 'theatres': 3327, 'screamy': 3328, 'masculine': 3329, 'casted': 3330, 'throwback': 3331, 'student': 3332, '1980': 3333, 'experiences': 3334, 'abroad': 3335, 'interacting': 3336, 'nationalities': 3337, 'slightly': 3338, 'ticker': 3339, 'buildings': 3340, 'locations': 3341, 'hummh': 3342, 'yelps': 3343, 'hes': 3344, 'funniest': 3345, 'curtain': 3346, 'ive': 3347, 'edition': 3348, 'lid': 3349, 'romantic': 3350, 'laughed': 3351, 'chosen': 3352, 'tortured': 3353, 'blatant': 3354, 'propaganda': 3355, 'hatred': 3356, 'admitted': 3357, 'school': 3358, 'admins': 3359, 'thunderbirds': 3360, 'slowmotion': 3361, 'needlessly': 3362, 'repeats': 3363, 'backed': 3364, 'vehicles': 3365, 'flakes': 3366, 'bordered': 3367, 'stupidity': 3368, 'hide': 3369, 'monumental': 3370, 'halfway': 3371, 'embarrassed': 3372, 'howell': 3373, 'nutbag': 3374, 'stephen': 3375, 'mchattie': 3376, 'lance': 3377, 'hendrikson': 3378, 'raging': 3379, 'cheekbones': 3380, 'professionals': 3381, 'debbie': 3382, 'rochon': 3383, 'contributory': 3384, 'former': 3385, 'chimplike': 3386, 'tolerable': 3387, 'oyvey': 3388, 'simplifying': 3389, 'brevity': 3390, 'fulfilling': 3391, 'amusing': 3392, 'convoluted': 3393, 'convince': 3394, 'questioning': 3395, 'bela': 3396, 'lugosi': 3397, 'extraneous': 3398, 'intoning': 3399, 'decidely': 3400, 'universal': 3401, 'b': 3402, 'armand': 3403, 'assante': 3404, 'tying': 3405, '810': 3406, 'comprehensible': 3407, 'hang': 3408, 'camp': 3409, 'expecting': 3410, 'iq': 3411, 'mollusk': 3412, 'loosely': 3413, 'moviegoing': 3414, 'string': 3415, 'lower': 3416, 'scripts': 3417, 'victor': 3418, 'mclaglen': 3419, 'donlevy': 3420, 'president': 3421, 'u': 3422, 'unmoving': 3423, 'producer': 3424, 'gifted': 3425, 'cheerless': 3426, 'heist': 3427, 'characterisation': 3428, 'underbite': 3429, 'stoic': 3430, 'emoting': 3431, 'yun': 3432, 'tomorrow': 3433, 'abandoned': 3434, 'factory': 3435, 'executed': 3436, 'flying': 3437, 'judo': 3438, 'la': 3439, 'woo': 3440, 'squibs': 3441, 'derivative': 3442, 'hopeless': 3443, 'uneasy': 3444, 'composed': 3445, 'elderly': 3446, 'babbling': 3447, 'overwrought': 3448, 'pseudosatanic': 3449, 'gibberish': 3450, 'corny': 3451, 'teen': 3452, 'goth': 3453, 'blush': 3454, 'olde': 3455, 'latin': 3456, 'sloppy': 3457, 'balanced': 3458, 'underacting': 3459, 'competent': 3460, 'jerry': 3461, 'falwell': 3462, 'starring': 3463, 'jaclyn': 3464, 'smith': 3465, 'allstar': 3466, 'lifetime': 3467, 'sells': 3468, 'musthave': 3469, 'assaulted': 3470, 'strident': 3471, 'cords': 3472, 'blare': 3473, 'pap': 3474, 'screened': 3475, 'punish': 3476, 'unemployed': 3477, 'understatement': 3478, 'universe': 3479, 'team': 3480, 'trond': 3481, 'fausa': 3482, 'bothersome': 3483, 'comment': 3484, '2006': 3485, 'move': 3486, 'initially': 3487, 'local': 3488, 'sites': 3489, 'buffalo': 3490, 'intrigued': 3491, 'applauded': 3492, 'lilt': 3493, 'duris': 3494, 'views': 3495, 'barcelona': 3496, 'famed': 3497, 'gaudi': 3498, 'towers': 3499, 'despised': 3500, 'rough': 3501, 'draft': 3502, 'shooting': 3503, 'completed': 3504, 'personalities': 3505, 'twists': 3506, 'occur': 3507, 'irritating': 3508, 'indescribably': 3509, 'idiotic': 3510, 'idiot': 3511, 'cheesiness': 3512, 'unethical': 3513, 'nc17': 3514, 'zillion': 3515, 'washing': 3516, 'twirling': 3517, 'grade': 3518, 'z': 3519, 'road': 3520, '1948': 3521, 'silly': 3522, 'noir': 3523, 'unmitigated': 3524, 'blandly': 3525, 'edward': 3526, 'chodorov': 3527, 'negulesco': 3528, 'widmark': 3529, 'unintentionally': 3530, 'comical': 3531, 'marbles': 3532, 'marred': 3533, 'constant': 3534, 'exteriors': 3535, 'prompted': 3536, 'middleaged': 3537, 'upper': 3538, 'uptight': 3539, 'mistakes': 3540, 'jokes': 3541, 'offend': 3542, 'littered': 3543, 'overt': 3544, 'slurs': 3545, 'members': 3546, 'whites': 3547, 'depicted': 3548, 'morons': 3549, 'boobs': 3550, 'lets': 3551, 'destroy': 3552, 'latifa': 3553, 'wouldnt': 3554, 'steamboat': 3555, 'willie': 3556, 'amazingly': 3557, 'plane': 3558, 'groundbreaking': 3559, 'tons': 3560, 'granted': 3561, 'pleaser': 3562, '1928': 3563, 'timeless': 3564, 'straw': 3565, 'cruel': 3566, 'crowdpleaser': 3567, 'bipolarity': 3568, 'thug': 3569, 'luv': 3570, 'diaper': 3571, 'commercial': 3572, 'awards': 3573, 'accolades': 3574, 'body': 3575, '1947': 3576, 'garfield': 3577, 'ann': 3578, 'revere': 3579, 'lilli': 3580, 'plmer': 3581, 'william': 3582, 'conrad': 3583, 'lee': 3584, 'cinematographers': 3585, 'wong': 3586, 'howe': 3587, 'qualities': 3588, 'thomerson': 3589, '1986': 3590, 'professor': 3591, 'established': 3592, 'zombiestudents': 3593, 'necklace': 3594, 'containing': 3595, 'meteorite': 3596, 'matthews': 3597, 'wrotedirected': 3598, '1995': 3599, 'grim': 3600, 'aspects': 3601, 'gore': 3602, 'convention': 3603, 'cg': 3604, 'slideshow': 3605, 'explosion': 3606, 'tanks': 3607, 'okay': 3608, 'critic': 3609, 'creature': 3610, 'ta': 3611, 'closeups': 3612, 'slimy': 3613, 'drooling': 3614, 'breeders': 3615, 'ebola': 3616, 'virus': 3617, 'charisma': 3618, 'comedic': 3619, 'timing': 3620, 'debits': 3621, 'popcorn': 3622, 'borders': 3623, 'lewis': 3624, 'considerable': 3625, 'incendiary': 3626, 'unrestrained': 3627, 'sole': 3628, 'bright': 3629, 'superbad': 3630, 'interim': 3631, 'originality': 3632, 'freshness': 3633, 'offer': 3634, 'evidently': 3635, 'reflected': 3636, 'belowpar': 3637, 'borrowed': 3638, 'filmiing': 3639, 'expansive': 3640, 'convey': 3641, 'broad': 3642, 'sweep': 3643, 'landscapes': 3644, 'trashy': 3645, 'sequel': 3646, 'precisely': 3647, 'proudly': 3648, 'classical': 3649, 'wb': 3650, 'toons': 3651, 'delivered': 3652, 'underrated': 3653, 'murky': 3654, 'related': 3655, 'sitcoms': 3656, 'oriented': 3657, 'teenagers': 3658, 'peculiarity': 3659, 'excessively': 3660, 'phony': 3661, 'contrived': 3662, 'sit': 3663, 'um': 3664, 'perabo': 3665, 'foolish': 3666, 'accents': 3667, 'hypocrisy': 3668, 'rubbish': 3669, 'nonresearched': 3670, 'pitch': 3671, 'omit': 3672, 'instant': 3673, 'catchy': 3674, 'credits': 3675, 'simmering': 3676, 'boiling': 3677, 'warts': 3678, 'poet': 3679, 'bohemian': 3680, 'wartime': 3681, 'bombardments': 3682, 'london': 3683, 'outward': 3684, 'tranquillity': 3685, 'welsh': 3686, 'coastal': 3687, 'retreat': 3688, 'borderlines': 3689, 'friendship': 3690, 'lust': 3691, 'concerns': 3692, 'jealousy': 3693, 'rivalry': 3694, 'cowardice': 3695, 'egotism': 3696, 'heroism': 3697, 'selfsacrifice': 3698, 'suggests': 3699, 'tensions': 3700, 'inappropriate': 3701, 'smiling': 3702, 'keira': 3703, 'knightley': 3704, 'prone': 3705, 'inventive': 3706, 'closeup': 3707, 'pointillistic': 3708, 'behold': 3709, 'continuously': 3710, 'bertolucci': 3711, 'sidelined': 3712, 'inexplicable': 3713, 'crew': 3714, 'regardless': 3715, 'custer': 3716, 'alongside': 3717, 'olivia': 3718, 'havilland': 3719, 'dads': 3720, 'grew': 3721, 'realised': 3722, 'jim': 3723, 'oconnor': 3724, 'energetic': 3725, 'george': 3726, 'hosting': 3727, 'voiceovers': 3728, 'monotonous': 3729, 'shenanigans': 3730, 'spy': 3731, 'kidnapped': 3732, 'foreign': 3733, 'random': 3734, 'taxidermists': 3735, 'stewart': 3736, 'hero': 3737, 'rips': 3738, 'climax': 3739, 'embassy': 3740, 'brooding': 3741, 'menace': 3742, 'lowbudget': 3743, 'nevertheless': 3744, 'stable': 3745, 'sci': 3746, 'fi': 3747, 'scifi': 3748, 'producers': 3749, 'scot': 3750, 'vandiver': 3751, 'nonetheless': 3752, 'campy': 3753, 'mindbendingly': 3754, 'scares': 3755, 'medical': 3756, 'terminology': 3757, 'iffy': 3758, 'insulin': 3759, 'dependant': 3760, 'diabetic': 3761, 'complexity': 3762, 'task': 3763, 'challenges': 3764, 'facing': 3765, 'attempted': 3766, 'truth': 3767, 'reconciliation': 3768, 'magnificent': 3769, 'photographycinematography': 3770, 'woven': 3771, 'splendid': 3772, 'view': 3773, 'subtitles': 3774, 'aversion': 3775, 'therapy': 3776, 'jason': 3777, 'moved': 3778, 'tears': 3779, 'monolog': 3780, 'candle': 3781, 'sphere': 3782, 'helen': 3783, 'baxendale': 3784, 'credible': 3785, 'cheerfull': 3786, 'naughty': 3787, 'deadly': 3788, 'shakespears': 3789, 'lyrics': 3790, 'dr': 3791, 'seuss': 3792, 'brilliantly': 3793, 'animated': 3794, 'upa': 3795, 'finest': 3796, 'academy': 3797, 'award': 3798, 'integral': 3799, 'helping': 3800, 'bailey': 3801, 'eiko': 3802, 'ishioka': 3803, 'dracula': 3804, '1971': 3805, 'format': 3806, 'miniseries': 3807, 'baaaaaad': 3808, 'collect': 3809, 'extant': 3810, 'austen': 3811, 'consolations': 3812, 'speaking': 3813, 'unbearably': 3814, 'kitchy': 3815, 'raw': 3816, 'sublimely': 3817, 'theatrical': 3818, 'terror': 3819, 'lie': 3820, 'escalating': 3821, 'monstrous': 3822, 'consequences': 3823, 'mesmerising': 3824, 'fumbling': 3825, 'hankies': 3826, 'faces': 3827, 'males': 3828, 'females': 3829, 'alike': 3830, 'julian': 3831, 'fellowes': 3832, 'triumphed': 3833, 'national': 3834, 'treasure': 3835, 'welldone': 3836, 'phrase': 3837, 'owed': 3838, 'kris': 3839, 'kristoffersen': 3840, 'marriage': 3841, 'errors': 3842, 'commented': 3843, 'cars': 3844, 'garage': 3845, 'facial': 3846, 'configuration': 3847, 'inspiration': 3848, 'overcome': 3849, 'rejection': 3850, 'punishment': 3851, 'park': 3852, 'southern': 3853, 'california': 3854, 'desert': 3855, 'patent': 3856, 'accessible': 3857, 'miserable': 3858, 'angela': 3859, 'bennett': 3860, 'expert': 3861, 'pretext': 3862, 'repeating': 3863, 'robotic': 3864, 'moves': 3865, 'delete': 3866, 'ass': 3867, 'uncalled': 3868, 'geek': 3869, 'bible': 3870, 'thumper': 3871, 'badass': 3872, 'pulling': 3873, 'equivalent': 3874, 'dickens': 3875, 'carol': 3876, 'sensibility': 3877, 'success': 3878, 'depends': 3879, 'sydney': 3880, 'greenstreet': 3881, 'yardley': 3882, 'eyepleasing': 3883, 'rpg': 3884, 'selfrespecting': 3885, 'rpger': 3886, 'youtube': 3887, 'lassie': 3888, 'painfully': 3889, 'dreary': 3890, 'timewaster': 3891, 'becomes': 3892, 'forgettable': 3893, 'sobaditsgood': 3894, 'sobaditsmemorable': 3895, 'shell': 3896, 'barking': 3897, 'transfers': 3898, 'relaxing': 3899, 'title': 3900, 'handles': 3901, 'dignity': 3902, 'shocking': 3903, 'memorized': 3904, 'fishnet': 3905, 'stockings': 3906, 'astonishingly': 3907, 'ham': 3908, 'fisted': 3909, 'irons': 3910, 'unconditional': 3911, 'ordeal': 3912, 'progresses': 3913, 'anguish': 3914, 'pans': 3915, 'reviewers': 3916, 'interview': 3917, 'vampire': 3918, 'lestat': 3919, 'stuart': 3920, 'townsend': 3921, 'cruise': 3922, 'aailiyah': 3923, 'akasha': 3924, 'entrance': 3925, 'mini': 3926, 'sensitivities': 3927, 'treatments': 3928, 'details': 3929, 'dysfunction': 3930, 'football': 3931, 'perplexing': 3932, 'skilled': 3933, 'meredith': 3934, 'worthy': 3935, 'syrupy': 3936, 'indulgent': 3937, 'nine': 3938, 'goremeister': 3939, 'lucio': 3940, 'subgenre': 3941, 'thrillers': 3942, 'standout': 3943, 'unpleasant': 3944, 'technically': 3945, 'riz': 3946, 'ortolani': 3947, 'recurring': 3948, 'unaccompanied': 3949, 'vocal': 3950, 'distant': 3951, 'dustin': 3952, 'hoffman': 3953, 'involving': 3954, 'issue': 3955, 'tired': 3956, 'ps': 3957, 'jennifer': 3958, 'rubin': 3959, 'harris': 3960, 'changes': 3961, 'nervous': 3962, 'starlet': 3963, 'situations': 3964, 'coach': 3965, 'snow': 3966, 'ultracheap': 3967, 'exciting': 3968, 'uniqueness': 3969, 'foreigner': 3970, '1973': 3971, 'stranger': 3972, 'considers': 3973, 'ussr': 3974, 'scream': 3975, 'scare': 3976, 'indictment': 3977, 'justice': 3978, 'system': 3979, 'fundamental': 3980, 'legal': 3981, 'guilt': 3982, 'innocence': 3983, 'routine': 3984, 'factbased': 3985, 'constantine': 3986, 'intensity': 3987, 'motivations': 3988, 'inspiring': 3989, 'stinker': 3990, 'directtovideo': 3991, 'release': 3992, 'trek': 3993, 'v': 3994, 'frontier': 3995, 'includes': 3996, 'shatner': 3997, 'nimoy': 3998, 'washed': 3999, 'tacky': 4000, 'spock': 4001, 'rescue': 4002, 'kirk': 4003, 'jet': 4004, 'mountain': 4005, 'humor': 4006, 'dose': 4007, 'involves': 4008, 'vulcan': 4009, 'stealing': 4010, 'enterprise': 4011, 'uhura': 4012, 'distract': 4013, 'male': 4014, 'guards': 4015, 'subjects': 4016, 'jay': 4017, 'adams': 4018, 'unfortunate': 4019, 'subject': 4020, 'evokes': 4021, '70s': 4022, 'grainy': 4023, 'enhanced': 4024, 'surprises': 4025, 'achille': 4026, 'philippa': 4027, 'sing': 4028, 'giovanni': 4029, 'describes': 4030, 'layers': 4031, '18th': 4032, 'jutland': 4033, 'instruments': 4034, 'general': 4035, 'loewenhielm': 4036, 'partaking': 4037, 'cailles': 4038, 'en': 4039, 'sarcophage': 4040, 'savor': 4041, 'impression': 4042, 'generates': 4043, 'austere': 4044, 'backdrop': 4045, 'wanting': 4046, 'notch': 4047, 'fleshed': 4048, 'grimes': 4049, 'blake': 4050, 'scripted': 4051, 'deadpan': 4052, 'angus': 4053, 'scrimm': 4054, 'gently': 4055, 'menacing': 4056, 'violinplaying': 4057, 'anatomist': 4058, 'entertained': 4059, 'phantasm': 4060, '1949': 4061, 'collective': 4062, 'concerning': 4063, 'kudos': 4064, 'lesserknown': 4065, 'superintelligent': 4066, 'juano': 4067, 'hernandez': 4068, 'supporting': 4069, 'murdering': 4070, 'trumbull': 4071, 'evinced': 4072, 'faithful': 4073, 'joyce': 4074, 'acclaimed': 4075, 'novella': 4076, 'feelings': 4077, 'gabriel': 4078, 'intangibles': 4079, 'leap': 4080, 'viewer': 4081, 'grasp': 4082, 'wondered': 4083, 'shortlist': 4084, 'emperor': 4085, 'bigbudget': 4086, 'surely': 4087, 'coherent': 4088, 'force': 4089, 'obliged': 4090, 'creative': 4091, 'subplots': 4092, 'native': 4093, 'beall': 4094, 'endall': 4095, 'brainsucking': 4096, 'telly': 4097, 'savalas': 4098, 'boyle': 4099, '54': 4100, 'sheer': 4101, 'tedium': 4102, 'melodrama': 4103, 'sinking': 4104, 'decisions': 4105, 'establish': 4106, 'subplot': 4107, 'follows': 4108, 'band': 4109, 'latterday': 4110, 'mansonites': 4111, 'reporter': 4112, 'anniversary': 4113, 'killings': 4114, 'indication': 4115, 'meld': 4116, 'volatile': 4117, 'temperaments': 4118, 'seamless': 4119, 'union': 4120, 'creativity': 4121, 'powerhouse': 4122, 'fascination': 4123, 'celebrity': 4124, 'interpretations': 4125, 'fame': 4126, 'forgotten': 4127, 'kevin': 4128, 'spacey': 4129, 'verbal': 4130, 'tsunami': 4131, 'buddy': 4132, 'ackerman': 4133, 'scripting': 4134, 'unmatched': 4135, 'ages': 4136, 'younger': 4137, 'galley': 4138, 'pm': 4139, '8pm': 4140, '15pm': 4141, 'forwarded': 4142, 'horrendously': 4143, 'buildup': 4144, 'captain': 4145, 'howdy': 4146, 'semi': 4147, 'truck': 4148, 'linda': 4149, 'cardellini': 4150, 'poised': 4151, 'dee': 4152, 'snider': 4153, 'villains': 4154, 'sophisticated': 4155, 'thrillerhorror': 4156, 'miserably': 4157, 'unoriginal': 4158, 'cinematic': 4159, 'captured': 4160, 'celluloid': 4161, 'supernatural': 4162, 'zombie': 4163, 'thread': 4164, 'leni': 4165, 'parker': 4166, 'anita': 4167, 'laselva': 4168, 'taelons': 4169, 'idealogical': 4170, 'centers': 4171, 'puppet': 4172, 'flicks': 4173, 'explains': 4174, 'sinister': 4175, 'origins': 4176, 'insomniacs': 4177, 'heartwarming': 4178, 'chasing': 4179, 'nurse': 4180, 'unpredictability': 4181, 'labute': 4182, 'brutal': 4183, 'violence': 4184, 'seperate': 4185, 'secondary': 4186, 'incomprehensible': 4187, 'relation': 4188, 'primary': 4189, 'mystifying': 4190, 'shelves': 4191, 'moviemaking': 4192, 'warn': 4193, 'dumbest': 4194, 'hbo': 4195, 'cox': 4196, 'win': 4197, 'agree': 4198, 'jessica': 4199, 'onedimensional': 4200, 'elaborately': 4201, 'aesthetically': 4202, 'sculpture': 4203, 'soap': 4204, 'operas': 4205, 'pray': 4206, 'charismatic': 4207, 'paolo': 4208, 'sorrentino': 4209, 'tony': 4210, 'unforgettable': 4211, 'titta': 4212, 'di': 4213, 'girolamo': 4214, 'vision': 4215, '910': 4216, 'debut': 4217, 'charlie': 4218, 'kathy': 4219, 'bates': 4220, 'desperation': 4221, 'escapism': 4222, 'variation': 4223, 'fields': 4224, 'condescends': 4225, 'arts': 4226, 'daughters': 4227, 'paint': 4228, 'photograph': 4229, 'poignant': 4230, 'alert': 4231, 'decipher': 4232, 'meanings': 4233, 'matrix': 4234, 'sequels': 4235, 'mindblowing': 4236, 'dream': 4237, 'rickman': 4238, 'stowe': 4239, 'hilt': 4240, 'childrens': 4241, 'subversive': 4242, 'tract': 4243, 'gloriously': 4244, 'accurate': 4245, 'raver': 4246, 'idyllic': 4247, 'downs': 4248, 'groove': 4249, 'antithesis': 4250, 'traffic': 4251, 'crowe': 4252, 'picked': 4253, 'government': 4254, 'scientist': 4255, 'argued': 4256, 'humanity': 4257, 'dwight': 4258, 'schultz': 4259, 'sincere': 4260, 'onscreen': 4261, 'critical': 4262, 'gorman': 4263, 'bechard': 4264, 'homework': 4265, 'characterage': 4266, 'appropriate': 4267, 'captures': 4268, 'essence': 4269, 'track': 4270, 'commands': 4271, 'contributing': 4272, 'threshold': 4273, 'hayao': 4274, 'eighth': 4275, 'ghibili': 4276, 'gake': 4277, 'ue': 4278, 'cliff': 4279, 'dominated': 4280, 'disneypixar': 4281, 'cgi': 4282, 'comforting': 4283, 'relying': 4284, 'handdrawn': 4285, 'enchanting': 4286, 'remarkable': 4287, 'crayonpencil': 4288, 'drawings': 4289, 'colorful': 4290, 'fanciful': 4291, 'drift': 4292, 'surf': 4293, '1998': 4294, 'impact': 4295, 'armageddon': 4296, 'choked': 4297, 'vessel': 4298, 'taken': 4299, 'mighty': 4300, 'frost': 4301, 'bonuses': 4302, 'fest': 4303, 'spoiled': 4304, 'brat': 4305, 'babysitting': 4306, 'sundays': 4307, 'march': 4308, 'judith': 4309, 'cutie': 4310, 'confidence': 4311, 'wellbalanced': 4312, 'riot': 4313, 'hugo': 4314, 'weaving': 4315, 'sexobsessed': 4316, 'gay': 4317, 'estate': 4318, 'salesman': 4319, 'clients': 4320, 'houses': 4321, 'trysts': 4322, 'flaming': 4323, 'darren': 4324, 'hollander': 4325, 'flowed': 4326, 'malebonding': 4327, 'hoot': 4328, 'n': 4329, 'genre': 4330, 'jessice': 4331, 'clothes': 4332, 'virtue': 4333, 'regrettable': 4334, 'exceptionally': 4335, 'bank': 4336, 'holiday': 4337, 'rick': 4338, 'honeslty': 4339, 'rubber': 4340, 'ahead': 4341, 'warmer': 4342, 'wayyy': 4343, 'cape': 4344, 'cod': 4345, 'ravoli': 4346, 'cranberry': 4347, 'disgusted': 4348, 'shocked': 4349, 'indicate': 4350, 'cash': 4351, 'burrittos': 4352, 'interior': 4353, 'velvet': 4354, 'cake': 4355, 'ohhh': 4356, 'hole': 4357, 'luke': 4358, 'sever': 4359, 'combos': 4360, 'blow': 4361, 'accident': 4362, 'grab': 4363, 'pub': 4364, 'hiro': 4365, 'melted': 4366, 'styrofoam': 4367, 'pucks': 4368, 'disgust': 4369, 'register': 4370, 'rib': 4371, 'section': 4372, 'firehouse': 4373, 'pink': 4374, 'mein': 4375, 'flatlined': 4376, 'strings': 4377, 'banana': 4378, 'petrified': 4379, 'receives': 4380, 'cocktails': 4381, 'handmade': 4382, 'military': 4383, 'dos': 4384, 'gringos': 4385, 'tastings': 4386, 'jeff': 4387, 'milkshake': 4388, 'chocolate': 4389, 'milk': 4390, 'excalibur': 4391, 'common': 4392, 'cheated': 4393, 'experiencing': 4394, 'parties': 4395, 'smelled': 4396, 'pan': 4397, 'cakes': 4398, 'raving': 4399, 'tailored': 4400, 'palate': 4401, 'ratio': 4402, 'tenders': 4403, 'unsatisfying': 4404, 'omelets': 4405, 'sexy': 4406, 'outrageously': 4407, 'flirting': 4408, 'hottest': 4409, 'rock': 4410, 'casino': 4411, 'forward': 4412, 'bone': 4413, 'bloddy': 4414, 'mussels': 4415, 'reduction': 4416, 'buffets': 4417, 'tigerlilly': 4418, 'personable': 4419, 'sooooo': 4420, 'yama': 4421, '40min': 4422, 'arriving': 4423, 'actual': 4424, 'blandest': 4425, 'cuisine': 4426, 'worries': 4427, 'loving': 4428, 'venture': 4429, 'host': 4430, 'bitches': 4431, 'liking': 4432, 'reviewing': 4433, 'venturing': 4434, 'penne': 4435, 'vodka': 4436, 'meatloaf': 4437, 'crispy': 4438, 'lox': 4439, 'capers': 4440, 'meet': 4441, 'weekend': 4442, 'suggestions': 4443, 'bamboo': 4444, 'shoots': 4445, 'blanket': 4446, 'moz': 4447, 'ignore': 4448, 'middle': 4449, 'mandalay': 4450, 'forty': 4451, 'vain': 4452, 'crostini': 4453, 'nigiri': 4454, 'flavored': 4455, 'voodoo': 4456, 'gluten': 4457, 'leftover': 4458, 'relocated': 4459, 'diverse': 4460, 'handsdown': 4461, 'hella': 4462, 'salty': 4463, 'spinach': 4464, 'avocado': 4465, 'ingredients': 4466, 'handed': 4467, 'listed': 4468, 'waitresses': 4469, 'lordy': 4470, 'khao': 4471, 'soi': 4472, 'accommodations': 4473, 'inspired': 4474, 'desired': 4475, 'maintaining': 4476, 'coziness': 4477, 'weekly': 4478, 'haunt': 4479, 'asking': 4480, 'verge': 4481, 'dressed': 4482, 'rudely': 4483, 'hits': 4484, 'quantity': 4485, 'lemon': 4486, 'raspberry': 4487, 'cocktail': 4488, 'imagined': 4489, 'crepe': 4490, 'bits': 4491, 'missing': 4492, 'joey': 4493, 'voted': 4494, 'magazine': 4495, 'fridays': 4496, 'blows': 4497, 'exceeding': 4498, 'dreamed': 4499, 'serivce': 4500, 'inviting': 4501, '1979': 4502, 'stepped': 4503, 'foot': 4504, 'mixed': 4505, 'mushrooms': 4506, 'yukon': 4507, 'beateous': 4508, 'climbing': 4509, 'tartar': 4510, 'jamaican': 4511, 'mojitos': 4512, 'rich': 4513, 'accordingly': 4514, 'rinse': 4515, 'nude': 4516, 'bussell': 4517, 'sprouts': 4518, 'risotto': 4519, 'bodes': 4520, 'wrapped': 4521, 'dates': 4522, 'otto': 4523, 'welcome': 4524, 'mains': 4525, 'uninspired': 4526, 'muststop': 4527, 'worstannoying': 4528, 'drunk': 4529, 'patty': 4530, 'uploaded': 4531, 'sporting': 4532, 'walls': 4533, 'descriptions': 4534, 'eel': 4535, 'sauces': 4536, 'hardest': 4537, 'rolled': 4538, 'providing': 4539, 'flavourful': 4540, 'freezing': 4541, 'ayce': 4542, 'mood': 4543, 'based': 4544, 'gratitude': 4545, 'privileged': 4546, 'workingeating': 4547, 'silently': 4548, 'peanut': 4549, 'godfathers': 4550, 'recall': 4551, 'visited': 4552, 'proclaimed': 4553, 'wildly': 4554, 'veggitarian': 4555, 'platter': 4556, 'madison': 4557, 'ironman': 4558, 'chefs': 4559, 'dedicated': 4560, 'spots': 4561, 'jenni': 4562, 'goat': 4563, 'skimp': 4564, 'mac': 4565, 'burned': 4566, 'saganaki': 4567, 'disagree': 4568, 'fellow': 4569, 'yelpers': 4570, 'noodles': 4571, 'chip': 4572, 'count': 4573, 'servicecheck': 4574, 'greedy': 4575, 'corporation': 4576, 'dime': 4577, 'outdoor': 4578, 'muffin': 4579, 'untoasted': 4580, 'bus': 4581, 'figured': 4582, 'publicly': 4583, 'loudly': 4584, 'bbq': 4585, 'lighter': 4586, 'inhouse': 4587, 'downside': 4588, 'shawarrrrrrma': 4589, 'eyed': 4590, 'peas': 4591, 'unreal': 4592, 'vinaigrette': 4593, '00': 4594, 'honor': 4595, 'hut': 4596, 'coupons': 4597, 'unbelievably': 4598, 'covers': 4599, 'replenished': 4600, 'yucky': 4601, '17': 4602, 'delicioso': 4603, 'spaghetti': 4604, 'tucson': 4605, 'chipotle': 4606, 'classywarm': 4607, 'succulent': 4608, 'baseball': 4609, 'app': 4610, 'genuinely': 4611, 'enthusiastic': 4612, 'sadly': 4613, 'gordon': 4614, 'ramsey': 4615, 'shall': 4616, 'offered': 4617, 'handling': 4618, 'rowdy': 4619, 'despicable': 4620, 'craving': 4621, 'ache': 4622, 'elegantly': 4623, 'customize': 4624, 'bean': 4625, 'outta': 4626, 'inconsiderate': 4627, 'hi': 4628, 'dinners': 4629, 'outshining': 4630, 'halibut': 4631, 'starving': 4632, 'def': 4633, 'ethic': 4634, 'andddd': 4635, 'located': 4636, 'crystals': 4637, 'shopping': 4638, 'aria': 4639, 'summarize': 4640, 'nay': 4641, 'transcendant': 4642, 'pneumatic': 4643, 'condiment': 4644, 'dispenser': 4645, 'ians': 4646, 'kiddos': 4647, 'bouchon': 4648, 'accountant': 4649, 'screwed': 4650, 'reminds': 4651, 'shops': 4652, 'san': 4653, 'francisco': 4654, 'buldogis': 4655, 'gourmet': 4656, 'frustrated': 4657, 'petty': 4658, 'iced': 4659, 'hungry': 4660, 'sore': 4661, 'companions': 4662, 'ground': 4663, 'smeared': 4664, 'beensteppedinandtrackedeverywhere': 4665, 'bird': 4666, 'poop': 4667, 'furthermore': 4668, 'operation': 4669, 'expertconnisseur': 4670, 'topic': 4671, 'jerk': 4672, 'strike': 4673, 'rushed': 4674, 'across': 4675, 'appetizer': 4676, 'absolutley': 4677, '5lb': 4678, '34ths': 4679, 'gristle': 4680, 'steiners': 4681, 'fs': 4682, 'breakfastlunch': 4683, 'pears': 4684, 'almonds': 4685, 'spicier': 4686, 'prefer': 4687, 'ribeye': 4688, 'mesquite': 4689, 'gooodd': 4690, 'connoisseur': 4691, 'mouthful': 4692, 'relaxed': 4693, 'venue': 4694, 'couples': 4695, 'groups': 4696, 'nargile': 4697, 'tater': 4698, 'southwest': 4699, 'vanilla': 4700, 'smooth': 4701, 'profiterole': 4702, 'choux': 4703, 'pastry': 4704, 'az': 4705, 'carly': 4706, 'ventilation': 4707, 'upgrading': 4708, 'letdown': 4709, 'camelback': 4710, 'shop': 4711, 'cartel': 4712, 'trimmed': 4713, 'claimed': 4714, 'jewel': 4715, 'las': 4716, 'boiled': 4717, 'toro': 4718, 'tartare': 4719, 'cavier': 4720, 'thinly': 4721, 'wagyu': 4722, 'truffle': 4723, 'attached': 4724, 'decide': 4725, 'humiliated': 4726, 'worker': 4727, 'name': 4728, 'callings': 4729, 'daily': 4730, 'specials': 4731, 'tragedy': 4732, 'pancake': 4733, 'crawfish': 4734, 'multigrain': 4735, 'pumpkin': 4736, 'pecan': 4737, 'fluffy': 4738, 'airline': 4739, 'noca': 4740, 'gyro': 4741, 'lettuce': 4742, 'pastas': 4743, 'cheesecurds': 4744, 'finger': 4745, 'beauty': 4746, 'greasy': 4747, 'unhealthy': 4748, 'similarly': 4749, 'apology': 4750, 'togo': 4751, 'tiramisu': 4752, 'cannoli': 4753, 'sun': 4754, 'meats': 4755, 'frenchman': 4756, 'martini': 4757, 'gc': 4758, 'thirty': 4759, 'vacant': 4760, 'yellowtail': 4761, 'carpaccio': 4762, 'strangers': 4763, 'hello': 4764, 'donut': 4765, 'saving': 4766, 'disgraceful': 4767, 'suffers': 4768, 'greens': 4769, 'hankering': 4770, 'theft': 4771, 'eew': 4772, 'overhaul': 4773, 'witnessed': 4774, 'regularly': 4775, 'swung': 4776, 'efficient': 4777, 'sucker': 4778, 'olives': 4779, 'perpared': 4780, 'giant': 4781, 'slices': 4782, 'dusted': 4783, 'powdered': 4784, 'sugar': 4785, 'fo': 4786, 'accomodate': 4787, 'veganveggie': 4788, 'crumby': 4789, 'pale': 4790, 'croutons': 4791, 'trips': 4792, 'crema': 4793, 'expanded': 4794, 'philadelphia': 4795, 'north': 4796, 'scottsdale': 4797, 'soooooo': 4798, 'freaking': 4799, 'papers': 4800, 'reheated': 4801, 'wedges': 4802, 'absolute': 4803, 'bloody': 4804, 'businesses': 4805, 'yellow': 4806, 'saffron': 4807, 'seasoning': 4808, 'noncustomer': 4809, 'grandmother': 4810, 'ignored': 4811, 'hostess': 4812, 'boys': 4813, 'shirt': 4814, 'drastically': 4815, 'highquality': 4816, 'caesar': 4817, 'madhouse': 4818, 'proven': 4819, 'moods': 4820, 'macarons': 4821, 'insanely': 4822, 'informative': 4823, 'plater': 4824, 'relax': 4825, 'sitdown': 4826, 'screams': 4827, 'somethat': 4828, 'duo': 4829, 'violinists': 4830, 'requested': 4831, 'baklava': 4832, 'falafels': 4833, 'baba': 4834, 'ganoush': 4835, 'mgm': 4836, 'courteous': 4837, 'eclectic': 4838, 'onion': 4839, 'rings': 4840, 'nobu': 4841, 'google': 4842, 'smashburger': 4843, 'lover': 4844, 'plantains': 4845, 'spends': 4846, 'panna': 4847, 'cotta': 4848, 'flavors': 4849, 'slaw': 4850, 'drenched': 4851, 'piano': 4852, 'rge': 4853, 'fillet': 4854, 'relleno': 4855, 'sergeant': 4856, 'auju': 4857, 'hawaiian': 4858, 'breeze': 4859, 'mango': 4860, 'magic': 4861, 'pineapple': 4862, 'smoothies': 4863, 'mortified': 4864, 'anyways': 4865, 'dripping': 4866, '2007': 4867, 'hospitality': 4868, 'paradise': 4869, 'refrained': 4870, 'recommending': 4871, 'cibo': 4872, 'mouths': 4873, 'bellies': 4874, 'dough': 4875, 'elk': 4876, 'hooked': 4877, 'classics': 4878, 'sorely': 4879, 'quaint': 4880, 'deliciously': 4881, 'dylan': 4882, 'tummy': 4883, 'gratuity': 4884, 'larger': 4885, 'apple': 4886, 'han': 4887, 'nan': 4888, 'edinburgh': 4889, 'revisiting': 4890, 'naan': 4891, 'pine': 4892, 'touched': 4893, 'airport': 4894, 'speedy': 4895, 'calligraphy': 4896, 'stood': 4897, 'guest': 4898, 'extensive': 4899, 'inflate': 4900, 'smaller': 4901, 'grow': 4902, 'rapidly': 4903, 'lil': 4904, 'fuzzy': 4905, 'wontons': 4906, 'spice': 4907, 'overwhelm': 4908, '30s': 4909, 'arepas': 4910, 'jalapeno': 4911, 'shoe': 4912, 'block': 4913, 'lowkey': 4914, 'nonfancy': 4915, 'affordable': 4916, 'soups': 4917, 'sunday': 4918, 'hunan': 4919, 'flair': 4920, 'bartenders': 4921, 'nutshell': 4922, 'restaraunt': 4923, 'sewer': 4924, 'veal': 4925, 'satifying': 4926, 'join': 4927, 'email': 4928, 'colder': 4929, 'describing': 4930, 'tepid': 4931, 'chains': 4932, 'crowds': 4933, 'juries': 4934, 'lawyers': 4935, 'arrives': 4936, 'paying': 4937, '85': 4938, 'wienerschnitzel': 4939, 'maine': 4940, 'roll': 4941, 'law': 4942, 'hereas': 4943, 'event': 4944, 'held': 4945, 'pissd': 4946, 'surprise': 4947, 'goldencrispy': 4948, 'hopes': 4949, 'bruschetta': 4950, 'devine': 4951, 'employee': 4952, 'lastly': 4953, 'mozzarella': 4954, 'negligent': 4955, 'unwelcome': 4956, 'packed': 4957, 'seasonal': 4958, 'fruit': 4959, 'peach': 4960, 'officially': 4961, 'containers': 4962, 'opposed': 4963, 'cramming': 4964, 'takeout': 4965, 'boxes': 4966, 'crãªpe': 4967, 'delicate': 4968, 'kabuki': 4969, 'overhip': 4970, 'underservices': 4971, 'maria': 4972, 'article': 4973, 'spices': 4974, 'fucking': 4975, 'caballero': 4976, 'oysters': 4977, 'qualified': 4978, 'foods': 4979, 'tolerance': 4980, 'polite': 4981, 'wash': 4982, 'biscuit': 4983, 'coconut': 4984, 'fella': 4985, 'huevos': 4986, 'rancheros': 4987, 'wines': 4988, 'pricey': 4989, 'foodservice': 4990, 'temp': 4991, 'prepare': 4992, 'bare': 4993, 'gloves': 4994, 'oil': 4995, 'pleasure': 4996, 'plethora': 4997, 'sandwiches': 4998, 'seal': 4999, 'approval': 5000, 'college': 5001, 'cooking': 5002, 'besides': 5003, 'costco': 5004, 'highlighted': 5005, 'grocery': 5006, 'ownerchef': 5007, 'dude': 5008, 'doughy': 5009, 'inch': 5010, 'albondigas': 5011, 'tomato': 5012, 'meatballs': 5013, 'occasions': 5014, 'medium': 5015, 'bloodiest': 5016, 'anymore': 5017, 'chai': 5018, 'latte': 5019, 'allergy': 5020, 'warnings': 5021, 'clue': 5022, 'contain': 5023, 'peanuts': 5024, 'mediterranean': 5025, 'beers': 5026, 'highlight': 5027, 'concern': 5028, 'mellow': 5029, 'mushroom': 5030, 'strawberry': 5031, 'unprofessional': 5032, 'loyal': 5033, 'patron': 5034, 'occasional': 5035, 'pats': 5036, 'bellagio': 5037, 'anticipated': 5038, 'sals': 5039, 'fav': 5040, 'unexperienced': 5041, 'employees': 5042, 'chickens': 5043, 'steakhouse': 5044, 'concept': 5045, 'guacamole': 5046, 'postinos': 5047, 'poisoning': 5048, 'batch': 5049, 'yay': 5050, 'eve': 5051, 'caring': 5052, 'teamwork': 5053, 'degree': 5054, 'ri': 5055, 'calamari': 5056, 'fondue': 5057, 'denny': 5058, 'downright': 5059, 'waaaaaayyyyyyyyyy': 5060, 'sangria': 5061, 'glass': 5062, 'brisket': 5063, 'trippy': 5064, 'hurry': 5065, 'reservation': 5066, 'stretch': 5067, 'cashew': 5068, 'chipolte': 5069, 'ranch': 5070, 'dipping': 5071, 'sause': 5072, 'watered': 5073, 'workers': 5074, 'douchey': 5075, 'garden': 5076, 'con': 5077, 'spotty': 5078, 'ensued': 5079, 'apologize': 5080, 'binge': 5081, 'drinking': 5082, 'carbs': 5083, 'insults': 5084, 'profound': 5085, 'deuchebaggery': 5086, 'solidify': 5087, 'combo': 5088, 'ala': 5089, 'cart': 5090, 'blame': 5091, 'rave': 5092, 'del': 5093, 'hamburger': 5094, 'services': 5095, 'yaall': 5096, 'fireball': 5097, 'disapppointment': 5098, 'correction': 5099, 'heimer': 5100, 'brownish': 5101, 'ha': 5102, 'flop': 5103, '99': 5104, 'bigger': 5105, 'sub': 5106, 'unwrapped': 5107, 'mile': 5108, 'brushfire': 5109, 'mirage': 5110, 'refried': 5111, 'dried': 5112, 'crusty': 5113, 'caterpillar': 5114, 'appetite': 5115, 'instantly': 5116, 'ninja': 5117, 'poured': 5118, 'wound': 5119, 'drawing': 5120}\n"
     ]
    }
   ],
   "source": [
    "tokenizer = Tokenizer(num_words =100)\n",
    "tokenizer.fit_on_texts(df['clean_text'])\n",
    "word_index= tokenizer.word_index\n",
    "print(word_index)"
   ]
  },
  {
   "cell_type": "code",
   "execution_count": 48,
   "metadata": {},
   "outputs": [],
   "source": [
    "sequences = tokenizer.texts_to_sequences(df['clean_text'])"
   ]
  },
  {
   "cell_type": "code",
   "execution_count": 57,
   "metadata": {},
   "outputs": [
    {
     "name": "stdout",
     "output_type": "stream",
     "text": [
      "[[ 1 46 97 27  0  0]\n",
      " [ 1  5 73 33  0  0]\n",
      " [ 1  6  0  0  0  0]\n",
      " ...\n",
      " [ 3 18 27 24  0  0]\n",
      " [ 3 80 43 27 14  0]\n",
      " [ 3  4 56 93 14  0]]\n",
      "{'amazon': 1, 'imdb': 2, 'yelp': 3, 'nt': 4, 'good': 5, 'great': 6, 'movie': 7, 'phone': 8, 'film': 9, 'one': 10, 'food': 11, 'like': 12, 'place': 13, 'time': 14, 'service': 15, 'really': 16, 'bad': 17, 'would': 18, 'well': 19, 'best': 20, 'even': 21, 'ever': 22, 'also': 23, 'back': 24, 'could': 25, 'quality': 26, 'go': 27, 'love': 28, 'made': 29, 'product': 30, 'get': 31, 'work': 32, 'excellent': 33, 'works': 34, 'nice': 35, 'better': 36, 'never': 37, 'recommend': 38, 'much': 39, 'use': 40, 'sound': 41, 'headset': 42, 'think': 43, 'battery': 44, 'first': 45, 'way': 46, 'pretty': 47, 'see': 48, 'make': 49, 'acting': 50, 'got': 51, 'still': 52, 'worst': 53, 'everything': 54, 'say': 55, 'enough': 56, '2': 57, 'two': 58, 'ear': 59, 'little': 60, 'disappointed': 61, 'every': 62, 'characters': 63, 'right': 64, 'thing': 65, 'price': 66, 'amazing': 67, 'minutes': 68, 'waste': 69, 'going': 70, 'people': 71, 'definitely': 72, 'case': 73, 'real': 74, 'terrible': 75, 'money': 76, 'look': 77, 'new': 78, 'know': 79, 'experience': 80, 'came': 81, 'movies': 82, 'friendly': 83, 'many': 84, 'story': 85, 'far': 86, 'poor': 87, 'piece': 88, 'used': 89, 'worth': 90, 'plot': 91, 'years': 92, 'life': 93, 'nothing': 94, 'wo': 95, 'seen': 96, 'us': 97, 'long': 98, 'want': 99, 'lot': 100, '10': 101, 'quite': 102, 'ca': 103, 'wonderful': 104, 'restaurant': 105, 'happy': 106, 'always': 107, 'films': 108, 'script': 109, 'highly': 110, 'found': 111, 'give': 112, 'anyone': 113, 'character': 114, 'delicious': 115, 'easy': 116, 'screen': 117, 'times': 118, 'another': 119, 'watching': 120, 'vegas': 121, 'went': 122, 'bought': 123, 'absolutely': 124, 'loved': 125, 'car': 126, 'fine': 127, 'buy': 128, 'worked': 129, 'around': 130, 'funny': 131, 'probably': 132, 'take': 133, 'awful': 134, 'comfortable': 135, 'camera': 136, 'since': 137, 'item': 138, 'awesome': 139, 'horrible': 140, 'however': 141, 'charger': 142, 'impressed': 143, 'makes': 144, 'cool': 145, 'find': 146, 'big': 147, 'music': 148, 'thought': 149, 'stars': 150, 'things': 151, 'show': 152, 'totally': 153, 'scenes': 154, 'actors': 155, 'watch': 156, 'staff': 157, 'eat': 158, 'though': 159, 'last': 160, 'talk': 161, 'bluetooth': 162, 'end': 163, 'black': 164, '1': 165, 'job': 166, 'small': 167, 'fantastic': 168, 'slow': 169, 'night': 170, 'overall': 171, 'part': 172, 'family': 173, 'come': 174, 'cast': 175, 'must': 176, '5': 177, 'beautiful': 178, 'kind': 179, 'cheap': 180, 'ordered': 181, 'old': 182, 'stupid': 183, 'said': 184, 'day': 185, 'perfect': 186, 'chicken': 187, 'line': 188, 'problem': 189, 'sure': 190, 'performance': 191, 'actually': 192, 'reception': 193, 'avoid': 194, 'try': 195, 'especially': 196, 'feel': 197, 'next': 198, 'fresh': 199, 'special': 200, 'problems': 201, 'everyone': 202, 'least': 203, 'order': 204, 'tried': 205, 'done': 206, 'simply': 207, 'felt': 208, 'bit': 209, 'anything': 210, 'sucks': 211, 'hard': 212, 'scene': 213, 'interesting': 214, 'menu': 215, 'salad': 216, 'pizza': 217, 'without': 218, 'hear': 219, 'charge': 220, 'calls': 221, 'looks': 222, 'purchase': 223, 'gets': 224, 'expect': 225, 'fit': 226, 'fast': 227, 'cell': 228, 'completely': 229, 'almost': 230, 'customer': 231, 'either': 232, 'low': 233, 'away': 234, 'liked': 235, 'coming': 236, 'man': 237, 'enjoyed': 238, 'writing': 239, 'worse': 240, 'taste': 241, 'wait': 242, 'steak': 243, 'motorola': 244, 'left': 245, '3': 246, 'short': 247, 'clear': 248, 'seriously': 249, 'different': 250, 'device': 251, 'working': 252, 'using': 253, 'white': 254, 'call': 255, 'year': 256, 'whole': 257, 'rather': 258, 'bland': 259, 'hour': 260, 'dialogue': 261, 'server': 262, 'sushi': 263, 'flavor': 264, 'plug': 265, 'volume': 266, 'several': 267, 'started': 268, 'design': 269, 'super': 270, 'play': 271, 'full': 272, 'may': 273, 'getting': 274, 'perfectly': 275, 'side': 276, 'put': 277, 'incredible': 278, 'extremely': 279, 'tell': 280, 'return': 281, 'disappointing': 282, 'looking': 283, 'crap': 284, 'deal': 285, 'understand': 286, 'unfortunately': 287, 'took': 288, 'enjoy': 289, 'believe': 290, 'fact': 291, 'art': 292, 'saw': 293, 'buffet': 294, 'feeling': 295, 'director': 296, 'watched': 297, 'atmosphere': 298, 'burger': 299, 'yet': 300, 'three': 301, 'need': 302, 'received': 303, 'huge': 304, 'light': 305, 'fits': 306, 'hours': 307, 'less': 308, 'stay': 309, 'certainly': 310, 'mess': 311, 'disappointment': 312, 'care': 313, 'hot': 314, 'wrong': 315, 'sucked': 316, 'barely': 317, 'truly': 318, 'mediocre': 319, 'soon': 320, 'ending': 321, 'boring': 322, 'tasty': 323, 'meal': 324, 'fun': 325, 'wasted': 326, 'original': 327, 'days': 328, 'months': 329, 'recommended': 330, 'kept': 331, 'picture': 332, 'let': 333, 'home': 334, 'high': 335, 'strong': 336, 'pleased': 337, 'area': 338, 'glad': 339, 'company': 340, 'gave': 341, 'oh': 342, 'none': 343, 'something': 344, 'tv': 345, 'together': 346, 'effects': 347, 'easily': 348, 'inside': 349, 'top': 350, 'kids': 351, 'predictable': 352, 'actor': 353, 'played': 354, 'cold': 355, 'selection': 356, 'prices': 357, 'sauce': 358, 'waited': 359, 'decent': 360, 'helpful': 361, 'turn': 362, 'verizon': 363, 'dropped': 364, 'phones': 365, 'seems': 366, 'wear': 367, 'series': 368, 'broke': 369, 'voice': 370, 'lost': 371, 'hands': 372, 'junk': 373, 'ago': 374, 'couple': 375, 'face': 376, 'trying': 377, 'wanted': 378, 'today': 379, 'keep': 380, '20': 381, 'star': 382, 'guess': 383, 'bar': 384, 'else': 385, 'places': 386, 'half': 387, 'directing': 388, 'game': 389, 'drama': 390, 'waitress': 391, 'second': 392, 'style': 393, 'spot': 394, 'fries': 395, 'table': 396, 'sandwich': 397, 'lunch': 398, 'meat': 399, 'breakfast': 400, 'dishes': 401, 'clean': 402, 'value': 403, 'simple': 404, 'hate': 405, 'garbage': 406, 'audio': 407, 'buttons': 408, 'perhaps': 409, 'arrived': 410, 'quickly': 411, 'pictures': 412, 'although': 413, 'wife': 414, 'ask': 415, 'jabra': 416, 'set': 417, 'house': 418, 'obviously': 419, 'check': 420, 'mostly': 421, 'expected': 422, 'important': 423, 'someone': 424, 'weak': 425, 'average': 426, 'finally': 427, 'waiting': 428, 'comes': 429, 'unit': 430, 'given': 431, 'quick': 432, 'plus': 433, 'point': 434, 'pay': 435, 'told': 436, 'entire': 437, '4': 438, 'fails': 439, 'cinematography': 440, 'cinema': 441, 'amount': 442, 'twice': 443, 'playing': 444, 'world': 445, 'human': 446, 'eating': 447, 'overpriced': 448, 'beer': 449, 'dish': 450, 'dining': 451, 'spicy': 452, 'rude': 453, 'tasted': 454, 'unless': 455, 'book': 456, 'priced': 457, 'mind': 458, 'loud': 459, 'reasonable': 460, 'front': 461, 'cover': 462, 'week': 463, 'later': 464, 'feels': 465, 'headsets': 466, 'within': 467, 'free': 468, 'software': 469, 'brilliant': 470, 'literally': 471, 'superb': 472, 'internet': 473, 'charm': 474, 'useless': 475, 'color': 476, 'room': 477, 'authentic': 478, 'cable': 479, 'nokia': 480, 'outside': 481, 'others': 482, 'mention': 483, 'might': 484, 'solid': 485, 'review': 486, 'store': 487, 'friends': 488, 'course': 489, 'needed': 490, 'wall': 491, 'whatever': 492, 'management': 493, 'word': 494, 'joy': 495, 'girl': 496, 'lines': 497, 'hilarious': 498, 'single': 499, 'editing': 500, 'written': 501, 'suspense': 502, 'classic': 503, 'bring': 504, 'maybe': 505, 'horror': 506, 'possible': 507, 'beyond': 508, 'john': 509, 'action': 510, 'hope': 511, 'location': 512, 'sick': 513, 'subtle': 514, 'drive': 515, '90': 516, '30': 517, 'comedy': 518, 'heart': 519, 'tender': 520, 'served': 521, 'waiter': 522, 'attentive': 523, 'cooked': 524, 'town': 525, 'ambiance': 526, 'chips': 527, 'bars': 528, 'hold': 529, 'ears': 530, 'features': 531, 'instead': 532, 'large': 533, 'headphones': 534, 'particular': 535, 'player': 536, 'songs': 537, 'sometimes': 538, 'longer': 539, 'costs': 540, 'dont': 541, 'signal': 542, 'basically': 543, 'seemed': 544, 'goes': 545, 'whether': 546, 'hit': 547, 'thin': 548, 'bother': 549, 'range': 550, 'mistake': 551, 'whatsoever': 552, '8': 553, 'feature': 554, 'adorable': 555, 'poorly': 556, 'clever': 557, 'lacking': 558, 'reason': 559, 'exactly': 560, 'dead': 561, 'plastic': 562, 'note': 563, '12': 564, 'difficult': 565, 'seem': 566, 'zero': 567, 'joke': 568, 'walked': 569, 'idea': 570, 'samsung': 571, 'cases': 572, 'extra': 573, 'reviews': 574, 'happened': 575, 'despite': 576, 'etc': 577, 'elsewhere': 578, 'rare': 579, 'lots': 580, 'making': 581, 'setting': 582, 'rating': 583, 'rest': 584, 'wow': 585, 'ridiculous': 586, 'running': 587, 'lacks': 588, 'casting': 589, 'history': 590, 'flick': 591, 'lovely': 592, 'performances': 593, 'believable': 594, 'portrayal': 595, 'sat': 596, 'annoying': 597, 'gives': 598, 'business': 599, 'terrific': 600, 'rent': 601, 'fish': 602, 'hitchcock': 603, 'holes': 604, 'considering': 605, 'sweet': 606, 'seeing': 607, 'become': 608, 'leave': 609, 'throughout': 610, 'looked': 611, 'damn': 612, 'pho': 613, 'warm': 614, 'shrimp': 615, 'potato': 616, 'dinner': 617, 'razr': 618, 'blue': 619, 'charging': 620, 'owned': 621, '7': 622, 'provided': 623, 'sturdy': 624, 'party': 625, 'choice': 626, 'holds': 627, 'bargain': 628, 'shipping': 629, 'impressive': 630, 'fall': 631, 'leather': 632, 'weeks': 633, 'stuff': 634, 'minute': 635, 'forever': 636, 'graphics': 637, 'offers': 638, 'options': 639, 'needs': 640, 'recently': 641, 'incredibly': 642, 'reasonably': 643, 'form': 644, 'living': 645, 'embarrassing': 646, 'favorite': 647, 'cute': 648, 'buying': 649, 'cant': 650, 'games': 651, 'belt': 652, 'data': 653, 'along': 654, 'sides': 655, 'satisfied': 656, 'clarity': 657, 'wish': 658, 'turned': 659, 'reading': 660, 'computer': 661, 'ability': 662, 'roles': 663, 'ended': 664, 'replace': 665, 'total': 666, 'please': 667, 'due': 668, 'trash': 669, 'connection': 670, 'rate': 671, 'beat': 672, 'shots': 673, 'hand': 674, 'generally': 675, 'break': 676, 'thumbs': 677, 'dirty': 678, 'utterly': 679, 'ok': 680, 'audience': 681, 'empty': 682, 'budget': 683, 'consider': 684, 'level': 685, 'deserves': 686, 'lame': 687, 'tom': 688, 'often': 689, 'trip': 690, 'direction': 691, 'imagination': 692, 'cult': 693, 'mean': 694, 'lead': 695, 'silent': 696, 'close': 697, 'usual': 698, 'pathetic': 699, 'lacked': 700, 'plain': 701, 'soundtrack': 702, 'fans': 703, 'eyes': 704, 'child': 705, 'water': 706, 'shot': 707, 'memorable': 708, 'dry': 709, 'fan': 710, 'involved': 711, 'period': 712, 'particularly': 713, 'recent': 714, 'unbelievable': 715, 'rice': 716, '40': 717, 'sad': 718, 'asked': 719, 'tables': 720, 'portions': 721, 'dessert': 722, 'beef': 723, 'servers': 724, 'seafood': 725, 'pasta': 726, 'tasteless': 727, 'thai': 728, 'eaten': 729, 'seated': 730, 'bacon': 731, 'ice': 732, 'bread': 733, 'friend': 734, 'fried': 735, 'anytime': 736, 'mic': 737, 'sending': 738, 'owner': 739, 'clip': 740, 'advise': 741, 'website': 742, 'pair': 743, 'run': 744, 'instructions': 745, 'pull': 746, 'moving': 747, 'included': 748, 'worthless': 749, 'thats': 750, 'keyboard': 751, 'turns': 752, 'forget': 753, 'support': 754, 'clearly': 755, 'fairly': 756, 'trouble': 757, 'person': 758, 'station': 759, 'purchased': 760, 'loves': 761, 'decision': 762, 'rated': 763, 'rocks': 764, 'number': 765, 'comfortably': 766, 'failed': 767, 'takes': 768, 'previous': 769, 'tool': 770, 'share': 771, 'wasting': 772, 'handsfree': 773, 'network': 774, 'likes': 775, 'lasts': 776, 'nearly': 777, 'anyway': 778, 'able': 779, 'issues': 780, 'lightweight': 781, 'hair': 782, 'market': 783, 'type': 784, 'earpiece': 785, 'unreliable': 786, 'seller': 787, 'plantronics': 788, 'charged': 789, 'strip': 790, 'lg': 791, 'gotten': 792, 'immediately': 793, 'easier': 794, 'appealing': 795, 'called': 796, 'happier': 797, 'starts': 798, 'effective': 799, 'weird': 800, 'appearance': 801, 'q': 802, 'expensive': 803, 'tmobile': 804, 'results': 805, 'im': 806, 'earlier': 807, 'palm': 808, 'touch': 809, 'missed': 810, 'hated': 811, 'ringtones': 812, 'plays': 813, 'killer': 814, '50': 815, 'treo': 816, 'genuine': 817, 'red': 818, 'third': 819, 'ready': 820, 'chinese': 821, 'crisp': 822, 'power': 823, 'passed': 824, 'shows': 825, 'cut': 826, 'somewhat': 827, 'cost': 828, 'son': 829, 'addition': 830, 'disgusting': 831, 'five': 832, 'wind': 833, 'yes': 834, 'checked': 835, 'says': 836, 'exceptional': 837, 'wonderfully': 838, 'christmas': 839, 'young': 840, 'flat': 841, 'song': 842, 'showed': 843, 'main': 844, 'tale': 845, 'greatest': 846, 'gem': 847, 'true': 848, 'words': 849, 'massive': 850, 'complete': 851, 'convincing': 852, 'honestly': 853, 'follow': 854, 'energy': 855, 'pretentious': 856, 'occasionally': 857, 'including': 858, 'chemistry': 859, 'fear': 860, 'depth': 861, 'bunch': 862, 'paid': 863, 'crazy': 864, 'storyline': 865, 'gone': 866, 'already': 867, 'attempt': 868, 'camerawork': 869, 'torture': 870, 'pleasant': 871, 'premise': 872, 'ray': 873, 'charles': 874, 'remember': 875, 'thriller': 876, 'attention': 877, 'master': 878, 'visual': 879, 'fx': 880, 'mexican': 881, 'indeed': 882, 'thoroughly': 883, 'theater': 884, 'intelligence': 885, 'sense': 886, 'entertaining': 887, 'bored': 888, 'list': 889, 'guy': 890, 'towards': 891, 'drago': 892, 'enjoyable': 893, 'god': 894, 'parts': 895, 'sets': 896, 'stories': 897, 'production': 898, 'created': 899, 'role': 900, 'scamp': 901, 'charming': 902, 'insult': 903, 'death': 904, 'rolls': 905, 'space': 906, 'conclusion': 907, 'ten': 908, 'final': 909, 'serious': 910, 'mickey': 911, 'james': 912, 'vibe': 913, 'dark': 914, 'honest': 915, 'nasty': 916, 'delight': 917, 'thinking': 918, 'heard': 919, 'mouth': 920, 'dance': 921, 'italian': 922, 'beginning': 923, 'appreciate': 924, 'tacos': 925, 'salmon': 926, 'visit': 927, 'establishment': 928, 'husband': 929, 'drinks': 930, 'yummy': 931, 'wine': 932, 'steaks': 933, 'pork': 934, 'burgers': 935, 'cream': 936, 'drink': 937, 'bay': 938, 'phoenix': 939, 'wings': 940, 'live': 941, 'folks': 942, 'tea': 943, 'vegetables': 944, 'soup': 945, 'owners': 946, 'manager': 947, 'jawbone': 948, 'conversations': 949, 'lasting': 950, 'contacts': 951, 'imagine': 952, 'needless': 953, 'static': 954, 'odd': 955, 'wonder': 956, 'fire': 957, 'mother': 958, 'pocket': 959, 'pc': 960, 'combination': 961, 'speed': 962, 'gon': 963, 'na': 964, 'returned': 965, 'protection': 966, 'machine': 967, '15': 968, 'seconds': 969, '510': 970, 'complaints': 971, 'glasses': 972, 'quiet': 973, 'saying': 974, 'packaged': 975, '6': 976, 'construction': 977, 'boy': 978, 'loads': 979, 'ease': 980, 'plan': 981, 'beware': 982, 'supposedly': 983, 'match': 984, 'pros': 985, 'flaw': 986, 'expectations': 987, 'display': 988, 'setup': 989, 'earpieces': 990, 'bt': 991, 'earbud': 992, 'coverage': 993, 'tremendous': 994, 'experienced': 995, 'drops': 996, 'description': 997, 'hoping': 998, 'sounds': 999, 'sharp': 1000, 'chargers': 1001, 'bucks': 1002, 'replacement': 1003, 'strange': 1004, 'means': 1005, 'sony': 1006, 'comfort': 1007, 'aspect': 1008, 'appears': 1009, 'scary': 1010, 'drain': 1011, 'fry': 1012, 'giving': 1013, 'scratched': 1014, 'microphone': 1015, 'uncomfortable': 1016, 'plugged': 1017, 'driving': 1018, 'neither': 1019, 'flip': 1020, 'inexpensive': 1021, 'sitting': 1022, 'los': 1023, 'angeles': 1024, 'wireless': 1025, 'save': 1026, 'self': 1027, 'help': 1028, 'era': 1029, 'breaks': 1030, 'effect': 1031, 'warning': 1032, 'alone': 1033, 'size': 1034, 'sunglasses': 1035, 'returning': 1036, 'changing': 1037, 'worthwhile': 1038, 'pricing': 1039, 'regret': 1040, 'user': 1041, 'pitiful': 1042, 'noise': 1043, 'holster': 1044, 'amazed': 1045, 'orders': 1046, 'thanks': 1047, 'edge': 1048, 'refund': 1049, 'drop': 1050, 'ones': 1051, 'properly': 1052, 'flawed': 1053, 'forced': 1054, 'stop': 1055, 'speaker': 1056, 'constructed': 1057, 'holding': 1058, 'sprint': 1059, 'effort': 1060, 'stopped': 1061, 'usb': 1062, 'apart': 1063, 'surprised': 1064, 'fabulous': 1065, 'tinny': 1066, 'overly': 1067, 'placed': 1068, 'keeps': 1069, 'falling': 1070, 'tiny': 1071, 'four': 1072, 'spring': 1073, 'tries': 1074, 'interested': 1075, 'continue': 1076, 'pairing': 1077, 'balance': 1078, 'explain': 1079, 'biggest': 1080, 'stand': 1081, 'video': 1082, 'occupied': 1083, 'ripped': 1084, 'iphone': 1085, 'multiple': 1086, 'outlet': 1087, 'freedom': 1088, 'mark': 1089, '100': 1090, 'plenty': 1091, 'convenient': 1092, 'date': 1093, 'bottom': 1094, 'cingular': 1095, 'wooden': 1096, 'boot': 1097, 'sorry': 1098, 'double': 1099, 'sounded': 1100, 'feet': 1101, 'father': 1102, 'send': 1103, 'describe': 1104, 'letting': 1105, 'material': 1106, 'flaws': 1107, 'beep': 1108, 'managed': 1109, 'seat': 1110, 'otherwise': 1111, 'control': 1112, 'complain': 1113, 'lousy': 1114, 'directed': 1115, 'painful': 1116, 'disappoint': 1117, 'speak': 1118, 'head': 1119, 'meaning': 1120, 'baby': 1121, 'delivers': 1122, 'sea': 1123, 'faux': 1124, 'significant': 1125, 'pure': 1126, 'brilliance': 1127, 'moment': 1128, 'talented': 1129, 'fare': 1130, 'hill': 1131, 'ed': 1132, 'ladies': 1133, 'grace': 1134, 'negative': 1135, 'cause': 1136, 'pointless': 1137, 'anne': 1138, 'children': 1139, 'parents': 1140, 'dialog': 1141, 'selections': 1142, 'gross': 1143, 'lion': 1144, 'acted': 1145, 'checking': 1146, 'touching': 1147, 'scenery': 1148, 'paper': 1149, 'episode': 1150, '1010': 1151, 'remake': 1152, 'nobody': 1153, 'putting': 1154, 'conflict': 1155, 'handled': 1156, 'hell': 1157, 'disaster': 1158, 'treat': 1159, 'yeah': 1160, 'cartoon': 1161, 'paul': 1162, 'women': 1163, 'brain': 1164, 'redeeming': 1165, 'appalling': 1166, 'presents': 1167, 'screenwriter': 1168, 'step': 1169, 'ups': 1170, 'age': 1171, 'industry': 1172, 'spent': 1173, 'daughter': 1174, 'singing': 1175, 'bore': 1176, 'dancing': 1177, 'dvd': 1178, 'struck': 1179, 'contained': 1180, 'theme': 1181, 'aerial': 1182, 'thrilled': 1183, 'deeply': 1184, 'interest': 1185, 'narrative': 1186, 'actress': 1187, 'spoilers': 1188, 'stunning': 1189, 'surprisingly': 1190, 'released': 1191, 'ranks': 1192, 'journey': 1193, 'memories': 1194, 'summary': 1195, 'billy': 1196, 'possibly': 1197, 'trilogy': 1198, 'favourite': 1199, 'judge': 1200, 'wrap': 1201, 'leaves': 1202, 'reviewer': 1203, 'intelligent': 1204, 'smart': 1205, 'bakery': 1206, 'stage': 1207, 'actresses': 1208, 'ways': 1209, 'modern': 1210, 'scared': 1211, 'supposed': 1212, 'learn': 1213, 'values': 1214, 'huston': 1215, 'steve': 1216, 'ruthless': 1217, 'war': 1218, 'example': 1219, 'angel': 1220, 'thrown': 1221, 'scale': 1222, 'glance': 1223, 'score': 1224, 'frightening': 1225, 'oscar': 1226, 'knew': 1227, 'stanwyck': 1228, 'fat': 1229, 'footage': 1230, 'opened': 1231, 'sort': 1232, 'behind': 1233, 'race': 1234, 'happen': 1235, 'unconvincing': 1236, 'produced': 1237, 'early': 1238, 'documentary': 1239, 'martin': 1240, 'racial': 1241, 'crowd': 1242, 'imaginative': 1243, 'credit': 1244, 'watchable': 1245, 'pace': 1246, 'lighting': 1247, 'past': 1248, 'excuse': 1249, 'nonsense': 1250, 'exquisite': 1251, 'known': 1252, 'south': 1253, 'lady': 1254, 'delightful': 1255, 'beautifully': 1256, 'wilkinson': 1257, 'laughable': 1258, 'begin': 1259, 'late': 1260, 'giallo': 1261, 'emotions': 1262, 'belly': 1263, 'spend': 1264, 'write': 1265, 'stinks': 1266, 'writer': 1267, 'suck': 1268, 'stayed': 1269, 'puppets': 1270, 'doubt': 1271, 'guys': 1272, 'miyazaki': 1273, 'realized': 1274, 'subpar': 1275, 'animation': 1276, 'added': 1277, 'texture': 1278, 'recommendation': 1279, 'potatoes': 1280, 'brought': 1281, 'sashimi': 1282, 'moist': 1283, 'frozen': 1284, 'greek': 1285, 'dressing': 1286, 'pita': 1287, 'hummus': 1288, 'duck': 1289, 'salt': 1290, 'chewy': 1291, 'tip': 1292, 'cafe': 1293, 'ambience': 1294, 'busy': 1295, 'delish': 1296, 'melt': 1297, 'cheese': 1298, 'subway': 1299, 'restaurants': 1300, 'ate': 1301, 'stale': 1302, 'treated': 1303, 'vegetarian': 1304, 'healthy': 1305, 'decor': 1306, 'butter': 1307, 'egg': 1308, 'dog': 1309, 'insulted': 1310, 'brunch': 1311, 'soggy': 1312, 'lobster': 1313, 'chef': 1314, 'flavorful': 1315, 'generous': 1316, 'patio': 1317, 'outstanding': 1318, 'pizzas': 1319, 'pulled': 1320, 'mom': 1321, 'equally': 1322, 'bathroom': 1323, 'door': 1324, 'stomach': 1325, 'green': 1326, 'beans': 1327, 'regular': 1328, '35': 1329, 'bill': 1330, 'meals': 1331, 'homemade': 1332, 'desserts': 1333, 'boyfriend': 1334, 'edible': 1335, 'seating': 1336, 'salsa': 1337, '45': 1338, 'major': 1339, 'dozen': 1340, 'extended': 1341, 'notice': 1342, 'tooth': 1343, 'mobile': 1344, 'unusable': 1345, 'contract': 1346, 'juice': 1347, 'regarding': 1348, 'pda': 1349, 'neat': 1350, 'gadget': 1351, 'e': 1352, 'essentially': 1353, 'microsoft': 1354, 'tech': 1355, 'elegant': 1356, 'angle': 1357, 'skip': 1358, 'lock': 1359, 'died': 1360, 'docking': 1361, 'd807': 1362, 'advertised': 1363, 'handy': 1364, 'cheaper': 1365, 'seamlessly': 1366, 'buyer': 1367, 'apparently': 1368, 'relatively': 1369, 'resolution': 1370, 'slim': 1371, 'sex': 1372, 'toast': 1373, 'sleek': 1374, 'compromise': 1375, 'basic': 1376, 'keypad': 1377, 'unhappy': 1378, 'winner': 1379, 'realize': 1380, 'careful': 1381, 'logitech': 1382, 'recognition': 1383, 'stated': 1384, 'blackberry': 1385, 'technology': 1386, 'wired': 1387, 'messages': 1388, 'faster': 1389, 'w810i': 1390, 'whine': 1391, 'maintain': 1392, 'humans': 1393, 'button': 1394, 'thank': 1395, 'igo': 1396, 'tips': 1397, 'connected': 1398, 'latest': 1399, 'storage': 1400, 'buzzing': 1401, 'override': 1402, 'functionality': 1403, 'ring': 1404, 'tone': 1405, 'dropping': 1406, 'weight': 1407, 'hardly': 1408, 'ends': 1409, 'consumer': 1410, 'background': 1411, 'usually': 1412, 'excited': 1413, 'additional': 1414, 'gels': 1415, 'secure': 1416, 'gosh': 1417, 'attractive': 1418, 'smell': 1419, 'unbearable': 1420, 'caused': 1421, 'flimsy': 1422, 'month': 1423, 'flawlessly': 1424, 'rotating': 1425, 'thru': 1426, 'cat': 1427, '5year': 1428, 'removing': 1429, 'compliments': 1430, 'allow': 1431, 'dialing': 1432, '23': 1433, 'ipod': 1434, 'recharge': 1435, 'practically': 1436, 'add': 1437, 'boost': 1438, 'finished': 1439, 'ringing': 1440, 'hurt': 1441, 'push': 1442, 'skype': 1443, 'shipped': 1444, 'promptly': 1445, 'prompt': 1446, 'noticed': 1447, 'colored': 1448, 'cheaply': 1449, 'att': 1450, 'distorted': 1451, 'forgot': 1452, 'model': 1453, 'finds': 1454, 'enter': 1455, 'modest': 1456, 'dying': 1457, 'built': 1458, 'install': 1459, 'purchasing': 1460, 'moto': 1461, 'figure': 1462, 'fully': 1463, 'memory': 1464, 'card': 1465, 'wearing': 1466, 'timely': 1467, 'update': 1468, 'cumbersome': 1469, 'delivery': 1470, 'switch': 1471, 'batteries': 1472, 'receiving': 1473, 'exchanged': 1474, 'described': 1475, '11': 1476, 'nyc': 1477, 'defective': 1478, 'unacceptable': 1479, 'eye': 1480, 'catching': 1481, 'function': 1482, 'timeframe': 1483, 'complaint': 1484, 'standard': 1485, 'ugly': 1486, 'improvement': 1487, 'accidentally': 1488, 'listening': 1489, 'kitchen': 1490, 'conversation': 1491, 'practical': 1492, 'ample': 1493, 'eargels': 1494, 'channel': 1495, 'numerous': 1496, 'frustration': 1497, 'understanding': 1498, 'wire': 1499, 'menus': 1500, 'broken': 1501, 'development': 1502, 'knows': 1503, 'breaking': 1504, 'operate': 1505, 'paired': 1506, 'normally': 1507, 'brand': 1508, 'players': 1509, 'comments': 1510, 'performed': 1511, 'echo': 1512, 'warranty': 1513, 'produce': 1514, 'luck': 1515, 'exchange': 1516, 'utter': 1517, 'download': 1518, 'smoothly': 1519, 'study': 1520, 'access': 1521, 'somehow': 1522, 'flash': 1523, 'choices': 1524, 'tones': 1525, 'prime': 1526, 'jack': 1527, 'accept': 1528, 'except': 1529, 'allows': 1530, 'open': 1531, 'allowing': 1532, 'numbers': 1533, 'r': 1534, 'crashed': 1535, 'quit': 1536, 'via': 1537, 'span': 1538, 'signs': 1539, 'sizes': 1540, 'provides': 1541, 'mainly': 1542, 'metro': 1543, 'smoke': 1544, 'carries': 1545, 'highest': 1546, 'protector': 1547, 'wont': 1548, 'impossible': 1549, 'refused': 1550, 'discount': 1551, 'talking': 1552, 'telephone': 1553, 'everywhere': 1554, 'ordering': 1555, 'awkward': 1556, 'row': 1557, 'current': 1558, 'read': 1559, 'laptop': 1560, 'sister': 1561, 'discomfort': 1562, 'normal': 1563, 'confusing': 1564, 'lose': 1565, 'cutouts': 1566, 'cuts': 1567, 'wild': 1568, 'carry': 1569, 'loose': 1570, 'receive': 1571, 'lightly': 1572, '2005': 1573, 'certain': 1574, 'unsatisfactory': 1575, 'hype': 1576, 'covered': 1577, 'falls': 1578, 'blew': 1579, 'touches': 1580, 'angles': 1581, 'became': 1582, 'jimmy': 1583, 'sisters': 1584, 'terms': 1585, 'filmmaking': 1586, 'masterpiece': 1587, 'masterpieces': 1588, 'fill': 1589, 'imaginable': 1590, 'pieces': 1591, 'create': 1592, 'levels': 1593, 'canada': 1594, 'pg13': 1595, 'unfunny': 1596, 'generic': 1597, 'morgan': 1598, 'jonah': 1599, 'lazy': 1600, 'presence': 1601, 'obvious': 1602, 'french': 1603, 'whiny': 1604, 'future': 1605, 'warmth': 1606, 'delivering': 1607, 'unpredictable': 1608, 'badly': 1609, 'alexander': 1610, 'artist': 1611, 'lived': 1612, 'superbly': 1613, 'heaven': 1614, 'lives': 1615, 'church': 1616, 'tonight': 1617, 'uplifting': 1618, 'frankly': 1619, 'club': 1620, 'lane': 1621, 'chick': 1622, 'correct': 1623, 'bold': 1624, 'helps': 1625, 'accused': 1626, 'afraid': 1627, 'tremendously': 1628, 'sandra': 1629, 'bullock': 1630, 'moments': 1631, 'losing': 1632, 'ratings': 1633, 'dramatic': 1634, 'tension': 1635, 'central': 1636, 'themes': 1637, 'core': 1638, 'following': 1639, 'viewing': 1640, 'quinn': 1641, 'disliked': 1642, 'dollars': 1643, 'mad': 1644, 'cardboard': 1645, 'stereotypes': 1646, 'predictably': 1647, 'crafted': 1648, 'depressing': 1649, 'racism': 1650, 'explanation': 1651, 'drag': 1652, 'wayne': 1653, 'older': 1654, 'selfindulgent': 1655, 'noteworthy': 1656, 'blood': 1657, 'forth': 1658, 'jamie': 1659, 'genius': 1660, 'hence': 1661, 'mishima': 1662, 'uninteresting': 1663, 'chilly': 1664, 'culture': 1665, 'schrader': 1666, 'realistic': 1667, 'talent': 1668, 'chance': 1669, 'senses': 1670, 'june': 1671, 'angry': 1672, 'sour': 1673, 'matter': 1674, 'complex': 1675, 'psychological': 1676, 'soul': 1677, 'gripping': 1678, 'disturbing': 1679, 'jerky': 1680, 'witty': 1681, 'ceases': 1682, 'directors': 1683, 'visually': 1684, 'spoiler': 1685, 'remaining': 1686, 'suffering': 1687, 'smile': 1688, 'vomited': 1689, 'coppola': 1690, '25': 1691, 'unfolds': 1692, 'contrast': 1693, 'sublime': 1694, 'offensive': 1695, 'poetry': 1696, 'masterful': 1697, 'nature': 1698, 'disbelief': 1699, 'female': 1700, 'array': 1701, 'nuts': 1702, 'dangerous': 1703, 'reactions': 1704, 'twist': 1705, 'shed': 1706, 'underneath': 1707, 'wide': 1708, 'relationship': 1709, 'assistant': 1710, 'laugh': 1711, 'de': 1712, 'taped': 1713, 'wholesome': 1714, 'portraying': 1715, 'taking': 1716, 'forgetting': 1717, 'attempts': 1718, 'situation': 1719, 'bear': 1720, 'kinda': 1721, 'question': 1722, 'lucy': 1723, 'japanese': 1724, 'america': 1725, 'photography': 1726, 'composition': 1727, 'brian': 1728, 'largely': 1729, 'member': 1730, 'identify': 1731, 'connery': 1732, 'robert': 1733, 'murdered': 1734, 'humour': 1735, 'brother': 1736, 'ryan': 1737, 'hollywood': 1738, 'thus': 1739, 'undoubtedly': 1740, 'popular': 1741, 'positive': 1742, 'unique': 1743, 'european': 1744, 'circumstances': 1745, 'caught': 1746, 'junkyard': 1747, 'dogs': 1748, 'american': 1749, 'americans': 1750, 'pile': 1751, 'round': 1752, 'continuity': 1753, 'corn': 1754, 'box': 1755, 'directorial': 1756, 'proud': 1757, 'filmmaker': 1758, 'sand': 1759, '110': 1760, '010': 1761, 'sake': 1762, 'jobs': 1763, 'girlfriend': 1764, 'public': 1765, 'fox': 1766, 'unrecognizable': 1767, 'relations': 1768, 'taylor': 1769, 'surprising': 1770, 'entirely': 1771, 'chow': 1772, 'cheesy': 1773, 'proceedings': 1774, 'remotely': 1775, 'mercy': 1776, 'killing': 1777, 'overacting': 1778, 'awkwardly': 1779, 'english': 1780, 'hackneyed': 1781, 'blah': 1782, 'length': 1783, 'air': 1784, 'afternoon': 1785, 'creates': 1786, 'fascinating': 1787, 'humorous': 1788, 'filmed': 1789, 'thoughts': 1790, 'dislike': 1791, 'began': 1792, 'change': 1793, 'season': 1794, 'contains': 1795, 'reality': 1796, '20th': 1797, 'century': 1798, 'implausible': 1799, 'jean': 1800, 'studio': 1801, 'indoor': 1802, 'start': 1803, 'class': 1804, 'betty': 1805, 'aside': 1806, 'mouse': 1807, 'famous': 1808, 'turkey': 1809, 'among': 1810, '80': 1811, 'terribly': 1812, 'deserving': 1813, 'shame': 1814, 'version': 1815, 'dumb': 1816, 'monster': 1817, 'lack': 1818, 'notable': 1819, 'opening': 1820, 'sequence': 1821, 'gas': 1822, 'fair': 1823, 'teeth': 1824, 'sum': 1825, 'avoided': 1826, 'limited': 1827, 'sign': 1828, 'asleep': 1829, 'cartoons': 1830, 'deserved': 1831, 'element': 1832, 'fifteen': 1833, 'volcano': 1834, 'abysmal': 1835, 'vomit': 1836, 'miss': 1837, 'dedication': 1838, 'versus': 1839, 'mature': 1840, 'brings': 1841, 'focus': 1842, 'underlying': 1843, 'relationships': 1844, 'engaging': 1845, 'errol': 1846, 'flynn': 1847, 'dull': 1848, 'guests': 1849, 'surrounding': 1850, 'excellently': 1851, 'tops': 1852, 'typical': 1853, 'revealing': 1854, 'africa': 1855, 'process': 1856, 'shakespear': 1857, 'macbeth': 1858, 'brief': 1859, 'moral': 1860, 'decay': 1861, 'forces': 1862, 'evil': 1863, 'adaptation': 1864, 'costumes': 1865, 'ball': 1866, 'judging': 1867, 'difference': 1868, 'documentaries': 1869, 'joe': 1870, 'watkins': 1871, 'peter': 1872, 'hollow': 1873, 'cole': 1874, 'disgrace': 1875, 'sleep': 1876, 'achievement': 1877, 'kid': 1878, 'tough': 1879, 'whenever': 1880, 'earth': 1881, 'emily': 1882, 'watson': 1883, 'prepared': 1884, 'compelling': 1885, 'sentiment': 1886, 'trap': 1887, 'fulci': 1888, '70': 1889, 'personally': 1890, 'thick': 1891, 'blown': 1892, 'events': 1893, 'result': 1894, 'slightest': 1895, 'duet': 1896, 'astronaut': 1897, 'doctor': 1898, 'extraordinary': 1899, 'courtroom': 1900, 'highlights': 1901, 'discovering': 1902, 'court': 1903, 'paced': 1904, 'understated': 1905, 'smells': 1906, 'pack': 1907, 'phenomenal': 1908, 'opinion': 1909, 'neil': 1910, 'delights': 1911, 'sample': 1912, 'deliver': 1913, 'sharply': 1914, 'tongue': 1915, 'cheek': 1916, 'struggle': 1917, 'heads': 1918, 'reminded': 1919, 'childhood': 1920, 'nut': 1921, 'lord': 1922, 'atrocious': 1923, 'spoil': 1924, 'references': 1925, 'act': 1926, 'pacing': 1927, 'consistent': 1928, 'dreams': 1929, 'uses': 1930, 'hopefully': 1931, 'hip': 1932, 'loneliness': 1933, 'emilio': 1934, 'estevez': 1935, 'interplay': 1936, 'suggest': 1937, 'natural': 1938, 'street': 1939, 'readers': 1940, 'hearts': 1941, 'closed': 1942, 'depicts': 1943, 'provoking': 1944, 'reasons': 1945, 'ponyo': 1946, 'refreshing': 1947, 'traditional': 1948, 'wants': 1949, 'wave': 1950, 'deep': 1951, 'lange': 1952, 'crust': 1953, 'cashier': 1954, 'mmmm': 1955, 'overwhelmed': 1956, 'bite': 1957, 'familiar': 1958, 'favor': 1959, 'grossed': 1960, 'char': 1961, 'attitudes': 1962, 'customers': 1963, 'portion': 1964, 'attack': 1965, 'grill': 1966, 'downtown': 1967, 'scallop': 1968, 'refill': 1969, 'appetizers': 1970, 'batter': 1971, 'finish': 1972, 'meh': 1973, 'min': 1974, 'seasoned': 1975, 'opportunity': 1976, 'underwhelming': 1977, 'grease': 1978, 'roast': 1979, 'sugary': 1980, 'six': 1981, 'die': 1982, 'bye': 1983, 'serves': 1984, 'roasted': 1985, 'garlic': 1986, 'marrow': 1987, 'mary': 1988, 'bartender': 1989, 'lovers': 1990, 'preparing': 1991, 'indian': 1992, 'tuna': 1993, 'bagels': 1994, 'dine': 1995, 'rarely': 1996, 'curry': 1997, 'bathrooms': 1998, 'decorated': 1999, 'greeted': 2000, 'joint': 2001, 'overcooked': 2002, 'charcoal': 2003, 'decided': 2004, 'dirt': 2005, 'gyros': 2006, 'valley': 2007, 'bowl': 2008, 'disrespected': 2009, 'gold': 2010, 'puree': 2011, 'bug': 2012, 'shower': 2013, 'bisque': 2014, 'filet': 2015, 'pepper': 2016, 'cook': 2017, 'dealing': 2018, 'cheeseburger': 2019, 'yum': 2020, 'mayo': 2021, 'building': 2022, 'creamy': 2023, 'similar': 2024, 'sticks': 2025, 'tap': 2026, 'par': 2027, 'coffee': 2028, 'boba': 2029, 'taco': 2030, 'bachi': 2031, 'salads': 2032, 'neighborhood': 2033, 'soooo': 2034, 'stir': 2035, 'summer': 2036, 'toasted': 2037, 'serve': 2038, 'bites': 2039, 'omg': 2040, 'brick': 2041, 'oven': 2042, 'pancakes': 2043, 'eggs': 2044, 'evening': 2045, 'lukewarm': 2046, 'eggplant': 2047, 'stuffed': 2048, 'mall': 2049, 'perfection': 2050, 'impeccable': 2051, 'pop': 2052, 'assure': 2053, 'professional': 2054, 'nicest': 2055, 'biscuits': 2056, 'cow': 2057, 'driest': 2058, 'tots': 2059, 'acknowledged': 2060, 'margaritas': 2061, 'flower': 2062, 'group': 2063, 'crab': 2064, 'legs': 2065, 'sliced': 2066, 'filling': 2067, 'choose': 2068, 'entrees': 2069, 'tapas': 2070, 'vinegrette': 2071, 'helped': 2072, 'presentation': 2073, 'satisfying': 2074, 'grilled': 2075, 'focused': 2076, 'promise': 2077, 'legit': 2078, 'staying': 2079, 'fail': 2080, 'plate': 2081, 'serving': 2082, 'fly': 2083, 'mid': 2084, 'definately': 2085, 'flavorless': 2086, 'nachos': 2087, 'tribute': 2088, 'fell': 2089, 'heat': 2090, 'undercooked': 2091, 'converter': 2092, 'tied': 2093, 'jiggle': 2094, 'hundred': 2095, 'seperated': 2096, 'mere': 2097, 'ft': 2098, 'excessive': 2099, 'garbled': 2100, 'fooled': 2101, 'clicks': 2102, 'mechanism': 2103, 'followed': 2104, 'directions': 2105, 'kindle': 2106, 'commercials': 2107, 'misleading': 2108, 'couldnt': 2109, 'earphone': 2110, 'breakage': 2111, 'unacceptible': 2112, 'ideal': 2113, 'whose': 2114, 'sensitive': 2115, 'freeway': 2116, 'ac': 2117, 'highy': 2118, 'mins': 2119, '680': 2120, '2mp': 2121, 'pics': 2122, 'arguing': 2123, 'bulky': 2124, 'usable': 2125, 'realworld': 2126, 'useful': 2127, 'stream': 2128, 'submerged': 2129, 'faceplates': 2130, 'drawback': 2131, 'mp3': 2132, 'pause': 2133, 'activated': 2134, 'suddenly': 2135, 'ipods': 2136, 'situations1': 2137, 'bmw': 2138, 'hearing': 2139, 'wrongly': 2140, 'everyday': 2141, 'intended': 2142, 'runs': 2143, 'greater': 2144, 'buds': 2145, 'waaay': 2146, 'bluetooths': 2147, 'listener': 2148, 'integrated': 2149, 'flush': 2150, 'toilet': 2151, '375': 2152, 'styles': 2153, 'correctly': 2154, '350': 2155, 'jabra350': 2156, 'megapixels': 2157, 'renders': 2158, 'images': 2159, 'purcashed': 2160, 'geeky': 2161, 'oozes': 2162, 'embedded': 2163, 'stylish': 2164, 'qwerty': 2165, 'simpler': 2166, 'iam': 2167, 'disapoinment': 2168, 'accompanied': 2169, 'nicely': 2170, 'damage': 2171, 'definitly': 2172, 'majority': 2173, 'peachykeen': 2174, 'upstairs': 2175, 'basement': 2176, 'reccomendation': 2177, 'relative': 2178, 'items': 2179, 'sudden': 2180, 'linking': 2181, '8530': 2182, 'curve': 2183, 'sketchy': 2184, 'web': 2185, 'browsing': 2186, 'significantly': 2187, 'build': 2188, 'unlike': 2189, 'colors': 2190, 'communications': 2191, 'communicate': 2192, 'monkeys': 2193, 'dna': 2194, 'copy': 2195, 'bougth': 2196, 'l7c': 2197, 'mode': 2198, 'file': 2199, 'browser': 2200, 'hs850': 2201, 'os': 2202, 'v1': 2203, '15g': 2204, 'crawl': 2205, 'recognizes': 2206, 'bluetoooth': 2207, 'thorn': 2208, 'abhor': 2209, 'disconnected': 2210, '13': 2211, 'mail': 2212, 'backlight': 2213, 'message': 2214, 'lately': 2215, 'wit': 2216, 'pleather': 2217, 'deaf': 2218, 'prettier': 2219, 'investment': 2220, 'ticking': 2221, 'noises': 2222, 'electronics': 2223, 'available': 2224, 'fm': 2225, 'transmitters': 2226, 'h500': 2227, 'mega': 2228, 'pixel': 2229, 'good7': 2230, 'transmit': 2231, 'contacting': 2232, 'dollar': 2233, 'learned': 2234, 'lesson': 2235, 'online': 2236, 'earbugs': 2237, 'roam': 2238, 'receptionsound': 2239, 'crack': 2240, 'infatuated': 2241, 'freezes': 2242, 'frequently4': 2243, 'childlike': 2244, 'tick': 2245, 'headbands': 2246, 'ericsson': 2247, 'purchases': 2248, 'shine': 2249, 'calendar': 2250, 'sync': 2251, 'defeats': 2252, 'purpose': 2253, 'penny': 2254, 'wallet': 2255, 'excrutiatingly': 2256, 'glove': 2257, 'durable': 2258, 'factor': 2259, 'rubberpetroleum': 2260, 'stereo': 2261, 'absolutel': 2262, 'potentially': 2263, 'reversible': 2264, 'contstruct': 2265, 'hinge': 2266, 'installed': 2267, 'overnite': 2268, 'handset': 2269, 'attacked': 2270, 'protective': 2271, 'destroying': 2272, 'razor': 2273, 'v3i': 2274, 'wise': 2275, 'shouldve': 2276, 'invented': 2277, 'sooner': 2278, 'engineered': 2279, 'complained': 2280, '2160': 2281, 'tracfone': 2282, 'instruction': 2283, 'manual': 2284, 'alarm': 2285, 'clock': 2286, 'antena': 2287, 'compared': 2288, 'state': 2289, 'usage': 2290, 'ngage': 2291, 'earbuds': 2292, 'howeverthe': 2293, 'riingtones': 2294, 'rip': 2295, 'frequentyly': 2296, 'adhesive': 2297, 'concrete': 2298, 'knock': 2299, 'wood': 2300, 'transformed': 2301, 'organizational': 2302, 'capability': 2303, 'vehicle': 2304, 'cradle': 2305, 'jerks': 2306, 'starter': 2307, 'loudspeaker': 2308, 'option': 2309, 'bumpers': 2310, 'lights': 2311, 'improve': 2312, 'leaks': 2313, 'according': 2314, 'applifies': 2315, 'specially': 2316, 'transmission': 2317, 's11': 2318, 'drivng': 2319, 'auto': 2320, 'reverse': 2321, 'tape': 2322, 'embarassing': 2323, 'protects': 2324, 'operates': 2325, 'soyo': 2326, 'portraits': 2327, 'exterior': 2328, 'mentioned': 2329, 'gadgets': 2330, 'magical': 2331, 'comparablypriced': 2332, 'offering': 2333, 'encourage': 2334, 'recieve': 2335, 'cradles': 2336, 'kits': 2337, 'excelent': 2338, 'cingulair': 2339, 'nicer': 2340, 'hoursthe': 2341, 'thereplacement': 2342, '2000': 2343, 'yell': 2344, 'iriver': 2345, 'spinn': 2346, 'fond': 2347, 'magnetic': 2348, 'strap': 2349, 'psyched': 2350, 'appointments': 2351, 'sanyo': 2352, 'survived': 2353, 'dozens': 2354, 'blacktop': 2355, 'ill': 2356, 'earphones': 2357, 'cellular': 2358, 'awsome': 2359, 'drained': 2360, 'earpad': 2361, 'displeased': 2362, 'defect': 2363, 'risk': 2364, 'restored': 2365, 'jx10': 2366, 'searched': 2367, 'key': 2368, 'pad': 2369, 'lit': 2370, 'portable': 2371, 'colleague': 2372, 'bed': 2373, 'wifi': 2374, 'morning': 2375, 'hat': 2376, 'shipment': 2377, 'surefire': 2378, 'gx2': 2379, 'bt50': 2380, 'buyers': 2381, 'remorse': 2382, 'accessoryone': 2383, 'inexcusable': 2384, 'carriers': 2385, 'procedure': 2386, 'motorolas': 2387, 'vx9900': 2388, 'env': 2389, 'rocketed': 2390, 'destination': 2391, 'unknown': 2392, 'longwearing': 2393, 'conditions': 2394, 'usefulness': 2395, 'bills': 2396, 'plans': 2397, 'overnight': 2398, 'respect': 2399, 'stuck': 2400, 'max': 2401, 'mute': 2402, 'hybrid': 2403, 'palmtopcameracellphone': 2404, 'excels': 2405, 'bt250v': 2406, 'bose': 2407, 'cancelling': 2408, 'commuter': 2409, 'photo': 2410, 'ad': 2411, 'noted': 2412, 'happens': 2413, 'frog': 2414, 'pushed': 2415, 'aluminum': 2416, 'vx': 2417, 'protected': 2418, 'handheld': 2419, 'tools': 2420, 'sturdiness': 2421, 'source': 2422, 'waterproof': 2423, 'sliding': 2424, 'pants': 2425, 'pockets': 2426, 'shield': 2427, 'incrediable': 2428, 'refuse': 2429, 'activate': 2430, 'gentletouch': 2431, 'threw': 2432, 'window': 2433, 'inches': 2434, 'counter': 2435, 'cracked': 2436, 'laughing': 2437, 'trunk': 2438, 'carried': 2439, 'hitch': 2440, 'directly': 2441, 'increase': 2442, 'shifting': 2443, 'bubbling': 2444, 'peeling': 2445, 'scratch': 2446, 'droid': 2447, 'exercise': 2448, 'earset': 2449, 'outgoing': 2450, 'package': 2451, 'patient': 2452, 'wirefly': 2453, 'contact': 2454, 'cingularat': 2455, 'inform': 2456, 'practice': 2457, 'aggravating': 2458, 'virgin': 2459, 'muddy': 2460, 'casing': 2461, 'insert': 2462, 'glued': 2463, 'slid': 2464, 'plantronincs': 2465, 'continues': 2466, 'disapointing': 2467, 'fourth': 2468, 'fixes': 2469, 'accessing': 2470, 'downloading': 2471, 'performing': 2472, 'functions': 2473, 'constantly': 2474, 'happening': 2475, 'adapters': 2476, 'procedures': 2477, 'reset': 2478, 'wiping': 2479, 'strength': 2480, 'louder': 2481, 'navigate': 2482, 'recessed': 2483, 'avoiding': 2484, 'smoking': 2485, 'linked': 2486, 'possesed': 2487, 'research': 2488, 'division': 2489, 'infuriating': 2490, 'walkman': 2491, 'charges': 2492, 'europe': 2493, 'asia': 2494, 'clipping': 2495, 'deffinitely': 2496, 'cent': 2497, 'upandcoming': 2498, 'behing': 2499, '5020': 2500, 'comfortible': 2501, '24': 2502, 'pain': 2503, 'arrival': 2504, 'fraction': 2505, 'crappy': 2506, 'e715': 2507, 'seeen': 2508, 'interface': 2509, 'decade': 2510, 'compete': 2511, 'designs': 2512, '700w': 2513, 'transceiver': 2514, 'steer': 2515, 'replacementr': 2516, 'pens': 2517, 'threepack': 2518, 'buyit': 2519, 'beats': 2520, 'fingers': 2521, 'steep': 2522, 'haul': 2523, 'dissapointing': 2524, 'originally': 2525, 'discarded': 2526, 'phonesmp3': 2527, 'posted': 2528, 'detailed': 2529, 'grey': 2530, 'existing': 2531, 'cds': 2532, 'currently': 2533, 'firstperson': 2534, 'shooters': 2535, 'delay': 2536, 'messes': 2537, 'bitpim': 2538, 'program': 2539, 'transfer': 2540, 'accessory': 2541, 'manufacturer': 2542, 'muffled': 2543, 'incoming': 2544, 'severe': 2545, 'windresistant': 2546, 'contacted': 2547, 'receipt': 2548, 'linksys': 2549, 'refurb': 2550, 'snug': 2551, 'heavy': 2552, 'promised': 2553, 'loop': 2554, 'latch': 2555, 'visor': 2556, 'address': 2557, 'reboots': 2558, 'tungsten': 2559, 'e2': 2560, 'flipphones': 2561, 'welldesigned': 2562, 'sins': 2563, 'industrial': 2564, 'tracking': 2565, 'detachable': 2566, 'periodically': 2567, 'upload': 2568, 'locks': 2569, 'screens': 2570, 'randomly': 2571, 'locked': 2572, '325': 2573, 'cellphone': 2574, 'wornout': 2575, 'ringer': 2576, 'acceptable': 2577, 'upbeat': 2578, 'forgeries': 2579, 'abound': 2580, 'ca42': 2581, 'smallest': 2582, 'stays': 2583, 'drains': 2584, 'superfast': 2585, 'ergonomic': 2586, 'theory': 2587, 'clips': 2588, 'distracting': 2589, 'cbr': 2590, 'mp3s': 2591, 'preferably': 2592, 'windows': 2593, 'media': 2594, 'sos': 2595, 'signals': 2596, 'connect': 2597, 'miniusb': 2598, 'near': 2599, 'startac': 2600, 'regretted': 2601, 'outperform': 2602, 'china': 2603, 'v325i': 2604, 'sim': 2605, '3o': 2606, 'replaced': 2607, '18': 2608, '4s': 2609, 'connecting': 2610, 'sources': 2611, 'imac': 2612, 'external': 2613, 'bells': 2614, 'whistles': 2615, 'slide': 2616, 'grip': 2617, 'prevents': 2618, 'slipping': 2619, 'exclaim': 2620, 'whoa': 2621, 'corded': 2622, 'functional': 2623, 'soft': 2624, 'tight': 2625, 'shape': 2626, 'copier': 2627, 'sent': 2628, 'anywhere': 2629, 'sold': 2630, 'units': 2631, 'classy': 2632, 'krussel': 2633, 'tracfonewebsite': 2634, 'toactivate': 2635, 'texas': 2636, 'dit': 2637, '5320': 2638, 'blueant': 2639, 'supertooth': 2640, 'pcs': 2641, 'schr450': 2642, 'slider': 2643, 'premium': 2644, 'plugs': 2645, 'capacity': 2646, 'confortable': 2647, 'periods': 2648, 'ant': 2649, 'hey': 2650, 'pleasantly': 2651, 'suprised': 2652, 'dustpan': 2653, 'indoors': 2654, 'disposable': 2655, 'puff': 2656, 'ride': 2657, 'smoother': 2658, 'nano': 2659, 'dissapointed': 2660, 'reccommend': 2661, 'antiglare': 2662, 'smartphone': 2663, 'atleast': 2664, 'amp': 2665, 'reoccure': 2666, 'somewhere': 2667, 'creaks': 2668, 'floor': 2669, 'apartment': 2670, 'inconspicuous': 2671, 'slowly': 2672, 'upgrade': 2673, 'securly': 2674, 'possibility': 2675, 'booking': 2676, 'entertainment': 2677, 'communication': 2678, 'activesync': 2679, 'optimal': 2680, 'synchronization': 2681, 'coupon': 2682, 'instance': 2683, 'ps3': 2684, 'cheapy': 2685, 'shouting': 2686, 'shiny': 2687, 'grtting': 2688, '44': 2689, 'v3c': 2690, 'exceeds': 2691, 'sight': 2692, 'improper': 2693, 'chargelife': 2694, 'palms': 2695, 'hoped': 2696, 'v265': 2697, 'pads': 2698, 'stops': 2699, 'intermittently': 2700, 'reaching': 2701, 'keys': 2702, 'nightmare': 2703, 'speakerphone': 2704, 'cassette': 2705, 'cellphones': 2706, 'planning': 2707, 'autoanswer': 2708, 'products': 2709, 'sensor': 2710, 'reliability': 2711, 'beeping': 2712, 'dieing': 2713, 'ir': 2714, 'cancellation': 2715, 'counterfeit': 2716, 'travled': 2717, 'swivel': 2718, 'dualpurpose': 2719, '8125': 2720, 'keeping': 2721, 'bottowm': 2722, 'gimmick': 2723, 'opens': 2724, 'causing': 2725, 'trust': 2726, 'maintains': 2727, 'flawless': 2728, 'devices': 2729, 'holder': 2730, 'landline': 2731, 'loops': 2732, 'owning': 2733, 'official': 2734, 'oem': 2735, 'loudest': 2736, 'competitors': 2737, 'saved': 2738, 'alot': 2739, 'unintelligible': 2740, 'restart': 2741, 'bend': 2742, 'leaf': 2743, 'metal': 2744, 'stress': 2745, 'leopard': 2746, 'print': 2747, 'saggy': 2748, 'floppy': 2749, 'looses': 2750, 'soundwise': 2751, 'snap': 2752, '8525': 2753, 'fliptop': 2754, 'wobbly': 2755, 'eventually': 2756, 'fulfills': 2757, 'requirements': 2758, 'rests': 2759, 'websites': 2760, 'cables': 2761, 'lap': 2762, 'controls': 2763, 'accessable': 2764, 'mine': 2765, 'satisifed': 2766, 's710a': 2767, 'specs': 2768, 'armband': 2769, 'allot': 2770, 'clearer': 2771, 'keypads': 2772, 'reach': 2773, 'ericson': 2774, 'z500a': 2775, 'motor': 2776, 'center': 2777, 'voltage': 2778, 'humming': 2779, 'equipment': 2780, 'wake': 2781, 'styling': 2782, 'restocking': 2783, 'fee': 2784, 'darn': 2785, 'sweetest': 2786, 'securely': 2787, 'hook': 2788, 'canal': 2789, 'videos': 2790, 'negatively': 2791, 'adapter': 2792, 'provide': 2793, 'assumed': 2794, 'lense': 2795, 'text': 2796, 'messaging': 2797, 'tricky': 2798, 'lasted': 2799, 'flops': 2800, 'smudged': 2801, 'infra': 2802, 'port': 2803, 'irda': 2804, 'answer': 2805, 'slowmoving': 2806, 'aimless': 2807, 'distressed': 2808, 'drifting': 2809, 'attempting': 2810, 'artiness': 2811, 'nonexistent': 2812, 'gerardo': 2813, 'emptiness': 2814, 'science': 2815, 'teacher': 2816, 'owls': 2817, 'florida': 2818, 'muppets': 2819, 'overdue': 2820, 'screenplay': 2821, 'postproduction': 2822, 'structure': 2823, 'tightly': 2824, 'vitally': 2825, 'occurs': 2826, 'content': 2827, 'superlative': 2828, 'require': 2829, 'puzzlesolving': 2830, 'pulls': 2831, 'punches': 2832, 'th': 2833, 'insane': 2834, 'unlockable': 2835, 'aye': 2836, 'doomed': 2837, 'conception': 2838, 'minor': 2839, 'nonsequel': 2840, 'pgrated': 2841, 'confirm': 2842, 'exaggerating': 2843, 'trailer': 2844, 'carrell': 2845, 'costars': 2846, 'freeman': 2847, 'helms': 2848, 'animals': 2849, 'integration': 2850, 'bluegreenscreen': 2851, 'translate': 2852, 'succeeds': 2853, 'meagre': 2854, 'lesser': 2855, 'cancan': 2856, 'boasts': 2857, 'cutest': 2858, 'leading': 2859, 'headoverheels': 2860, 'insipid': 2861, 'efforts': 2862, 'heche': 2863, 'sam': 2864, 'shepard': 2865, 'gung': 2866, 'ho': 2867, 'marine': 2868, 'sobering': 2869, 'riveted': 2870, 'resounding': 2871, '9': 2872, 'hanks': 2873, 'fingernails': 2874, 'chalkboard': 2875, 'unnecessary': 2876, 'trainroller': 2877, 'coaster': 2878, 'grates': 2879, 'nerves': 2880, 'improved': 2881, 'improvisation': 2882, 'worry': 2883, 'surroundings': 2884, 'crackles': 2885, 'youthful': 2886, 'concentrate': 2887, 'meanders': 2888, 'builders': 2889, 'cross': 2890, 'g': 2891, 'pg': 2892, 'noncliche': 2893, 'predict': 2894, 'verbatim': 2895, 'chills': 2896, 'nevsky': 2897, 'whoever': 2898, 'planned': 2899, 'dodge': 2900, 'stratus': 2901, 'makers': 2902, 'restrained': 2903, 'wordofmouth': 2904, 'promote': 2905, 'thoughtprovoking': 2906, 'wellpaced': 2907, 'suited': 2908, 'blist': 2909, 'horrorsuspense': 2910, 'horrendous': 2911, 'retarded': 2912, 'girls': 2913, 'manna': 2914, 'evaluate': 2915, 'veteran': 2916, 'nostalgia': 2917, 'ursula': 2918, 'burton': 2919, 'nun': 2920, 'nuns': 2921, 'shirley': 2922, 'jones': 2923, 'rendition': 2924, 'cotton': 2925, 'unfaithful': 2926, 'gere': 2927, 'dialogs': 2928, 'shallow': 2929, 'insincere': 2930, 'politically': 2931, 'idiotsavant': 2932, 'peaking': 2933, 'columbo': 2934, 'ohsomature': 2935, 'neighbourgirl': 2936, 'misplace': 2937, 'weaker': 2938, 'debated': 2939, 'sack': 2940, 'trumpeter': 2941, 'falsely': 2942, 'murder': 2943, 'applause': 2944, 'prelude': 2945, 'villain': 2946, 'michael': 2947, 'ironside': 2948, 'rocked': 2949, 'social': 2950, 'physical': 2951, 'outlets': 2952, 'ben': 2953, 'affleck': 2954, 'leaving': 2955, 'wifetobe': 2956, 'knocked': 2957, 'excruciatingly': 2958, 'wedding': 2959, 'agreed': 2960, 'aired': 2961, 'dribble': 2962, 'mirrormask': 2963, 'inexperience': 2964, 'meant': 2965, 'ineptly': 2966, 'stereotypically': 2967, 'schoolers': 2968, 'cry': 2969, 'relate': 2970, 'sharing': 2971, 'confuses': 2972, 'underwater': 2973, 'repeated': 2974, 'thousand': 2975, 'redeemed': 2976, 'mst3k': 2977, 'fodder': 2978, 'anthony': 2979, 'horse': 2980, 'walk': 2981, 'theatre': 2982, 'relief': 2983, 'pillow': 2984, 'girlfriendboyfriend': 2985, 'tickets': 2986, 'identifies': 2987, 'reversestereotypes': 2988, 'haggis': 2989, 'handle': 2990, 'strokes': 2991, 'storytelling': 2992, 'painted': 2993, 'crayons': 2994, 'crash': 2995, 'provokes': 2996, 'emotion': 2997, 'teaches': 2998, 'prejudice': 2999, 'empowerment': 3000, 'shutdown': 3001, 'primal': 3002, 'impulse': 3003, 'selfpreservation': 3004, 'shattered': 3005, 'recover': 3006, 'joins': 3007, 'revenge': 3008, 'boogeyman': 3009, 'zombiez': 3010, 'hellish': 3011, 'trinity': 3012, 'distinction': 3013, 'artless': 3014, 'endlessly': 3015, 'ugliest': 3016, 'charismafree': 3017, 'merit': 3018, 'akin': 3019, 'atrocity': 3020, 'voyage': 3021, 'selfdiscovery': 3022, 'unrecommended': 3023, 'ms': 3024, 'garbo': 3025, 'bat': 3026, 'talents': 3027, 'netflix': 3028, 'stocking': 3029, 'renowned': 3030, 'frances': 3031, 'marion': 3032, 'suffered': 3033, 'heroes': 3034, 'shined': 3035, 'senior': 3036, 'showcasing': 3037, 'punched': 3038, 'gallon': 3039, 'spew': 3040, 'foxx': 3041, 'owns': 3042, 'spacek': 3043, 'coal': 3044, 'miner': 3045, 'quaid': 3046, 'balls': 3047, 'legendary': 3048, 'biographical': 3049, 'musician': 3050, 'ironically': 3051, 'secondly': 3052, 'perfected': 3053, 'chase': 3054, 'pandering': 3055, 'sabotages': 3056, 'rumbles': 3057, 'desperately': 3058, 'depending': 3059, 'logic': 3060, 'unremarkable': 3061, 'author': 3062, 'livingworking': 3063, 'abstruse': 3064, 'reenactments': 3065, 'emotionally': 3066, 'adrift': 3067, 'stagy': 3068, 'sits': 3069, 'soldiers': 3070, 'masculinity': 3071, 'pledge': 3072, 'hairsplitting': 3073, 'purity': 3074, 'admiration': 3075, 'swords': 3076, 'kill': 3077, 'momentum': 3078, 'quicker': 3079, 'resume': 3080, 'amateurish': 3081, '80s': 3082, 'fascinated': 3083, 'inconsistencies': 3084, 'horrid': 3085, 'ballet': 3086, 'repertory': 3087, 'developments': 3088, 'woa': 3089, 'sappiest': 3090, 'unwatchable': 3091, 'filmography': 3092, 'site': 3093, 'intentions': 3094, 'wouldbe': 3095, 'undertone': 3096, 'fifties': 3097, 'existential': 3098, 'worldweariness': 3099, 'ought': 3100, 'regrettably': 3101, 'expression': 3102, 'celebration': 3103, 'patriotism': 3104, 'underlines': 3105, 'allison': 3106, 'cinematographyif': 3107, 'thatsucked': 3108, 'concert': 3109, 'sequences': 3110, 'ridiculousness': 3111, 'surface': 3112, 'stateoftheart': 3113, 'conceptually': 3114, 'everybody': 3115, 'fantasy': 3116, 'andor': 3117, 'actingwise': 3118, 'considered': 3119, 'understood': 3120, 'identified': 3121, 'noircrimedrama': 3122, 'belmondo': 3123, 'lino': 3124, 'ventura': 3125, 'portrayals': 3126, 'detailing': 3127, 'loyalty': 3128, 'treachery': 3129, 'melville': 3130, 'manages': 3131, 'transcend': 3132, 'limitations': 3133, 'indie': 3134, 'continually': 3135, 'subverting': 3136, 'emerge': 3137, 'intense': 3138, 'crocdodile': 3139, 'believed': 3140, 'crocs': 3141, 'swamp': 3142, 'christopher': 3143, 'eccleston': 3144, 'tardis': 3145, 'continuation': 3146, 'succeeded': 3147, 'pi': 3148, 'witticisms': 3149, 'bob': 3150, 'rise': 3151, 'finale': 3152, 'kieslowski': 3153, 'amaze': 3154, 'colours': 3155, 'flag': 3156, 'connections': 3157, 'survivors': 3158, 'ferry': 3159, 'valentine': 3160, 'solidifying': 3161, 'happiness': 3162, 'dealt': 3163, 'roth': 3164, 'pearls': 3165, 'awarded': 3166, 'eloquently': 3167, 'francis': 3168, 'ford': 3169, 'gradually': 3170, 'develop': 3171, 'lies': 3172, 'nicola': 3173, 'roeg': 3174, 'wih': 3175, 'translating': 3176, 'strives': 3177, 'greatness': 3178, 'muddled': 3179, 'disparate': 3180, 'accurately': 3181, 'defined': 3182, 'tolerate': 3183, 'political': 3184, 'incorrectness': 3185, 'artistic': 3186, 'suspension': 3187, 'slavic': 3188, 'outlandish': 3189, 'psychotic': 3190, 'lovable': 3191, 'enjoyment': 3192, 'repair': 3193, 'bitchy': 3194, 'boss': 3195, 'tear': 3196, 'malta': 3197, 'settings': 3198, 'barren': 3199, 'hockey': 3200, 'defensemen': 3201, 'goalies': 3202, 'diving': 3203, 'net': 3204, 'superficial': 3205, 'stagey': 3206, 'farce': 3207, 'pyromaniac': 3208, 'waylaid': 3209, 'switched': 3210, 'yawn': 3211, 'educational': 3212, 'barney': 3213, 'duper': 3214, 'babie': 3215, 'bop': 3216, 'storm': 3217, 'trooper': 3218, 'potted': 3219, 'plants': 3220, 'shameful': 3221, 'television': 3222, 'writers': 3223, 'smack': 3224, 'bonus': 3225, 'episodes': 3226, 'latched': 3227, 'endearing': 3228, 'sibling': 3229, 'bond': 3230, 'unneeded': 3231, 'controversy': 3232, 'damian': 3233, 'versatile': 3234, 'cutting': 3235, 'passion': 3236, 'ireland': 3237, 'horrified': 3238, 'sympathetic': 3239, 'movements': 3240, 'shelf': 3241, 'elias': 3242, 'koteas': 3243, 'palance': 3244, 'angelina': 3245, 'naked': 3246, 'cameo': 3247, 'sven': 3248, 'ole': 3249, 'thorsen': 3250, 'ebay': 3251, 'poler': 3252, 'fort': 3253, 'steele': 3254, 'unrealistic': 3255, '70000': 3256, 'bell': 3257, 'higher': 3258, 'sink': 3259, 'slackers': 3260, 'excuses': 3261, 'actions': 3262, 'excerpts': 3263, 'designed': 3264, 'stylized': 3265, 'exemplars': 3266, 'designer': 3267, 'powerful': 3268, 'explorations': 3269, 'politics': 3270, 'rendering': 3271, 'imperial': 3272, 'faultless': 3273, 'underappreciated': 3274, 'keith': 3275, 'bully': 3276, 'teddy': 3277, 'vivid': 3278, 'sean': 3279, 'noble': 3280, 'brigand': 3281, 'candace': 3282, 'bergen': 3283, 'feisty': 3284, 'heroine': 3285, 'wily': 3286, 'hay': 3287, 'kanaly': 3288, 'spiffy': 3289, 'radiant': 3290, 'cando': 3291, 'lieutenant': 3292, 'roosevelt': 3293, 'stick': 3294, 'adventure': 3295, 'ryans': 3296, 'portrayed': 3297, 'schizophrenic': 3298, 'affected': 3299, 'apt': 3300, 'imitation': 3301, 'individual': 3302, 'oldfashioned': 3303, 'tuneful': 3304, 'rita': 3305, 'hayworth': 3306, 'pedestal': 3307, 'exploit': 3308, 'financial': 3309, 'gain': 3310, 'nonlinear': 3311, 'narration': 3312, 'flashbacks': 3313, 'articulated': 3314, 'monica': 3315, 'bellucci': 3316, 'commentary': 3317, 'timers': 3318, 'laughs': 3319, 'feelgood': 3320, 'northern': 3321, 'community': 3322, 'represents': 3323, 'vivian': 3324, 'schilling': 3325, '95': 3326, 'theatres': 3327, 'screamy': 3328, 'masculine': 3329, 'casted': 3330, 'throwback': 3331, 'student': 3332, '1980': 3333, 'experiences': 3334, 'abroad': 3335, 'interacting': 3336, 'nationalities': 3337, 'slightly': 3338, 'ticker': 3339, 'buildings': 3340, 'locations': 3341, 'hummh': 3342, 'yelps': 3343, 'hes': 3344, 'funniest': 3345, 'curtain': 3346, 'ive': 3347, 'edition': 3348, 'lid': 3349, 'romantic': 3350, 'laughed': 3351, 'chosen': 3352, 'tortured': 3353, 'blatant': 3354, 'propaganda': 3355, 'hatred': 3356, 'admitted': 3357, 'school': 3358, 'admins': 3359, 'thunderbirds': 3360, 'slowmotion': 3361, 'needlessly': 3362, 'repeats': 3363, 'backed': 3364, 'vehicles': 3365, 'flakes': 3366, 'bordered': 3367, 'stupidity': 3368, 'hide': 3369, 'monumental': 3370, 'halfway': 3371, 'embarrassed': 3372, 'howell': 3373, 'nutbag': 3374, 'stephen': 3375, 'mchattie': 3376, 'lance': 3377, 'hendrikson': 3378, 'raging': 3379, 'cheekbones': 3380, 'professionals': 3381, 'debbie': 3382, 'rochon': 3383, 'contributory': 3384, 'former': 3385, 'chimplike': 3386, 'tolerable': 3387, 'oyvey': 3388, 'simplifying': 3389, 'brevity': 3390, 'fulfilling': 3391, 'amusing': 3392, 'convoluted': 3393, 'convince': 3394, 'questioning': 3395, 'bela': 3396, 'lugosi': 3397, 'extraneous': 3398, 'intoning': 3399, 'decidely': 3400, 'universal': 3401, 'b': 3402, 'armand': 3403, 'assante': 3404, 'tying': 3405, '810': 3406, 'comprehensible': 3407, 'hang': 3408, 'camp': 3409, 'expecting': 3410, 'iq': 3411, 'mollusk': 3412, 'loosely': 3413, 'moviegoing': 3414, 'string': 3415, 'lower': 3416, 'scripts': 3417, 'victor': 3418, 'mclaglen': 3419, 'donlevy': 3420, 'president': 3421, 'u': 3422, 'unmoving': 3423, 'producer': 3424, 'gifted': 3425, 'cheerless': 3426, 'heist': 3427, 'characterisation': 3428, 'underbite': 3429, 'stoic': 3430, 'emoting': 3431, 'yun': 3432, 'tomorrow': 3433, 'abandoned': 3434, 'factory': 3435, 'executed': 3436, 'flying': 3437, 'judo': 3438, 'la': 3439, 'woo': 3440, 'squibs': 3441, 'derivative': 3442, 'hopeless': 3443, 'uneasy': 3444, 'composed': 3445, 'elderly': 3446, 'babbling': 3447, 'overwrought': 3448, 'pseudosatanic': 3449, 'gibberish': 3450, 'corny': 3451, 'teen': 3452, 'goth': 3453, 'blush': 3454, 'olde': 3455, 'latin': 3456, 'sloppy': 3457, 'balanced': 3458, 'underacting': 3459, 'competent': 3460, 'jerry': 3461, 'falwell': 3462, 'starring': 3463, 'jaclyn': 3464, 'smith': 3465, 'allstar': 3466, 'lifetime': 3467, 'sells': 3468, 'musthave': 3469, 'assaulted': 3470, 'strident': 3471, 'cords': 3472, 'blare': 3473, 'pap': 3474, 'screened': 3475, 'punish': 3476, 'unemployed': 3477, 'understatement': 3478, 'universe': 3479, 'team': 3480, 'trond': 3481, 'fausa': 3482, 'bothersome': 3483, 'comment': 3484, '2006': 3485, 'move': 3486, 'initially': 3487, 'local': 3488, 'sites': 3489, 'buffalo': 3490, 'intrigued': 3491, 'applauded': 3492, 'lilt': 3493, 'duris': 3494, 'views': 3495, 'barcelona': 3496, 'famed': 3497, 'gaudi': 3498, 'towers': 3499, 'despised': 3500, 'rough': 3501, 'draft': 3502, 'shooting': 3503, 'completed': 3504, 'personalities': 3505, 'twists': 3506, 'occur': 3507, 'irritating': 3508, 'indescribably': 3509, 'idiotic': 3510, 'idiot': 3511, 'cheesiness': 3512, 'unethical': 3513, 'nc17': 3514, 'zillion': 3515, 'washing': 3516, 'twirling': 3517, 'grade': 3518, 'z': 3519, 'road': 3520, '1948': 3521, 'silly': 3522, 'noir': 3523, 'unmitigated': 3524, 'blandly': 3525, 'edward': 3526, 'chodorov': 3527, 'negulesco': 3528, 'widmark': 3529, 'unintentionally': 3530, 'comical': 3531, 'marbles': 3532, 'marred': 3533, 'constant': 3534, 'exteriors': 3535, 'prompted': 3536, 'middleaged': 3537, 'upper': 3538, 'uptight': 3539, 'mistakes': 3540, 'jokes': 3541, 'offend': 3542, 'littered': 3543, 'overt': 3544, 'slurs': 3545, 'members': 3546, 'whites': 3547, 'depicted': 3548, 'morons': 3549, 'boobs': 3550, 'lets': 3551, 'destroy': 3552, 'latifa': 3553, 'wouldnt': 3554, 'steamboat': 3555, 'willie': 3556, 'amazingly': 3557, 'plane': 3558, 'groundbreaking': 3559, 'tons': 3560, 'granted': 3561, 'pleaser': 3562, '1928': 3563, 'timeless': 3564, 'straw': 3565, 'cruel': 3566, 'crowdpleaser': 3567, 'bipolarity': 3568, 'thug': 3569, 'luv': 3570, 'diaper': 3571, 'commercial': 3572, 'awards': 3573, 'accolades': 3574, 'body': 3575, '1947': 3576, 'garfield': 3577, 'ann': 3578, 'revere': 3579, 'lilli': 3580, 'plmer': 3581, 'william': 3582, 'conrad': 3583, 'lee': 3584, 'cinematographers': 3585, 'wong': 3586, 'howe': 3587, 'qualities': 3588, 'thomerson': 3589, '1986': 3590, 'professor': 3591, 'established': 3592, 'zombiestudents': 3593, 'necklace': 3594, 'containing': 3595, 'meteorite': 3596, 'matthews': 3597, 'wrotedirected': 3598, '1995': 3599, 'grim': 3600, 'aspects': 3601, 'gore': 3602, 'convention': 3603, 'cg': 3604, 'slideshow': 3605, 'explosion': 3606, 'tanks': 3607, 'okay': 3608, 'critic': 3609, 'creature': 3610, 'ta': 3611, 'closeups': 3612, 'slimy': 3613, 'drooling': 3614, 'breeders': 3615, 'ebola': 3616, 'virus': 3617, 'charisma': 3618, 'comedic': 3619, 'timing': 3620, 'debits': 3621, 'popcorn': 3622, 'borders': 3623, 'lewis': 3624, 'considerable': 3625, 'incendiary': 3626, 'unrestrained': 3627, 'sole': 3628, 'bright': 3629, 'superbad': 3630, 'interim': 3631, 'originality': 3632, 'freshness': 3633, 'offer': 3634, 'evidently': 3635, 'reflected': 3636, 'belowpar': 3637, 'borrowed': 3638, 'filmiing': 3639, 'expansive': 3640, 'convey': 3641, 'broad': 3642, 'sweep': 3643, 'landscapes': 3644, 'trashy': 3645, 'sequel': 3646, 'precisely': 3647, 'proudly': 3648, 'classical': 3649, 'wb': 3650, 'toons': 3651, 'delivered': 3652, 'underrated': 3653, 'murky': 3654, 'related': 3655, 'sitcoms': 3656, 'oriented': 3657, 'teenagers': 3658, 'peculiarity': 3659, 'excessively': 3660, 'phony': 3661, 'contrived': 3662, 'sit': 3663, 'um': 3664, 'perabo': 3665, 'foolish': 3666, 'accents': 3667, 'hypocrisy': 3668, 'rubbish': 3669, 'nonresearched': 3670, 'pitch': 3671, 'omit': 3672, 'instant': 3673, 'catchy': 3674, 'credits': 3675, 'simmering': 3676, 'boiling': 3677, 'warts': 3678, 'poet': 3679, 'bohemian': 3680, 'wartime': 3681, 'bombardments': 3682, 'london': 3683, 'outward': 3684, 'tranquillity': 3685, 'welsh': 3686, 'coastal': 3687, 'retreat': 3688, 'borderlines': 3689, 'friendship': 3690, 'lust': 3691, 'concerns': 3692, 'jealousy': 3693, 'rivalry': 3694, 'cowardice': 3695, 'egotism': 3696, 'heroism': 3697, 'selfsacrifice': 3698, 'suggests': 3699, 'tensions': 3700, 'inappropriate': 3701, 'smiling': 3702, 'keira': 3703, 'knightley': 3704, 'prone': 3705, 'inventive': 3706, 'closeup': 3707, 'pointillistic': 3708, 'behold': 3709, 'continuously': 3710, 'bertolucci': 3711, 'sidelined': 3712, 'inexplicable': 3713, 'crew': 3714, 'regardless': 3715, 'custer': 3716, 'alongside': 3717, 'olivia': 3718, 'havilland': 3719, 'dads': 3720, 'grew': 3721, 'realised': 3722, 'jim': 3723, 'oconnor': 3724, 'energetic': 3725, 'george': 3726, 'hosting': 3727, 'voiceovers': 3728, 'monotonous': 3729, 'shenanigans': 3730, 'spy': 3731, 'kidnapped': 3732, 'foreign': 3733, 'random': 3734, 'taxidermists': 3735, 'stewart': 3736, 'hero': 3737, 'rips': 3738, 'climax': 3739, 'embassy': 3740, 'brooding': 3741, 'menace': 3742, 'lowbudget': 3743, 'nevertheless': 3744, 'stable': 3745, 'sci': 3746, 'fi': 3747, 'scifi': 3748, 'producers': 3749, 'scot': 3750, 'vandiver': 3751, 'nonetheless': 3752, 'campy': 3753, 'mindbendingly': 3754, 'scares': 3755, 'medical': 3756, 'terminology': 3757, 'iffy': 3758, 'insulin': 3759, 'dependant': 3760, 'diabetic': 3761, 'complexity': 3762, 'task': 3763, 'challenges': 3764, 'facing': 3765, 'attempted': 3766, 'truth': 3767, 'reconciliation': 3768, 'magnificent': 3769, 'photographycinematography': 3770, 'woven': 3771, 'splendid': 3772, 'view': 3773, 'subtitles': 3774, 'aversion': 3775, 'therapy': 3776, 'jason': 3777, 'moved': 3778, 'tears': 3779, 'monolog': 3780, 'candle': 3781, 'sphere': 3782, 'helen': 3783, 'baxendale': 3784, 'credible': 3785, 'cheerfull': 3786, 'naughty': 3787, 'deadly': 3788, 'shakespears': 3789, 'lyrics': 3790, 'dr': 3791, 'seuss': 3792, 'brilliantly': 3793, 'animated': 3794, 'upa': 3795, 'finest': 3796, 'academy': 3797, 'award': 3798, 'integral': 3799, 'helping': 3800, 'bailey': 3801, 'eiko': 3802, 'ishioka': 3803, 'dracula': 3804, '1971': 3805, 'format': 3806, 'miniseries': 3807, 'baaaaaad': 3808, 'collect': 3809, 'extant': 3810, 'austen': 3811, 'consolations': 3812, 'speaking': 3813, 'unbearably': 3814, 'kitchy': 3815, 'raw': 3816, 'sublimely': 3817, 'theatrical': 3818, 'terror': 3819, 'lie': 3820, 'escalating': 3821, 'monstrous': 3822, 'consequences': 3823, 'mesmerising': 3824, 'fumbling': 3825, 'hankies': 3826, 'faces': 3827, 'males': 3828, 'females': 3829, 'alike': 3830, 'julian': 3831, 'fellowes': 3832, 'triumphed': 3833, 'national': 3834, 'treasure': 3835, 'welldone': 3836, 'phrase': 3837, 'owed': 3838, 'kris': 3839, 'kristoffersen': 3840, 'marriage': 3841, 'errors': 3842, 'commented': 3843, 'cars': 3844, 'garage': 3845, 'facial': 3846, 'configuration': 3847, 'inspiration': 3848, 'overcome': 3849, 'rejection': 3850, 'punishment': 3851, 'park': 3852, 'southern': 3853, 'california': 3854, 'desert': 3855, 'patent': 3856, 'accessible': 3857, 'miserable': 3858, 'angela': 3859, 'bennett': 3860, 'expert': 3861, 'pretext': 3862, 'repeating': 3863, 'robotic': 3864, 'moves': 3865, 'delete': 3866, 'ass': 3867, 'uncalled': 3868, 'geek': 3869, 'bible': 3870, 'thumper': 3871, 'badass': 3872, 'pulling': 3873, 'equivalent': 3874, 'dickens': 3875, 'carol': 3876, 'sensibility': 3877, 'success': 3878, 'depends': 3879, 'sydney': 3880, 'greenstreet': 3881, 'yardley': 3882, 'eyepleasing': 3883, 'rpg': 3884, 'selfrespecting': 3885, 'rpger': 3886, 'youtube': 3887, 'lassie': 3888, 'painfully': 3889, 'dreary': 3890, 'timewaster': 3891, 'becomes': 3892, 'forgettable': 3893, 'sobaditsgood': 3894, 'sobaditsmemorable': 3895, 'shell': 3896, 'barking': 3897, 'transfers': 3898, 'relaxing': 3899, 'title': 3900, 'handles': 3901, 'dignity': 3902, 'shocking': 3903, 'memorized': 3904, 'fishnet': 3905, 'stockings': 3906, 'astonishingly': 3907, 'ham': 3908, 'fisted': 3909, 'irons': 3910, 'unconditional': 3911, 'ordeal': 3912, 'progresses': 3913, 'anguish': 3914, 'pans': 3915, 'reviewers': 3916, 'interview': 3917, 'vampire': 3918, 'lestat': 3919, 'stuart': 3920, 'townsend': 3921, 'cruise': 3922, 'aailiyah': 3923, 'akasha': 3924, 'entrance': 3925, 'mini': 3926, 'sensitivities': 3927, 'treatments': 3928, 'details': 3929, 'dysfunction': 3930, 'football': 3931, 'perplexing': 3932, 'skilled': 3933, 'meredith': 3934, 'worthy': 3935, 'syrupy': 3936, 'indulgent': 3937, 'nine': 3938, 'goremeister': 3939, 'lucio': 3940, 'subgenre': 3941, 'thrillers': 3942, 'standout': 3943, 'unpleasant': 3944, 'technically': 3945, 'riz': 3946, 'ortolani': 3947, 'recurring': 3948, 'unaccompanied': 3949, 'vocal': 3950, 'distant': 3951, 'dustin': 3952, 'hoffman': 3953, 'involving': 3954, 'issue': 3955, 'tired': 3956, 'ps': 3957, 'jennifer': 3958, 'rubin': 3959, 'harris': 3960, 'changes': 3961, 'nervous': 3962, 'starlet': 3963, 'situations': 3964, 'coach': 3965, 'snow': 3966, 'ultracheap': 3967, 'exciting': 3968, 'uniqueness': 3969, 'foreigner': 3970, '1973': 3971, 'stranger': 3972, 'considers': 3973, 'ussr': 3974, 'scream': 3975, 'scare': 3976, 'indictment': 3977, 'justice': 3978, 'system': 3979, 'fundamental': 3980, 'legal': 3981, 'guilt': 3982, 'innocence': 3983, 'routine': 3984, 'factbased': 3985, 'constantine': 3986, 'intensity': 3987, 'motivations': 3988, 'inspiring': 3989, 'stinker': 3990, 'directtovideo': 3991, 'release': 3992, 'trek': 3993, 'v': 3994, 'frontier': 3995, 'includes': 3996, 'shatner': 3997, 'nimoy': 3998, 'washed': 3999, 'tacky': 4000, 'spock': 4001, 'rescue': 4002, 'kirk': 4003, 'jet': 4004, 'mountain': 4005, 'humor': 4006, 'dose': 4007, 'involves': 4008, 'vulcan': 4009, 'stealing': 4010, 'enterprise': 4011, 'uhura': 4012, 'distract': 4013, 'male': 4014, 'guards': 4015, 'subjects': 4016, 'jay': 4017, 'adams': 4018, 'unfortunate': 4019, 'subject': 4020, 'evokes': 4021, '70s': 4022, 'grainy': 4023, 'enhanced': 4024, 'surprises': 4025, 'achille': 4026, 'philippa': 4027, 'sing': 4028, 'giovanni': 4029, 'describes': 4030, 'layers': 4031, '18th': 4032, 'jutland': 4033, 'instruments': 4034, 'general': 4035, 'loewenhielm': 4036, 'partaking': 4037, 'cailles': 4038, 'en': 4039, 'sarcophage': 4040, 'savor': 4041, 'impression': 4042, 'generates': 4043, 'austere': 4044, 'backdrop': 4045, 'wanting': 4046, 'notch': 4047, 'fleshed': 4048, 'grimes': 4049, 'blake': 4050, 'scripted': 4051, 'deadpan': 4052, 'angus': 4053, 'scrimm': 4054, 'gently': 4055, 'menacing': 4056, 'violinplaying': 4057, 'anatomist': 4058, 'entertained': 4059, 'phantasm': 4060, '1949': 4061, 'collective': 4062, 'concerning': 4063, 'kudos': 4064, 'lesserknown': 4065, 'superintelligent': 4066, 'juano': 4067, 'hernandez': 4068, 'supporting': 4069, 'murdering': 4070, 'trumbull': 4071, 'evinced': 4072, 'faithful': 4073, 'joyce': 4074, 'acclaimed': 4075, 'novella': 4076, 'feelings': 4077, 'gabriel': 4078, 'intangibles': 4079, 'leap': 4080, 'viewer': 4081, 'grasp': 4082, 'wondered': 4083, 'shortlist': 4084, 'emperor': 4085, 'bigbudget': 4086, 'surely': 4087, 'coherent': 4088, 'force': 4089, 'obliged': 4090, 'creative': 4091, 'subplots': 4092, 'native': 4093, 'beall': 4094, 'endall': 4095, 'brainsucking': 4096, 'telly': 4097, 'savalas': 4098, 'boyle': 4099, '54': 4100, 'sheer': 4101, 'tedium': 4102, 'melodrama': 4103, 'sinking': 4104, 'decisions': 4105, 'establish': 4106, 'subplot': 4107, 'follows': 4108, 'band': 4109, 'latterday': 4110, 'mansonites': 4111, 'reporter': 4112, 'anniversary': 4113, 'killings': 4114, 'indication': 4115, 'meld': 4116, 'volatile': 4117, 'temperaments': 4118, 'seamless': 4119, 'union': 4120, 'creativity': 4121, 'powerhouse': 4122, 'fascination': 4123, 'celebrity': 4124, 'interpretations': 4125, 'fame': 4126, 'forgotten': 4127, 'kevin': 4128, 'spacey': 4129, 'verbal': 4130, 'tsunami': 4131, 'buddy': 4132, 'ackerman': 4133, 'scripting': 4134, 'unmatched': 4135, 'ages': 4136, 'younger': 4137, 'galley': 4138, 'pm': 4139, '8pm': 4140, '15pm': 4141, 'forwarded': 4142, 'horrendously': 4143, 'buildup': 4144, 'captain': 4145, 'howdy': 4146, 'semi': 4147, 'truck': 4148, 'linda': 4149, 'cardellini': 4150, 'poised': 4151, 'dee': 4152, 'snider': 4153, 'villains': 4154, 'sophisticated': 4155, 'thrillerhorror': 4156, 'miserably': 4157, 'unoriginal': 4158, 'cinematic': 4159, 'captured': 4160, 'celluloid': 4161, 'supernatural': 4162, 'zombie': 4163, 'thread': 4164, 'leni': 4165, 'parker': 4166, 'anita': 4167, 'laselva': 4168, 'taelons': 4169, 'idealogical': 4170, 'centers': 4171, 'puppet': 4172, 'flicks': 4173, 'explains': 4174, 'sinister': 4175, 'origins': 4176, 'insomniacs': 4177, 'heartwarming': 4178, 'chasing': 4179, 'nurse': 4180, 'unpredictability': 4181, 'labute': 4182, 'brutal': 4183, 'violence': 4184, 'seperate': 4185, 'secondary': 4186, 'incomprehensible': 4187, 'relation': 4188, 'primary': 4189, 'mystifying': 4190, 'shelves': 4191, 'moviemaking': 4192, 'warn': 4193, 'dumbest': 4194, 'hbo': 4195, 'cox': 4196, 'win': 4197, 'agree': 4198, 'jessica': 4199, 'onedimensional': 4200, 'elaborately': 4201, 'aesthetically': 4202, 'sculpture': 4203, 'soap': 4204, 'operas': 4205, 'pray': 4206, 'charismatic': 4207, 'paolo': 4208, 'sorrentino': 4209, 'tony': 4210, 'unforgettable': 4211, 'titta': 4212, 'di': 4213, 'girolamo': 4214, 'vision': 4215, '910': 4216, 'debut': 4217, 'charlie': 4218, 'kathy': 4219, 'bates': 4220, 'desperation': 4221, 'escapism': 4222, 'variation': 4223, 'fields': 4224, 'condescends': 4225, 'arts': 4226, 'daughters': 4227, 'paint': 4228, 'photograph': 4229, 'poignant': 4230, 'alert': 4231, 'decipher': 4232, 'meanings': 4233, 'matrix': 4234, 'sequels': 4235, 'mindblowing': 4236, 'dream': 4237, 'rickman': 4238, 'stowe': 4239, 'hilt': 4240, 'childrens': 4241, 'subversive': 4242, 'tract': 4243, 'gloriously': 4244, 'accurate': 4245, 'raver': 4246, 'idyllic': 4247, 'downs': 4248, 'groove': 4249, 'antithesis': 4250, 'traffic': 4251, 'crowe': 4252, 'picked': 4253, 'government': 4254, 'scientist': 4255, 'argued': 4256, 'humanity': 4257, 'dwight': 4258, 'schultz': 4259, 'sincere': 4260, 'onscreen': 4261, 'critical': 4262, 'gorman': 4263, 'bechard': 4264, 'homework': 4265, 'characterage': 4266, 'appropriate': 4267, 'captures': 4268, 'essence': 4269, 'track': 4270, 'commands': 4271, 'contributing': 4272, 'threshold': 4273, 'hayao': 4274, 'eighth': 4275, 'ghibili': 4276, 'gake': 4277, 'ue': 4278, 'cliff': 4279, 'dominated': 4280, 'disneypixar': 4281, 'cgi': 4282, 'comforting': 4283, 'relying': 4284, 'handdrawn': 4285, 'enchanting': 4286, 'remarkable': 4287, 'crayonpencil': 4288, 'drawings': 4289, 'colorful': 4290, 'fanciful': 4291, 'drift': 4292, 'surf': 4293, '1998': 4294, 'impact': 4295, 'armageddon': 4296, 'choked': 4297, 'vessel': 4298, 'taken': 4299, 'mighty': 4300, 'frost': 4301, 'bonuses': 4302, 'fest': 4303, 'spoiled': 4304, 'brat': 4305, 'babysitting': 4306, 'sundays': 4307, 'march': 4308, 'judith': 4309, 'cutie': 4310, 'confidence': 4311, 'wellbalanced': 4312, 'riot': 4313, 'hugo': 4314, 'weaving': 4315, 'sexobsessed': 4316, 'gay': 4317, 'estate': 4318, 'salesman': 4319, 'clients': 4320, 'houses': 4321, 'trysts': 4322, 'flaming': 4323, 'darren': 4324, 'hollander': 4325, 'flowed': 4326, 'malebonding': 4327, 'hoot': 4328, 'n': 4329, 'genre': 4330, 'jessice': 4331, 'clothes': 4332, 'virtue': 4333, 'regrettable': 4334, 'exceptionally': 4335, 'bank': 4336, 'holiday': 4337, 'rick': 4338, 'honeslty': 4339, 'rubber': 4340, 'ahead': 4341, 'warmer': 4342, 'wayyy': 4343, 'cape': 4344, 'cod': 4345, 'ravoli': 4346, 'cranberry': 4347, 'disgusted': 4348, 'shocked': 4349, 'indicate': 4350, 'cash': 4351, 'burrittos': 4352, 'interior': 4353, 'velvet': 4354, 'cake': 4355, 'ohhh': 4356, 'hole': 4357, 'luke': 4358, 'sever': 4359, 'combos': 4360, 'blow': 4361, 'accident': 4362, 'grab': 4363, 'pub': 4364, 'hiro': 4365, 'melted': 4366, 'styrofoam': 4367, 'pucks': 4368, 'disgust': 4369, 'register': 4370, 'rib': 4371, 'section': 4372, 'firehouse': 4373, 'pink': 4374, 'mein': 4375, 'flatlined': 4376, 'strings': 4377, 'banana': 4378, 'petrified': 4379, 'receives': 4380, 'cocktails': 4381, 'handmade': 4382, 'military': 4383, 'dos': 4384, 'gringos': 4385, 'tastings': 4386, 'jeff': 4387, 'milkshake': 4388, 'chocolate': 4389, 'milk': 4390, 'excalibur': 4391, 'common': 4392, 'cheated': 4393, 'experiencing': 4394, 'parties': 4395, 'smelled': 4396, 'pan': 4397, 'cakes': 4398, 'raving': 4399, 'tailored': 4400, 'palate': 4401, 'ratio': 4402, 'tenders': 4403, 'unsatisfying': 4404, 'omelets': 4405, 'sexy': 4406, 'outrageously': 4407, 'flirting': 4408, 'hottest': 4409, 'rock': 4410, 'casino': 4411, 'forward': 4412, 'bone': 4413, 'bloddy': 4414, 'mussels': 4415, 'reduction': 4416, 'buffets': 4417, 'tigerlilly': 4418, 'personable': 4419, 'sooooo': 4420, 'yama': 4421, '40min': 4422, 'arriving': 4423, 'actual': 4424, 'blandest': 4425, 'cuisine': 4426, 'worries': 4427, 'loving': 4428, 'venture': 4429, 'host': 4430, 'bitches': 4431, 'liking': 4432, 'reviewing': 4433, 'venturing': 4434, 'penne': 4435, 'vodka': 4436, 'meatloaf': 4437, 'crispy': 4438, 'lox': 4439, 'capers': 4440, 'meet': 4441, 'weekend': 4442, 'suggestions': 4443, 'bamboo': 4444, 'shoots': 4445, 'blanket': 4446, 'moz': 4447, 'ignore': 4448, 'middle': 4449, 'mandalay': 4450, 'forty': 4451, 'vain': 4452, 'crostini': 4453, 'nigiri': 4454, 'flavored': 4455, 'voodoo': 4456, 'gluten': 4457, 'leftover': 4458, 'relocated': 4459, 'diverse': 4460, 'handsdown': 4461, 'hella': 4462, 'salty': 4463, 'spinach': 4464, 'avocado': 4465, 'ingredients': 4466, 'handed': 4467, 'listed': 4468, 'waitresses': 4469, 'lordy': 4470, 'khao': 4471, 'soi': 4472, 'accommodations': 4473, 'inspired': 4474, 'desired': 4475, 'maintaining': 4476, 'coziness': 4477, 'weekly': 4478, 'haunt': 4479, 'asking': 4480, 'verge': 4481, 'dressed': 4482, 'rudely': 4483, 'hits': 4484, 'quantity': 4485, 'lemon': 4486, 'raspberry': 4487, 'cocktail': 4488, 'imagined': 4489, 'crepe': 4490, 'bits': 4491, 'missing': 4492, 'joey': 4493, 'voted': 4494, 'magazine': 4495, 'fridays': 4496, 'blows': 4497, 'exceeding': 4498, 'dreamed': 4499, 'serivce': 4500, 'inviting': 4501, '1979': 4502, 'stepped': 4503, 'foot': 4504, 'mixed': 4505, 'mushrooms': 4506, 'yukon': 4507, 'beateous': 4508, 'climbing': 4509, 'tartar': 4510, 'jamaican': 4511, 'mojitos': 4512, 'rich': 4513, 'accordingly': 4514, 'rinse': 4515, 'nude': 4516, 'bussell': 4517, 'sprouts': 4518, 'risotto': 4519, 'bodes': 4520, 'wrapped': 4521, 'dates': 4522, 'otto': 4523, 'welcome': 4524, 'mains': 4525, 'uninspired': 4526, 'muststop': 4527, 'worstannoying': 4528, 'drunk': 4529, 'patty': 4530, 'uploaded': 4531, 'sporting': 4532, 'walls': 4533, 'descriptions': 4534, 'eel': 4535, 'sauces': 4536, 'hardest': 4537, 'rolled': 4538, 'providing': 4539, 'flavourful': 4540, 'freezing': 4541, 'ayce': 4542, 'mood': 4543, 'based': 4544, 'gratitude': 4545, 'privileged': 4546, 'workingeating': 4547, 'silently': 4548, 'peanut': 4549, 'godfathers': 4550, 'recall': 4551, 'visited': 4552, 'proclaimed': 4553, 'wildly': 4554, 'veggitarian': 4555, 'platter': 4556, 'madison': 4557, 'ironman': 4558, 'chefs': 4559, 'dedicated': 4560, 'spots': 4561, 'jenni': 4562, 'goat': 4563, 'skimp': 4564, 'mac': 4565, 'burned': 4566, 'saganaki': 4567, 'disagree': 4568, 'fellow': 4569, 'yelpers': 4570, 'noodles': 4571, 'chip': 4572, 'count': 4573, 'servicecheck': 4574, 'greedy': 4575, 'corporation': 4576, 'dime': 4577, 'outdoor': 4578, 'muffin': 4579, 'untoasted': 4580, 'bus': 4581, 'figured': 4582, 'publicly': 4583, 'loudly': 4584, 'bbq': 4585, 'lighter': 4586, 'inhouse': 4587, 'downside': 4588, 'shawarrrrrrma': 4589, 'eyed': 4590, 'peas': 4591, 'unreal': 4592, 'vinaigrette': 4593, '00': 4594, 'honor': 4595, 'hut': 4596, 'coupons': 4597, 'unbelievably': 4598, 'covers': 4599, 'replenished': 4600, 'yucky': 4601, '17': 4602, 'delicioso': 4603, 'spaghetti': 4604, 'tucson': 4605, 'chipotle': 4606, 'classywarm': 4607, 'succulent': 4608, 'baseball': 4609, 'app': 4610, 'genuinely': 4611, 'enthusiastic': 4612, 'sadly': 4613, 'gordon': 4614, 'ramsey': 4615, 'shall': 4616, 'offered': 4617, 'handling': 4618, 'rowdy': 4619, 'despicable': 4620, 'craving': 4621, 'ache': 4622, 'elegantly': 4623, 'customize': 4624, 'bean': 4625, 'outta': 4626, 'inconsiderate': 4627, 'hi': 4628, 'dinners': 4629, 'outshining': 4630, 'halibut': 4631, 'starving': 4632, 'def': 4633, 'ethic': 4634, 'andddd': 4635, 'located': 4636, 'crystals': 4637, 'shopping': 4638, 'aria': 4639, 'summarize': 4640, 'nay': 4641, 'transcendant': 4642, 'pneumatic': 4643, 'condiment': 4644, 'dispenser': 4645, 'ians': 4646, 'kiddos': 4647, 'bouchon': 4648, 'accountant': 4649, 'screwed': 4650, 'reminds': 4651, 'shops': 4652, 'san': 4653, 'francisco': 4654, 'buldogis': 4655, 'gourmet': 4656, 'frustrated': 4657, 'petty': 4658, 'iced': 4659, 'hungry': 4660, 'sore': 4661, 'companions': 4662, 'ground': 4663, 'smeared': 4664, 'beensteppedinandtrackedeverywhere': 4665, 'bird': 4666, 'poop': 4667, 'furthermore': 4668, 'operation': 4669, 'expertconnisseur': 4670, 'topic': 4671, 'jerk': 4672, 'strike': 4673, 'rushed': 4674, 'across': 4675, 'appetizer': 4676, 'absolutley': 4677, '5lb': 4678, '34ths': 4679, 'gristle': 4680, 'steiners': 4681, 'fs': 4682, 'breakfastlunch': 4683, 'pears': 4684, 'almonds': 4685, 'spicier': 4686, 'prefer': 4687, 'ribeye': 4688, 'mesquite': 4689, 'gooodd': 4690, 'connoisseur': 4691, 'mouthful': 4692, 'relaxed': 4693, 'venue': 4694, 'couples': 4695, 'groups': 4696, 'nargile': 4697, 'tater': 4698, 'southwest': 4699, 'vanilla': 4700, 'smooth': 4701, 'profiterole': 4702, 'choux': 4703, 'pastry': 4704, 'az': 4705, 'carly': 4706, 'ventilation': 4707, 'upgrading': 4708, 'letdown': 4709, 'camelback': 4710, 'shop': 4711, 'cartel': 4712, 'trimmed': 4713, 'claimed': 4714, 'jewel': 4715, 'las': 4716, 'boiled': 4717, 'toro': 4718, 'tartare': 4719, 'cavier': 4720, 'thinly': 4721, 'wagyu': 4722, 'truffle': 4723, 'attached': 4724, 'decide': 4725, 'humiliated': 4726, 'worker': 4727, 'name': 4728, 'callings': 4729, 'daily': 4730, 'specials': 4731, 'tragedy': 4732, 'pancake': 4733, 'crawfish': 4734, 'multigrain': 4735, 'pumpkin': 4736, 'pecan': 4737, 'fluffy': 4738, 'airline': 4739, 'noca': 4740, 'gyro': 4741, 'lettuce': 4742, 'pastas': 4743, 'cheesecurds': 4744, 'finger': 4745, 'beauty': 4746, 'greasy': 4747, 'unhealthy': 4748, 'similarly': 4749, 'apology': 4750, 'togo': 4751, 'tiramisu': 4752, 'cannoli': 4753, 'sun': 4754, 'meats': 4755, 'frenchman': 4756, 'martini': 4757, 'gc': 4758, 'thirty': 4759, 'vacant': 4760, 'yellowtail': 4761, 'carpaccio': 4762, 'strangers': 4763, 'hello': 4764, 'donut': 4765, 'saving': 4766, 'disgraceful': 4767, 'suffers': 4768, 'greens': 4769, 'hankering': 4770, 'theft': 4771, 'eew': 4772, 'overhaul': 4773, 'witnessed': 4774, 'regularly': 4775, 'swung': 4776, 'efficient': 4777, 'sucker': 4778, 'olives': 4779, 'perpared': 4780, 'giant': 4781, 'slices': 4782, 'dusted': 4783, 'powdered': 4784, 'sugar': 4785, 'fo': 4786, 'accomodate': 4787, 'veganveggie': 4788, 'crumby': 4789, 'pale': 4790, 'croutons': 4791, 'trips': 4792, 'crema': 4793, 'expanded': 4794, 'philadelphia': 4795, 'north': 4796, 'scottsdale': 4797, 'soooooo': 4798, 'freaking': 4799, 'papers': 4800, 'reheated': 4801, 'wedges': 4802, 'absolute': 4803, 'bloody': 4804, 'businesses': 4805, 'yellow': 4806, 'saffron': 4807, 'seasoning': 4808, 'noncustomer': 4809, 'grandmother': 4810, 'ignored': 4811, 'hostess': 4812, 'boys': 4813, 'shirt': 4814, 'drastically': 4815, 'highquality': 4816, 'caesar': 4817, 'madhouse': 4818, 'proven': 4819, 'moods': 4820, 'macarons': 4821, 'insanely': 4822, 'informative': 4823, 'plater': 4824, 'relax': 4825, 'sitdown': 4826, 'screams': 4827, 'somethat': 4828, 'duo': 4829, 'violinists': 4830, 'requested': 4831, 'baklava': 4832, 'falafels': 4833, 'baba': 4834, 'ganoush': 4835, 'mgm': 4836, 'courteous': 4837, 'eclectic': 4838, 'onion': 4839, 'rings': 4840, 'nobu': 4841, 'google': 4842, 'smashburger': 4843, 'lover': 4844, 'plantains': 4845, 'spends': 4846, 'panna': 4847, 'cotta': 4848, 'flavors': 4849, 'slaw': 4850, 'drenched': 4851, 'piano': 4852, 'rge': 4853, 'fillet': 4854, 'relleno': 4855, 'sergeant': 4856, 'auju': 4857, 'hawaiian': 4858, 'breeze': 4859, 'mango': 4860, 'magic': 4861, 'pineapple': 4862, 'smoothies': 4863, 'mortified': 4864, 'anyways': 4865, 'dripping': 4866, '2007': 4867, 'hospitality': 4868, 'paradise': 4869, 'refrained': 4870, 'recommending': 4871, 'cibo': 4872, 'mouths': 4873, 'bellies': 4874, 'dough': 4875, 'elk': 4876, 'hooked': 4877, 'classics': 4878, 'sorely': 4879, 'quaint': 4880, 'deliciously': 4881, 'dylan': 4882, 'tummy': 4883, 'gratuity': 4884, 'larger': 4885, 'apple': 4886, 'han': 4887, 'nan': 4888, 'edinburgh': 4889, 'revisiting': 4890, 'naan': 4891, 'pine': 4892, 'touched': 4893, 'airport': 4894, 'speedy': 4895, 'calligraphy': 4896, 'stood': 4897, 'guest': 4898, 'extensive': 4899, 'inflate': 4900, 'smaller': 4901, 'grow': 4902, 'rapidly': 4903, 'lil': 4904, 'fuzzy': 4905, 'wontons': 4906, 'spice': 4907, 'overwhelm': 4908, '30s': 4909, 'arepas': 4910, 'jalapeno': 4911, 'shoe': 4912, 'block': 4913, 'lowkey': 4914, 'nonfancy': 4915, 'affordable': 4916, 'soups': 4917, 'sunday': 4918, 'hunan': 4919, 'flair': 4920, 'bartenders': 4921, 'nutshell': 4922, 'restaraunt': 4923, 'sewer': 4924, 'veal': 4925, 'satifying': 4926, 'join': 4927, 'email': 4928, 'colder': 4929, 'describing': 4930, 'tepid': 4931, 'chains': 4932, 'crowds': 4933, 'juries': 4934, 'lawyers': 4935, 'arrives': 4936, 'paying': 4937, '85': 4938, 'wienerschnitzel': 4939, 'maine': 4940, 'roll': 4941, 'law': 4942, 'hereas': 4943, 'event': 4944, 'held': 4945, 'pissd': 4946, 'surprise': 4947, 'goldencrispy': 4948, 'hopes': 4949, 'bruschetta': 4950, 'devine': 4951, 'employee': 4952, 'lastly': 4953, 'mozzarella': 4954, 'negligent': 4955, 'unwelcome': 4956, 'packed': 4957, 'seasonal': 4958, 'fruit': 4959, 'peach': 4960, 'officially': 4961, 'containers': 4962, 'opposed': 4963, 'cramming': 4964, 'takeout': 4965, 'boxes': 4966, 'crãªpe': 4967, 'delicate': 4968, 'kabuki': 4969, 'overhip': 4970, 'underservices': 4971, 'maria': 4972, 'article': 4973, 'spices': 4974, 'fucking': 4975, 'caballero': 4976, 'oysters': 4977, 'qualified': 4978, 'foods': 4979, 'tolerance': 4980, 'polite': 4981, 'wash': 4982, 'biscuit': 4983, 'coconut': 4984, 'fella': 4985, 'huevos': 4986, 'rancheros': 4987, 'wines': 4988, 'pricey': 4989, 'foodservice': 4990, 'temp': 4991, 'prepare': 4992, 'bare': 4993, 'gloves': 4994, 'oil': 4995, 'pleasure': 4996, 'plethora': 4997, 'sandwiches': 4998, 'seal': 4999, 'approval': 5000, 'college': 5001, 'cooking': 5002, 'besides': 5003, 'costco': 5004, 'highlighted': 5005, 'grocery': 5006, 'ownerchef': 5007, 'dude': 5008, 'doughy': 5009, 'inch': 5010, 'albondigas': 5011, 'tomato': 5012, 'meatballs': 5013, 'occasions': 5014, 'medium': 5015, 'bloodiest': 5016, 'anymore': 5017, 'chai': 5018, 'latte': 5019, 'allergy': 5020, 'warnings': 5021, 'clue': 5022, 'contain': 5023, 'peanuts': 5024, 'mediterranean': 5025, 'beers': 5026, 'highlight': 5027, 'concern': 5028, 'mellow': 5029, 'mushroom': 5030, 'strawberry': 5031, 'unprofessional': 5032, 'loyal': 5033, 'patron': 5034, 'occasional': 5035, 'pats': 5036, 'bellagio': 5037, 'anticipated': 5038, 'sals': 5039, 'fav': 5040, 'unexperienced': 5041, 'employees': 5042, 'chickens': 5043, 'steakhouse': 5044, 'concept': 5045, 'guacamole': 5046, 'postinos': 5047, 'poisoning': 5048, 'batch': 5049, 'yay': 5050, 'eve': 5051, 'caring': 5052, 'teamwork': 5053, 'degree': 5054, 'ri': 5055, 'calamari': 5056, 'fondue': 5057, 'denny': 5058, 'downright': 5059, 'waaaaaayyyyyyyyyy': 5060, 'sangria': 5061, 'glass': 5062, 'brisket': 5063, 'trippy': 5064, 'hurry': 5065, 'reservation': 5066, 'stretch': 5067, 'cashew': 5068, 'chipolte': 5069, 'ranch': 5070, 'dipping': 5071, 'sause': 5072, 'watered': 5073, 'workers': 5074, 'douchey': 5075, 'garden': 5076, 'con': 5077, 'spotty': 5078, 'ensued': 5079, 'apologize': 5080, 'binge': 5081, 'drinking': 5082, 'carbs': 5083, 'insults': 5084, 'profound': 5085, 'deuchebaggery': 5086, 'solidify': 5087, 'combo': 5088, 'ala': 5089, 'cart': 5090, 'blame': 5091, 'rave': 5092, 'del': 5093, 'hamburger': 5094, 'services': 5095, 'yaall': 5096, 'fireball': 5097, 'disapppointment': 5098, 'correction': 5099, 'heimer': 5100, 'brownish': 5101, 'ha': 5102, 'flop': 5103, '99': 5104, 'bigger': 5105, 'sub': 5106, 'unwrapped': 5107, 'mile': 5108, 'brushfire': 5109, 'mirage': 5110, 'refried': 5111, 'dried': 5112, 'crusty': 5113, 'caterpillar': 5114, 'appetite': 5115, 'instantly': 5116, 'ninja': 5117, 'poured': 5118, 'wound': 5119, 'drawing': 5120}\n",
      "[[1, 46, 97, 27], [1, 5, 73, 33], [1, 6], [1, 68], [1, 6], [1, 31, 64, 31], [1, 10, 10], [1], [1, 55, 76], [1, 69, 76, 14], [1, 41, 26, 6], [1, 70, 44, 44], [1, 58, 41, 42], [1, 5, 26], [1, 59], [1, 38, 10, 8], [1], [1, 86, 5], [1, 34, 6], [1, 13, 46, 98, 18], [1, 25, 31], [1, 40], [1], [1, 78, 44, 58], [1, 44], [1, 6, 8], [1, 8, 55, 20, 8], [1, 4, 43], [1, 71, 8], [1, 4], [1, 60, 8, 40], [1, 30, 71, 12], [1], [1, 58, 92, 8], [1, 19, 49, 37], [1, 31, 8, 14, 45, 8, 44, 93], [1, 19], [1, 87, 14], [1, 73, 6, 34], [1, 30], [1, 6, 35, 6, 26], [1, 30], [1, 35, 42, 64], [1], [1, 33, 42], [1, 99], [1, 64, 44], [1, 58], [1, 73, 19, 29], [1, 61, 44], [1, 56, 4, 12], [1, 5, 49, 8], [1], [1, 8, 47, 37], [1, 28, 65], [1, 54, 66], [1, 61], [1, 21, 8, 52, 34, 6], [1, 10, 41, 26], [1, 17], [1], [1, 16, 38, 35], [1, 6, 43, 20, 29, 92], [1, 8], [1, 8], [1, 10, 8], [1], [1, 46], [1, 6], [1, 6], [1, 4, 32], [1, 21], [1, 6], [1, 35, 32], [1, 8], [1, 28, 30], [1], [1, 6, 60], [1, 28, 8], [1, 57], [1, 19], [1, 5], [1, 19, 14, 34], [1, 44], [1, 6, 40], [1, 40], [1, 8, 34, 6], [1, 87], [1, 30, 33, 34, 36, 10], [1, 8], [1, 30, 39, 10, 32, 86, 36, 65], [1, 29], [1, 6], [1, 59, 10, 59], [1, 69, 76], [1], [1, 40], [1, 30], [1, 20, 86, 57, 10, 20, 26, 19], [1, 61], [1, 8], [1, 25, 76, 64], [1, 72], [1, 66, 5, 5], [1, 78, 8], [1, 5, 35, 23, 12], [1, 4, 43, 73], [1, 28, 42, 42, 6, 5, 59, 88], [1, 19], [1, 32], [1, 41, 26, 33, 40, 42, 40, 42, 57], [1, 8], [1, 60, 43, 64, 44, 73], [1, 6, 30], [1, 6], [1, 35, 8], [1, 51, 8], [1, 59], [1, 97], [1, 25, 4], [1, 8, 10, 45, 10, 59], [1, 25, 31, 56], [1], [1, 17, 26], [1], [1, 6], [1, 15, 17], [1, 32, 8], [1, 16, 12], [1, 42], [1, 4, 21, 89], [1], [1, 42, 34, 6], [1, 38], [1], [1], [1, 5, 66], [1, 42, 34], [1], [1], [1, 69], [1, 57], [1], [1, 61], [1, 8, 12, 57], [1, 51, 8], [1, 69, 14], [1, 87], [1], [1], [1], [1, 26, 87, 87], [1, 42], [1, 79, 12, 18, 4, 32, 19, 19, 10, 34, 6], [1, 41, 36], [1, 8, 89], [1, 35, 26], [1, 34], [1, 28], [1], [1, 40, 65, 12], [1, 6], [1], [1, 34, 12, 32, 10, 51, 8], [1, 52, 4, 49, 4, 56], [1, 6], [1, 4, 32], [1, 77, 35, 6], [1, 4, 98], [1, 10, 65], [1, 33, 15], [1, 76], [1, 26, 87], [1, 16, 6], [1, 10, 6], [1, 8, 6], [1, 8, 12, 8, 73], [1, 62], [1, 8], [1, 12, 8], [1, 4, 30], [1, 42, 14, 52, 46, 59], [1, 41, 26, 5], [1, 8, 16], [1, 25, 68], [1], [1], [1, 6, 8], [1, 69], [1, 45], [1], [1, 5, 8], [1, 35, 8], [1], [1], [1], [1, 28], [1, 17], [1, 73, 4], [1, 8], [1, 21, 18], [1, 43, 5], [1], [1, 20], [1, 44], [1, 6, 42], [1, 57, 8], [1, 57, 92, 6], [1, 5], [1, 24], [1, 30], [1, 8], [1, 6, 66, 23], [1, 8, 26], [1, 15], [1, 18, 38], [1, 18, 38], [1, 23, 4, 12, 12, 18, 40], [1, 53, 8, 22], [1, 52, 8], [1], [1, 40], [1, 6], [1, 36, 80], [1, 41, 37], [1], [1, 4, 12, 10, 4], [1, 61], [1, 8, 6], [1, 43, 45, 89], [1, 44], [1, 69, 14], [1, 4, 69, 10], [1, 6, 41, 15], [1, 16, 30, 86], [1, 10, 22], [1, 20], [1, 35, 38, 73], [1, 31, 42, 16], [1, 49], [1], [1, 8, 78], [1, 53, 15, 22], [1, 59], [1, 42], [1, 90, 62], [1, 33, 8, 73], [1, 35, 66, 32, 6], [1], [1, 19, 73], [1, 12], [1, 20, 8, 22], [1, 5, 26], [1, 28], [1, 30], [1, 87, 26, 15], [1], [1, 6], [1, 33], [1, 6], [1, 5, 30], [1, 86], [1, 34, 6], [1], [1, 10, 4, 32], [1, 44, 93, 74, 5], [1], [1, 6], [1, 4, 69, 76], [1, 28, 42], [1, 23], [1], [1], [1, 41, 26], [1, 10], [1, 34, 6], [1, 60, 76], [1, 5, 8], [1, 20], [1], [1, 5, 30, 5], [1, 28], [1, 45, 4, 19], [1, 42], [1, 51], [1, 6, 8], [1, 18, 4, 38, 30], [1, 88], [1], [1, 6, 5, 62], [1, 6, 8], [1, 4], [1, 33, 8], [1, 8], [1, 33], [1, 20, 8, 22], [1, 34, 6, 8], [1, 10, 34, 64], [1, 15, 75], [1, 44, 93, 52, 98, 56], [1, 24], [1, 79, 29], [1], [1, 5, 66], [1, 54, 45, 46, 5], [1, 34, 6], [1, 6], [1, 84, 71, 42], [1, 36], [1, 10], [1, 5, 44, 51, 16], [1], [1, 23, 56, 73], [1, 8, 12, 78], [1, 44, 19, 15, 40], [1, 41, 26, 87, 8, 42], [1], [1, 72, 8], [1, 99, 76, 24], [1, 28], [1, 23, 66], [1, 30, 45], [1, 52], [1], [1, 8], [1, 5, 66], [1, 20], [1, 32, 19], [1, 1], [1], [1], [1, 44, 19, 81, 8, 57, 92], [1, 33], [1, 59, 41], [1, 26, 41, 4, 41, 41, 42], [1, 98, 44, 4, 57], [1], [1], [1, 88, 18, 52, 36, 26], [1], [1, 33, 41, 26], [1], [1, 88, 8, 57], [1, 78, 44, 34, 6, 8], [1, 53, 15], [1, 8, 55, 21, 8, 52, 6], [1, 75], [1, 5, 26], [1, 60, 29, 93], [1, 42], [1, 8], [1, 34, 12, 34], [1, 35, 5, 44, 93], [1], [1, 33, 42], [1, 6], [1, 65, 43, 25, 41, 42], [1, 45, 37, 57, 22], [1, 8], [1, 23, 34, 19, 71, 54], [1, 35, 26], [1, 23, 8, 73, 70], [1, 40], [1, 17, 46], [1, 72, 5], [1], [1, 69, 76], [1, 51, 19, 30], [1, 28, 8], [1, 42, 98, 14, 51, 25, 4], [1, 42], [1, 33, 5], [1, 44, 93, 23, 6], [1, 53, 8, 22], [1, 5], [1, 23, 59, 59], [1, 8], [1, 8, 17, 44, 93], [1, 98, 44, 93, 98], [1], [1, 6], [1, 21], [1], [1, 84, 84, 10, 34, 19], [1], [1, 53, 88, 22, 15], [1, 87, 41, 26], [1, 20, 8], [1, 19], [1, 30, 34, 19], [1], [1, 86], [1, 6], [1, 33, 30], [1, 38, 71], [1, 36], [1, 64, 65, 59], [1, 6, 30, 66], [1, 5], [1, 52, 18, 32, 19, 22], [1], [1, 15], [1, 33, 30, 66], [1, 42], [1, 4, 69, 76, 14], [1, 28, 98, 44, 93], [1, 78, 62, 14, 78, 8], [1, 34, 6], [1], [1, 81, 45, 65, 16, 17, 15], [1, 78], [1, 38], [1], [1, 44, 89, 52], [1, 44, 42], [1, 89, 8, 58, 92, 10, 20], [1, 78, 77], [1, 45, 8, 29], [1, 41], [1, 16], [1, 66, 5], [1, 4, 49], [1, 23, 8], [1, 73], [1, 23], [1, 8, 6], [1, 62, 65, 8, 32, 12], [1, 8, 16], [1, 16], [1], [1], [1, 8, 64], [1, 26], [1, 38, 8], [1, 31, 36, 8], [1], [1, 25, 31, 24, 76], [1, 34, 6], [1, 89, 44, 18], [1, 4, 17, 10, 18, 38], [1], [1, 18, 26], [1, 29, 73], [1, 8, 12, 78], [1, 18, 38, 57, 34, 27], [1, 10, 20], [1], [1, 30], [1, 19, 56, 26, 33, 8], [1, 16, 94, 17, 55, 42], [1, 30, 1, 4], [1, 34], [1, 31, 6, 60, 6], [1, 21], [1, 23, 8], [1, 5], [1, 26, 30], [1, 35], [1, 19, 29], [1, 8], [1, 44], [1, 18, 38], [1, 31, 32], [1, 61], [1, 87], [1, 44, 34, 6], [1, 10], [1, 61], [1, 8], [1, 6], [1, 15, 57, 92, 47], [1], [1, 59], [1, 6], [1, 14], [1, 40], [1, 59, 4, 40], [1], [1, 98, 14, 26, 41], [1, 12], [1, 16, 56, 4], [1, 21], [1, 32, 6], [1, 95, 4], [1, 28, 8], [1], [1, 83], [1, 79, 8], [1, 8, 21], [1, 8], [1], [1, 40], [1, 18, 72, 38, 6, 66], [1, 57, 92, 16, 15], [1, 47, 88], [1], [1, 34], [1, 76], [1, 17], [1, 19], [1, 67], [1, 44, 33], [1], [1, 18], [1], [1, 41, 26, 16, 94], [1, 18, 38], [1], [1, 6], [1, 94], [1, 8], [1, 37, 79, 56, 64, 99], [1, 41, 71, 26], [1, 51, 73, 78, 16, 19, 86], [1, 5, 30, 19, 29], [1, 8], [1, 8], [1, 19, 54, 5], [1, 8], [1, 18, 38], [1, 41, 60, 21], [1, 1, 5, 66], [1, 24], [1, 27, 78, 8, 6], [1, 34, 6], [1, 16], [1], [1], [1, 74], [1, 44, 5], [1, 5, 32, 1], [1], [1, 8], [1, 76, 94], [1, 6, 73, 66], [1, 10], [1, 5, 8, 51], [1, 13], [1, 41, 59, 41], [1, 78, 22], [1], [1], [1, 8, 71, 40], [1, 4, 30], [1, 32, 8], [1, 21, 94, 25, 4, 78, 10], [1, 53, 22, 89, 25, 18], [1, 49], [1, 73, 88], [1, 41, 26, 36], [1, 28, 16, 47, 5, 26], [1, 6, 15], [1], [1, 18, 72], [1], [1], [1, 6, 30, 66], [1, 40], [1, 60, 8], [1, 34, 4], [1, 26, 41], [1, 69, 76], [1], [1, 5, 26, 42, 4], [1, 40], [1], [1], [1, 6, 78, 35, 34, 5, 81, 14], [1, 6, 30], [1, 88], [1, 80, 75, 42, 39], [1], [1, 53, 22], [1], [1], [1, 22], [1, 44, 93], [1], [1, 54, 18], [1, 62, 42], [1, 34, 6, 58, 14], [1], [1, 26], [1, 66, 18, 43, 26], [1, 36], [1], [1, 44, 19], [1, 23, 38, 30], [1, 89, 58, 4], [1, 51, 21], [1, 75, 15], [1, 8], [1], [1, 40], [1, 36, 78], [1, 31], [1, 88], [1, 47, 5, 30], [1, 6, 8], [1, 66, 1, 33, 30, 18, 38], [1], [1, 74], [1], [1, 30], [1, 87], [1], [1, 18, 38, 8, 78], [1, 15], [1, 77], [1, 59, 19], [1, 4, 32], [1, 49, 12], [1, 12, 77, 59, 47, 59], [1, 58, 8, 66], [1, 53, 8, 53, 22], [1, 8], [1, 87, 30], [1, 36], [1, 58, 78], [1, 19, 42], [1, 30, 27], [1], [1, 6, 30], [1, 90, 66], [1, 10, 98], [1], [1, 4, 49, 4, 8], [1, 8, 19, 53, 22], [1, 73, 59], [1, 38], [1, 4, 27], [1, 8, 6], [1, 18], [1, 31], [1, 6, 25, 23, 49], [1, 5, 26, 39], [1], [1, 5, 74, 14, 12], [1, 89, 8, 66, 33], [1, 5], [1, 41], [1], [1, 75, 15, 31], [1, 41, 39, 36], [1, 52, 25, 4], [1, 46, 17, 8], [1, 8], [1, 6, 8], [1, 73], [1], [1, 44, 75], [1, 30, 40], [1, 59], [1, 41, 26, 75], [1, 32], [1, 59, 41, 6], [1, 25, 40], [1, 34, 52], [1, 15], [1], [1, 45, 14], [1, 5, 26, 66], [1, 28, 77], [1, 35], [1, 54], [1, 25, 38], [1, 35, 41], [1, 5, 73], [1, 39, 70], [1], [1], [1, 53], [1, 45, 65], [1, 19, 29, 8], [1], [1, 4], [1, 32, 8], [1], [1, 34, 36, 44], [1, 74, 5], [1], [1], [1, 30, 14, 4, 4], [1, 28], [1], [1], [1, 4, 25, 89], [1, 18, 37, 19], [1, 17, 15], [1, 34, 19], [1, 32, 8], [1, 41], [1, 40, 47, 19], [1, 44], [1, 25, 59], [1, 99, 40], [1, 8, 23, 6, 21], [1, 4, 49, 77], [1], [1, 42, 14], [1, 23, 8, 4], [1, 4, 66], [1, 40, 21], [1, 34, 19], [1], [1, 28], [1], [1, 31], [1, 8], [1, 44, 81], [1, 4, 8], [1, 68, 40, 8, 8], [1, 87, 26], [1, 59, 20], [1, 90], [1, 8, 31], [1, 89, 10, 20, 42, 22], [1, 44], [1, 6, 8], [1, 99, 8, 77], [1, 5, 34], [1, 8, 4, 8], [1, 20, 42, 41, 26], [1, 43, 10, 8], [1, 58, 71, 78, 8], [1, 89], [1, 73, 10], [1, 35, 5], [1, 54, 25, 4], [1, 30, 57], [1, 30, 6, 27], [1, 42, 18], [1, 20, 15], [1, 39], [1, 57, 57], [1, 5], [1, 5], [1, 83], [1, 5], [1, 6, 14], [1, 18, 38, 30], [1, 25, 4, 40, 5], [1, 32, 14], [1], [1, 12, 8], [1, 31, 8], [1], [1, 8], [1], [1, 34, 6, 8, 41, 59], [1, 44, 14], [1], [1, 40], [1, 34], [1, 8, 89], [1, 81, 8, 40], [1, 40, 39], [1], [1, 41, 26, 33, 19], [1, 20, 42, 89], [1, 18], [1, 92, 26], [1], [1, 18, 32], [1, 32, 64], [1, 8], [1, 76], [1, 16, 64, 10, 84, 5], [1, 6, 30], [1], [1, 45, 70, 68], [1, 12], [1, 31], [1, 5], [1, 33, 41, 44, 93], [1, 6], [1, 38, 73], [1], [1, 6], [1, 8, 51, 39], [1, 29], [1, 25, 49, 42, 36, 29], [1, 8], [1], [1, 4, 43, 18], [1, 14, 45], [1, 32, 57], [1, 40, 12], [1, 6, 40, 57], [1, 4, 40, 73], [1], [1, 57, 18], [1, 6, 8], [1, 44, 1], [1], [1], [1], [1, 5, 26, 71, 25, 4], [1], [1, 74, 52, 4, 6], [1, 5, 34], [1, 66, 6], [1, 6, 66], [1], [1, 28], [1, 32], [1, 45, 5, 8], [1, 42, 33], [1, 57], [1, 8, 32, 19, 5], [1], [1, 34, 57], [1, 44, 98], [1, 19], [1, 44, 93], [1, 16], [1, 30], [1, 95, 4], [1, 4], [1, 18, 38], [1], [1, 8, 35, 84, 19], [1, 8, 10], [1, 36, 36, 10], [1, 40], [1, 14, 23], [1, 5], [1, 5, 73], [1, 4, 32], [1, 16, 5, 30], [1, 32], [1, 58, 40], [1], [1, 44], [1, 59, 10, 10], [1, 8, 53], [1], [1, 4, 12], [1], [1, 8], [1, 18, 98, 17, 15, 80, 1], [1, 65], [1, 75], [1, 30, 56, 57, 40], [1], [1], [1, 89], [1, 15], [1, 5, 56, 66], [1, 58], [1, 35], [1, 33, 8], [1, 4], [1, 59], [1], [1, 32], [1, 87], [1, 34], [1, 44, 79], [1, 75, 30, 69, 76], [1, 14], [1, 69, 76], [1, 86, 12], [1, 86, 5], [1, 73, 20, 21, 8], [1, 18, 38], [1, 42, 92, 6, 41, 5, 5], [1, 35, 73, 5], [1], [1, 16, 5, 86, 20, 42, 22], [1, 34], [1, 42, 5, 14], [1, 48, 25, 19], [1, 10, 23], [1, 5, 26], [1, 86, 53, 29, 1], [1, 33, 42], [1, 33], [1, 32], [1], [1], [1], [1, 5, 65], [1], [1, 25, 86], [1, 44], [1, 4, 99, 70, 59], [1, 20, 42, 22], [1, 4, 4], [1, 55, 40], [1, 26, 41], [1, 81], [1, 33, 30, 66], [1, 17], [1, 30, 26], [1, 59], [1, 6, 8], [1, 4, 30], [1, 54, 30, 45], [1, 58, 68], [1, 45], [1, 75, 8], [1], [1, 28, 40, 10, 42], [1, 59, 29], [1, 5, 1, 77], [1, 73, 26, 19, 90, 30], [1], [1, 4, 21], [1, 39], [1, 5], [1, 76], [1, 41], [1, 25, 4], [1, 8, 6, 8, 25, 4], [1, 44, 8, 24], [1, 24, 13, 56], [1], [1, 34], [1, 88], [1, 39, 36], [1, 23, 78], [1, 86], [1, 8], [1, 34, 5], [1, 51, 26, 42, 64], [1, 8, 21, 58], [1, 6, 18, 16, 38], [1], [1, 47], [1, 37, 51], [1, 53, 22], [1], [1, 8], [1, 31, 68, 31], [1, 31, 25, 4, 13], [1, 8], [1, 42], [1, 42], [1, 12, 59], [1, 5, 8], [1, 34], [1], [1], [1], [1], [1], [1, 40, 41], [1, 35], [1, 73], [1, 40], [1, 39, 61], [1], [1, 4], [1, 8, 31, 55], [1], [1, 55], [1, 28, 6], [1, 16, 12, 30, 59, 88], [1], [1, 47], [1, 66], [1, 23], [1, 40, 30, 34, 6], [1, 47], [1, 49], [1, 14, 8, 4, 12, 8], [1], [1, 52, 24], [1], [1, 65], [1, 33, 30], [1, 88], [1, 30], [1, 8, 54, 8], [1, 20, 96], [1, 8], [1, 32], [1, 59, 21, 89, 41, 36, 59], [1, 56], [1], [1, 25, 57, 14, 26, 87], [1, 4, 69, 76], [1, 70, 45, 30], [1, 56], [1, 39, 8, 20], [1, 23, 73], [1, 8], [1, 4, 32, 71], [1, 16, 40], [1, 16, 61, 4, 32], [1, 59], [1, 10], [1, 61], [1], [1, 31, 59], [1, 88, 8], [1], [1, 65], [1, 37], [2, 7], [2, 63], [2, 7, 61, 21, 50, 87, 91], [2, 60], [2, 20, 7], [2, 7, 34], [2, 58], [2, 7, 5, 5], [2], [2], [2], [2, 7, 20, 29, 77], [2, 20], [2], [2, 64, 73, 7, 54, 64], [2, 50, 48], [2, 98, 58, 9, 22, 29], [2, 7, 50], [2], [2, 9], [2, 43, 9, 62], [2, 9, 56], [2, 64, 7], [2], [2, 9], [2, 9], [2, 86, 20], [2, 10, 20], [2, 28], [2], [2, 63], [2, 69, 76], [2, 76], [2, 5, 14], [2], [2, 55], [2], [2, 28], [2], [2], [2, 9, 49, 7], [2, 4], [2, 9, 18, 23, 7, 62, 62, 91, 62], [2], [2, 21, 4], [2, 4, 39, 36, 71, 12], [2, 85], [2, 74, 32, 53, 32, 22, 96], [2, 39, 4, 26], [2, 9], [2, 9, 4, 27, 9, 18], [2, 10, 22, 23, 10, 22], [2, 28], [2, 56, 57, 93], [2, 98], [2, 38, 10, 27], [2, 33, 85], [2], [2], [2], [2], [2, 10], [2, 43, 5], [2, 60], [2, 61, 7], [2, 10], [2], [2, 63], [2, 7], [2, 39, 19, 5], [2, 5], [2, 4, 16, 10], [2], [2, 6], [2, 18, 4, 55, 90, 57, 14], [2, 5], [2, 82, 25, 7, 29, 36], [2, 99, 7, 6], [2, 6, 9], [2, 67, 9, 10], [2, 88, 4, 7, 4, 7], [2, 45, 7, 92], [2, 22, 7], [2, 9], [2, 14], [2, 10, 77], [2], [2, 19], [2], [2, 47, 86, 27], [2, 72, 90], [2], [2], [2, 94], [2], [2, 9, 14], [2, 63, 70], [2], [2, 14], [2, 7, 5, 46, 77, 10], [2, 4, 43, 61], [2, 9, 17], [2, 50, 17], [2, 21], [2], [2], [2, 65, 16, 90], [2, 28, 37, 96, 7], [2, 25, 24], [2], [2, 50, 19, 25, 36, 74], [2, 4, 5], [2, 7, 37, 7], [2, 77], [2], [2], [2, 91], [2, 16], [2], [2, 16], [2, 6, 9, 6], [2, 7, 29, 27], [2, 9, 16, 35], [2, 27, 48], [2], [2], [2, 7, 46, 39], [2], [2, 48], [2, 4, 49, 7], [2, 9, 25, 4, 18, 21], [2, 7, 4], [2, 87, 20], [2, 6], [2, 9], [2, 25, 21, 98], [2], [2, 2, 27, 14, 31], [2, 80], [2, 60, 46], [2, 9], [2, 47, 49, 88, 32], [2, 69, 14, 47, 93], [2, 4], [2, 72, 19, 90], [2, 7, 85, 53, 96], [2, 29, 9], [2, 17, 9], [2, 50, 75], [2, 46, 7, 25, 18], [2, 39], [2, 23, 74, 48], [2], [2, 91], [2, 91], [2], [2, 53, 93], [2, 68, 31], [2, 82, 12], [2, 7, 47, 39], [2, 91], [2, 27, 48, 7], [2], [2, 4, 43, 22, 7, 39], [2, 5, 65, 18, 48], [2, 63], [2, 17, 9, 17, 5, 71, 4], [2, 60, 94, 94, 79, 17], [2, 52, 12, 7, 56, 82, 12, 10], [2], [2, 80, 9, 5, 58], [2, 7], [2, 5, 46], [2, 75, 46], [2, 9], [2, 54], [2, 97], [2, 85], [2], [2], [2], [2], [2, 21, 55], [2, 18], [2], [2], [2, 41], [2, 17], [2, 94, 38], [2, 33], [2, 64, 25, 48, 32, 4], [2, 23, 6, 48, 4, 70, 41], [2, 7], [2, 84], [2, 7, 4, 16, 32], [2, 7, 72], [2, 28], [2, 7, 17], [2, 17], [2, 9, 46, 98], [2, 72, 10, 17], [2, 7, 6, 26, 9], [2, 7], [2, 21], [2, 43, 48, 9], [2, 16, 4, 48, 25, 7], [2, 4, 43, 22, 96, 7, 88], [2, 18, 36, 4, 7, 32, 16, 4], [2, 65, 4, 16, 12, 51, 18], [2], [2], [2, 9, 6], [2], [2], [2, 93, 33, 9, 19, 7], [2, 6], [2, 69, 14], [2, 47, 39, 7], [2], [2, 85], [2, 91, 12, 78], [2], [2], [2, 7], [2, 4], [2], [2, 7], [2, 29], [2, 45, 7], [2, 54], [2, 65], [2, 18, 37, 65], [2, 23], [2], [2, 69, 14], [2], [2, 53, 25, 27], [2, 16, 29], [2, 87], [2, 4, 21], [2, 48, 9, 4], [2, 18, 21, 5, 29], [2, 5, 29, 9, 6, 9, 10, 22, 29], [2, 9, 6, 63, 10], [2, 9], [2, 7], [2, 89, 7], [2], [2, 17, 7, 17], [2, 17, 17, 50, 49, 10, 17], [2], [2], [2], [2, 50], [2], [2, 35], [2], [2], [2, 7], [2, 7], [2, 81], [2, 4], [2, 55, 94], [2, 60, 54], [2, 4], [2, 19], [2, 5, 7, 12], [2, 10, 20, 82, 22, 10, 21], [2, 6], [2, 62, 28], [2, 33, 33, 33, 9], [2, 20], [2, 54, 9], [2], [2, 80], [2, 74, 19, 89, 74], [2], [2, 9], [2, 5], [2], [2, 12, 54, 7], [2], [2, 7, 16], [2, 4, 21, 31], [2, 70], [2, 4], [2, 91, 19, 10, 27], [2, 50, 17], [2, 16, 17], [2, 21, 25, 4], [2, 17], [2], [2, 67, 20, 14], [2, 37], [2, 10, 10], [2, 40, 94, 62, 62, 12, 32], [2, 82, 22, 96], [2], [2, 63, 84, 92], [2, 25, 4, 43, 36, 46, 9, 6, 46, 67, 9], [2, 38, 9, 82, 32], [2, 7], [2, 9], [2, 43, 10, 71, 10], [2], [2, 85, 92, 16, 63], [2, 85], [2, 9], [2, 82, 45, 7, 80], [2, 85, 31, 53, 7], [2, 7, 21, 55, 89, 49, 49], [2, 10, 65, 19, 39], [2, 7], [2], [2], [2, 31, 48], [2, 21], [2, 16], [2, 63, 9, 19], [2, 16], [2, 7], [2], [2, 28], [2], [2, 7, 12], [2, 37], [2], [2], [2], [2, 7, 75], [2, 75, 12, 92], [2, 4, 96, 4, 69, 14], [2, 7], [2, 4, 63], [2, 4, 32], [2, 7, 9], [2, 63, 12], [2, 14, 4], [2, 4, 48], [2, 4, 21], [2, 4, 10], [2, 16, 5], [2, 92], [2, 72], [2, 47], [2], [2], [2, 21, 17, 56, 49, 75, 82], [2], [2, 36, 64], [2, 54, 7], [2, 21, 28, 17, 82, 7], [2], [2, 18, 25], [2, 43, 20, 63, 74], [2, 55], [2, 79], [2, 4, 79, 7, 7], [2, 38, 7, 5, 82], [2, 31], [2, 10, 20, 82], [2, 39], [2, 54, 50], [2, 72, 90], [2, 84, 63], [2, 7], [2, 79, 97], [2, 78, 63, 4], [2, 70, 94], [2, 4, 49, 49, 63], [2, 23], [2, 91, 47, 39, 62], [2, 63, 4, 16, 32, 91], [2], [2, 48], [2, 5, 49, 7, 5, 50], [2, 7], [2, 16, 85], [2, 7, 68], [2, 39], [2, 7, 49, 49, 68], [2, 37, 31, 68, 24], [2, 43, 34], [2, 32, 67], [2, 25, 89], [2], [2, 9, 34], [2, 38, 7], [2, 48], [2, 85], [2, 62, 10, 63], [2, 20], [2, 43, 20, 9, 12, 74, 93, 37, 29], [2, 31, 31], [2, 5], [2], [2, 65, 46], [2, 89], [2, 84, 62, 19], [2, 5, 23, 77], [2, 5, 28, 9, 90], [2, 71, 45, 9, 43, 33], [2, 5, 5], [2, 9, 81], [2], [2], [2], [2, 25, 4], [2, 16], [2, 33], [2, 36], [2, 19], [2, 64], [2, 16, 7], [2, 18], [2, 7, 35, 14], [2, 7, 16, 17], [2, 21], [2, 7, 17], [2, 12, 89, 87], [2], [2, 7, 33, 60, 37, 38, 7], [2, 7, 28, 78], [2, 88], [2, 29], [2, 50, 17], [2, 25], [2, 17, 18, 4, 77, 13], [2, 40, 7, 19, 17, 50, 17, 12, 29], [2], [2, 17, 16, 12, 9, 17, 4, 10, 25], [2, 18, 76, 14, 7], [2, 69, 14, 18, 38, 22, 48, 9], [2, 81, 52, 65], [2], [2, 5, 28, 48], [2, 4, 75], [2, 50, 21, 75, 32], [2, 52, 51], [2, 16, 9, 39, 70, 74], [2, 5], [2, 91, 4, 39, 9], [2, 17], [2, 68, 7, 23, 17, 19], [2], [2, 50, 7], [2, 12], [2, 5], [2, 91], [2, 95, 4, 55, 4, 12, 4, 99, 10, 9, 90, 14], [2, 17, 9], [2], [2, 91, 4, 50], [2, 21, 5], [2, 4], [2, 48, 10], [2, 9, 40], [2], [2, 94], [2, 10, 7, 61], [2, 79, 60, 50, 17], [2, 21, 17], [2, 60, 58], [2, 9], [2], [2, 65, 50], [2, 70], [2], [2, 9, 6], [2, 7, 87, 43, 36], [2, 21, 77], [2, 77, 12], [2, 91, 12], [2, 74, 69, 14], [2, 17, 7], [2, 49, 60], [2, 68, 56, 49, 29], [2, 20], [2, 29, 21, 17], [2, 50], [2, 50, 25], [2, 31, 18, 6, 71], [2, 7, 6, 28], [2, 96, 84, 82, 10, 20, 81, 92], [2, 7, 48, 4, 96], [2, 7, 98, 62], [2, 7], [2, 56, 79], [2, 18, 60, 21], [2], [2, 9, 31, 48], [2, 7, 62, 46], [2, 7, 16, 51], [2, 48], [2, 16, 7, 82], [2, 4], [2, 7, 5, 93], [2], [2, 9], [2, 9], [2, 9], [2], [2], [2, 23, 19], [2], [2, 68, 9], [2, 46, 9], [2, 14, 9], [2, 9], [2], [2, 63, 91, 74], [2, 5], [2, 90], [2, 22, 96, 93], [2, 22, 96], [2, 54, 17], [2, 25, 18, 45, 13], [2, 17, 17, 48, 7], [2, 23, 48, 16, 16, 17], [2, 74], [2], [2, 18, 4, 39], [2, 17, 21], [2, 7], [2, 63, 23, 10, 18, 6], [2], [2], [2, 4, 56, 7, 23, 40], [2], [2, 7], [2, 84, 79], [2, 6], [2, 16], [2, 6, 16, 19], [2, 7], [2, 45, 56], [2, 7], [2, 77, 9], [2, 74, 91], [2, 48, 7], [2, 9], [2, 9], [2, 4, 41, 9], [2, 92, 9], [2, 46], [2, 74, 9, 52, 20, 21, 92], [2, 10], [2, 61, 9, 18, 84, 86, 34, 9], [2], [2, 10, 22], [2, 4, 43], [2, 17, 9, 22, 29], [2, 17, 19, 17], [2, 7, 17, 91, 17, 46], [2, 48, 5, 12, 49, 12], [2, 17], [2, 75], [2, 50, 17], [2], [2, 20, 24, 88], [2, 23, 7, 4, 79], [2, 7], [2], [2, 9], [2, 10], [2, 37, 19, 4, 32], [2], [2, 12, 25], [2], [2, 12, 47], [2, 51, 28], [2, 9, 75, 29, 7, 12], [2], [2, 60, 75], [2, 75, 9], [2, 4], [2, 95, 4], [2, 9, 77], [2, 45, 7, 60], [2], [2, 23, 39], [2, 50, 32], [2], [2, 6], [2], [2], [2, 7, 31], [2, 91, 70, 45, 13], [2, 21, 14, 9, 86], [2, 7], [2, 4, 21], [2, 17], [2, 55, 14, 21], [2, 10, 22], [2, 55, 62, 30], [2, 29, 46], [2, 63], [2, 62], [2, 62, 85], [2, 41, 12, 18, 16, 79, 19], [2, 35], [2], [2, 7, 7], [2, 21], [2], [2, 7, 94], [2, 85], [2], [2], [2, 23, 56, 9, 49], [2, 4, 69, 14, 9], [2, 19], [2, 63, 99, 7, 43, 71, 4, 49], [2, 27], [2], [2], [2], [2, 63, 16], [2, 6], [2, 4], [2, 88, 84, 92, 28, 80], [2, 19, 14, 63], [2, 40, 7], [2, 77, 32], [2], [2, 9], [2], [2, 9, 6, 9], [2], [2, 50], [2], [2, 4, 9, 6], [2, 9], [2, 79, 25, 39, 19], [2, 16, 4, 99, 4, 31], [2, 60, 35, 91], [2, 22, 6, 85], [2, 9, 6], [2, 55, 9, 9], [2, 10, 20], [2], [2, 9], [2, 9], [2], [2], [2, 7, 25, 4, 21], [2, 9, 74, 89, 55, 55], [2, 50, 36], [2, 7, 33], [2, 62, 10, 48, 7, 43, 71], [2, 94, 9], [2, 50, 48], [2, 4, 90, 60], [2, 33], [2, 52, 5], [2, 23, 6], [2], [2], [2, 12], [2, 28, 10], [2], [2, 29, 41, 49], [2, 29, 9], [2, 23, 6, 19], [2, 21, 87, 14], [2, 32, 10], [2], [2, 5], [2], [2, 9], [2, 7], [2], [2, 12, 10, 71], [2], [2, 70], [2], [2], [2, 27, 48], [2, 33, 9], [2], [2, 23, 64, 28], [2, 9, 37, 39, 84], [2, 5, 7, 16], [2, 5, 9, 6], [2, 72, 10, 36, 96], [2, 84, 10, 10, 51], [2, 6, 7], [2], [2, 4, 48, 7], [2, 17, 90], [2, 88], [2, 9, 12], [2, 10], [2, 77], [2], [2], [2, 19, 17], [2, 88], [2, 73, 17], [2, 17, 14], [2, 9, 94], [2], [2, 52, 17], [2, 19], [2, 9], [2, 10, 53, 14], [2, 18, 18], [2], [2, 37], [2, 62, 14, 48], [2], [2, 18, 20, 46], [2, 84], [2, 9], [2, 89, 9], [2, 7], [2, 54], [2, 36, 82], [2, 4, 69, 14, 76, 10, 17], [2, 7], [2, 9], [2, 62, 10, 82, 96], [2, 4, 21, 7], [2, 7], [2, 90, 14], [2], [2], [2, 5], [2, 35], [2, 7], [2, 6], [2], [2, 5], [2, 62], [2, 10, 82, 48, 37], [2, 94, 78], [2, 7], [2, 7, 60], [2, 91], [2, 9], [2, 9, 38], [2, 5, 91, 50, 23, 5], [2, 5, 9, 6, 28], [2, 85, 6], [2, 54], [2, 7], [2, 36, 36], [2, 47, 5, 45], [2], [2], [2], [2, 50], [2, 36, 64], [2, 9], [2, 14, 28, 4], [2, 9], [2, 9, 5], [2, 10, 20], [2], [2], [2, 9, 19, 29, 50, 5, 12], [2, 52], [2, 7], [2, 46, 54], [2, 7, 23], [2, 43, 71, 71], [2], [2], [2, 7], [2], [2, 6, 9, 64], [2], [2, 74, 71, 7, 7], [2, 7, 7, 50], [2, 23, 20, 22], [2, 95, 4, 7], [2, 9, 29], [2, 9, 77], [2, 9, 4, 77, 64], [2], [2, 91, 4, 46], [2, 90, 10, 14], [2, 24], [2, 7, 10, 7, 29, 19], [2, 7], [2, 16], [2, 28, 82, 82, 10, 46], [2, 99, 74, 10], [2], [2, 9], [2], [2, 9, 36], [2, 9, 19, 10, 20, 96], [2], [2, 17], [2], [2, 7, 19], [2, 54, 64, 5], [2], [2, 88, 22, 50, 85, 63], [2, 12], [2], [2, 53], [2, 50, 12, 17, 77, 74, 93, 12], [2, 85, 4, 4, 9], [2, 13, 5, 9], [2, 53, 10], [2, 9], [2, 25, 36, 93, 84], [2, 9, 46], [2, 9], [2, 9, 84], [2, 7, 33, 9], [2, 85, 40, 10], [2, 21, 7], [2, 9], [2], [2, 27], [2, 50], [2, 63, 19, 64, 49], [2, 23, 5], [2], [2, 98, 14, 7], [2, 17, 55], [2, 10, 12, 57, 71, 52, 28, 92], [2, 47, 9, 29, 14], [2, 9, 50, 4, 46], [2, 7, 14, 67], [2, 84], [2, 28], [2, 48, 67, 86, 92], [2, 48], [2, 97, 52], [2, 93], [2, 61, 25], [2], [2, 91, 94, 94, 92], [2, 4, 69, 14], [2, 10, 53, 82, 22, 96], [2, 4, 79, 49, 7, 10, 76], [2, 10, 53, 22, 96], [2, 52, 31, 17], [2, 7, 10, 34, 22], [2, 54, 25, 99, 82, 77], [2, 6, 41, 4, 38, 7, 56], [2, 43, 10, 20, 82, 22], [2, 6], [2, 68, 50, 5], [2], [2, 12, 17, 58, 7], [2, 62, 10, 29], [2], [2, 50], [2, 54], [2, 49, 49, 7, 12, 85], [2, 60, 27, 85], [2, 69, 14], [2, 4, 7], [2, 95, 4, 47, 67], [2, 20, 7, 95, 4], [2, 22, 58], [2, 29], [2, 9], [2, 33, 6], [2, 7, 92], [2, 63, 21], [2, 10], [2, 6, 7], [2, 23, 85, 50], [2, 9, 48, 4], [2, 46], [2], [2, 85], [2, 54], [2], [2, 91], [2, 25], [2, 65, 5, 9], [2, 67], [2], [2, 4, 10, 22, 96, 4, 7], [2, 65], [2, 50, 7], [2, 9], [2, 10, 22, 96, 93], [2, 88], [2], [2, 9, 82], [2, 9], [2, 4, 79], [2, 67, 58], [2, 7, 16], [2, 10, 82], [2, 77, 16, 5, 46, 12], [2, 85, 37, 16], [2, 4, 12, 82, 75], [2, 45, 14, 38], [2, 9, 58, 71], [2, 20], [2, 37, 70], [2, 4, 21, 69, 14], [2, 10, 74], [2, 4, 21], [2, 47, 5, 50, 9], [2, 16, 4, 38], [2, 10, 82, 22, 96], [2, 91, 91], [2], [2, 10, 53, 7, 57, 17], [2, 4, 51, 7, 21, 74, 7], [2, 25, 22, 12], [2], [2, 50, 12, 17], [2, 7, 65, 37, 96], [2, 9], [2, 4, 16, 58], [2, 33, 9], [2, 9, 97, 78, 9], [2, 7, 47, 17], [2, 63, 21, 5, 17], [2, 85], [2, 39, 39, 9, 12], [2, 96, 7], [2, 17, 63, 17, 85, 17, 50], [2, 16], [2], [2, 12, 9], [2, 98, 14, 4, 48], [2, 85, 10, 63, 96, 82, 92], [2, 7, 98, 14, 7], [2, 7], [2, 79, 63, 19, 32], [2], [2, 63], [2, 96, 10, 52, 29, 80], [2, 37, 63, 5], [2, 58, 63, 58, 22], [2, 28, 21], [2, 7, 6], [2, 58], [2, 85, 23], [2, 71, 12, 82, 12, 7], [2, 7], [2, 27], [2, 9, 23], [2, 10, 7, 37], [2], [2, 82, 12, 36, 43, 80, 9], [2, 43, 9, 12], [2], [2], [2], [2, 63], [2, 5], [2, 17, 4, 26, 86, 36, 9], [2, 7, 60, 45], [2, 51, 64], [2], [2], [2], [2, 50], [2], [2, 9], [2, 9, 74, 93], [2], [2, 9], [2, 63], [2, 72, 90, 9], [2, 9, 77], [2, 14, 9, 79, 52], [2, 56, 9], [2], [2, 9, 86], [2, 10, 82, 10], [2, 4, 69, 14], [2, 52, 6], [2, 33, 85, 50, 77, 9], [2, 51], [2, 58, 16, 14, 65], [2, 19, 7], [2, 10, 43, 9], [2], [2, 7, 5], [2, 96, 7, 72, 38], [2], [2, 52], [2, 38], [2, 7], [2, 48, 74], [2, 91], [2], [2], [2, 6], [2, 12, 85], [2, 37, 7], [2, 51], [2, 9, 32], [2], [2, 17], [2, 10, 69, 76], [3, 13], [3, 5], [3], [3], [3, 6], [3, 99], [3, 4], [3, 12, 25, 29, 14], [3, 6], [3, 6], [3, 15], [3, 18, 27, 24], [3, 22, 55, 52], [3], [3, 47], [3], [3], [3, 60, 15], [3, 13, 90, 14], [3, 12], [3], [3, 11, 67], [3, 15, 23], [3, 25], [3], [3, 64, 5], [3, 37], [3, 6, 83], [3, 31, 11, 11, 12], [3, 53], [3, 23, 12], [3, 12], [3, 13, 25], [3, 12, 5, 13, 11, 77], [3, 12, 13], [3, 26], [3, 5], [3, 87, 15, 29, 12, 62, 14, 81], [3, 45], [3, 15], [3], [3, 5, 56, 18], [3, 5, 4, 99], [3, 6, 15], [3, 53, 71], [3, 65, 12], [3, 17, 11], [3, 5, 64], [3, 99, 27], [3], [3, 35], [3, 81, 97], [3, 5], [3, 10, 4, 11], [3], [3, 83, 6, 11], [3], [3, 39, 12], [3, 64], [3], [3, 43, 68], [3, 13], [3], [3, 72, 27, 24], [3, 13], [3, 6, 11, 15], [3, 6, 14], [3, 24, 14, 52, 67], [3, 51, 11, 37], [3, 6, 46, 6], [3, 57], [3, 16, 16, 5, 14], [3, 15], [3, 31, 94], [3, 13, 18, 4, 40], [3, 19], [3, 57, 17, 15], [3, 5, 19], [3, 14, 47, 5], [3, 39, 5, 11, 70], [3, 12, 4], [3, 13, 12, 57], [3], [3, 13], [3, 12], [3, 28], [3, 87, 29], [3, 55, 11, 67], [3], [3, 54], [3, 80], [3, 12, 16], [3, 37, 37, 22], [3, 20], [3, 55], [3, 37, 27], [3, 24], [3, 11], [3, 5], [3, 16, 5, 11], [3, 27], [3, 5, 65], [3, 20, 66], [3], [3, 10, 36], [3], [3, 11, 51, 6], [3], [3, 27, 24], [3, 5], [3, 74, 5], [3, 97, 11, 4], [3, 16, 72, 90], [3, 35], [3, 5], [3], [3, 47], [3, 36], [3], [3, 39, 77, 41, 13, 80], [3, 4, 79, 13, 11, 22], [3, 53, 15], [3, 15, 83], [3, 20, 53, 20, 22], [3, 31, 5, 13, 16], [3, 36], [3, 13, 4, 99, 69, 14, 17], [3, 11, 15], [3, 18, 4], [3, 72, 90, 14], [3, 13, 46, 11], [3, 33], [3, 5, 11], [3], [3, 5, 74, 21], [3, 6, 5, 62], [3], [3, 10, 20, 11], [3, 16, 84, 18, 28], [3, 37, 29, 16, 6], [3, 4], [3, 4, 83, 97], [3, 61, 11, 15], [3, 39, 4], [3, 35, 12, 11], [3, 13, 19], [3, 11, 26, 70, 15], [3, 15, 60, 71, 11], [3, 57], [3, 97], [3, 81, 64], [3, 6], [3, 68], [3, 81], [3, 6, 26], [3, 83], [3, 88, 52, 19, 19], [3, 45, 14, 16, 33, 70, 92], [3, 13, 5], [3, 54], [3, 81, 24, 52], [3], [3], [3], [3, 37], [3], [3, 13, 10, 20], [3, 4, 27, 5, 11], [3, 37, 17], [3], [3, 23], [3, 16, 89, 64], [3, 83], [3], [3, 54, 23, 29, 67], [3, 27, 24], [3, 15], [3], [3, 72, 13, 24, 62], [3, 68, 10], [3], [3, 23, 24, 12], [3], [3], [3, 28, 13, 99], [3, 23], [3, 11, 25], [3], [3, 16, 12], [3, 23, 29, 5], [3, 11], [3], [3, 10], [3], [3, 16, 20], [3, 20, 13, 27], [3], [3, 37], [3, 83], [3, 90], [3, 5, 13, 62, 25], [3, 11, 6], [3, 4], [3, 6], [3, 15, 83], [3, 5], [3, 45, 14, 13], [3, 53, 80, 22], [3, 13], [3], [3, 37, 18], [3, 68, 4, 14], [3], [3, 95, 4, 27, 24], [3], [3, 5], [3, 5], [3], [3, 90, 66], [3, 11], [3, 4, 48], [3, 15], [3], [3, 70], [3, 56, 17], [3], [3], [3, 49, 97], [3, 23], [3, 13, 45, 67], [3, 80, 29, 13], [3, 11, 4, 17, 56, 71], [3], [3, 51, 52], [3, 6, 13], [3], [3, 19], [3, 55, 18, 67], [3, 27, 24], [3, 33, 15], [3, 4, 69, 14, 76], [3], [3, 14], [3, 4, 23], [3, 12, 25, 4, 13], [3, 68, 10], [3], [3, 39, 36, 13], [3, 56], [3, 15, 95, 4, 70, 24], [3, 16, 6, 71], [3, 94], [3], [3, 4, 43, 18, 13, 29], [3, 5], [3, 15, 47], [3, 15], [3, 19, 18], [3, 79, 49], [3], [3, 13], [3, 22], [3], [3, 5, 15], [3], [3], [3, 15], [3, 86, 11, 14], [3, 5], [3, 61], [3], [3, 27, 11], [3, 4], [3, 13, 83], [3, 83, 5], [3, 36, 21], [3, 15], [3, 4], [3, 43], [3, 47], [3, 61], [3, 15], [3], [3, 13, 26, 26], [3, 18, 72, 38, 19], [3, 6], [3], [3, 25, 36], [3, 13, 67], [3, 61, 13], [3, 57, 37, 51, 84, 97, 81], [3, 4, 79], [3, 6, 11], [3, 61, 95, 4, 24], [3, 4, 79, 25], [3, 31], [3, 27, 79, 14], [3, 28, 54, 90], [3, 37, 13], [3, 11, 33, 15, 5], [3, 5, 5, 11], [3], [3, 25, 84], [3, 11, 16], [3, 5], [3, 37, 48], [3, 37, 22, 27, 24], [3, 39, 12, 27, 24, 4, 31, 15, 37], [3], [3, 5], [3, 11], [3, 81], [3, 11, 5], [3, 37, 70, 24], [3, 6, 11, 66, 26, 29], [3], [3, 13, 4], [3, 24, 5, 24], [3, 58, 97, 4, 27], [3, 29], [3, 15], [3, 23, 53, 22], [3, 15, 11, 5], [3, 67], [3, 13], [3], [3, 95, 4, 61], [3, 25, 49, 36, 52, 5], [3, 27, 86, 84, 37, 96], [3, 51, 51], [3, 4], [3, 5, 24], [3, 15], [3, 54], [3, 28, 13], [3, 6, 15, 11], [3, 45], [3, 51, 61], [3, 11], [3, 94, 13], [3, 94], [3, 20, 6], [3, 12], [3, 90], [3, 53, 96], [3, 47, 5], [3, 13, 12, 36], [3], [3], [3, 14, 11], [3, 68], [3, 75], [3], [3, 4], [3], [3, 5, 74], [3, 13], [3, 11], [3, 20, 22, 93], [3, 35], [3, 11], [3, 60, 20, 11, 22], [3, 47, 18, 55], [3, 72, 24], [3, 6], [3, 11, 4, 11], [3], [3, 18, 24], [3, 6, 6], [3], [3], [3], [3], [3, 46, 12, 28], [3, 20], [3, 20, 86], [3, 24, 76, 51], [3, 13, 67], [3], [3, 83, 10, 21, 45, 68], [3, 95, 4, 24], [3, 6], [3, 15, 72, 38], [3, 11, 75], [3, 37, 22, 27, 24, 84, 71], [3, 4, 38], [3, 24, 62, 14], [3, 13, 10, 11], [3], [3, 24, 14], [3, 99, 11, 13], [3, 38, 13], [3, 80, 6], [3, 45, 80], [3, 15, 33, 47], [3, 11, 94, 12], [3, 10, 71, 22, 27, 12], [3, 6], [3, 15, 35, 48], [3, 15], [3, 10], [3, 61, 26, 11], [3, 4, 79], [3, 6, 13, 60], [3, 45, 22], [3], [3, 72], [3, 11, 16, 5, 51], [3, 15], [3, 69, 14], [3, 4, 79, 20], [3], [3, 15], [3, 95, 4, 61], [3, 60, 17, 15, 11], [3, 52], [3], [3, 16], [3, 45, 14, 70, 43], [3, 35, 21, 60, 83], [3, 54, 35], [3, 64], [3, 4, 21], [3, 12, 13, 43], [3], [3], [3, 5], [3], [3, 57], [3, 22], [3, 37], [3], [3, 15, 83], [3, 68, 68], [3], [3, 88], [3, 72, 24], [3, 12, 12], [3], [3], [3], [3, 28, 27, 24], [3], [3, 94], [3], [3], [3, 24], [3], [3, 11, 56, 46], [3, 6], [3, 4, 43, 70, 24], [3, 11], [3, 86, 72, 5, 11, 17, 11, 17, 11], [3], [3, 17], [3, 22], [3, 11, 5, 62], [3, 43, 6], [3, 20], [3, 13], [3, 72, 90], [3, 56], [3, 14, 78], [3, 53], [3, 16, 35], [3, 11], [3, 4, 43, 24, 11], [3, 68, 68, 31, 11], [3, 28], [3, 45], [3, 5], [3, 10, 25, 40], [3, 6], [3, 4, 69, 14], [3, 18, 39, 27], [3], [3], [3, 19, 23], [3, 18, 97], [3], [3, 4], [3, 13, 92], [3, 72], [3, 11, 20], [3, 24], [3, 4], [3], [3, 43, 24, 98, 14], [3, 5], [3], [3, 24, 84], [3, 39, 5, 25], [3, 64], [3], [3], [3], [3, 23, 16, 5, 47], [3, 45, 80], [3, 14], [3], [3, 23, 67], [3, 11], [3, 55, 56, 5, 13], [3], [3, 83], [3, 18, 38, 13], [3, 4], [3], [3, 75, 15], [3, 61], [3, 4, 39, 28, 29], [3], [3, 86, 20, 22], [3, 23], [3, 54], [3, 11, 5, 11], [3, 31], [3, 45, 35, 83], [3, 43, 27, 24], [3, 95, 4, 61], [3, 65], [3, 4, 27], [3], [3, 45, 14], [3, 67], [3, 55, 11, 68], [3, 46], [3, 21], [3, 45, 14, 4], [3, 23, 35], [3, 54, 5], [3, 13, 58, 46], [3, 20, 13], [3, 28, 11, 99, 13], [3, 75], [3, 33, 78], [3, 18], [3, 6, 6, 6, 67], [3, 53, 22], [3, 20], [3, 67], [3, 68], [3], [3, 95, 4, 70, 24, 21], [3, 70], [3, 56], [3, 14, 27, 24], [3, 21, 64], [3], [3, 81, 45, 14, 25, 26, 11, 15], [3, 16, 38, 13, 27, 13], [3, 35], [3, 18, 38], [3], [3, 80, 5], [3, 79, 12], [3], [3, 43, 56], [3], [3, 13], [3], [3, 58], [3, 5, 14], [3, 13, 6], [3, 6], [3, 37, 27, 24, 13, 37, 22, 13], [3, 24, 21, 39], [3, 11], [3], [3], [3], [3, 87, 26, 19], [3], [3, 23, 81, 24, 97, 33, 15], [3, 35, 97, 84], [3, 5, 46], [3, 61], [3, 15, 5, 36], [3, 23, 83], [3, 15, 35], [3], [3], [3, 77, 11, 27], [3], [3, 68], [3, 6, 11, 6, 15, 83], [3, 24], [3, 39, 26], [3, 6], [3], [3, 6, 13], [3, 83], [3, 12, 37, 11], [3, 47], [3, 35], [3, 23], [3, 51, 48, 22], [3], [3, 16, 21, 20], [3, 5, 76], [3, 10], [3, 51, 68, 13, 68, 11], [3, 23, 20], [3, 5, 6, 11, 6, 15], [3, 25, 4], [3, 11, 5], [3], [3], [3, 29, 46, 10, 61], [3], [3, 16, 16, 58, 10], [3, 13, 92], [3, 51, 72], [3, 11], [3], [3, 67], [3, 12], [3], [3, 16, 99, 49, 80, 5, 10], [3], [3], [3], [3], [3, 99, 11, 70, 49, 97], [3, 47, 13], [3], [3, 20, 15, 78], [3, 49, 36, 10], [3, 14, 51, 10], [3, 83, 58], [3, 11, 6, 52, 97], [3, 16, 5], [3], [3], [3, 81], [3], [3, 27], [3, 26, 6, 15, 11], [3], [3, 5], [3, 5], [3], [3, 83], [3, 4, 18], [3, 13], [3, 17, 80], [3], [3, 11, 20], [3, 6, 11], [3, 95, 4, 70, 24], [3, 61], [3, 6, 13], [3, 31], [3, 39], [3], [3, 19], [3], [3, 23, 47], [3, 80], [3, 6], [3, 28, 67], [3], [3, 83], [3, 6], [3], [3, 5], [3], [3, 14, 21, 81], [3, 89, 32, 13, 16, 66], [3], [3, 27], [3, 95, 4], [3, 13], [3, 6], [3, 15, 11], [3], [3, 4, 27, 24], [3, 53, 22], [3, 6, 13, 38], [3, 15], [3], [3, 14], [3, 67], [3, 5, 11, 6], [3, 5], [3], [3, 29], [3, 35], [3, 67, 20, 22], [3, 5, 11, 5, 15], [3, 67], [3, 95, 4, 24], [3, 72, 24], [3, 33, 19], [3, 86, 5], [3, 15], [3, 39, 55, 13, 67, 61], [3], [3, 55, 37, 24], [3, 11, 72, 66], [3, 81], [3, 4, 16], [3, 70, 62], [3, 35], [3, 83, 21, 11], [3, 32], [3], [3, 18, 38], [3, 15, 21, 27, 12, 12], [3, 16, 31, 75], [3, 52], [3, 65], [3, 57], [3, 4, 27], [3], [3, 35, 6, 20], [3, 16, 35], [3], [3, 10], [3, 78, 70, 61, 54], [3], [3], [3, 11, 6], [3], [3], [3, 6, 11, 15], [3, 10, 35, 65, 4], [3], [3, 23], [3, 15, 5], [3, 11, 97], [3, 72, 10, 95, 4], [3], [3, 12, 11, 15], [3, 23], [3, 37, 24, 18, 4, 38], [3, 23, 17], [3, 80, 11, 83, 15], [3, 28], [3, 37], [3], [3, 46], [3, 98, 98, 56, 13], [3, 5, 46], [3, 24], [3, 15, 12], [3], [3], [3, 31], [3, 29], [3, 51], [3], [3, 4], [3, 64, 14, 31, 27], [3, 65, 4], [3, 72], [3, 68, 31, 31, 57], [3, 6, 13], [3, 5], [3, 15, 87, 35], [3, 11, 5, 15, 5, 5], [3, 13, 11], [3, 12], [3, 15, 17], [3], [3, 12], [3, 10, 18, 27, 24], [3, 67], [3, 5, 11], [3], [3, 87, 26], [3, 6, 14], [3, 11, 55, 74], [3, 15], [3, 67], [3, 46], [3, 5], [3, 12], [3, 17], [3, 5], [3, 47, 80], [3, 31], [3, 73, 21], [3, 5, 46], [3, 13], [3], [3, 24], [3, 4, 84, 55, 13, 54, 47, 19], [3, 35, 21], [3, 6, 83, 15], [3], [3, 11], [3, 12, 81, 5], [3], [3, 34], [3, 5, 70, 13, 13], [3, 16, 5], [3, 13, 6], [3, 11], [3, 31, 13], [3], [3, 15, 83], [3, 60], [3, 13, 35], [3], [3, 13, 46], [3, 25], [3, 81, 48, 21, 97, 11], [3, 20, 65], [3, 45, 14, 22, 81, 67, 80, 52, 71], [3, 29, 97, 18, 13], [3, 15, 75], [3, 13, 16], [3], [3, 28, 13], [3, 55], [3, 11, 75], [3], [3], [3, 13], [3, 72, 18], [3, 69, 76], [3, 28, 11, 35, 60], [3], [3, 15], [3, 95, 4, 22, 27], [3, 11, 26], [3, 66, 43, 13, 18, 39], [3, 15, 20], [3, 28], [3], [3, 87, 15], [3, 10, 11, 90], [3, 20, 15, 11, 22, 5, 83, 29], [3, 33], [3, 75], [3, 6, 80], [3, 37, 11, 39], [3, 11, 46], [3, 24, 62], [3, 16, 36, 11], [3, 11, 81, 5], [3], [3, 95, 4, 24], [3, 25], [3, 13], [3, 18, 38, 13], [3, 70], [3, 53, 22], [3, 17, 15, 71, 35], [3, 6], [3, 18, 27], [3], [3, 66, 15, 6], [3, 16], [3, 51, 4, 77], [3, 6], [3, 55, 43, 31, 13], [3, 95, 4, 24], [3, 53], [3, 13, 47, 5, 35, 60], [3, 6, 15, 24], [3, 11, 54], [3, 28], [3], [3, 54], [3, 13, 99], [3, 13, 27], [3, 15, 6, 21, 81], [3, 15, 20], [3, 58, 10], [3, 53, 22], [3, 33, 6, 15], [3, 80], [3], [3], [3, 36], [3, 27, 13], [3, 28, 10], [3, 4, 5, 89, 67], [3, 98, 88], [3, 15, 75, 11], [3], [3, 12], [3, 19, 19, 51, 88], [3, 58], [3, 15], [3, 68, 51], [3], [3], [3, 28], [3, 23, 13], [3], [3, 53, 22], [3, 31], [3, 99, 45, 55, 6, 15], [3, 5], [3, 5], [3], [3, 6, 80], [3, 76], [3], [3, 86], [3, 71], [3], [3, 23, 12, 29], [3], [3, 67], [3, 95, 4], [3, 78], [3, 84, 12], [3], [3, 25, 12], [3, 4, 4], [3, 11], [3, 65, 4, 4, 12], [3, 16, 94, 80, 36], [3, 51, 11], [3], [3, 97], [3, 55, 95, 4, 70, 24], [3, 13], [3, 62, 14, 48], [3], [3, 39], [3, 25, 4], [3, 17], [3, 23, 97], [3, 4, 49, 4, 31, 72, 28, 10], [3, 80], [3, 11, 55, 5], [3, 99, 11, 75, 15, 13], [3], [3, 95, 4, 70, 24], [3, 13, 11, 4, 90], [3, 13], [3], [3, 4], [3, 47], [3, 47, 47, 18, 4], [3], [3, 27, 24], [3, 21], [3, 5], [3], [3], [3, 16, 56], [3, 61], [3, 13, 46], [3, 20], [3, 4, 79], [3, 23, 14, 83], [3, 12], [3, 15], [3], [3, 81, 24], [3, 11, 81], [3, 74], [3, 21, 17, 11], [3, 18, 31], [3, 27], [3, 58, 4, 43, 15], [3, 61], [3, 25, 4], [3, 47], [3, 49], [3, 4, 12], [3, 27, 24], [3, 39, 36, 15, 13], [3, 4, 79, 13, 95, 4, 24], [3, 99], [3, 4, 39, 36], [3, 97], [3, 11, 4, 5], [3], [3, 47], [3, 17, 79, 16, 12, 13], [3], [3], [3, 14, 68, 52, 11], [3, 18, 22], [3, 4], [3, 11], [3, 82, 18, 60], [3, 98], [3, 36], [3], [3], [3, 16, 13, 4], [3, 18, 13], [3, 81, 11], [3, 76, 14, 13], [3, 97], [3, 11], [3, 4, 61], [3, 43, 11], [3], [3, 18, 27, 24], [3, 80, 43, 27, 14], [3, 4, 56, 93, 14]]\n"
     ]
    }
   ],
   "source": [
    "padded = pad_sequences(sequences, dtype='int32', padding='post', truncating='post', maxlen=6)\n",
    "print(padded)\n",
    "print(word_index)\n",
    "print(sequences)"
   ]
  },
  {
   "cell_type": "markdown",
   "metadata": {},
   "source": [
    "B4"
   ]
  },
  {
   "cell_type": "markdown",
   "metadata": {},
   "source": [
    "B5"
   ]
  },
  {
   "cell_type": "markdown",
   "metadata": {},
   "source": [
    "B6"
   ]
  },
  {
   "cell_type": "markdown",
   "metadata": {},
   "source": [
    "C1"
   ]
  },
  {
   "cell_type": "markdown",
   "metadata": {},
   "source": [
    "C2"
   ]
  },
  {
   "cell_type": "markdown",
   "metadata": {},
   "source": [
    "C3"
   ]
  },
  {
   "cell_type": "markdown",
   "metadata": {},
   "source": [
    "D1"
   ]
  },
  {
   "cell_type": "markdown",
   "metadata": {},
   "source": [
    "D2"
   ]
  },
  {
   "cell_type": "markdown",
   "metadata": {},
   "source": [
    "D3"
   ]
  },
  {
   "cell_type": "markdown",
   "metadata": {},
   "source": [
    "D4"
   ]
  },
  {
   "cell_type": "markdown",
   "metadata": {},
   "source": [
    "E"
   ]
  },
  {
   "cell_type": "markdown",
   "metadata": {},
   "source": [
    "F"
   ]
  },
  {
   "cell_type": "markdown",
   "metadata": {},
   "source": [
    "G"
   ]
  },
  {
   "cell_type": "markdown",
   "metadata": {},
   "source": [
    "H"
   ]
  },
  {
   "cell_type": "markdown",
   "metadata": {},
   "source": [
    "I"
   ]
  },
  {
   "cell_type": "markdown",
   "metadata": {},
   "source": [
    "J"
   ]
  }
 ],
 "metadata": {
  "kernelspec": {
   "display_name": "Python 3",
   "language": "python",
   "name": "python3"
  },
  "language_info": {
   "codemirror_mode": {
    "name": "ipython",
    "version": 3
   },
   "file_extension": ".py",
   "mimetype": "text/x-python",
   "name": "python",
   "nbconvert_exporter": "python",
   "pygments_lexer": "ipython3",
   "version": "3.8.5"
  }
 },
 "nbformat": 4,
 "nbformat_minor": 4
}
